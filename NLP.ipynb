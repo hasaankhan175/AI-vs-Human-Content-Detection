{
 "cells": [
  {
   "cell_type": "markdown",
   "id": "0eb943d1",
   "metadata": {},
   "source": [
    "# **ABOUT AUTHOR OF THIS FILE:**"
   ]
  },
  {
   "cell_type": "markdown",
   "id": "dd3d7783",
   "metadata": {},
   "source": [
    "\n",
    "I’m an aspiring data scientist with a strong foundation in data analysis, machine learning, and Python programming. I’ve built several personal and academic projects focused on extracting insights from data, creating predictive models, and visualizing results through clean and interactive dashboards.\n",
    "\n",
    "My skillset includes Python, Pandas, NumPy, Scikit-learn, and TensorFlow, along with tools like Matplotlib, Seaborn, and Plotly for data visualization. I also work with Streamlit to deploy data apps and am familiar with SQL, Git, and Excel.\n",
    "\n",
    "I’m actively looking for entry-level roles or internship opportunities in data science, machine learning, or AI where I can apply what I’ve learned, contribute to real-world projects, and continue to grow as part of a dynamic team.\n",
    "\n",
    "Let’s connect—I’m open to opportunities and always eager to learn."
   ]
  },
  {
   "cell_type": "markdown",
   "id": "7e93b372",
   "metadata": {},
   "source": [
    "<style>\n",
    "  .profile-link {\n",
    "    display: flex;\n",
    "    flex-direction: column;\n",
    "    align-items: center;\n",
    "    text-decoration: none;\n",
    "    color: inherit;\n",
    "    transition: transform 0.3s ease;\n",
    "    position: relative;\n",
    "  }\n",
    "\n",
    "  .profile-link:hover {\n",
    "    transform: scale(1.1);\n",
    "  }\n",
    "\n",
    "  .icon-container {\n",
    "    width: 80px;\n",
    "    height: 80px;\n",
    "    display: flex;\n",
    "    justify-content: center;\n",
    "    align-items: center;\n",
    "    border-radius: 50%;\n",
    "    box-shadow: 0 4px 6px rgba(0, 0, 0, 0.1);\n",
    "    transition: box-shadow 0.3s ease;\n",
    "    position: relative;\n",
    "  }\n",
    "\n",
    "  .profile-link:hover .icon-container {\n",
    "    box-shadow: 0 8px 12px rgba(0, 0, 0, 0.2);\n",
    "  }\n",
    "\n",
    "  .icon {\n",
    "    font-size: 36px;\n",
    "  }\n",
    "\n",
    "  .label {\n",
    "    font-size: 14px;\n",
    "    margin-top: 8px;\n",
    "    text-align: center;\n",
    "  }\n",
    "\n",
    "  .link-info {\n",
    "    position: absolute;\n",
    "    top: 100%;\n",
    "    left: 50%;\n",
    "    transform: translateX(-50%);\n",
    "    background-color: #333; \n",
    "    color: #fff;\n",
    "    padding: 8px;\n",
    "    border-radius: 4px;\n",
    "    font-size: 12px;\n",
    "    opacity: 0;\n",
    "    visibility: hidden;\n",
    "    transition: opacity 0.3s ease, visibility 0.3s ease;\n",
    "  }\n",
    "\n",
    "  .profile-link:hover .link-info {\n",
    "    opacity: 1;\n",
    "    visibility: visible;\n",
    "  }\n",
    "</style>\n",
    "  <a href=\"https://www.kaggle.com/hasaankhan175\" target=\"_blank\" class=\"profile-link\">\n",
    "    <div class=\"icon-container\" style=\"background-color: #ffff;\">\n",
    "      <img src=\"kaggle.png\" alt=\"LinkedIn Icon\" class=\"icon\" style=\"width: 48px; height: 48px; object-fit: contain;\">\n",
    "      <div class=\"link-info\">Hasaan Kaggle</div>\n",
    "    </div>\n",
    "    <div class=\"label\">Kaggle</div>\n",
    "  </a>\n",
    "  \n",
    "  <a href=\"https://www.linkedin.com/in/hasaan-khan-422249289/\" target=\"_blank\" class=\"profile-link\">\n",
    "    <div class=\"icon-container\" style=\"background-color: #ffff;\">\n",
    "      <img src=\"linkedin.png\" alt=\"LinkedIn Icon\" class=\"icon\" style=\"width: 48px; height: 48px; object-fit: contain;\">\n",
    "      <div class=\"link-info\">Hasaan Linkedin</div>\n",
    "    </div>\n",
    "    <div class=\"label\">LinkedIn</div>\n",
    "  </a>\n",
    "\n",
    "\n",
    "  <a href=\"https://github.com/your-username\" target=\"_blank\" class=\"profile-link\">\n",
    "    <div class=\"icon-container\" style=\"background-color: #ffff;\">\n",
    "      <img src=\"github.png\" alt=\"GitHub Icon\" class=\"icon\" style=\"width: 48px; height: 48px; object-fit: contain;\">\n",
    "      <div class=\"link-info\">Hasaan Github</div>\n",
    "    </div>\n",
    "    <div class=\"label\">GitHub</div>\n",
    "  </a>\n",
    "</div>"
   ]
  },
  {
   "cell_type": "markdown",
   "id": "c4aa3a49",
   "metadata": {},
   "source": [
    "---"
   ]
  },
  {
   "cell_type": "markdown",
   "id": "28a361c3",
   "metadata": {},
   "source": [
    "# **ABOUT THE DATASET:**(Given By the Author)\n",
    "\n",
    "## **Overview**\n",
    "This synthetic dataset contains text samples labeled for AI vs human content detection, with comprehensive linguistic and stylistic features extracted from each text sample. The dataset is designed for machine learning classification tasks to distinguish between AI-generated and human-written content.\n",
    "\n",
    "- Total Features: 17 columns\n",
    "- Target Variable: label (1 = AI-generated, 0 = Human-written)\n",
    "- Dataset Size: Large collection of text samples with varied content types\n",
    "- Use Case: Binary classification for AI content detection\n",
    "\n"
   ]
  },
  {
   "cell_type": "markdown",
   "id": "cd2ac84f",
   "metadata": {},
   "source": [
    "<!DOCTYPE html>\n",
    "<html lang=\"en\">\n",
    "<head>\n",
    "    <meta charset=\"UTF-8\">\n",
    "    <meta name=\"viewport\" content=\"width=device-width, initial-scale=1.0\">\n",
    "    <title>Data Overview</title>\n",
    "    <style>\n",
    "        body {\n",
    "            font-family: Arial, sans-serif;\n",
    "            background-color: #1e1e1e; /* Dark background */\n",
    "            color: #ffffff; /* Light text color */\n",
    "            margin: 0;\n",
    "            padding: 20px;\n",
    "        }\n",
    "        h2 {\n",
    "            color: #00bfff; /* Bright blue for the main heading */\n",
    "        }\n",
    "        h3 {\n",
    "            color: #00bfff;\n",
    "            position: relative;\n",
    "            padding: 10px;\n",
    "            margin: 20px 0;\n",
    "            transition: color 0.3s ease;\n",
    "        }\n",
    "        h3::after {\n",
    "            content: '';\n",
    "            position: absolute;\n",
    "            left: 0;\n",
    "            bottom: -5px;\n",
    "            height: 3px;\n",
    "            width: 100%;\n",
    "            background-color: #007bff;\n",
    "            transform: scaleX(0);\n",
    "            transition: transform 0.3s ease;\n",
    "        }\n",
    "        h3:hover {\n",
    "            color: #007bff;\n",
    "        }\n",
    "        h3:hover::after {\n",
    "            transform: scaleX(1);\n",
    "        }\n",
    "        ul {\n",
    "            list-style-type: none;\n",
    "            padding: 0;\n",
    "        }\n",
    "        li {\n",
    "            background-color: #2e2e2e;\n",
    "            margin: 10px 0;\n",
    "            padding: 15px;\n",
    "            border-radius: 5px;\n",
    "            transition: background-color 0.3s ease, transform 0.3s ease, box-shadow 0.3s ease;\n",
    "        }\n",
    "        li:hover {\n",
    "            background-color: #007bff;\n",
    "            transform: scale(1.05);\n",
    "            box-shadow: 0 4px 15px rgba(0, 123, 255, 0.5);\n",
    "        }\n",
    "        strong {\n",
    "            color: #00bfff;\n",
    "        }\n",
    "    </style>\n",
    "</head>\n",
    "<body>\n",
    "\n",
    "<h2>Overview of the Data</h2>\n",
    "<h3>Data Structure</h3>\n",
    "<ul>\n",
    "    <li><strong>Total Rows:</strong> Number of text records analyzed.</li>\n",
    "    <li><strong>Total Columns:</strong> 17 features including target label.</li>\n",
    "</ul>\n",
    "\n",
    "<h2>Column Descriptions</h2>\n",
    "<ul>\n",
    "    <li><strong>text_content:</strong> The actual text content being analyzed. Example: \"Score each cause. Quality throughout…\"</li>\n",
    "    <li><strong>content_type:</strong> Category/genre of the text (e.g., academic_paper, essay, blog_post, product_review).</li>\n",
    "    <li><strong>word_count:</strong> Total number of words in the text.</li>\n",
    "    <li><strong>character_count:</strong> Total number of characters including spaces.</li>\n",
    "    <li><strong>sentence_count:</strong> Number of sentences in the text.</li>\n",
    "    <li><strong>lexical_diversity:</strong> Ratio of unique words to total words (0-1 scale).</li>\n",
    "    <li><strong>avg_sentence_length:</strong> Average number of words per sentence.</li>\n",
    "    <li><strong>avg_word_length:</strong> Average character length per word.</li>\n",
    "    <li><strong>punctuation_ratio:</strong> Ratio of punctuation marks to total characters.</li>\n",
    "    <li><strong>flesch_reading_ease:</strong> Readability score (0-100, higher = easier).</li>\n",
    "    <li><strong>gunning_fog_index:</strong> Gunning Fog readability index (grade level).</li>\n",
    "    <li><strong>grammar_errors:</strong> Number of detected grammar errors.</li>\n",
    "    <li><strong>passive_voice_ratio:</strong> Ratio of passive voice sentences (0-1).</li>\n",
    "    <li><strong>predictability_score:</strong> Higher values indicate more predictable patterns.</li>\n",
    "    <li><strong>burstiness:</strong> Measure of sentence length variation.</li>\n",
    "    <li><strong>sentiment_score:</strong> Sentiment polarity (-1 to +1).</li>\n",
    "    <li><strong>label:</strong> Target variable: AI (1) or Human (0) generated.</li>\n",
    "</ul>\n",
    "\n",
    "</body>\n",
    "</html>\n"
   ]
  },
  {
   "cell_type": "markdown",
   "id": "0acdce8d",
   "metadata": {},
   "source": [
    "## Data Quality Notes:\n",
    "- **Missing Values:** Some entries have null values in sentiment_score column\n",
    "- **Label Distribution:** Mix of AI-generated (1) and human-written (0) content\n",
    "- **Content Variety:** Includes diverse text types from academic papers to social media posts\n",
    "- **Feature Engineering:** Multiple derived features from raw text (readability scores, linguistic metrics)\n",
    "\n",
    "## Key Insights for ML Applications\n",
    "- **Stylometric Features:** Rich set of writing style indicators\n",
    "- **Readability Metrics:** Multiple standardized readability measures\n",
    "- **Linguistic Complexity:** Vocabulary diversity and grammar analysis\n",
    "- **Content-Type Awareness:** Genre classification available for stratified analysis\n",
    "\n",
    "## Potential Use Cases\n",
    "- AI content detection systems\n",
    "- Writing style analysis\n",
    "- Educational content assessment\n",
    "- Content authenticity verification\n",
    "- Automated essay scoring research\n",
    "\n",
    "## Feature Categories\n",
    "- **Text Metrics:** word_count, character_count, sentence_count\n",
    "- **Linguistic Features:** lexical_diversity, avg_word_length, punctuation_ratio\n",
    "- **Readability Scores:** flesch_reading_ease, gunning_fog_index\n",
    "- **Style Indicators:** passive_voice_ratio, burstiness, grammar_errors\n",
    "- **Content Analysis:** sentiment_score, predictability_score\n",
    "- **Metadata:** content_type, label"
   ]
  },
  {
   "cell_type": "markdown",
   "id": "e27dfe19",
   "metadata": {},
   "source": [
    "----"
   ]
  },
  {
   "cell_type": "markdown",
   "id": "702983e2",
   "metadata": {},
   "source": [
    "## **What I am Going To Do With This Dataset:**\n",
    "\n",
    "- **EDA:** At First, I am going to do EDA for cleaning the dataset and will visualize the data to get the better vision about data.\n",
    "- **Covering All NLP concepts:** Will cover all concepts like Tokenization, removing stopwords, lemmetization, and the last is embedding for classification models.\n",
    "- **Use Spacy and nltk Libraray:** I will use Spacy and nltk library for to create a better model for to classify the content.\n",
    "- **Model:** I will use XG Boost, Random Forest for to classify. Because the transformer models require more computing but I will provide the code that you can run in your computing machine.\n",
    "- **Web App:** I will deploy this model for to test your text to be classify as human or Ai content.\n"
   ]
  },
  {
   "cell_type": "markdown",
   "id": "272c529a",
   "metadata": {},
   "source": [
    "----"
   ]
  },
  {
   "cell_type": "markdown",
   "id": "c30f8243",
   "metadata": {},
   "source": [
    "# **Lets Do EDA FIRST**"
   ]
  },
  {
   "cell_type": "code",
   "execution_count": 1,
   "id": "453846d9",
   "metadata": {},
   "outputs": [],
   "source": [
    "# import libraries\n",
    "import pandas as pd \n",
    "import numpy as np\n",
    "import seaborn as sns \n",
    "import matplotlib.pyplot as plt\n",
    "import plotly.express as px\n",
    "from sklearn.preprocessing import LabelEncoder, MinMaxScaler, StandardScaler"
   ]
  },
  {
   "cell_type": "code",
   "execution_count": 2,
   "id": "42461c96",
   "metadata": {},
   "outputs": [],
   "source": [
    "# importing the data\n",
    "cont = pd.read_csv('ai_human_content_detection_dataset.csv')"
   ]
  },
  {
   "cell_type": "code",
   "execution_count": 3,
   "id": "5299e009",
   "metadata": {},
   "outputs": [
    {
     "data": {
      "text/html": [
       "<div>\n",
       "<style scoped>\n",
       "    .dataframe tbody tr th:only-of-type {\n",
       "        vertical-align: middle;\n",
       "    }\n",
       "\n",
       "    .dataframe tbody tr th {\n",
       "        vertical-align: top;\n",
       "    }\n",
       "\n",
       "    .dataframe thead th {\n",
       "        text-align: right;\n",
       "    }\n",
       "</style>\n",
       "<table border=\"1\" class=\"dataframe\">\n",
       "  <thead>\n",
       "    <tr style=\"text-align: right;\">\n",
       "      <th></th>\n",
       "      <th>0</th>\n",
       "      <th>1</th>\n",
       "      <th>2</th>\n",
       "      <th>3</th>\n",
       "      <th>4</th>\n",
       "    </tr>\n",
       "  </thead>\n",
       "  <tbody>\n",
       "    <tr>\n",
       "      <th>text_content</th>\n",
       "      <td>Score each cause. Quality throughout beautiful...</td>\n",
       "      <td>Board its rock. Job worker break tonight coupl...</td>\n",
       "      <td>Way debate decision produce. Dream necessary c...</td>\n",
       "      <td>Story turn because such during open model. Tha...</td>\n",
       "      <td>Place specific as simply leader fall analysis....</td>\n",
       "    </tr>\n",
       "    <tr>\n",
       "      <th>content_type</th>\n",
       "      <td>academic_paper</td>\n",
       "      <td>essay</td>\n",
       "      <td>academic_paper</td>\n",
       "      <td>creative_writing</td>\n",
       "      <td>news_article</td>\n",
       "    </tr>\n",
       "    <tr>\n",
       "      <th>word_count</th>\n",
       "      <td>288</td>\n",
       "      <td>253</td>\n",
       "      <td>420</td>\n",
       "      <td>196</td>\n",
       "      <td>160</td>\n",
       "    </tr>\n",
       "    <tr>\n",
       "      <th>character_count</th>\n",
       "      <td>1927</td>\n",
       "      <td>1719</td>\n",
       "      <td>2849</td>\n",
       "      <td>1310</td>\n",
       "      <td>1115</td>\n",
       "    </tr>\n",
       "    <tr>\n",
       "      <th>sentence_count</th>\n",
       "      <td>54</td>\n",
       "      <td>45</td>\n",
       "      <td>75</td>\n",
       "      <td>34</td>\n",
       "      <td>28</td>\n",
       "    </tr>\n",
       "    <tr>\n",
       "      <th>lexical_diversity</th>\n",
       "      <td>0.9514</td>\n",
       "      <td>0.9723</td>\n",
       "      <td>0.9071</td>\n",
       "      <td>0.9592</td>\n",
       "      <td>0.9688</td>\n",
       "    </tr>\n",
       "    <tr>\n",
       "      <th>avg_sentence_length</th>\n",
       "      <td>5.33</td>\n",
       "      <td>5.62</td>\n",
       "      <td>5.6</td>\n",
       "      <td>5.76</td>\n",
       "      <td>5.71</td>\n",
       "    </tr>\n",
       "    <tr>\n",
       "      <th>avg_word_length</th>\n",
       "      <td>5.69</td>\n",
       "      <td>5.8</td>\n",
       "      <td>5.79</td>\n",
       "      <td>5.69</td>\n",
       "      <td>5.97</td>\n",
       "    </tr>\n",
       "    <tr>\n",
       "      <th>punctuation_ratio</th>\n",
       "      <td>0.028</td>\n",
       "      <td>0.0262</td>\n",
       "      <td>0.0263</td>\n",
       "      <td>0.026</td>\n",
       "      <td>0.0251</td>\n",
       "    </tr>\n",
       "    <tr>\n",
       "      <th>flesch_reading_ease</th>\n",
       "      <td>53.08</td>\n",
       "      <td>50.32</td>\n",
       "      <td>46.86</td>\n",
       "      <td>53.8</td>\n",
       "      <td>44.53</td>\n",
       "    </tr>\n",
       "    <tr>\n",
       "      <th>gunning_fog_index</th>\n",
       "      <td>7.41</td>\n",
       "      <td>8.1</td>\n",
       "      <td>7.86</td>\n",
       "      <td>7.0</td>\n",
       "      <td>8.29</td>\n",
       "    </tr>\n",
       "    <tr>\n",
       "      <th>grammar_errors</th>\n",
       "      <td>1</td>\n",
       "      <td>6</td>\n",
       "      <td>5</td>\n",
       "      <td>2</td>\n",
       "      <td>0</td>\n",
       "    </tr>\n",
       "    <tr>\n",
       "      <th>passive_voice_ratio</th>\n",
       "      <td>0.1041</td>\n",
       "      <td>0.2045</td>\n",
       "      <td>0.2308</td>\n",
       "      <td>0.1912</td>\n",
       "      <td>0.1318</td>\n",
       "    </tr>\n",
       "    <tr>\n",
       "      <th>predictability_score</th>\n",
       "      <td>105.86</td>\n",
       "      <td>100.29</td>\n",
       "      <td>96.88</td>\n",
       "      <td>88.79</td>\n",
       "      <td>26.15</td>\n",
       "    </tr>\n",
       "    <tr>\n",
       "      <th>burstiness</th>\n",
       "      <td>0.5531</td>\n",
       "      <td>0.5643</td>\n",
       "      <td>0.4979</td>\n",
       "      <td>0.6241</td>\n",
       "      <td>0.2894</td>\n",
       "    </tr>\n",
       "    <tr>\n",
       "      <th>sentiment_score</th>\n",
       "      <td>0.2034</td>\n",
       "      <td>0.4854</td>\n",
       "      <td>-0.2369</td>\n",
       "      <td>NaN</td>\n",
       "      <td>NaN</td>\n",
       "    </tr>\n",
       "    <tr>\n",
       "      <th>label</th>\n",
       "      <td>1</td>\n",
       "      <td>1</td>\n",
       "      <td>1</td>\n",
       "      <td>1</td>\n",
       "      <td>1</td>\n",
       "    </tr>\n",
       "  </tbody>\n",
       "</table>\n",
       "</div>"
      ],
      "text/plain": [
       "                                                                      0  \\\n",
       "text_content          Score each cause. Quality throughout beautiful...   \n",
       "content_type                                             academic_paper   \n",
       "word_count                                                          288   \n",
       "character_count                                                    1927   \n",
       "sentence_count                                                       54   \n",
       "lexical_diversity                                                0.9514   \n",
       "avg_sentence_length                                                5.33   \n",
       "avg_word_length                                                    5.69   \n",
       "punctuation_ratio                                                 0.028   \n",
       "flesch_reading_ease                                               53.08   \n",
       "gunning_fog_index                                                  7.41   \n",
       "grammar_errors                                                        1   \n",
       "passive_voice_ratio                                              0.1041   \n",
       "predictability_score                                             105.86   \n",
       "burstiness                                                       0.5531   \n",
       "sentiment_score                                                  0.2034   \n",
       "label                                                                 1   \n",
       "\n",
       "                                                                      1  \\\n",
       "text_content          Board its rock. Job worker break tonight coupl...   \n",
       "content_type                                                      essay   \n",
       "word_count                                                          253   \n",
       "character_count                                                    1719   \n",
       "sentence_count                                                       45   \n",
       "lexical_diversity                                                0.9723   \n",
       "avg_sentence_length                                                5.62   \n",
       "avg_word_length                                                     5.8   \n",
       "punctuation_ratio                                                0.0262   \n",
       "flesch_reading_ease                                               50.32   \n",
       "gunning_fog_index                                                   8.1   \n",
       "grammar_errors                                                        6   \n",
       "passive_voice_ratio                                              0.2045   \n",
       "predictability_score                                             100.29   \n",
       "burstiness                                                       0.5643   \n",
       "sentiment_score                                                  0.4854   \n",
       "label                                                                 1   \n",
       "\n",
       "                                                                      2  \\\n",
       "text_content          Way debate decision produce. Dream necessary c...   \n",
       "content_type                                             academic_paper   \n",
       "word_count                                                          420   \n",
       "character_count                                                    2849   \n",
       "sentence_count                                                       75   \n",
       "lexical_diversity                                                0.9071   \n",
       "avg_sentence_length                                                 5.6   \n",
       "avg_word_length                                                    5.79   \n",
       "punctuation_ratio                                                0.0263   \n",
       "flesch_reading_ease                                               46.86   \n",
       "gunning_fog_index                                                  7.86   \n",
       "grammar_errors                                                        5   \n",
       "passive_voice_ratio                                              0.2308   \n",
       "predictability_score                                              96.88   \n",
       "burstiness                                                       0.4979   \n",
       "sentiment_score                                                 -0.2369   \n",
       "label                                                                 1   \n",
       "\n",
       "                                                                      3  \\\n",
       "text_content          Story turn because such during open model. Tha...   \n",
       "content_type                                           creative_writing   \n",
       "word_count                                                          196   \n",
       "character_count                                                    1310   \n",
       "sentence_count                                                       34   \n",
       "lexical_diversity                                                0.9592   \n",
       "avg_sentence_length                                                5.76   \n",
       "avg_word_length                                                    5.69   \n",
       "punctuation_ratio                                                 0.026   \n",
       "flesch_reading_ease                                                53.8   \n",
       "gunning_fog_index                                                   7.0   \n",
       "grammar_errors                                                        2   \n",
       "passive_voice_ratio                                              0.1912   \n",
       "predictability_score                                              88.79   \n",
       "burstiness                                                       0.6241   \n",
       "sentiment_score                                                     NaN   \n",
       "label                                                                 1   \n",
       "\n",
       "                                                                      4  \n",
       "text_content          Place specific as simply leader fall analysis....  \n",
       "content_type                                               news_article  \n",
       "word_count                                                          160  \n",
       "character_count                                                    1115  \n",
       "sentence_count                                                       28  \n",
       "lexical_diversity                                                0.9688  \n",
       "avg_sentence_length                                                5.71  \n",
       "avg_word_length                                                    5.97  \n",
       "punctuation_ratio                                                0.0251  \n",
       "flesch_reading_ease                                               44.53  \n",
       "gunning_fog_index                                                  8.29  \n",
       "grammar_errors                                                        0  \n",
       "passive_voice_ratio                                              0.1318  \n",
       "predictability_score                                              26.15  \n",
       "burstiness                                                       0.2894  \n",
       "sentiment_score                                                     NaN  \n",
       "label                                                                 1  "
      ]
     },
     "execution_count": 3,
     "metadata": {},
     "output_type": "execute_result"
    }
   ],
   "source": [
    "# head of the dataset\n",
    "cont.head().T"
   ]
  },
  {
   "cell_type": "code",
   "execution_count": 4,
   "id": "8a13962f",
   "metadata": {},
   "outputs": [
    {
     "name": "stdout",
     "output_type": "stream",
     "text": [
      "<class 'pandas.core.frame.DataFrame'>\n",
      "RangeIndex: 1367 entries, 0 to 1366\n",
      "Data columns (total 17 columns):\n",
      " #   Column                Non-Null Count  Dtype  \n",
      "---  ------                --------------  -----  \n",
      " 0   text_content          1367 non-null   object \n",
      " 1   content_type          1367 non-null   object \n",
      " 2   word_count            1367 non-null   int64  \n",
      " 3   character_count       1367 non-null   int64  \n",
      " 4   sentence_count        1367 non-null   int64  \n",
      " 5   lexical_diversity     1367 non-null   float64\n",
      " 6   avg_sentence_length   1367 non-null   float64\n",
      " 7   avg_word_length       1367 non-null   float64\n",
      " 8   punctuation_ratio     1367 non-null   float64\n",
      " 9   flesch_reading_ease   1288 non-null   float64\n",
      " 10  gunning_fog_index     1332 non-null   float64\n",
      " 11  grammar_errors        1367 non-null   int64  \n",
      " 12  passive_voice_ratio   1336 non-null   float64\n",
      " 13  predictability_score  1367 non-null   float64\n",
      " 14  burstiness            1367 non-null   float64\n",
      " 15  sentiment_score       1313 non-null   float64\n",
      " 16  label                 1367 non-null   int64  \n",
      "dtypes: float64(10), int64(5), object(2)\n",
      "memory usage: 181.7+ KB\n"
     ]
    }
   ],
   "source": [
    "# info of the dataset\n",
    "cont.info()"
   ]
  },
  {
   "cell_type": "code",
   "execution_count": 5,
   "id": "fdc1aba4",
   "metadata": {},
   "outputs": [
    {
     "data": {
      "text/plain": [
       "text_content            0.000000\n",
       "content_type            0.000000\n",
       "word_count              0.000000\n",
       "character_count         0.000000\n",
       "sentence_count          0.000000\n",
       "lexical_diversity       0.000000\n",
       "avg_sentence_length     0.000000\n",
       "avg_word_length         0.000000\n",
       "punctuation_ratio       0.000000\n",
       "flesch_reading_ease     5.779078\n",
       "gunning_fog_index       2.560351\n",
       "grammar_errors          0.000000\n",
       "passive_voice_ratio     2.267740\n",
       "predictability_score    0.000000\n",
       "burstiness              0.000000\n",
       "sentiment_score         3.950256\n",
       "label                   0.000000\n",
       "dtype: float64"
      ]
     },
     "execution_count": 5,
     "metadata": {},
     "output_type": "execute_result"
    }
   ],
   "source": [
    "# percentage of the null in the dataset\n",
    "(cont.isnull().sum() / len(cont))*100"
   ]
  },
  {
   "cell_type": "code",
   "execution_count": 6,
   "id": "22289d1e",
   "metadata": {},
   "outputs": [
    {
     "data": {
      "text/plain": [
       "text_content            0.0\n",
       "content_type            0.0\n",
       "word_count              0.0\n",
       "character_count         0.0\n",
       "sentence_count          0.0\n",
       "lexical_diversity       0.0\n",
       "avg_sentence_length     0.0\n",
       "avg_word_length         0.0\n",
       "punctuation_ratio       0.0\n",
       "flesch_reading_ease     0.0\n",
       "gunning_fog_index       0.0\n",
       "grammar_errors          0.0\n",
       "passive_voice_ratio     0.0\n",
       "predictability_score    0.0\n",
       "burstiness              0.0\n",
       "sentiment_score         0.0\n",
       "label                   0.0\n",
       "dtype: float64"
      ]
     },
     "execution_count": 6,
     "metadata": {},
     "output_type": "execute_result"
    }
   ],
   "source": [
    "# Filling null values with average\n",
    "for col in cont.columns:\n",
    "    if cont[col].isnull().sum() > 0:\n",
    "        cont[col] = cont[col].fillna(cont[col].mean())\n",
    "\n",
    "# percentage of the null in the dataset\n",
    "(cont.isnull().sum() / len(cont))*100"
   ]
  },
  {
   "cell_type": "markdown",
   "id": "1ca0c7a5",
   "metadata": {},
   "source": [
    "## Function To Remove Outliers From Numerical Features"
   ]
  },
  {
   "cell_type": "code",
   "execution_count": 7,
   "id": "9e31cf6c",
   "metadata": {},
   "outputs": [],
   "source": [
    "# function to remove outliers from numeric columns\n",
    "def remove_outliers_iqr_all(df):\n",
    "    \"\"\"\n",
    "    Removes outliers from all numeric columns in the DataFrame using the IQR method.\n",
    "    It iteratively removes outliers until no further outliers are detected.\n",
    "    \"\"\"\n",
    "    numeric_cols = df.select_dtypes(include=['int64', 'float64']).columns\n",
    "\n",
    "    while True:\n",
    "        initial_len = len(df)\n",
    "\n",
    "        for column in numeric_cols:\n",
    "            Q1 = df[column].quantile(0.25)\n",
    "            Q3 = df[column].quantile(0.75)\n",
    "            IQR = Q3 - Q1\n",
    "\n",
    "            lower_bound = Q1 - 1.5 * IQR\n",
    "            upper_bound = Q3 + 1.5 * IQR\n",
    "\n",
    "            df = df[(df[column] >= lower_bound) & (df[column] <= upper_bound)]\n",
    "\n",
    "        if len(df) == initial_len:\n",
    "            break  # No more outliers found, stop the loop\n",
    "\n",
    "    return df\n"
   ]
  },
  {
   "cell_type": "code",
   "execution_count": 8,
   "id": "5b81aad4",
   "metadata": {},
   "outputs": [
    {
     "name": "stdout",
     "output_type": "stream",
     "text": [
      "<class 'pandas.core.frame.DataFrame'>\n",
      "Index: 1008 entries, 0 to 1366\n",
      "Data columns (total 17 columns):\n",
      " #   Column                Non-Null Count  Dtype  \n",
      "---  ------                --------------  -----  \n",
      " 0   text_content          1008 non-null   object \n",
      " 1   content_type          1008 non-null   object \n",
      " 2   word_count            1008 non-null   int64  \n",
      " 3   character_count       1008 non-null   int64  \n",
      " 4   sentence_count        1008 non-null   int64  \n",
      " 5   lexical_diversity     1008 non-null   float64\n",
      " 6   avg_sentence_length   1008 non-null   float64\n",
      " 7   avg_word_length       1008 non-null   float64\n",
      " 8   punctuation_ratio     1008 non-null   float64\n",
      " 9   flesch_reading_ease   1008 non-null   float64\n",
      " 10  gunning_fog_index     1008 non-null   float64\n",
      " 11  grammar_errors        1008 non-null   int64  \n",
      " 12  passive_voice_ratio   1008 non-null   float64\n",
      " 13  predictability_score  1008 non-null   float64\n",
      " 14  burstiness            1008 non-null   float64\n",
      " 15  sentiment_score       1008 non-null   float64\n",
      " 16  label                 1008 non-null   int64  \n",
      "dtypes: float64(10), int64(5), object(2)\n",
      "memory usage: 141.8+ KB\n"
     ]
    }
   ],
   "source": [
    "cont = remove_outliers_iqr_all(cont)\n",
    "\n",
    "cont.info()"
   ]
  },
  {
   "cell_type": "markdown",
   "id": "a8dab793",
   "metadata": {},
   "source": [
    "## **Visualizations:**"
   ]
  },
  {
   "cell_type": "markdown",
   "id": "266e1f12",
   "metadata": {},
   "source": [
    "### **Q-How does word_count vary between AI-generated and Human-generated text?**"
   ]
  },
  {
   "cell_type": "code",
   "execution_count": 9,
   "id": "05bf9c3b",
   "metadata": {},
   "outputs": [
    {
     "data": {
      "application/vnd.plotly.v1+json": {
       "config": {
        "plotlyServerURL": "https://plot.ly"
       },
       "data": [
        {
         "alignmentgroup": "True",
         "hovertemplate": "label=1<br>word_count=%{x}<extra></extra>",
         "legendgroup": "1",
         "marker": {
          "color": "#636efa"
         },
         "name": "1",
         "notched": false,
         "offsetgroup": "1",
         "orientation": "h",
         "showlegend": true,
         "type": "box",
         "x": {
          "bdata": "IAH9AMQAoADGAFQAWQCcAJMArgBbANYATABhAJgANQBjAEABtwDUANUApgBCAIYAvACIAPQA0ADNAPUAzQCXAFoAbAA2AIcAdgBhAFEA6QBeAF0AuQBTAJ4A+QDdAKYA2AC0AMcATAAbAScAggCdAMUAEQALAWwANgDBALcAjQBNAEUAZwAaAMUA0QD8ANEAYgAJAe4AGAFCAJUAlABbALAA8gAjAJUADACYAH0AuQC+AKkAZgC2AF4AjQA5AEoARQB+AGsAkQB8AMQAuQDSAAoAygCIAKwAaQA/AO0AxgB+AL0AcwDPANIArwCEAMUAxQBjAJUAegCJAIwAggC0AHsArwDXANAAjwBCAG0AzQCcAFoAfwBNAHsATgAiAC0A0ABfAF4A9wCOADsABQFoAEgAhgDKAJoAjAC7ANEANACpABABSAA9AXEAnQCSABoAXgBlAPQA0wBsADkAewBcAH4A2ACuAKYAPADrAC4AfAAgAKwAnADBAFYAEABaAMYAmwDFADYBaADzAC0ARwEiAKYAgQCXAH0ApQDkAEcAvAAAAUgAgACmALMA1AB4AFQAsgDNAHcAwQB7AOoArgCxAG4AigBZAKMAugA6AIQAowAfALcAvgChAIgAigBWAUkAswBpAAkBZQDcANEAkwAgAK8A+gCbABkAxQCrAD8AtADEALsAYQBhAF8AUAAdAJUAIQGoAIIAegAlAbYAOABZAHwAPwCgACcAKAA7ANYAfABrAL4AxAABAbAA8wCkAK8AyAB1ABIBaACwAMEAfgBTALAAKgATAFQAnwBjAEoANQCWABwBPQB2ADkAswCVAAwByACqAOIArgDRAKAA1QAFAYcAXwBoAHsAYABxAFUAQABpANQAdABHAQsADAB4AMEAvwC+AL8AiwA2AS8ACgHCAJkAcACZAEcAfACKAGUAqwCqAGIAsgDwAI4AiQDdACgALgGbAFIBJQBYAJAAxQD2ANMA1QDqAIkAogBYAIYAuQCvAKMAWgAPACAAugCWADIAuQCAABkArwAeALYAewBuAJQAIwE6AK4AIQCiAJMAnADMALAAXACdAKgA7QCeAGAAjwBbAH8A1AA2AKwAaAACAX0AjgBoAEwAOgB1AG4AdQCvACAAcgBRAFIAkwBRALMAGQETATQAcQCJAHgAlQCLAJwA+AC8ABoAaQDWAFQAsgDkAKoAhwDxAFEAXwDNAJ4AbwCSADYAbQDPAOEAMQAdAOMAHgCIAKQARAA4AI4AQQBQAEUAIABHANkAmwCtAIsAwQDGACUAzQC1AH8ACQETAJEAvgBKAF8AdAAtATIASgBNAMIA",
          "dtype": "i2"
         },
         "x0": " ",
         "xaxis": "x",
         "y0": " ",
         "yaxis": "y"
        },
        {
         "alignmentgroup": "True",
         "hovertemplate": "label=0<br>word_count=%{x}<extra></extra>",
         "legendgroup": "0",
         "marker": {
          "color": "#EF553B"
         },
         "name": "0",
         "notched": false,
         "offsetgroup": "0",
         "orientation": "h",
         "showlegend": true,
         "type": "box",
         "x": {
          "bdata": "awBPAMoAKABNAJ4AqgBWABoAEgHtABsBrQA4ALIAPQC6APQAaQDHAHQAnQDFAAgBVwB2AKMAMQBmAJQAyADNANoAQAH/AJoAOQCWANcAwwD0AJAArAC9AC8B1QBwAIQAZAAjAcwAHwCGAJgAmwDQAGIAsACZAJoASQCWAGwAfgBrAHIAkQBVAAoBiACcAEAAJAAlAZcARgCoANEAJgCfAAUAwwCHALYAXQDUAIkAzAAWAMMABgGZADQANwCkAGYAuQCRABYBLgFHAEEByADBAIEADQHAAGAApgAQATIAywCmAK0AuADDAE4AvgAOATIAzQAeAJcAmwAfASMAWwBUAMYAvADjAK8A3QCJAA8AJABPAIgAXABtAJcA3ACjAAgBAwEYAZYAZgDWAHsAJwGYAFMApgCtALkADgHiAJoAmwC4AL0A+AAnAGYAMQCzAIoAcQCnAHkArwCOABgAsgBAACIAfQAdADgBmAAqABwALABHAGEAvwAmAFcAUACcAMoAiQAYAKwA7QBAANUAHwCEAAwAOwCOAJ4AhwCgADoA1QA6AD8AvQB1ACQB2ADWAFcA0wDZAIEAuQAdANQAaAC2AEsAHgDxAMsAfQBzAFYAtAD3AHsABQE/ALwAIACtAHkAxgC8AAcBQgA6AEEAcABcAFUAxACqAJkAnwA0ARgAgQCwAFcAmwCDABwATACtABoAhwBMAIkAlADCAG4AUwGgALgAlwDRADYAkgB2AF0AQAC9AGYAhgAeAa0AYgCVAEoAtACUAKYAkAAyABkBiQDvAEoAOgBzAIMAyQBCAEoBDAHVAKEAlwBTALEAuwASAIMAJgE6AMwAdAAaALQAtgBSANAAwwA5AccAgQBYAKgAfADhABgAMAA4AOcAtwCwAKgAYQAfAHAArQBxAFsALABkADoAxwDRADwAgQCiAL8AmQBeAGsAmgAiAYIAtQB7AJMAnABjAHcA8wBsAGcANQCVAPEAfwDuAA8AYgDMAK0AlADHAL0ApgCFACQAsACmACkAlgB6ADAAsAAWAbQAsQDCALcAvgDYAIEAegAnAMoAkQDQADUBygCWAG8AsAB/ALMA6wAYAEEBogDgADsAVQBhAMgAgQD6AM0AuwCeAJQAwABNAJUA0AD7AMsAjQDGAM8AUwDUAMoAfwASAU4AyQBlANgASABhAIwAjQBWAG8AngBRAMAArACmAH8AyAAUAZ0AyQDAAIMAYQBIAYQA2QBOAM0AQABkAHQAlgCfAFoAfQCZAIAAIQCUAMUAoQDTAEgBbQBQAEQAEAFXAF8A5gBUAHIARwB9AEUAmACLAK8AdwBdAF8AoQBYAMUAJQAmAFUAMwAnAM0A+wBPAMAA",
          "dtype": "i2"
         },
         "x0": " ",
         "xaxis": "x",
         "y0": " ",
         "yaxis": "y"
        }
       ],
       "layout": {
        "boxmode": "group",
        "legend": {
         "title": {
          "text": "label"
         },
         "tracegroupgap": 0
        },
        "template": {
         "data": {
          "bar": [
           {
            "error_x": {
             "color": "#2a3f5f"
            },
            "error_y": {
             "color": "#2a3f5f"
            },
            "marker": {
             "line": {
              "color": "#E5ECF6",
              "width": 0.5
             },
             "pattern": {
              "fillmode": "overlay",
              "size": 10,
              "solidity": 0.2
             }
            },
            "type": "bar"
           }
          ],
          "barpolar": [
           {
            "marker": {
             "line": {
              "color": "#E5ECF6",
              "width": 0.5
             },
             "pattern": {
              "fillmode": "overlay",
              "size": 10,
              "solidity": 0.2
             }
            },
            "type": "barpolar"
           }
          ],
          "carpet": [
           {
            "aaxis": {
             "endlinecolor": "#2a3f5f",
             "gridcolor": "white",
             "linecolor": "white",
             "minorgridcolor": "white",
             "startlinecolor": "#2a3f5f"
            },
            "baxis": {
             "endlinecolor": "#2a3f5f",
             "gridcolor": "white",
             "linecolor": "white",
             "minorgridcolor": "white",
             "startlinecolor": "#2a3f5f"
            },
            "type": "carpet"
           }
          ],
          "choropleth": [
           {
            "colorbar": {
             "outlinewidth": 0,
             "ticks": ""
            },
            "type": "choropleth"
           }
          ],
          "contour": [
           {
            "colorbar": {
             "outlinewidth": 0,
             "ticks": ""
            },
            "colorscale": [
             [
              0,
              "#0d0887"
             ],
             [
              0.1111111111111111,
              "#46039f"
             ],
             [
              0.2222222222222222,
              "#7201a8"
             ],
             [
              0.3333333333333333,
              "#9c179e"
             ],
             [
              0.4444444444444444,
              "#bd3786"
             ],
             [
              0.5555555555555556,
              "#d8576b"
             ],
             [
              0.6666666666666666,
              "#ed7953"
             ],
             [
              0.7777777777777778,
              "#fb9f3a"
             ],
             [
              0.8888888888888888,
              "#fdca26"
             ],
             [
              1,
              "#f0f921"
             ]
            ],
            "type": "contour"
           }
          ],
          "contourcarpet": [
           {
            "colorbar": {
             "outlinewidth": 0,
             "ticks": ""
            },
            "type": "contourcarpet"
           }
          ],
          "heatmap": [
           {
            "colorbar": {
             "outlinewidth": 0,
             "ticks": ""
            },
            "colorscale": [
             [
              0,
              "#0d0887"
             ],
             [
              0.1111111111111111,
              "#46039f"
             ],
             [
              0.2222222222222222,
              "#7201a8"
             ],
             [
              0.3333333333333333,
              "#9c179e"
             ],
             [
              0.4444444444444444,
              "#bd3786"
             ],
             [
              0.5555555555555556,
              "#d8576b"
             ],
             [
              0.6666666666666666,
              "#ed7953"
             ],
             [
              0.7777777777777778,
              "#fb9f3a"
             ],
             [
              0.8888888888888888,
              "#fdca26"
             ],
             [
              1,
              "#f0f921"
             ]
            ],
            "type": "heatmap"
           }
          ],
          "histogram": [
           {
            "marker": {
             "pattern": {
              "fillmode": "overlay",
              "size": 10,
              "solidity": 0.2
             }
            },
            "type": "histogram"
           }
          ],
          "histogram2d": [
           {
            "colorbar": {
             "outlinewidth": 0,
             "ticks": ""
            },
            "colorscale": [
             [
              0,
              "#0d0887"
             ],
             [
              0.1111111111111111,
              "#46039f"
             ],
             [
              0.2222222222222222,
              "#7201a8"
             ],
             [
              0.3333333333333333,
              "#9c179e"
             ],
             [
              0.4444444444444444,
              "#bd3786"
             ],
             [
              0.5555555555555556,
              "#d8576b"
             ],
             [
              0.6666666666666666,
              "#ed7953"
             ],
             [
              0.7777777777777778,
              "#fb9f3a"
             ],
             [
              0.8888888888888888,
              "#fdca26"
             ],
             [
              1,
              "#f0f921"
             ]
            ],
            "type": "histogram2d"
           }
          ],
          "histogram2dcontour": [
           {
            "colorbar": {
             "outlinewidth": 0,
             "ticks": ""
            },
            "colorscale": [
             [
              0,
              "#0d0887"
             ],
             [
              0.1111111111111111,
              "#46039f"
             ],
             [
              0.2222222222222222,
              "#7201a8"
             ],
             [
              0.3333333333333333,
              "#9c179e"
             ],
             [
              0.4444444444444444,
              "#bd3786"
             ],
             [
              0.5555555555555556,
              "#d8576b"
             ],
             [
              0.6666666666666666,
              "#ed7953"
             ],
             [
              0.7777777777777778,
              "#fb9f3a"
             ],
             [
              0.8888888888888888,
              "#fdca26"
             ],
             [
              1,
              "#f0f921"
             ]
            ],
            "type": "histogram2dcontour"
           }
          ],
          "mesh3d": [
           {
            "colorbar": {
             "outlinewidth": 0,
             "ticks": ""
            },
            "type": "mesh3d"
           }
          ],
          "parcoords": [
           {
            "line": {
             "colorbar": {
              "outlinewidth": 0,
              "ticks": ""
             }
            },
            "type": "parcoords"
           }
          ],
          "pie": [
           {
            "automargin": true,
            "type": "pie"
           }
          ],
          "scatter": [
           {
            "fillpattern": {
             "fillmode": "overlay",
             "size": 10,
             "solidity": 0.2
            },
            "type": "scatter"
           }
          ],
          "scatter3d": [
           {
            "line": {
             "colorbar": {
              "outlinewidth": 0,
              "ticks": ""
             }
            },
            "marker": {
             "colorbar": {
              "outlinewidth": 0,
              "ticks": ""
             }
            },
            "type": "scatter3d"
           }
          ],
          "scattercarpet": [
           {
            "marker": {
             "colorbar": {
              "outlinewidth": 0,
              "ticks": ""
             }
            },
            "type": "scattercarpet"
           }
          ],
          "scattergeo": [
           {
            "marker": {
             "colorbar": {
              "outlinewidth": 0,
              "ticks": ""
             }
            },
            "type": "scattergeo"
           }
          ],
          "scattergl": [
           {
            "marker": {
             "colorbar": {
              "outlinewidth": 0,
              "ticks": ""
             }
            },
            "type": "scattergl"
           }
          ],
          "scattermap": [
           {
            "marker": {
             "colorbar": {
              "outlinewidth": 0,
              "ticks": ""
             }
            },
            "type": "scattermap"
           }
          ],
          "scattermapbox": [
           {
            "marker": {
             "colorbar": {
              "outlinewidth": 0,
              "ticks": ""
             }
            },
            "type": "scattermapbox"
           }
          ],
          "scatterpolar": [
           {
            "marker": {
             "colorbar": {
              "outlinewidth": 0,
              "ticks": ""
             }
            },
            "type": "scatterpolar"
           }
          ],
          "scatterpolargl": [
           {
            "marker": {
             "colorbar": {
              "outlinewidth": 0,
              "ticks": ""
             }
            },
            "type": "scatterpolargl"
           }
          ],
          "scatterternary": [
           {
            "marker": {
             "colorbar": {
              "outlinewidth": 0,
              "ticks": ""
             }
            },
            "type": "scatterternary"
           }
          ],
          "surface": [
           {
            "colorbar": {
             "outlinewidth": 0,
             "ticks": ""
            },
            "colorscale": [
             [
              0,
              "#0d0887"
             ],
             [
              0.1111111111111111,
              "#46039f"
             ],
             [
              0.2222222222222222,
              "#7201a8"
             ],
             [
              0.3333333333333333,
              "#9c179e"
             ],
             [
              0.4444444444444444,
              "#bd3786"
             ],
             [
              0.5555555555555556,
              "#d8576b"
             ],
             [
              0.6666666666666666,
              "#ed7953"
             ],
             [
              0.7777777777777778,
              "#fb9f3a"
             ],
             [
              0.8888888888888888,
              "#fdca26"
             ],
             [
              1,
              "#f0f921"
             ]
            ],
            "type": "surface"
           }
          ],
          "table": [
           {
            "cells": {
             "fill": {
              "color": "#EBF0F8"
             },
             "line": {
              "color": "white"
             }
            },
            "header": {
             "fill": {
              "color": "#C8D4E3"
             },
             "line": {
              "color": "white"
             }
            },
            "type": "table"
           }
          ]
         },
         "layout": {
          "annotationdefaults": {
           "arrowcolor": "#2a3f5f",
           "arrowhead": 0,
           "arrowwidth": 1
          },
          "autotypenumbers": "strict",
          "coloraxis": {
           "colorbar": {
            "outlinewidth": 0,
            "ticks": ""
           }
          },
          "colorscale": {
           "diverging": [
            [
             0,
             "#8e0152"
            ],
            [
             0.1,
             "#c51b7d"
            ],
            [
             0.2,
             "#de77ae"
            ],
            [
             0.3,
             "#f1b6da"
            ],
            [
             0.4,
             "#fde0ef"
            ],
            [
             0.5,
             "#f7f7f7"
            ],
            [
             0.6,
             "#e6f5d0"
            ],
            [
             0.7,
             "#b8e186"
            ],
            [
             0.8,
             "#7fbc41"
            ],
            [
             0.9,
             "#4d9221"
            ],
            [
             1,
             "#276419"
            ]
           ],
           "sequential": [
            [
             0,
             "#0d0887"
            ],
            [
             0.1111111111111111,
             "#46039f"
            ],
            [
             0.2222222222222222,
             "#7201a8"
            ],
            [
             0.3333333333333333,
             "#9c179e"
            ],
            [
             0.4444444444444444,
             "#bd3786"
            ],
            [
             0.5555555555555556,
             "#d8576b"
            ],
            [
             0.6666666666666666,
             "#ed7953"
            ],
            [
             0.7777777777777778,
             "#fb9f3a"
            ],
            [
             0.8888888888888888,
             "#fdca26"
            ],
            [
             1,
             "#f0f921"
            ]
           ],
           "sequentialminus": [
            [
             0,
             "#0d0887"
            ],
            [
             0.1111111111111111,
             "#46039f"
            ],
            [
             0.2222222222222222,
             "#7201a8"
            ],
            [
             0.3333333333333333,
             "#9c179e"
            ],
            [
             0.4444444444444444,
             "#bd3786"
            ],
            [
             0.5555555555555556,
             "#d8576b"
            ],
            [
             0.6666666666666666,
             "#ed7953"
            ],
            [
             0.7777777777777778,
             "#fb9f3a"
            ],
            [
             0.8888888888888888,
             "#fdca26"
            ],
            [
             1,
             "#f0f921"
            ]
           ]
          },
          "colorway": [
           "#636efa",
           "#EF553B",
           "#00cc96",
           "#ab63fa",
           "#FFA15A",
           "#19d3f3",
           "#FF6692",
           "#B6E880",
           "#FF97FF",
           "#FECB52"
          ],
          "font": {
           "color": "#2a3f5f"
          },
          "geo": {
           "bgcolor": "white",
           "lakecolor": "white",
           "landcolor": "#E5ECF6",
           "showlakes": true,
           "showland": true,
           "subunitcolor": "white"
          },
          "hoverlabel": {
           "align": "left"
          },
          "hovermode": "closest",
          "mapbox": {
           "style": "light"
          },
          "paper_bgcolor": "white",
          "plot_bgcolor": "#E5ECF6",
          "polar": {
           "angularaxis": {
            "gridcolor": "white",
            "linecolor": "white",
            "ticks": ""
           },
           "bgcolor": "#E5ECF6",
           "radialaxis": {
            "gridcolor": "white",
            "linecolor": "white",
            "ticks": ""
           }
          },
          "scene": {
           "xaxis": {
            "backgroundcolor": "#E5ECF6",
            "gridcolor": "white",
            "gridwidth": 2,
            "linecolor": "white",
            "showbackground": true,
            "ticks": "",
            "zerolinecolor": "white"
           },
           "yaxis": {
            "backgroundcolor": "#E5ECF6",
            "gridcolor": "white",
            "gridwidth": 2,
            "linecolor": "white",
            "showbackground": true,
            "ticks": "",
            "zerolinecolor": "white"
           },
           "zaxis": {
            "backgroundcolor": "#E5ECF6",
            "gridcolor": "white",
            "gridwidth": 2,
            "linecolor": "white",
            "showbackground": true,
            "ticks": "",
            "zerolinecolor": "white"
           }
          },
          "shapedefaults": {
           "line": {
            "color": "#2a3f5f"
           }
          },
          "ternary": {
           "aaxis": {
            "gridcolor": "white",
            "linecolor": "white",
            "ticks": ""
           },
           "baxis": {
            "gridcolor": "white",
            "linecolor": "white",
            "ticks": ""
           },
           "bgcolor": "#E5ECF6",
           "caxis": {
            "gridcolor": "white",
            "linecolor": "white",
            "ticks": ""
           }
          },
          "title": {
           "x": 0.05
          },
          "xaxis": {
           "automargin": true,
           "gridcolor": "white",
           "linecolor": "white",
           "ticks": "",
           "title": {
            "standoff": 15
           },
           "zerolinecolor": "white",
           "zerolinewidth": 2
          },
          "yaxis": {
           "automargin": true,
           "gridcolor": "white",
           "linecolor": "white",
           "ticks": "",
           "title": {
            "standoff": 15
           },
           "zerolinecolor": "white",
           "zerolinewidth": 2
          }
         }
        },
        "title": {
         "text": "Word count vs Label"
        },
        "xaxis": {
         "anchor": "y",
         "domain": [
          0,
          1
         ],
         "title": {
          "text": "word_count"
         }
        },
        "yaxis": {
         "anchor": "x",
         "domain": [
          0,
          1
         ]
        }
       }
      }
     },
     "metadata": {},
     "output_type": "display_data"
    }
   ],
   "source": [
    "# create a df for visualizations\n",
    "df = cont.copy()\n",
    "\n",
    "# create a box plot\n",
    "px.box(data_frame=df , x='word_count'  , title='Word count vs Label' , color= 'label')"
   ]
  },
  {
   "cell_type": "markdown",
   "id": "a711e63c",
   "metadata": {},
   "source": [
    "- **Typical Length:** Both AI and human writing center around a similar middle range — roughly 100 to 200 words — meaning their “average” length is alike.\n",
    "\n",
    "- **Spread:** AI writing (blue) sometimes produces much longer texts than humans, as seen by the longer whisker stretching past 300 words and the single outlier near 340. Humans’ range is slightly tighter, suggesting they don’t often produce extremely long content in this dataset.\n",
    "\n",
    "- **Consistency:** Human text (red) appears a bit more consistent in length, while AI has a wider spread on the longer side.\n",
    "\n",
    "- **Overlap:** There’s a big overlap in word counts, so this metric alone can’t tell us if something is AI-written — but the patterns hint that AI is a bit more willing to “go long” than humans.\n",
    "\n",
    "### **In everyday terms:**\n",
    "Both AI and human writers usually say about the same amount before wrapping up. The difference is, AI sometimes just… keeps going, like a friend who can’t resist turning a short story into a full-blown novel."
   ]
  },
  {
   "cell_type": "markdown",
   "id": "208c9541",
   "metadata": {},
   "source": [
    "### **Q-Is there a strong correlation between word_count and character_count?**"
   ]
  },
  {
   "cell_type": "code",
   "execution_count": 10,
   "id": "b0b9e49b",
   "metadata": {},
   "outputs": [
    {
     "data": {
      "text/plain": [
       "<Axes: >"
      ]
     },
     "execution_count": 10,
     "metadata": {},
     "output_type": "execute_result"
    },
    {
     "data": {
      "image/png": "[encoded data removed]",
      "text/plain": [
       "<Figure size 640x480 with 2 Axes>"
      ]
     },
     "metadata": {},
     "output_type": "display_data"
    }
   ],
   "source": [
    "sns.heatmap(df[['word_count', 'character_count']].corr(), annot=True)"
   ]
  },
  {
   "cell_type": "markdown",
   "id": "f22bd7d2",
   "metadata": {},
   "source": [
    "Word count and character count move together almost perfectly. If a text has more words, it almost always has more characters, and vice versa. Think “height in inches vs. height in centimeters” different units, same information."
   ]
  },
  {
   "cell_type": "markdown",
   "id": "a98182c4",
   "metadata": {},
   "source": [
    "### **Q-Which content_type category has the highest lexical_diversity on average?**"
   ]
  },
  {
   "cell_type": "code",
   "execution_count": 11,
   "id": "cbd16cc8",
   "metadata": {},
   "outputs": [
    {
     "data": {
      "application/vnd.plotly.v1+json": {
       "config": {
        "plotlyServerURL": "https://plot.ly"
       },
       "data": [
        {
         "hovertemplate": "content_type=%{x}<br>lexical_diversity=%{text}<extra></extra>",
         "legendgroup": "social_media",
         "marker": {
          "color": "#636efa",
          "pattern": {
           "shape": ""
          }
         },
         "name": "social_media",
         "orientation": "v",
         "showlegend": true,
         "text": {
          "bdata": "grhRgvTV7z8=",
          "dtype": "f8"
         },
         "textposition": "outside",
         "texttemplate": "%{text:.3f}",
         "type": "bar",
         "x": [
          "social_media"
         ],
         "xaxis": "x",
         "y": {
          "bdata": "grhRgvTV7z8=",
          "dtype": "f8"
         },
         "yaxis": "y"
        },
        {
         "hovertemplate": "content_type=%{x}<br>lexical_diversity=%{text}<extra></extra>",
         "legendgroup": "article",
         "marker": {
          "color": "#EF553B",
          "pattern": {
           "shape": ""
          }
         },
         "name": "article",
         "orientation": "v",
         "showlegend": true,
         "text": {
          "bdata": "gCNhVrUh7z8=",
          "dtype": "f8"
         },
         "textposition": "outside",
         "texttemplate": "%{text:.3f}",
         "type": "bar",
         "x": [
          "article"
         ],
         "xaxis": "x",
         "y": {
          "bdata": "gCNhVrUh7z8=",
          "dtype": "f8"
         },
         "yaxis": "y"
        },
        {
         "hovertemplate": "content_type=%{x}<br>lexical_diversity=%{text}<extra></extra>",
         "legendgroup": "creative_writing",
         "marker": {
          "color": "#00cc96",
          "pattern": {
           "shape": ""
          }
         },
         "name": "creative_writing",
         "orientation": "v",
         "showlegend": true,
         "text": {
          "bdata": "bNxAc/oN7z8=",
          "dtype": "f8"
         },
         "textposition": "outside",
         "texttemplate": "%{text:.3f}",
         "type": "bar",
         "x": [
          "creative_writing"
         ],
         "xaxis": "x",
         "y": {
          "bdata": "bNxAc/oN7z8=",
          "dtype": "f8"
         },
         "yaxis": "y"
        },
        {
         "hovertemplate": "content_type=%{x}<br>lexical_diversity=%{text}<extra></extra>",
         "legendgroup": "blog_post",
         "marker": {
          "color": "#ab63fa",
          "pattern": {
           "shape": ""
          }
         },
         "name": "blog_post",
         "orientation": "v",
         "showlegend": true,
         "text": {
          "bdata": "AmKMwaUL7z8=",
          "dtype": "f8"
         },
         "textposition": "outside",
         "texttemplate": "%{text:.3f}",
         "type": "bar",
         "x": [
          "blog_post"
         ],
         "xaxis": "x",
         "y": {
          "bdata": "AmKMwaUL7z8=",
          "dtype": "f8"
         },
         "yaxis": "y"
        },
        {
         "hovertemplate": "content_type=%{x}<br>lexical_diversity=%{text}<extra></extra>",
         "legendgroup": "product_review",
         "marker": {
          "color": "#FFA15A",
          "pattern": {
           "shape": ""
          }
         },
         "name": "product_review",
         "orientation": "v",
         "showlegend": true,
         "text": {
          "bdata": "Ziyazk4G7z8=",
          "dtype": "f8"
         },
         "textposition": "outside",
         "texttemplate": "%{text:.3f}",
         "type": "bar",
         "x": [
          "product_review"
         ],
         "xaxis": "x",
         "y": {
          "bdata": "Ziyazk4G7z8=",
          "dtype": "f8"
         },
         "yaxis": "y"
        },
        {
         "hovertemplate": "content_type=%{x}<br>lexical_diversity=%{text}<extra></extra>",
         "legendgroup": "news_article",
         "marker": {
          "color": "#19d3f3",
          "pattern": {
           "shape": ""
          }
         },
         "name": "news_article",
         "orientation": "v",
         "showlegend": true,
         "text": {
          "bdata": "QYSdWojz7j8=",
          "dtype": "f8"
         },
         "textposition": "outside",
         "texttemplate": "%{text:.3f}",
         "type": "bar",
         "x": [
          "news_article"
         ],
         "xaxis": "x",
         "y": {
          "bdata": "QYSdWojz7j8=",
          "dtype": "f8"
         },
         "yaxis": "y"
        },
        {
         "hovertemplate": "content_type=%{x}<br>lexical_diversity=%{text}<extra></extra>",
         "legendgroup": "essay",
         "marker": {
          "color": "#FF6692",
          "pattern": {
           "shape": ""
          }
         },
         "name": "essay",
         "orientation": "v",
         "showlegend": true,
         "text": {
          "bdata": "5QzOzo2a7j8=",
          "dtype": "f8"
         },
         "textposition": "outside",
         "texttemplate": "%{text:.3f}",
         "type": "bar",
         "x": [
          "essay"
         ],
         "xaxis": "x",
         "y": {
          "bdata": "5QzOzo2a7j8=",
          "dtype": "f8"
         },
         "yaxis": "y"
        },
        {
         "hovertemplate": "content_type=%{x}<br>lexical_diversity=%{text}<extra></extra>",
         "legendgroup": "academic_paper",
         "marker": {
          "color": "#B6E880",
          "pattern": {
           "shape": ""
          }
         },
         "name": "academic_paper",
         "orientation": "v",
         "showlegend": true,
         "text": {
          "bdata": "OBFzXdBL7j8=",
          "dtype": "f8"
         },
         "textposition": "outside",
         "texttemplate": "%{text:.3f}",
         "type": "bar",
         "x": [
          "academic_paper"
         ],
         "xaxis": "x",
         "y": {
          "bdata": "OBFzXdBL7j8=",
          "dtype": "f8"
         },
         "yaxis": "y"
        }
       ],
       "layout": {
        "barmode": "relative",
        "legend": {
         "title": {
          "text": "content_type"
         },
         "tracegroupgap": 0
        },
        "template": {
         "data": {
          "bar": [
           {
            "error_x": {
             "color": "#2a3f5f"
            },
            "error_y": {
             "color": "#2a3f5f"
            },
            "marker": {
             "line": {
              "color": "#E5ECF6",
              "width": 0.5
             },
             "pattern": {
              "fillmode": "overlay",
              "size": 10,
              "solidity": 0.2
             }
            },
            "type": "bar"
           }
          ],
          "barpolar": [
           {
            "marker": {
             "line": {
              "color": "#E5ECF6",
              "width": 0.5
             },
             "pattern": {
              "fillmode": "overlay",
              "size": 10,
              "solidity": 0.2
             }
            },
            "type": "barpolar"
           }
          ],
          "carpet": [
           {
            "aaxis": {
             "endlinecolor": "#2a3f5f",
             "gridcolor": "white",
             "linecolor": "white",
             "minorgridcolor": "white",
             "startlinecolor": "#2a3f5f"
            },
            "baxis": {
             "endlinecolor": "#2a3f5f",
             "gridcolor": "white",
             "linecolor": "white",
             "minorgridcolor": "white",
             "startlinecolor": "#2a3f5f"
            },
            "type": "carpet"
           }
          ],
          "choropleth": [
           {
            "colorbar": {
             "outlinewidth": 0,
             "ticks": ""
            },
            "type": "choropleth"
           }
          ],
          "contour": [
           {
            "colorbar": {
             "outlinewidth": 0,
             "ticks": ""
            },
            "colorscale": [
             [
              0,
              "#0d0887"
             ],
             [
              0.1111111111111111,
              "#46039f"
             ],
             [
              0.2222222222222222,
              "#7201a8"
             ],
             [
              0.3333333333333333,
              "#9c179e"
             ],
             [
              0.4444444444444444,
              "#bd3786"
             ],
             [
              0.5555555555555556,
              "#d8576b"
             ],
             [
              0.6666666666666666,
              "#ed7953"
             ],
             [
              0.7777777777777778,
              "#fb9f3a"
             ],
             [
              0.8888888888888888,
              "#fdca26"
             ],
             [
              1,
              "#f0f921"
             ]
            ],
            "type": "contour"
           }
          ],
          "contourcarpet": [
           {
            "colorbar": {
             "outlinewidth": 0,
             "ticks": ""
            },
            "type": "contourcarpet"
           }
          ],
          "heatmap": [
           {
            "colorbar": {
             "outlinewidth": 0,
             "ticks": ""
            },
            "colorscale": [
             [
              0,
              "#0d0887"
             ],
             [
              0.1111111111111111,
              "#46039f"
             ],
             [
              0.2222222222222222,
              "#7201a8"
             ],
             [
              0.3333333333333333,
              "#9c179e"
             ],
             [
              0.4444444444444444,
              "#bd3786"
             ],
             [
              0.5555555555555556,
              "#d8576b"
             ],
             [
              0.6666666666666666,
              "#ed7953"
             ],
             [
              0.7777777777777778,
              "#fb9f3a"
             ],
             [
              0.8888888888888888,
              "#fdca26"
             ],
             [
              1,
              "#f0f921"
             ]
            ],
            "type": "heatmap"
           }
          ],
          "histogram": [
           {
            "marker": {
             "pattern": {
              "fillmode": "overlay",
              "size": 10,
              "solidity": 0.2
             }
            },
            "type": "histogram"
           }
          ],
          "histogram2d": [
           {
            "colorbar": {
             "outlinewidth": 0,
             "ticks": ""
            },
            "colorscale": [
             [
              0,
              "#0d0887"
             ],
             [
              0.1111111111111111,
              "#46039f"
             ],
             [
              0.2222222222222222,
              "#7201a8"
             ],
             [
              0.3333333333333333,
              "#9c179e"
             ],
             [
              0.4444444444444444,
              "#bd3786"
             ],
             [
              0.5555555555555556,
              "#d8576b"
             ],
             [
              0.6666666666666666,
              "#ed7953"
             ],
             [
              0.7777777777777778,
              "#fb9f3a"
             ],
             [
              0.8888888888888888,
              "#fdca26"
             ],
             [
              1,
              "#f0f921"
             ]
            ],
            "type": "histogram2d"
           }
          ],
          "histogram2dcontour": [
           {
            "colorbar": {
             "outlinewidth": 0,
             "ticks": ""
            },
            "colorscale": [
             [
              0,
              "#0d0887"
             ],
             [
              0.1111111111111111,
              "#46039f"
             ],
             [
              0.2222222222222222,
              "#7201a8"
             ],
             [
              0.3333333333333333,
              "#9c179e"
             ],
             [
              0.4444444444444444,
              "#bd3786"
             ],
             [
              0.5555555555555556,
              "#d8576b"
             ],
             [
              0.6666666666666666,
              "#ed7953"
             ],
             [
              0.7777777777777778,
              "#fb9f3a"
             ],
             [
              0.8888888888888888,
              "#fdca26"
             ],
             [
              1,
              "#f0f921"
             ]
            ],
            "type": "histogram2dcontour"
           }
          ],
          "mesh3d": [
           {
            "colorbar": {
             "outlinewidth": 0,
             "ticks": ""
            },
            "type": "mesh3d"
           }
          ],
          "parcoords": [
           {
            "line": {
             "colorbar": {
              "outlinewidth": 0,
              "ticks": ""
             }
            },
            "type": "parcoords"
           }
          ],
          "pie": [
           {
            "automargin": true,
            "type": "pie"
           }
          ],
          "scatter": [
           {
            "fillpattern": {
             "fillmode": "overlay",
             "size": 10,
             "solidity": 0.2
            },
            "type": "scatter"
           }
          ],
          "scatter3d": [
           {
            "line": {
             "colorbar": {
              "outlinewidth": 0,
              "ticks": ""
             }
            },
            "marker": {
             "colorbar": {
              "outlinewidth": 0,
              "ticks": ""
             }
            },
            "type": "scatter3d"
           }
          ],
          "scattercarpet": [
           {
            "marker": {
             "colorbar": {
              "outlinewidth": 0,
              "ticks": ""
             }
            },
            "type": "scattercarpet"
           }
          ],
          "scattergeo": [
           {
            "marker": {
             "colorbar": {
              "outlinewidth": 0,
              "ticks": ""
             }
            },
            "type": "scattergeo"
           }
          ],
          "scattergl": [
           {
            "marker": {
             "colorbar": {
              "outlinewidth": 0,
              "ticks": ""
             }
            },
            "type": "scattergl"
           }
          ],
          "scattermap": [
           {
            "marker": {
             "colorbar": {
              "outlinewidth": 0,
              "ticks": ""
             }
            },
            "type": "scattermap"
           }
          ],
          "scattermapbox": [
           {
            "marker": {
             "colorbar": {
              "outlinewidth": 0,
              "ticks": ""
             }
            },
            "type": "scattermapbox"
           }
          ],
          "scatterpolar": [
           {
            "marker": {
             "colorbar": {
              "outlinewidth": 0,
              "ticks": ""
             }
            },
            "type": "scatterpolar"
           }
          ],
          "scatterpolargl": [
           {
            "marker": {
             "colorbar": {
              "outlinewidth": 0,
              "ticks": ""
             }
            },
            "type": "scatterpolargl"
           }
          ],
          "scatterternary": [
           {
            "marker": {
             "colorbar": {
              "outlinewidth": 0,
              "ticks": ""
             }
            },
            "type": "scatterternary"
           }
          ],
          "surface": [
           {
            "colorbar": {
             "outlinewidth": 0,
             "ticks": ""
            },
            "colorscale": [
             [
              0,
              "#0d0887"
             ],
             [
              0.1111111111111111,
              "#46039f"
             ],
             [
              0.2222222222222222,
              "#7201a8"
             ],
             [
              0.3333333333333333,
              "#9c179e"
             ],
             [
              0.4444444444444444,
              "#bd3786"
             ],
             [
              0.5555555555555556,
              "#d8576b"
             ],
             [
              0.6666666666666666,
              "#ed7953"
             ],
             [
              0.7777777777777778,
              "#fb9f3a"
             ],
             [
              0.8888888888888888,
              "#fdca26"
             ],
             [
              1,
              "#f0f921"
             ]
            ],
            "type": "surface"
           }
          ],
          "table": [
           {
            "cells": {
             "fill": {
              "color": "#EBF0F8"
             },
             "line": {
              "color": "white"
             }
            },
            "header": {
             "fill": {
              "color": "#C8D4E3"
             },
             "line": {
              "color": "white"
             }
            },
            "type": "table"
           }
          ]
         },
         "layout": {
          "annotationdefaults": {
           "arrowcolor": "#2a3f5f",
           "arrowhead": 0,
           "arrowwidth": 1
          },
          "autotypenumbers": "strict",
          "coloraxis": {
           "colorbar": {
            "outlinewidth": 0,
            "ticks": ""
           }
          },
          "colorscale": {
           "diverging": [
            [
             0,
             "#8e0152"
            ],
            [
             0.1,
             "#c51b7d"
            ],
            [
             0.2,
             "#de77ae"
            ],
            [
             0.3,
             "#f1b6da"
            ],
            [
             0.4,
             "#fde0ef"
            ],
            [
             0.5,
             "#f7f7f7"
            ],
            [
             0.6,
             "#e6f5d0"
            ],
            [
             0.7,
             "#b8e186"
            ],
            [
             0.8,
             "#7fbc41"
            ],
            [
             0.9,
             "#4d9221"
            ],
            [
             1,
             "#276419"
            ]
           ],
           "sequential": [
            [
             0,
             "#0d0887"
            ],
            [
             0.1111111111111111,
             "#46039f"
            ],
            [
             0.2222222222222222,
             "#7201a8"
            ],
            [
             0.3333333333333333,
             "#9c179e"
            ],
            [
             0.4444444444444444,
             "#bd3786"
            ],
            [
             0.5555555555555556,
             "#d8576b"
            ],
            [
             0.6666666666666666,
             "#ed7953"
            ],
            [
             0.7777777777777778,
             "#fb9f3a"
            ],
            [
             0.8888888888888888,
             "#fdca26"
            ],
            [
             1,
             "#f0f921"
            ]
           ],
           "sequentialminus": [
            [
             0,
             "#0d0887"
            ],
            [
             0.1111111111111111,
             "#46039f"
            ],
            [
             0.2222222222222222,
             "#7201a8"
            ],
            [
             0.3333333333333333,
             "#9c179e"
            ],
            [
             0.4444444444444444,
             "#bd3786"
            ],
            [
             0.5555555555555556,
             "#d8576b"
            ],
            [
             0.6666666666666666,
             "#ed7953"
            ],
            [
             0.7777777777777778,
             "#fb9f3a"
            ],
            [
             0.8888888888888888,
             "#fdca26"
            ],
            [
             1,
             "#f0f921"
            ]
           ]
          },
          "colorway": [
           "#636efa",
           "#EF553B",
           "#00cc96",
           "#ab63fa",
           "#FFA15A",
           "#19d3f3",
           "#FF6692",
           "#B6E880",
           "#FF97FF",
           "#FECB52"
          ],
          "font": {
           "color": "#2a3f5f"
          },
          "geo": {
           "bgcolor": "white",
           "lakecolor": "white",
           "landcolor": "#E5ECF6",
           "showlakes": true,
           "showland": true,
           "subunitcolor": "white"
          },
          "hoverlabel": {
           "align": "left"
          },
          "hovermode": "closest",
          "mapbox": {
           "style": "light"
          },
          "paper_bgcolor": "white",
          "plot_bgcolor": "#E5ECF6",
          "polar": {
           "angularaxis": {
            "gridcolor": "white",
            "linecolor": "white",
            "ticks": ""
           },
           "bgcolor": "#E5ECF6",
           "radialaxis": {
            "gridcolor": "white",
            "linecolor": "white",
            "ticks": ""
           }
          },
          "scene": {
           "xaxis": {
            "backgroundcolor": "#E5ECF6",
            "gridcolor": "white",
            "gridwidth": 2,
            "linecolor": "white",
            "showbackground": true,
            "ticks": "",
            "zerolinecolor": "white"
           },
           "yaxis": {
            "backgroundcolor": "#E5ECF6",
            "gridcolor": "white",
            "gridwidth": 2,
            "linecolor": "white",
            "showbackground": true,
            "ticks": "",
            "zerolinecolor": "white"
           },
           "zaxis": {
            "backgroundcolor": "#E5ECF6",
            "gridcolor": "white",
            "gridwidth": 2,
            "linecolor": "white",
            "showbackground": true,
            "ticks": "",
            "zerolinecolor": "white"
           }
          },
          "shapedefaults": {
           "line": {
            "color": "#2a3f5f"
           }
          },
          "ternary": {
           "aaxis": {
            "gridcolor": "white",
            "linecolor": "white",
            "ticks": ""
           },
           "baxis": {
            "gridcolor": "white",
            "linecolor": "white",
            "ticks": ""
           },
           "bgcolor": "#E5ECF6",
           "caxis": {
            "gridcolor": "white",
            "linecolor": "white",
            "ticks": ""
           }
          },
          "title": {
           "x": 0.05
          },
          "xaxis": {
           "automargin": true,
           "gridcolor": "white",
           "linecolor": "white",
           "ticks": "",
           "title": {
            "standoff": 15
           },
           "zerolinecolor": "white",
           "zerolinewidth": 2
          },
          "yaxis": {
           "automargin": true,
           "gridcolor": "white",
           "linecolor": "white",
           "ticks": "",
           "title": {
            "standoff": 15
           },
           "zerolinecolor": "white",
           "zerolinewidth": 2
          }
         }
        },
        "title": {
         "text": "Average Lexical Diversity by Content Type"
        },
        "xaxis": {
         "anchor": "y",
         "categoryarray": [
          "social_media",
          "article",
          "creative_writing",
          "blog_post",
          "product_review",
          "news_article",
          "essay",
          "academic_paper"
         ],
         "categoryorder": "array",
         "domain": [
          0,
          1
         ],
         "title": {
          "text": "Content Type"
         }
        },
        "yaxis": {
         "anchor": "x",
         "domain": [
          0,
          1
         ],
         "title": {
          "text": "Average Lexical Diversity"
         }
        }
       }
      }
     },
     "metadata": {},
     "output_type": "display_data"
    }
   ],
   "source": [
    "import plotly.express as px\n",
    "\n",
    "# Group by content_type and get average lexical_diversity\n",
    "catt = df.groupby('content_type', as_index=False)['lexical_diversity'].mean()\n",
    "\n",
    "# Sort so the highest is easy to see\n",
    "catt = catt.sort_values(by='lexical_diversity', ascending=False)\n",
    "\n",
    "# Bar plot\n",
    "fig = px.bar(\n",
    "    catt,\n",
    "    x='content_type',\n",
    "    y='lexical_diversity',\n",
    "    color='content_type',\n",
    "    title='Average Lexical Diversity by Content Type',\n",
    "    text='lexical_diversity'\n",
    ")\n",
    "\n",
    "# Show values on bars\n",
    "fig.update_traces(texttemplate='%{text:.3f}', textposition='outside')\n",
    "fig.update_layout(xaxis_title='Content Type', yaxis_title='Average Lexical Diversity')\n",
    "\n",
    "fig.show()\n"
   ]
  },
  {
   "cell_type": "markdown",
   "id": "5a1a6828",
   "metadata": {},
   "source": [
    "### **Overall pattern:**\n",
    "Lexical diversity is very high across all content types, clustering between 0.95 and 1.00.\n",
    "***Ranking:***\n",
    "\n",
    "  - Highest: social_media (≈0.995).\n",
    "  -  Next: article (≈0.973).\n",
    "  -  Middle cluster: creative_writing, blog_post, product_review (all ≈0.970).\n",
    "  - Slightly lower: news_article (≈0.967).\n",
    "  - Lower end: essay (≈0.956).\n",
    "  - Lowest: academic_paper (≈0.947).\n",
    "\n",
    "### **Interpretation:**\n",
    "Short-form and informal content tends to use a slightly broader variety of unique words, while formal writing—especially academic papers—reuses specialized terminology, lowering lexical diversity."
   ]
  },
  {
   "cell_type": "markdown",
   "id": "d2c1004f",
   "metadata": {},
   "source": [
    "### **Q-Do AI-generated texts tend to have shorter avg_sentence_length compared to human ones?**"
   ]
  },
  {
   "cell_type": "code",
   "execution_count": 12,
   "id": "dc2952dc",
   "metadata": {},
   "outputs": [
    {
     "data": {
      "application/vnd.plotly.v1+json": {
       "config": {
        "plotlyServerURL": "https://plot.ly"
       },
       "data": [
        {
         "alignmentgroup": "True",
         "hovertemplate": "label=1<br>avg_sentence_length=%{x}<extra></extra>",
         "legendgroup": "1",
         "marker": {
          "color": "#636efa"
         },
         "name": "1",
         "notched": false,
         "offsetgroup": "1",
         "orientation": "h",
         "showlegend": true,
         "type": "box",
         "x": {
          "bdata": "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",
          "dtype": "f8"
         },
         "x0": " ",
         "xaxis": "x",
         "y0": " ",
         "yaxis": "y"
        },
        {
         "alignmentgroup": "True",
         "hovertemplate": "label=0<br>avg_sentence_length=%{x}<extra></extra>",
         "legendgroup": "0",
         "marker": {
          "color": "#EF553B"
         },
         "name": "0",
         "notched": false,
         "offsetgroup": "0",
         "orientation": "h",
         "showlegend": true,
         "type": "box",
         "x": {
          "bdata": "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",
          "dtype": "f8"
         },
         "x0": " ",
         "xaxis": "x",
         "y0": " ",
         "yaxis": "y"
        }
       ],
       "layout": {
        "boxmode": "group",
        "legend": {
         "title": {
          "text": "label"
         },
         "tracegroupgap": 0
        },
        "template": {
         "data": {
          "bar": [
           {
            "error_x": {
             "color": "#2a3f5f"
            },
            "error_y": {
             "color": "#2a3f5f"
            },
            "marker": {
             "line": {
              "color": "#E5ECF6",
              "width": 0.5
             },
             "pattern": {
              "fillmode": "overlay",
              "size": 10,
              "solidity": 0.2
             }
            },
            "type": "bar"
           }
          ],
          "barpolar": [
           {
            "marker": {
             "line": {
              "color": "#E5ECF6",
              "width": 0.5
             },
             "pattern": {
              "fillmode": "overlay",
              "size": 10,
              "solidity": 0.2
             }
            },
            "type": "barpolar"
           }
          ],
          "carpet": [
           {
            "aaxis": {
             "endlinecolor": "#2a3f5f",
             "gridcolor": "white",
             "linecolor": "white",
             "minorgridcolor": "white",
             "startlinecolor": "#2a3f5f"
            },
            "baxis": {
             "endlinecolor": "#2a3f5f",
             "gridcolor": "white",
             "linecolor": "white",
             "minorgridcolor": "white",
             "startlinecolor": "#2a3f5f"
            },
            "type": "carpet"
           }
          ],
          "choropleth": [
           {
            "colorbar": {
             "outlinewidth": 0,
             "ticks": ""
            },
            "type": "choropleth"
           }
          ],
          "contour": [
           {
            "colorbar": {
             "outlinewidth": 0,
             "ticks": ""
            },
            "colorscale": [
             [
              0,
              "#0d0887"
             ],
             [
              0.1111111111111111,
              "#46039f"
             ],
             [
              0.2222222222222222,
              "#7201a8"
             ],
             [
              0.3333333333333333,
              "#9c179e"
             ],
             [
              0.4444444444444444,
              "#bd3786"
             ],
             [
              0.5555555555555556,
              "#d8576b"
             ],
             [
              0.6666666666666666,
              "#ed7953"
             ],
             [
              0.7777777777777778,
              "#fb9f3a"
             ],
             [
              0.8888888888888888,
              "#fdca26"
             ],
             [
              1,
              "#f0f921"
             ]
            ],
            "type": "contour"
           }
          ],
          "contourcarpet": [
           {
            "colorbar": {
             "outlinewidth": 0,
             "ticks": ""
            },
            "type": "contourcarpet"
           }
          ],
          "heatmap": [
           {
            "colorbar": {
             "outlinewidth": 0,
             "ticks": ""
            },
            "colorscale": [
             [
              0,
              "#0d0887"
             ],
             [
              0.1111111111111111,
              "#46039f"
             ],
             [
              0.2222222222222222,
              "#7201a8"
             ],
             [
              0.3333333333333333,
              "#9c179e"
             ],
             [
              0.4444444444444444,
              "#bd3786"
             ],
             [
              0.5555555555555556,
              "#d8576b"
             ],
             [
              0.6666666666666666,
              "#ed7953"
             ],
             [
              0.7777777777777778,
              "#fb9f3a"
             ],
             [
              0.8888888888888888,
              "#fdca26"
             ],
             [
              1,
              "#f0f921"
             ]
            ],
            "type": "heatmap"
           }
          ],
          "histogram": [
           {
            "marker": {
             "pattern": {
              "fillmode": "overlay",
              "size": 10,
              "solidity": 0.2
             }
            },
            "type": "histogram"
           }
          ],
          "histogram2d": [
           {
            "colorbar": {
             "outlinewidth": 0,
             "ticks": ""
            },
            "colorscale": [
             [
              0,
              "#0d0887"
             ],
             [
              0.1111111111111111,
              "#46039f"
             ],
             [
              0.2222222222222222,
              "#7201a8"
             ],
             [
              0.3333333333333333,
              "#9c179e"
             ],
             [
              0.4444444444444444,
              "#bd3786"
             ],
             [
              0.5555555555555556,
              "#d8576b"
             ],
             [
              0.6666666666666666,
              "#ed7953"
             ],
             [
              0.7777777777777778,
              "#fb9f3a"
             ],
             [
              0.8888888888888888,
              "#fdca26"
             ],
             [
              1,
              "#f0f921"
             ]
            ],
            "type": "histogram2d"
           }
          ],
          "histogram2dcontour": [
           {
            "colorbar": {
             "outlinewidth": 0,
             "ticks": ""
            },
            "colorscale": [
             [
              0,
              "#0d0887"
             ],
             [
              0.1111111111111111,
              "#46039f"
             ],
             [
              0.2222222222222222,
              "#7201a8"
             ],
             [
              0.3333333333333333,
              "#9c179e"
             ],
             [
              0.4444444444444444,
              "#bd3786"
             ],
             [
              0.5555555555555556,
              "#d8576b"
             ],
             [
              0.6666666666666666,
              "#ed7953"
             ],
             [
              0.7777777777777778,
              "#fb9f3a"
             ],
             [
              0.8888888888888888,
              "#fdca26"
             ],
             [
              1,
              "#f0f921"
             ]
            ],
            "type": "histogram2dcontour"
           }
          ],
          "mesh3d": [
           {
            "colorbar": {
             "outlinewidth": 0,
             "ticks": ""
            },
            "type": "mesh3d"
           }
          ],
          "parcoords": [
           {
            "line": {
             "colorbar": {
              "outlinewidth": 0,
              "ticks": ""
             }
            },
            "type": "parcoords"
           }
          ],
          "pie": [
           {
            "automargin": true,
            "type": "pie"
           }
          ],
          "scatter": [
           {
            "fillpattern": {
             "fillmode": "overlay",
             "size": 10,
             "solidity": 0.2
            },
            "type": "scatter"
           }
          ],
          "scatter3d": [
           {
            "line": {
             "colorbar": {
              "outlinewidth": 0,
              "ticks": ""
             }
            },
            "marker": {
             "colorbar": {
              "outlinewidth": 0,
              "ticks": ""
             }
            },
            "type": "scatter3d"
           }
          ],
          "scattercarpet": [
           {
            "marker": {
             "colorbar": {
              "outlinewidth": 0,
              "ticks": ""
             }
            },
            "type": "scattercarpet"
           }
          ],
          "scattergeo": [
           {
            "marker": {
             "colorbar": {
              "outlinewidth": 0,
              "ticks": ""
             }
            },
            "type": "scattergeo"
           }
          ],
          "scattergl": [
           {
            "marker": {
             "colorbar": {
              "outlinewidth": 0,
              "ticks": ""
             }
            },
            "type": "scattergl"
           }
          ],
          "scattermap": [
           {
            "marker": {
             "colorbar": {
              "outlinewidth": 0,
              "ticks": ""
             }
            },
            "type": "scattermap"
           }
          ],
          "scattermapbox": [
           {
            "marker": {
             "colorbar": {
              "outlinewidth": 0,
              "ticks": ""
             }
            },
            "type": "scattermapbox"
           }
          ],
          "scatterpolar": [
           {
            "marker": {
             "colorbar": {
              "outlinewidth": 0,
              "ticks": ""
             }
            },
            "type": "scatterpolar"
           }
          ],
          "scatterpolargl": [
           {
            "marker": {
             "colorbar": {
              "outlinewidth": 0,
              "ticks": ""
             }
            },
            "type": "scatterpolargl"
           }
          ],
          "scatterternary": [
           {
            "marker": {
             "colorbar": {
              "outlinewidth": 0,
              "ticks": ""
             }
            },
            "type": "scatterternary"
           }
          ],
          "surface": [
           {
            "colorbar": {
             "outlinewidth": 0,
             "ticks": ""
            },
            "colorscale": [
             [
              0,
              "#0d0887"
             ],
             [
              0.1111111111111111,
              "#46039f"
             ],
             [
              0.2222222222222222,
              "#7201a8"
             ],
             [
              0.3333333333333333,
              "#9c179e"
             ],
             [
              0.4444444444444444,
              "#bd3786"
             ],
             [
              0.5555555555555556,
              "#d8576b"
             ],
             [
              0.6666666666666666,
              "#ed7953"
             ],
             [
              0.7777777777777778,
              "#fb9f3a"
             ],
             [
              0.8888888888888888,
              "#fdca26"
             ],
             [
              1,
              "#f0f921"
             ]
            ],
            "type": "surface"
           }
          ],
          "table": [
           {
            "cells": {
             "fill": {
              "color": "#EBF0F8"
             },
             "line": {
              "color": "white"
             }
            },
            "header": {
             "fill": {
              "color": "#C8D4E3"
             },
             "line": {
              "color": "white"
             }
            },
            "type": "table"
           }
          ]
         },
         "layout": {
          "annotationdefaults": {
           "arrowcolor": "#2a3f5f",
           "arrowhead": 0,
           "arrowwidth": 1
          },
          "autotypenumbers": "strict",
          "coloraxis": {
           "colorbar": {
            "outlinewidth": 0,
            "ticks": ""
           }
          },
          "colorscale": {
           "diverging": [
            [
             0,
             "#8e0152"
            ],
            [
             0.1,
             "#c51b7d"
            ],
            [
             0.2,
             "#de77ae"
            ],
            [
             0.3,
             "#f1b6da"
            ],
            [
             0.4,
             "#fde0ef"
            ],
            [
             0.5,
             "#f7f7f7"
            ],
            [
             0.6,
             "#e6f5d0"
            ],
            [
             0.7,
             "#b8e186"
            ],
            [
             0.8,
             "#7fbc41"
            ],
            [
             0.9,
             "#4d9221"
            ],
            [
             1,
             "#276419"
            ]
           ],
           "sequential": [
            [
             0,
             "#0d0887"
            ],
            [
             0.1111111111111111,
             "#46039f"
            ],
            [
             0.2222222222222222,
             "#7201a8"
            ],
            [
             0.3333333333333333,
             "#9c179e"
            ],
            [
             0.4444444444444444,
             "#bd3786"
            ],
            [
             0.5555555555555556,
             "#d8576b"
            ],
            [
             0.6666666666666666,
             "#ed7953"
            ],
            [
             0.7777777777777778,
             "#fb9f3a"
            ],
            [
             0.8888888888888888,
             "#fdca26"
            ],
            [
             1,
             "#f0f921"
            ]
           ],
           "sequentialminus": [
            [
             0,
             "#0d0887"
            ],
            [
             0.1111111111111111,
             "#46039f"
            ],
            [
             0.2222222222222222,
             "#7201a8"
            ],
            [
             0.3333333333333333,
             "#9c179e"
            ],
            [
             0.4444444444444444,
             "#bd3786"
            ],
            [
             0.5555555555555556,
             "#d8576b"
            ],
            [
             0.6666666666666666,
             "#ed7953"
            ],
            [
             0.7777777777777778,
             "#fb9f3a"
            ],
            [
             0.8888888888888888,
             "#fdca26"
            ],
            [
             1,
             "#f0f921"
            ]
           ]
          },
          "colorway": [
           "#636efa",
           "#EF553B",
           "#00cc96",
           "#ab63fa",
           "#FFA15A",
           "#19d3f3",
           "#FF6692",
           "#B6E880",
           "#FF97FF",
           "#FECB52"
          ],
          "font": {
           "color": "#2a3f5f"
          },
          "geo": {
           "bgcolor": "white",
           "lakecolor": "white",
           "landcolor": "#E5ECF6",
           "showlakes": true,
           "showland": true,
           "subunitcolor": "white"
          },
          "hoverlabel": {
           "align": "left"
          },
          "hovermode": "closest",
          "mapbox": {
           "style": "light"
          },
          "paper_bgcolor": "white",
          "plot_bgcolor": "#E5ECF6",
          "polar": {
           "angularaxis": {
            "gridcolor": "white",
            "linecolor": "white",
            "ticks": ""
           },
           "bgcolor": "#E5ECF6",
           "radialaxis": {
            "gridcolor": "white",
            "linecolor": "white",
            "ticks": ""
           }
          },
          "scene": {
           "xaxis": {
            "backgroundcolor": "#E5ECF6",
            "gridcolor": "white",
            "gridwidth": 2,
            "linecolor": "white",
            "showbackground": true,
            "ticks": "",
            "zerolinecolor": "white"
           },
           "yaxis": {
            "backgroundcolor": "#E5ECF6",
            "gridcolor": "white",
            "gridwidth": 2,
            "linecolor": "white",
            "showbackground": true,
            "ticks": "",
            "zerolinecolor": "white"
           },
           "zaxis": {
            "backgroundcolor": "#E5ECF6",
            "gridcolor": "white",
            "gridwidth": 2,
            "linecolor": "white",
            "showbackground": true,
            "ticks": "",
            "zerolinecolor": "white"
           }
          },
          "shapedefaults": {
           "line": {
            "color": "#2a3f5f"
           }
          },
          "ternary": {
           "aaxis": {
            "gridcolor": "white",
            "linecolor": "white",
            "ticks": ""
           },
           "baxis": {
            "gridcolor": "white",
            "linecolor": "white",
            "ticks": ""
           },
           "bgcolor": "#E5ECF6",
           "caxis": {
            "gridcolor": "white",
            "linecolor": "white",
            "ticks": ""
           }
          },
          "title": {
           "x": 0.05
          },
          "xaxis": {
           "automargin": true,
           "gridcolor": "white",
           "linecolor": "white",
           "ticks": "",
           "title": {
            "standoff": 15
           },
           "zerolinecolor": "white",
           "zerolinewidth": 2
          },
          "yaxis": {
           "automargin": true,
           "gridcolor": "white",
           "linecolor": "white",
           "ticks": "",
           "title": {
            "standoff": 15
           },
           "zerolinecolor": "white",
           "zerolinewidth": 2
          }
         }
        },
        "title": {
         "text": "Distribution of Average Sentence Length by label"
        },
        "xaxis": {
         "anchor": "y",
         "domain": [
          0,
          1
         ],
         "title": {
          "text": "Average Sentence Length"
         }
        },
        "yaxis": {
         "anchor": "x",
         "domain": [
          0,
          1
         ],
         "title": {
          "text": "Count"
         }
        }
       }
      }
     },
     "metadata": {},
     "output_type": "display_data"
    }
   ],
   "source": [
    "fig = px.box(df , x = 'avg_sentence_length' , color='label' , title= 'Distribution of Average Sentence Length by label')\n",
    "\n",
    "fig.update_layout(xaxis_title='Average Sentence Length', yaxis_title='Count')\n",
    "\n",
    "fig.show()"
   ]
  },
  {
   "cell_type": "markdown",
   "id": "0d3e47ab",
   "metadata": {},
   "source": [
    "- **Central tendency:** Both groups have nearly identical medians around 5.5 average sentence length. No meaningful shift between AI and human.\n",
    "\n",
    "- **Separation:** Visual separation is minimal. Average sentence length alone provides little discriminatory power between AI- and human-written texts."
   ]
  },
  {
   "cell_type": "markdown",
   "id": "e16ddc28",
   "metadata": {},
   "source": [
    "### **Q-Does punctuation_ratio differ significantly across different content_type categories?**"
   ]
  },
  {
   "cell_type": "code",
   "execution_count": 13,
   "id": "fadf9b8e",
   "metadata": {},
   "outputs": [
    {
     "data": {
      "application/vnd.plotly.v1+json": {
       "config": {
        "plotlyServerURL": "https://plot.ly"
       },
       "data": [
        {
         "alignmentgroup": "True",
         "hovertemplate": "content_type=academic_paper<br>punctuation_ratio=%{x}<extra></extra>",
         "legendgroup": "academic_paper",
         "marker": {
          "color": "#636efa"
         },
         "name": "academic_paper",
         "notched": false,
         "offsetgroup": "academic_paper",
         "orientation": "h",
         "showlegend": true,
         "type": "box",
         "x": {
          "bdata": "eekmMQisnD+vlGWIY12cP2PuWkI+6Jk/SgwCK4cWmT+jI7n8h/SbP33Qs1n1uZo/INJvXwfOmT9GJXUCmgibP6+UZYhjXZw/LUMc6+I2mj+jI7n8h/SbPylcj8L1KJw/2c73U+Olmz+WsgxxrIubP/aX3ZOHhZo/yXa+nxovnT/ZzvdT46WbP+Y/pN++Dpw/Qj7o2az6nD+8BRIUP8acP/aX3ZOHhZo/oyO5/If0mz+WsgxxrIubPylcj8L1KJw/DJOpglFJnT990LNZ9bmaP/aX3ZOHhZo/wOyePCzUmj9oke18PzWeP4Za07zjFJ0/iUFg5dAimz/A7J48LNSaP+/Jw0KtaZ4/yXa+nxovnT/ysFBrmnecPwMJih9j7po/HOviNhrAmz/ysFBrmnecP0YldQKaCJs/EHo2qz5Xmz9Pr5RliGOdPxB6Nqs+V5s/nzws1JrmnT9fB84ZUdqbPxB6Nqs+V5s/XCBB8WPMnT8c6+I2GsCbP/KwUGuad5w/8rBQa5p3nD+GWtO84xSdP5qZmZmZmZk/KVyPwvUonD9wXwfOGVGaP+kmMQisHJo/bHh6pSxDnD9wXwfOGVGaP0YldQKaCJs/AwmKH2Pumj+jI7n8h/SbP6MjufyH9Js/lrIMcayLmz9j7lpCPuiZPxkEVg4tsp0/SgwCK4cWmT/2l92Th4WaP+Y/pN++Dpw/8rBQa5p3nD/2l92Th4WaP8Dsnjws1Jo/kst/SL99nT9wXwfOGVGaP7gehetRuJ4/RiV1ApoImz9seHqlLEOcPylcj8L1KJw/XwfOGVHamz/mP6Tfvg6cP+Y/pN++Dpw/pgpGJXUCmj85tMh2vp+aP2x4eqUsQ5w/XwfOGVHamz9CPujZrPqcP8xdS8gHPZs/ObTIdr6fmj85tMh2vp+aP4lBYOXQIps/8rBQa5p3nD82zTtO0ZGcP8xdS8gHPZs/8rBQa5p3nD+8BRIUP8acP7wFEhQ/xpw/KVyPwvUonD/mP6Tfvg6cPzbNO07RkZw/hlrTvOMUnT/ZzvdT46WbP33Qs1n1uZo/Ns07TtGRnD/pJjEIrByaP0I+6Nms+pw/Qj7o2az6nD8c6+I2GsCbP18HzhlR2ps/AwmKH2Pumj/A7J48LNSaP8Dsnjws1Jo/",
          "dtype": "f8"
         },
         "x0": " ",
         "xaxis": "x",
         "y0": " ",
         "yaxis": "y"
        },
        {
         "alignmentgroup": "True",
         "hovertemplate": "content_type=essay<br>punctuation_ratio=%{x}<extra></extra>",
         "legendgroup": "essay",
         "marker": {
          "color": "#EF553B"
         },
         "name": "essay",
         "notched": false,
         "offsetgroup": "essay",
         "orientation": "h",
         "showlegend": true,
         "type": "box",
         "x": {
          "bdata": "wOyePCzUmj/pJjEIrByaP0I+6Nms+pw/pgpGJXUCmj/iWBe30QCeP18HzhlR2ps/vAUSFD/GnD8pXI/C9SicP921hHzQs5k//yH99nXgnD8pXI/C9SicP8xdS8gHPZs/9pfdk4eFmj+jI7n8h/SbP8l2vp8aL50/rK3YX3ZPnj9seHqlLEOcP0+vlGWIY50/cF8HzhlRmj+ze/KwUGuaP18HzhlR2ps/S8gHPZtVnz9wXwfOGVGaP7N78rBQa5o/bHh6pSxDnD990LNZ9bmaP8l2vp8aL50/s3vysFBrmj85tMh2vp+aP+Y/pN++Dpw/EHo2qz5Xmz9wXwfOGVGaP8l2vp8aL50/KVyPwvUonD9GJXUCmgibP4Za07zjFJ0/9pfdk4eFmj9GJXUCmgibPwMJih9j7po/9pfdk4eFmj82zTtO0ZGcP5ayDHGsi5s/9pfdk4eFmj89m1Wfq62YPwyTqYJRSZ0/T6+UZYhjnT/ysFBrmnecP6+UZYhjXZw/rK3YX3ZPnj9TliGOdXGbP588LNSa5p0/zF1LyAc9mz82zTtO0ZGcP7wFEhQ/xpw/eekmMQisnD/mP6Tfvg6cP+kmMQisHJo/bHh6pSxDnD+jI7n8h/SbPxzr4jYawJs/mpmZmZmZmT//If32deCcP2x4eqUsQ5w//yH99nXgnD9fB84ZUdqbP9nO91PjpZs/lrIMcayLmz956SYxCKycP4lBYOXQIps/Qj7o2az6nD/V52or9pedP1OWIY51cZs/EHo2qz5Xmz+NKO0NvjCZP2x4eqUsQ5w/EHo2qz5Xmz/MXUvIBz2bP33Qs1n1uZo/3bWEfNCzmT9j7lpCPuiZP4JzRpT2Bp8/GQRWDi2ynT/Jdr6fGi+dP0I+6Nms+pw/Ns07TtGRnD+Sy39Iv32dP/aX3ZOHhZo/8rBQa5p3nD956SYxCKycP/8h/fZ14Jw/8rBQa5p3nD8QejarPlebP18HzhlR2ps/GQRWDi2ynT8DCYofY+6aP6MjufyH9Js/vAUSFD/GnD+jI7n8h/SbP588LNSa5p0/hlrTvOMUnT9fB84ZUdqbP+Y/pN++Dpw/DJOpglFJnT/6fmq8dJOYP5ayDHGsi5s/ObTIdr6fmj+8BRIUP8acP1Z9rrZif5k/oyO5/If0mz+3Yn/ZPXmYP/s6cM6I0p4/aJHtfD81nj/ysFBrmnecPzbNO07RkZw/KVyPwvUonD82zTtO0ZGcP+Y/pN++Dpw/RiV1ApoImz9CPujZrPqcPxzr4jYawJs/3bWEfNCzmT8Mk6mCUUmdP3npJjEIrJw/w9MrZRnimD82zTtO0ZGcP3UCmggbnp4/lrIMcayLmz/MXUvIBz2bPxzr4jYawJs/wOyePCzUmj/mP6Tfvg6cPzbNO07RkZw/oyO5/If0mz9cIEHxY8ydPwisHFpkO58/HOviNhrAmz/2l92Th4WaP4Za07zjFJ0/wOyePCzUmj8c6+I2GsCbPyV1ApoIG54/2c73U+Olmz+vlGWIY12cPyV1ApoIG54/JXUCmggbnj956SYxCKycP7wFEhQ/xpw/pgpGJXUCmj+GWtO84xSdPz2bVZ+rrZg/Y+5aQj7omT9wXwfOGVGaPw==",
          "dtype": "f8"
         },
         "x0": " ",
         "xaxis": "x",
         "y0": " ",
         "yaxis": "y"
        },
        {
         "alignmentgroup": "True",
         "hovertemplate": "content_type=creative_writing<br>punctuation_ratio=%{x}<extra></extra>",
         "legendgroup": "creative_writing",
         "marker": {
          "color": "#00cc96"
         },
         "name": "creative_writing",
         "notched": false,
         "offsetgroup": "creative_writing",
         "orientation": "h",
         "showlegend": true,
         "type": "box",
         "x": {
          "bdata": "ObTIdr6fmj/QRNjw9EqZP33Qs1n1uZo/m1Wfq63Ynz8y5q4l5IOeP7gehetRuJ4/aJHtfD81nj8QejarPlebP7N78rBQa5o/MuauJeSDnj/QRNjw9EqZP33Qs1n1uZo/wOyePCzUmj+WsgxxrIubPylcj8L1KJw/zF1LyAc9mz/2l92Th4WaP+kmMQisHJo/vAUSFD/GnD9TliGOdXGbPxNhw9MrZZk/Vn2utmJ/mT/mP6Tfvg6cP6+UZYhjXZw/9pfdk4eFmj8c6+I2GsCbP3BfB84ZUZo/U5YhjnVxmz9GJXUCmgibP9IA3gIJip8/iUFg5dAimz/vycNCrWmePwyTqYJRSZ0/1edqK/aXnT/vycNCrWmeP18HzhlR2ps/1edqK/aXnT+JQWDl0CKbP0YldQKaCJs/fdCzWfW5mj8y5q4l5IOeP6YKRiV1Apo/wOyePCzUmj//If32deCcP9nO91PjpZs/eekmMQisnD/ZzvdT46WbP0YldQKaCJs/6SYxCKwcmj9Pr5RliGOdP1Z9rrZif5k/hlrTvOMUnT8DCYofY+6aP4lBYOXQIps/9pfdk4eFmj/A7J48LNSaP4lBYOXQIps/EHo2qz5Xmz9GJXUCmgibP8l2vp8aL50/4lgXt9EAnj956SYxCKycPyDSb18Hzpk/bHh6pSxDnD/A7J48LNSaP/aX3ZOHhZo/Qj7o2az6nD956SYxCKycP5ayDHGsi5s/EHo2qz5Xmz9oke18PzWeP0+vlGWIY50//yH99nXgnD9fB84ZUdqbP18HzhlR2ps//yH99nXgnD90RpT2Bl+YP/8h/fZ14Jw/Vn2utmJ/mT9Wfa62Yn+ZP0I+6Nms+pw/RiV1ApoImz8tQxzr4jaaP/KwUGuad5w/yXa+nxovnT//If32deCcP33Qs1n1uZo/9pfdk4eFmj8Mk6mCUUmdP5ayDHGsi5s/8rBQa5p3nD990LNZ9bmaP8Dsnjws1Jo/jSjtDb4wmT/ysFBrmnecPylcj8L1KJw/2c73U+Olmz8pXI/C9SicPwMJih9j7po/eekmMQisnD/QRNjw9EqZP33Qs1n1uZo/KVyPwvUonD/A7J48LNSaP3npJjEIrJw/WDm0yHa+nz/pJjEIrByaP1OWIY51cZs/JXUCmggbnj82zTtO0ZGcP+Y/pN++Dpw/JXUCmggbnj/MXUvIBz2bP+Y/pN++Dpw/Vn2utmJ/mT8IrBxaZDufP+JYF7fRAJ4/vAUSFD/GnD+NKO0NvjCZP3npJjEIrJw/vAUSFD/GnD+At0CC4seYP3BfB84ZUZo/jSjtDb4wmT+fPCzUmuadPzm0yHa+n5o/8rBQa5p3nD/ZzvdT46WbPwfwFkhQ/Jg/ObTIdr6fmj8pXI/C9SicPzbNO07RkZw/yXa+nxovnT+vlGWIY12cP5ayDHGsi5s/Vn2utmJ/mT/pJjEIrByaP/aX3ZOHhZo/XwfOGVHamz/iWBe30QCeP/KwUGuad5w/AwmKH2Pumj8=",
          "dtype": "f8"
         },
         "x0": " ",
         "xaxis": "x",
         "y0": " ",
         "yaxis": "y"
        },
        {
         "alignmentgroup": "True",
         "hovertemplate": "content_type=news_article<br>punctuation_ratio=%{x}<extra></extra>",
         "legendgroup": "news_article",
         "marker": {
          "color": "#ab63fa"
         },
         "name": "news_article",
         "notched": false,
         "offsetgroup": "news_article",
         "orientation": "h",
         "showlegend": true,
         "type": "box",
         "x": {
          "bdata": "3bWEfNCzmT+fPCzUmuadP5ayDHGsi5s/XwfOGVHamz9cIEHxY8ydP/KwUGuad5w/s3vysFBrmj+JQWDl0CKbP/KwUGuad5w/oyO5/If0mz+jI7n8h/SbP0YldQKaCJs/0gDeAgmKnz+8BRIUP8acP921hHzQs5k/aJHtfD81nj/ZzvdT46WbP/8h/fZ14Jw/2c73U+Olmz+vlGWIY12cP33Qs1n1uZo/rK3YX3ZPnj8VHcnlP6SfP+0NvjCZKpg/wOyePCzUmj/A7J48LNSaP/s6cM6I0p4/r5RliGNdnD9fB84ZUdqbP6MjufyH9Js/iUFg5dAimz/7OnDOiNKeP8xdS8gHPZs/Ns07TtGRnD/pJjEIrByaPy1DHOviNpo/GQRWDi2ynT8tQxzr4jaaP9nO91PjpZs/RiV1ApoImz956SYxCKycP3RGlPYGX5g/Qj7o2az6nD8g0m9fB86ZP6YKRiV1Apo/XwfOGVHamz9TliGOdXGbP/KwUGuad5w/bHh6pSxDnD/QRNjw9EqZP18HzhlR2ps/zF1LyAc9mz8QejarPlebP18HzhlR2ps/XCBB8WPMnT+vlGWIY12cPzm0yHa+n5o//yH99nXgnD+amZmZmZmZP5LLf0i/fZ0/XwfOGVHamz8ZBFYOLbKdP1wgQfFjzJ0/iUFg5dAimz990LNZ9bmaP588LNSa5p0/r5RliGNdnD+8BRIUP8acP18HzhlR2ps/hlrTvOMUnT8DCYofY+6aP6+UZYhjXZw/bHh6pSxDnD9CPujZrPqcP6MjufyH9Js/FR3J5T+knz/MXUvIBz2bPwMJih9j7po/bHh6pSxDnD/SAN4CCYqfPwyTqYJRSZ0/+n5qvHSTmD+ze/KwUGuaP8Dsnjws1Jo/Y+5aQj7omT82zTtO0ZGcPylcj8L1KJw/U5YhjnVxmz82zTtO0ZGcP1OWIY51cZs/r5RliGNdnD/V52or9pedP9IA3gIJip8/DJOpglFJnT82zTtO0ZGcP5LLf0i/fZ0//yH99nXgnD8Mk6mCUUmdPwyTqYJRSZ0/kst/SL99nT8DCYofY+6aP6+UZYhjXZw/yXa+nxovnT956SYxCKycP1Z9rrZif5k/mpmZmZmZmT/mP6Tfvg6cP1OWIY51cZs/hlrTvOMUnT+vlGWIY12cP7wFEhQ/xpw/nzws1JrmnT9TliGOdXGbP8Dsnjws1Jo/DJOpglFJnT/vycNCrWmeP0YldQKaCJs/rK3YX3ZPnj/2l92Th4WaP/8h/fZ14Jw/0gDeAgmKnz+jI7n8h/SbP/aX3ZOHhZo/eekmMQisnD/D0ytlGeKYPwMJih9j7po/INJvXwfOmT+jI7n8h/SbP18HzhlR2ps/HOviNhrAmz+fPCzUmuadP/KwUGuad5w/RiV1ApoImz9LyAc9m1WfP2iR7Xw/NZ4/ObTIdr6fmj990LNZ9bmaP1OWIY51cZs/8rBQa5p3nD/Jdr6fGi+dPxzr4jYawJs/Qj7o2az6nD/A7J48LNSaPxNhw9MrZZk/dQKaCBuenj8c6+I2GsCbPwyTqYJRSZ0/EHo2qz5Xmz990LNZ9bmaPxB6Nqs+V5s/Vn2utmJ/mT8pXI/C9SicP4lBYOXQIps/",
          "dtype": "f8"
         },
         "x0": " ",
         "xaxis": "x",
         "y0": " ",
         "yaxis": "y"
        },
        {
         "alignmentgroup": "True",
         "hovertemplate": "content_type=blog_post<br>punctuation_ratio=%{x}<extra></extra>",
         "legendgroup": "blog_post",
         "marker": {
          "color": "#FFA15A"
         },
         "name": "blog_post",
         "notched": false,
         "offsetgroup": "blog_post",
         "orientation": "h",
         "showlegend": true,
         "type": "box",
         "x": {
          "bdata": "U5YhjnVxmz9fB84ZUdqbPxkEVg4tsp0/9pfdk4eFmj8DCYofY+6aP0I+6Nms+pw/wOyePCzUmj8c6+I2GsCbPyV1ApoIG54/bHh6pSxDnD/Jdr6fGi+dP1OWIY51cZs/EHo2qz5Xmz//If32deCcPy1DHOviNpo/1edqK/aXnT9seHqlLEOcPzm0yHa+n5o/uB6F61G4nj990LNZ9bmaP4Za07zjFJ0/XwfOGVHamz/iWBe30QCePy1DHOviNpo/bHh6pSxDnD+GWtO84xSdP4JzRpT2Bp8/iUFg5dAimz8QejarPlebP8l2vp8aL50/dQKaCBuenj/A7J48LNSaPxB6Nqs+V5s/RiV1ApoImz+vlGWIY12cPwMJih9j7po//yH99nXgnD8DCYofY+6aP588LNSa5p0/XwfOGVHamz9TliGOdXGbP/8h/fZ14Jw/HOviNhrAmz/D0ytlGeKYP0I+6Nms+pw/iUFg5dAimz/A7J48LNSaP6YKRiV1Apo/ObTIdr6fmj8Rx7q4jQagP18HzhlR2ps/U5YhjnVxmz9TliGOdXGbP5ayDHGsi5s/hlrTvOMUnT/ZzvdT46WbPyV1ApoIG54/AwmKH2Pumj/A7J48LNSaP9nO91PjpZs/LUMc6+I2mj+vlGWIY12cP3BfB84ZUZo/kst/SL99nT/pJjEIrByaPy1DHOviNpo/zF1LyAc9mz+amZmZmZmZP9nO91PjpZs/Ns07TtGRnD9seHqlLEOcPwyTqYJRSZ0/Qj7o2az6nD/vycNCrWmeP4JzRpT2Bp8/9pfdk4eFmj+GWtO84xSdP3BfB84ZUZo/kst/SL99nT9cIEHxY8ydP7N78rBQa5o/GQRWDi2ynT9GJXUCmgibP5LLf0i/fZ0/DJOpglFJnT+Sy39Iv32dP9nO91PjpZs/ObTIdr6fmj/ZzvdT46WbPzJVMCqpE6A/EHo2qz5Xmz8c6+I2GsCbP+kmMQisHJo/lrIMcayLmz9cIEHxY8ydPxzr4jYawJs/5j+k374OnD/vycNCrWmePzbNO07RkZw/8rBQa5p3nD/iWBe30QCePxzr4jYawJs/JXUCmggbnj+JQWDl0CKbPyDSb18Hzpk/XwfOGVHamz9fB84ZUdqbP4lBYOXQIps/78nDQq1pnj85tMh2vp+aP2PuWkI+6Jk/KVyPwvUonD/A7J48LNSaP4lBYOXQIps/Ns07TtGRnD8DCYofY+6aP2PuWkI+6Jk/JXUCmggbnj/mP6Tfvg6cP/KwUGuad5w/WDm0yHa+nz+WsgxxrIubP+JYF7fRAJ4/T6+UZYhjnT990LNZ9bmaPyDSb18Hzpk/CKwcWmQ7nz9CPujZrPqcP/s6cM6I0p4/ObTIdr6fmj/A7J48LNSaPxB6Nqs+V5s/pgpGJXUCmj/2l92Th4WaP0I+6Nms+pw/r5RliGNdnD8QejarPlebPzbNO07RkZw/U5YhjnVxmz+8BRIUP8acP8l2vp8aL50/KVyPwvUonD9cIEHxY8ydP0YldQKaCJs/r5RliGNdnD8pXI/C9SicP7N78rBQa5o/T6+UZYhjnT9TliGOdXGbPw==",
          "dtype": "f8"
         },
         "x0": " ",
         "xaxis": "x",
         "y0": " ",
         "yaxis": "y"
        },
        {
         "alignmentgroup": "True",
         "hovertemplate": "content_type=article<br>punctuation_ratio=%{x}<extra></extra>",
         "legendgroup": "article",
         "marker": {
          "color": "#19d3f3"
         },
         "name": "article",
         "notched": false,
         "offsetgroup": "article",
         "orientation": "h",
         "showlegend": true,
         "type": "box",
         "x": {
          "bdata": "pgpGJXUCmj+GWtO84xSdP8l2vp8aL50/78nDQq1pnj9GJXUCmgibP6yt2F92T54/1edqK/aXnT+vlGWIY12cP0I+6Nms+pw/5j+k374OnD/2l92Th4WaPwMJih9j7po/6SYxCKwcmj8g0m9fB86ZP2PuWkI+6Jk/6SYxCKwcmj8g0m9fB86ZP40o7Q2+MJk/vAUSFD/GnD9oke18PzWePz2bVZ+rrZg/ObTIdr6fmj+GWtO84xSdP1OWIY51cZs/E2HD0ytlmT/QRNjw9EqZP9Xnaiv2l50/9pfdk4eFmj89m1Wfq62YPyV1ApoIG54/Ns07TtGRnD9Pr5RliGOdPwMJih9j7po/dQKaCBuenj8Mk6mCUUmdP2x4eqUsQ5w/oyO5/If0mz+ze/KwUGuaP33Qs1n1uZo/5j+k374OnD+fPCzUmuadP1wgQfFjzJ0/+zpwzojSnj8ldQKaCBueP4lBYOXQIps/Qj7o2az6nD+ze/KwUGuaP921hHzQs5k/zF1LyAc9mz9cIEHxY8ydP6MjufyH9Js/eekmMQisnD8pXI/C9SicP0YldQKaCJs/cF8HzhlRmj/Jdr6fGi+dP95xio7k8p8/3nGKjuTynz8DCYofY+6aP+Y/pN++Dpw/EHo2qz5Xmz8g0m9fB86ZP8Dsnjws1Jo/HOviNhrAmz+GWtO84xSdP0I+6Nms+pw/yXa+nxovnT9CPujZrPqcP9Xnaiv2l50/mpmZmZmZmT/pJjEIrByaPxzr4jYawJs/vAUSFD/GnD/V52or9pedP33Qs1n1uZo/kst/SL99nT/ZzvdT46WbP9nO91PjpZs/5j+k374OnD+8BRIUP8acP0oMAiuHFpk/RiV1ApoImz8pXI/C9SicP8l2vp8aL50/gLdAguLHmD9j7lpCPuiZP9BE2PD0Spk/T6+UZYhjnT+WsgxxrIubP6+UZYhjXZw/0ETY8PRKmT/A7J48LNSaP4lBYOXQIps/r5RliGNdnD+Sy39Iv32dP18HzhlR2ps/3bWEfNCzmT/ysFBrmnecP9nO91PjpZs/HOviNhrAmz9Wfa62Yn+ZP2x4eqUsQ5w/U5YhjnVxmz/mP6Tfvg6cPzbNO07RkZw/5j+k374OnD9seHqlLEOcP2x4eqUsQ5w//yH99nXgnD990LNZ9bmaP+Y/pN++Dpw/DJOpglFJnT956SYxCKycPxzr4jYawJs/9pfdk4eFmj/dtYR80LOZP7wFEhQ/xpw/3nGKjuTynz/dtYR80LOZPxB6Nqs+V5s/RiV1ApoImz9n1edqK/aXPxB6Nqs+V5s/8rBQa5p3nD/ZzvdT46WbPyDSb18Hzpk/U5YhjnVxmz/MXUvIBz2bP9nO91PjpZs/DJOpglFJnT8pXI/C9SicPxzr4jYawJs/mpmZmZmZmT9CPujZrPqcP7wFEhQ/xpw/DJOpglFJnT+Sy39Iv32dP33Qs1n1uZo/oyO5/If0mz9oke18PzWePzm0yHa+n5o/MuauJeSDnj8=",
          "dtype": "f8"
         },
         "x0": " ",
         "xaxis": "x",
         "y0": " ",
         "yaxis": "y"
        },
        {
         "alignmentgroup": "True",
         "hovertemplate": "content_type=product_review<br>punctuation_ratio=%{x}<extra></extra>",
         "legendgroup": "product_review",
         "marker": {
          "color": "#FF6692"
         },
         "name": "product_review",
         "notched": false,
         "offsetgroup": "product_review",
         "orientation": "h",
         "showlegend": true,
         "type": "box",
         "x": {
          "bdata": "lrIMcayLmz//If32deCcP5ayDHGsi5s/lrIMcayLmz+ze/KwUGuaP6+UZYhjXZw/U5YhjnVxmz85tMh2vp+aP+JYF7fRAJ4//yH99nXgnD956SYxCKycP6+UZYhjXZw/DJOpglFJnT82zTtO0ZGcPyDSb18Hzpk/LUMc6+I2mj8ZBFYOLbKdP+kmMQisHJo/KVyPwvUonD+JQWDl0CKbPxB6Nqs+V5s/KVyPwvUonD+WsgxxrIubPyDSb18Hzpk/lrIMcayLmz8Mk6mCUUmdP9IA3gIJip8/nzws1JrmnT8Mk6mCUUmdP588LNSa5p0/2c73U+Olmz/A7J48LNSaP9IA3gIJip8/r5RliGNdnD+GWtO84xSdPz9XW7G/7J4/Y+5aQj7omT8DCYofY+6aP1OWIY51cZs/s3vysFBrmj9CPujZrPqcP7N78rBQa5o/yXa+nxovnT8pXI/C9SicP3npJjEIrJw/MuauJeSDnj990LNZ9bmaP/p+arx0k5g/GQRWDi2ynT+ze/KwUGuaP5ayDHGsi5s/ObTIdr6fmj9seHqlLEOcP6MjufyH9Js/HOviNhrAmz9fB84ZUdqbP0YldQKaCJs/2c73U+Olmz/2l92Th4WaPxNhw9MrZZk/HOviNhrAmz/ysFBrmnecPzm0yHa+n5o/Ns07TtGRnD9j7lpCPuiZP33Qs1n1uZo/5j+k374OnD9oke18PzWeP2PuWkI+6Jk/GQRWDi2ynT+mCkYldQKaP6MjufyH9Js/eekmMQisnD9cIEHxY8ydP5ayDHGsi5s/XCBB8WPMnT+vlGWIY12cP9nO91PjpZs/HOviNhrAmz990LNZ9bmaPxzr4jYawJs/fdCzWfW5mj/ecYqO5PKfP/KwUGuad5w/s3vysFBrmj+jI7n8h/SbPxkEVg4tsp0/Qj7o2az6nD91ApoIG56ePzbNO07RkZw/U5YhjnVxmz8tQxzr4jaaP1Z9rrZif5k/bHh6pSxDnD82zTtO0ZGcP+Y/pN++Dpw/ObTIdr6fmj/2l92Th4WaP8l2vp8aL50/GQRWDi2ynT9CPujZrPqcP+Y/pN++Dpw/2c73U+Olmz/ysFBrmnecP33Qs1n1uZo/EHo2qz5Xmz85tMh2vp+aPzLmriXkg54/fdCzWfW5mj/MXUvIBz2bP4lBYOXQIps/JXUCmggbnj/A7J48LNSaPxB6Nqs+V5s/GQRWDi2ynT9seHqlLEOcP0+vlGWIY50/Ns07TtGRnD8c6+I2GsCbPz9XW7G/7J4/lrIMcayLmz8pXI/C9SicPwyTqYJRSZ0/nzws1JrmnT/QRNjw9EqZPw==",
          "dtype": "f8"
         },
         "x0": " ",
         "xaxis": "x",
         "y0": " ",
         "yaxis": "y"
        },
        {
         "alignmentgroup": "True",
         "hovertemplate": "content_type=social_media<br>punctuation_ratio=%{x}<extra></extra>",
         "legendgroup": "social_media",
         "marker": {
          "color": "#B6E880"
         },
         "name": "social_media",
         "notched": false,
         "offsetgroup": "social_media",
         "orientation": "h",
         "showlegend": true,
         "type": "box",
         "x": {
          "bdata": "9pfdk4eFmj/QRNjw9EqZPxkEVg4tsp0/hlrTvOMUnT8c6+I2GsCbP1OWIY51cZs/gnNGlPYGnz91ApoIG56eP1Z9rrZif5k/ObTIdr6fmj+amZmZmZmZP0vIBz2bVZ8/Ns07TtGRnD91ApoIG56eP7N78rBQa5o/DJOpglFJnT//If32deCcPzm0yHa+n5o/T6+UZYhjnT90RpT2Bl+YP4JzRpT2Bp8/3bWEfNCzmT+4HoXrUbieP2PuWkI+6Jk/9pfdk4eFmj+ze/KwUGuaPy1DHOviNpo/ObTIdr6fmj9seHqlLEOcP/aX3ZOHhZo/FR3J5T+knz990LNZ9bmaPxzr4jYawJs/3nGKjuTynz//If32deCcP1Z9rrZif5k/Qj7o2az6nD8=",
          "dtype": "f8"
         },
         "x0": " ",
         "xaxis": "x",
         "y0": " ",
         "yaxis": "y"
        }
       ],
       "layout": {
        "boxmode": "group",
        "legend": {
         "title": {
          "text": "content_type"
         },
         "tracegroupgap": 0
        },
        "plot_bgcolor": "black",
        "template": {
         "data": {
          "bar": [
           {
            "error_x": {
             "color": "#2a3f5f"
            },
            "error_y": {
             "color": "#2a3f5f"
            },
            "marker": {
             "line": {
              "color": "#E5ECF6",
              "width": 0.5
             },
             "pattern": {
              "fillmode": "overlay",
              "size": 10,
              "solidity": 0.2
             }
            },
            "type": "bar"
           }
          ],
          "barpolar": [
           {
            "marker": {
             "line": {
              "color": "#E5ECF6",
              "width": 0.5
             },
             "pattern": {
              "fillmode": "overlay",
              "size": 10,
              "solidity": 0.2
             }
            },
            "type": "barpolar"
           }
          ],
          "carpet": [
           {
            "aaxis": {
             "endlinecolor": "#2a3f5f",
             "gridcolor": "white",
             "linecolor": "white",
             "minorgridcolor": "white",
             "startlinecolor": "#2a3f5f"
            },
            "baxis": {
             "endlinecolor": "#2a3f5f",
             "gridcolor": "white",
             "linecolor": "white",
             "minorgridcolor": "white",
             "startlinecolor": "#2a3f5f"
            },
            "type": "carpet"
           }
          ],
          "choropleth": [
           {
            "colorbar": {
             "outlinewidth": 0,
             "ticks": ""
            },
            "type": "choropleth"
           }
          ],
          "contour": [
           {
            "colorbar": {
             "outlinewidth": 0,
             "ticks": ""
            },
            "colorscale": [
             [
              0,
              "#0d0887"
             ],
             [
              0.1111111111111111,
              "#46039f"
             ],
             [
              0.2222222222222222,
              "#7201a8"
             ],
             [
              0.3333333333333333,
              "#9c179e"
             ],
             [
              0.4444444444444444,
              "#bd3786"
             ],
             [
              0.5555555555555556,
              "#d8576b"
             ],
             [
              0.6666666666666666,
              "#ed7953"
             ],
             [
              0.7777777777777778,
              "#fb9f3a"
             ],
             [
              0.8888888888888888,
              "#fdca26"
             ],
             [
              1,
              "#f0f921"
             ]
            ],
            "type": "contour"
           }
          ],
          "contourcarpet": [
           {
            "colorbar": {
             "outlinewidth": 0,
             "ticks": ""
            },
            "type": "contourcarpet"
           }
          ],
          "heatmap": [
           {
            "colorbar": {
             "outlinewidth": 0,
             "ticks": ""
            },
            "colorscale": [
             [
              0,
              "#0d0887"
             ],
             [
              0.1111111111111111,
              "#46039f"
             ],
             [
              0.2222222222222222,
              "#7201a8"
             ],
             [
              0.3333333333333333,
              "#9c179e"
             ],
             [
              0.4444444444444444,
              "#bd3786"
             ],
             [
              0.5555555555555556,
              "#d8576b"
             ],
             [
              0.6666666666666666,
              "#ed7953"
             ],
             [
              0.7777777777777778,
              "#fb9f3a"
             ],
             [
              0.8888888888888888,
              "#fdca26"
             ],
             [
              1,
              "#f0f921"
             ]
            ],
            "type": "heatmap"
           }
          ],
          "histogram": [
           {
            "marker": {
             "pattern": {
              "fillmode": "overlay",
              "size": 10,
              "solidity": 0.2
             }
            },
            "type": "histogram"
           }
          ],
          "histogram2d": [
           {
            "colorbar": {
             "outlinewidth": 0,
             "ticks": ""
            },
            "colorscale": [
             [
              0,
              "#0d0887"
             ],
             [
              0.1111111111111111,
              "#46039f"
             ],
             [
              0.2222222222222222,
              "#7201a8"
             ],
             [
              0.3333333333333333,
              "#9c179e"
             ],
             [
              0.4444444444444444,
              "#bd3786"
             ],
             [
              0.5555555555555556,
              "#d8576b"
             ],
             [
              0.6666666666666666,
              "#ed7953"
             ],
             [
              0.7777777777777778,
              "#fb9f3a"
             ],
             [
              0.8888888888888888,
              "#fdca26"
             ],
             [
              1,
              "#f0f921"
             ]
            ],
            "type": "histogram2d"
           }
          ],
          "histogram2dcontour": [
           {
            "colorbar": {
             "outlinewidth": 0,
             "ticks": ""
            },
            "colorscale": [
             [
              0,
              "#0d0887"
             ],
             [
              0.1111111111111111,
              "#46039f"
             ],
             [
              0.2222222222222222,
              "#7201a8"
             ],
             [
              0.3333333333333333,
              "#9c179e"
             ],
             [
              0.4444444444444444,
              "#bd3786"
             ],
             [
              0.5555555555555556,
              "#d8576b"
             ],
             [
              0.6666666666666666,
              "#ed7953"
             ],
             [
              0.7777777777777778,
              "#fb9f3a"
             ],
             [
              0.8888888888888888,
              "#fdca26"
             ],
             [
              1,
              "#f0f921"
             ]
            ],
            "type": "histogram2dcontour"
           }
          ],
          "mesh3d": [
           {
            "colorbar": {
             "outlinewidth": 0,
             "ticks": ""
            },
            "type": "mesh3d"
           }
          ],
          "parcoords": [
           {
            "line": {
             "colorbar": {
              "outlinewidth": 0,
              "ticks": ""
             }
            },
            "type": "parcoords"
           }
          ],
          "pie": [
           {
            "automargin": true,
            "type": "pie"
           }
          ],
          "scatter": [
           {
            "fillpattern": {
             "fillmode": "overlay",
             "size": 10,
             "solidity": 0.2
            },
            "type": "scatter"
           }
          ],
          "scatter3d": [
           {
            "line": {
             "colorbar": {
              "outlinewidth": 0,
              "ticks": ""
             }
            },
            "marker": {
             "colorbar": {
              "outlinewidth": 0,
              "ticks": ""
             }
            },
            "type": "scatter3d"
           }
          ],
          "scattercarpet": [
           {
            "marker": {
             "colorbar": {
              "outlinewidth": 0,
              "ticks": ""
             }
            },
            "type": "scattercarpet"
           }
          ],
          "scattergeo": [
           {
            "marker": {
             "colorbar": {
              "outlinewidth": 0,
              "ticks": ""
             }
            },
            "type": "scattergeo"
           }
          ],
          "scattergl": [
           {
            "marker": {
             "colorbar": {
              "outlinewidth": 0,
              "ticks": ""
             }
            },
            "type": "scattergl"
           }
          ],
          "scattermap": [
           {
            "marker": {
             "colorbar": {
              "outlinewidth": 0,
              "ticks": ""
             }
            },
            "type": "scattermap"
           }
          ],
          "scattermapbox": [
           {
            "marker": {
             "colorbar": {
              "outlinewidth": 0,
              "ticks": ""
             }
            },
            "type": "scattermapbox"
           }
          ],
          "scatterpolar": [
           {
            "marker": {
             "colorbar": {
              "outlinewidth": 0,
              "ticks": ""
             }
            },
            "type": "scatterpolar"
           }
          ],
          "scatterpolargl": [
           {
            "marker": {
             "colorbar": {
              "outlinewidth": 0,
              "ticks": ""
             }
            },
            "type": "scatterpolargl"
           }
          ],
          "scatterternary": [
           {
            "marker": {
             "colorbar": {
              "outlinewidth": 0,
              "ticks": ""
             }
            },
            "type": "scatterternary"
           }
          ],
          "surface": [
           {
            "colorbar": {
             "outlinewidth": 0,
             "ticks": ""
            },
            "colorscale": [
             [
              0,
              "#0d0887"
             ],
             [
              0.1111111111111111,
              "#46039f"
             ],
             [
              0.2222222222222222,
              "#7201a8"
             ],
             [
              0.3333333333333333,
              "#9c179e"
             ],
             [
              0.4444444444444444,
              "#bd3786"
             ],
             [
              0.5555555555555556,
              "#d8576b"
             ],
             [
              0.6666666666666666,
              "#ed7953"
             ],
             [
              0.7777777777777778,
              "#fb9f3a"
             ],
             [
              0.8888888888888888,
              "#fdca26"
             ],
             [
              1,
              "#f0f921"
             ]
            ],
            "type": "surface"
           }
          ],
          "table": [
           {
            "cells": {
             "fill": {
              "color": "#EBF0F8"
             },
             "line": {
              "color": "white"
             }
            },
            "header": {
             "fill": {
              "color": "#C8D4E3"
             },
             "line": {
              "color": "white"
             }
            },
            "type": "table"
           }
          ]
         },
         "layout": {
          "annotationdefaults": {
           "arrowcolor": "#2a3f5f",
           "arrowhead": 0,
           "arrowwidth": 1
          },
          "autotypenumbers": "strict",
          "coloraxis": {
           "colorbar": {
            "outlinewidth": 0,
            "ticks": ""
           }
          },
          "colorscale": {
           "diverging": [
            [
             0,
             "#8e0152"
            ],
            [
             0.1,
             "#c51b7d"
            ],
            [
             0.2,
             "#de77ae"
            ],
            [
             0.3,
             "#f1b6da"
            ],
            [
             0.4,
             "#fde0ef"
            ],
            [
             0.5,
             "#f7f7f7"
            ],
            [
             0.6,
             "#e6f5d0"
            ],
            [
             0.7,
             "#b8e186"
            ],
            [
             0.8,
             "#7fbc41"
            ],
            [
             0.9,
             "#4d9221"
            ],
            [
             1,
             "#276419"
            ]
           ],
           "sequential": [
            [
             0,
             "#0d0887"
            ],
            [
             0.1111111111111111,
             "#46039f"
            ],
            [
             0.2222222222222222,
             "#7201a8"
            ],
            [
             0.3333333333333333,
             "#9c179e"
            ],
            [
             0.4444444444444444,
             "#bd3786"
            ],
            [
             0.5555555555555556,
             "#d8576b"
            ],
            [
             0.6666666666666666,
             "#ed7953"
            ],
            [
             0.7777777777777778,
             "#fb9f3a"
            ],
            [
             0.8888888888888888,
             "#fdca26"
            ],
            [
             1,
             "#f0f921"
            ]
           ],
           "sequentialminus": [
            [
             0,
             "#0d0887"
            ],
            [
             0.1111111111111111,
             "#46039f"
            ],
            [
             0.2222222222222222,
             "#7201a8"
            ],
            [
             0.3333333333333333,
             "#9c179e"
            ],
            [
             0.4444444444444444,
             "#bd3786"
            ],
            [
             0.5555555555555556,
             "#d8576b"
            ],
            [
             0.6666666666666666,
             "#ed7953"
            ],
            [
             0.7777777777777778,
             "#fb9f3a"
            ],
            [
             0.8888888888888888,
             "#fdca26"
            ],
            [
             1,
             "#f0f921"
            ]
           ]
          },
          "colorway": [
           "#636efa",
           "#EF553B",
           "#00cc96",
           "#ab63fa",
           "#FFA15A",
           "#19d3f3",
           "#FF6692",
           "#B6E880",
           "#FF97FF",
           "#FECB52"
          ],
          "font": {
           "color": "#2a3f5f"
          },
          "geo": {
           "bgcolor": "white",
           "lakecolor": "white",
           "landcolor": "#E5ECF6",
           "showlakes": true,
           "showland": true,
           "subunitcolor": "white"
          },
          "hoverlabel": {
           "align": "left"
          },
          "hovermode": "closest",
          "mapbox": {
           "style": "light"
          },
          "paper_bgcolor": "white",
          "plot_bgcolor": "#E5ECF6",
          "polar": {
           "angularaxis": {
            "gridcolor": "white",
            "linecolor": "white",
            "ticks": ""
           },
           "bgcolor": "#E5ECF6",
           "radialaxis": {
            "gridcolor": "white",
            "linecolor": "white",
            "ticks": ""
           }
          },
          "scene": {
           "xaxis": {
            "backgroundcolor": "#E5ECF6",
            "gridcolor": "white",
            "gridwidth": 2,
            "linecolor": "white",
            "showbackground": true,
            "ticks": "",
            "zerolinecolor": "white"
           },
           "yaxis": {
            "backgroundcolor": "#E5ECF6",
            "gridcolor": "white",
            "gridwidth": 2,
            "linecolor": "white",
            "showbackground": true,
            "ticks": "",
            "zerolinecolor": "white"
           },
           "zaxis": {
            "backgroundcolor": "#E5ECF6",
            "gridcolor": "white",
            "gridwidth": 2,
            "linecolor": "white",
            "showbackground": true,
            "ticks": "",
            "zerolinecolor": "white"
           }
          },
          "shapedefaults": {
           "line": {
            "color": "#2a3f5f"
           }
          },
          "ternary": {
           "aaxis": {
            "gridcolor": "white",
            "linecolor": "white",
            "ticks": ""
           },
           "baxis": {
            "gridcolor": "white",
            "linecolor": "white",
            "ticks": ""
           },
           "bgcolor": "#E5ECF6",
           "caxis": {
            "gridcolor": "white",
            "linecolor": "white",
            "ticks": ""
           }
          },
          "title": {
           "x": 0.05
          },
          "xaxis": {
           "automargin": true,
           "gridcolor": "white",
           "linecolor": "white",
           "ticks": "",
           "title": {
            "standoff": 15
           },
           "zerolinecolor": "white",
           "zerolinewidth": 2
          },
          "yaxis": {
           "automargin": true,
           "gridcolor": "white",
           "linecolor": "white",
           "ticks": "",
           "title": {
            "standoff": 15
           },
           "zerolinecolor": "white",
           "zerolinewidth": 2
          }
         }
        },
        "title": {
         "text": "Average Punctuation Ratio across different content types"
        },
        "xaxis": {
         "anchor": "y",
         "domain": [
          0,
          1
         ],
         "title": {
          "text": "Punctuation Ratio "
         }
        },
        "yaxis": {
         "anchor": "x",
         "domain": [
          0,
          1
         ],
         "title": {
          "text": "Count"
         }
        }
       }
      }
     },
     "metadata": {},
     "output_type": "display_data"
    }
   ],
   "source": [
    "fig = px.box(df , x = 'punctuation_ratio' , color='content_type' , title= 'Average Punctuation Ratio across different content types')\n",
    "\n",
    "fig.update_layout(xaxis_title='Punctuation Ratio ', yaxis_title='Count')\n",
    "\n",
    "fig.update_layout(plot_bgcolor='black')\n",
    "fig.show()"
   ]
  },
  {
   "cell_type": "markdown",
   "id": "8fa01a84",
   "metadata": {},
   "source": [
    "- **Overall level:** Punctuation ratios cluster tightly for all content types, roughly in the 2.6%–2.9% range. Differences in medians are small, indicating broadly similar punctuation density across genres.\n",
    "\n",
    "- **Variability:**\n",
    "\n",
    "  - **Highest variability:** social_media (widest IQR and longest whiskers), reflecting inconsistent, bursty punctuation use.\n",
    "  - **Moderate variability:** creative_writing and blog_post (occasional punctuation‑heavy outliers).\n",
    "  - **More consistent:** news_article, article, academic_paper, product_review, essay (tighter IQRs), suggesting steadier editorial style.\n",
    "\n",
    "**Extremes:** The global spread spans about 0.023–0.031. Social_media and creative_writing reach the upper extremes; academic_paper and essay reach the lower extremes."
   ]
  },
  {
   "cell_type": "markdown",
   "id": "c96db6d4",
   "metadata": {},
   "source": [
    "### **Q-Are AI-generated texts easier or harder to read based on flesch_reading_ease?**"
   ]
  },
  {
   "cell_type": "code",
   "execution_count": 14,
   "id": "53454b69",
   "metadata": {},
   "outputs": [
    {
     "data": {
      "application/vnd.plotly.v1+json": {
       "config": {
        "plotlyServerURL": "https://plot.ly"
       },
       "data": [
        {
         "alignmentgroup": "True",
         "hovertemplate": "label=1<br>flesch_reading_ease=%{x}<extra></extra>",
         "legendgroup": "1",
         "marker": {
          "color": "#636efa"
         },
         "name": "1",
         "notched": false,
         "offsetgroup": "1",
         "orientation": "h",
         "showlegend": true,
         "type": "box",
         "x": {
          "bdata": "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",
          "dtype": "f8"
         },
         "x0": " ",
         "xaxis": "x",
         "y0": " ",
         "yaxis": "y"
        },
        {
         "alignmentgroup": "True",
         "hovertemplate": "label=0<br>flesch_reading_ease=%{x}<extra></extra>",
         "legendgroup": "0",
         "marker": {
          "color": "#EF553B"
         },
         "name": "0",
         "notched": false,
         "offsetgroup": "0",
         "orientation": "h",
         "showlegend": true,
         "type": "box",
         "x": {
          "bdata": "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",
          "dtype": "f8"
         },
         "x0": " ",
         "xaxis": "x",
         "y0": " ",
         "yaxis": "y"
        }
       ],
       "layout": {
        "boxmode": "group",
        "legend": {
         "title": {
          "text": "label"
         },
         "tracegroupgap": 0
        },
        "template": {
         "data": {
          "bar": [
           {
            "error_x": {
             "color": "#2a3f5f"
            },
            "error_y": {
             "color": "#2a3f5f"
            },
            "marker": {
             "line": {
              "color": "#E5ECF6",
              "width": 0.5
             },
             "pattern": {
              "fillmode": "overlay",
              "size": 10,
              "solidity": 0.2
             }
            },
            "type": "bar"
           }
          ],
          "barpolar": [
           {
            "marker": {
             "line": {
              "color": "#E5ECF6",
              "width": 0.5
             },
             "pattern": {
              "fillmode": "overlay",
              "size": 10,
              "solidity": 0.2
             }
            },
            "type": "barpolar"
           }
          ],
          "carpet": [
           {
            "aaxis": {
             "endlinecolor": "#2a3f5f",
             "gridcolor": "white",
             "linecolor": "white",
             "minorgridcolor": "white",
             "startlinecolor": "#2a3f5f"
            },
            "baxis": {
             "endlinecolor": "#2a3f5f",
             "gridcolor": "white",
             "linecolor": "white",
             "minorgridcolor": "white",
             "startlinecolor": "#2a3f5f"
            },
            "type": "carpet"
           }
          ],
          "choropleth": [
           {
            "colorbar": {
             "outlinewidth": 0,
             "ticks": ""
            },
            "type": "choropleth"
           }
          ],
          "contour": [
           {
            "colorbar": {
             "outlinewidth": 0,
             "ticks": ""
            },
            "colorscale": [
             [
              0,
              "#0d0887"
             ],
             [
              0.1111111111111111,
              "#46039f"
             ],
             [
              0.2222222222222222,
              "#7201a8"
             ],
             [
              0.3333333333333333,
              "#9c179e"
             ],
             [
              0.4444444444444444,
              "#bd3786"
             ],
             [
              0.5555555555555556,
              "#d8576b"
             ],
             [
              0.6666666666666666,
              "#ed7953"
             ],
             [
              0.7777777777777778,
              "#fb9f3a"
             ],
             [
              0.8888888888888888,
              "#fdca26"
             ],
             [
              1,
              "#f0f921"
             ]
            ],
            "type": "contour"
           }
          ],
          "contourcarpet": [
           {
            "colorbar": {
             "outlinewidth": 0,
             "ticks": ""
            },
            "type": "contourcarpet"
           }
          ],
          "heatmap": [
           {
            "colorbar": {
             "outlinewidth": 0,
             "ticks": ""
            },
            "colorscale": [
             [
              0,
              "#0d0887"
             ],
             [
              0.1111111111111111,
              "#46039f"
             ],
             [
              0.2222222222222222,
              "#7201a8"
             ],
             [
              0.3333333333333333,
              "#9c179e"
             ],
             [
              0.4444444444444444,
              "#bd3786"
             ],
             [
              0.5555555555555556,
              "#d8576b"
             ],
             [
              0.6666666666666666,
              "#ed7953"
             ],
             [
              0.7777777777777778,
              "#fb9f3a"
             ],
             [
              0.8888888888888888,
              "#fdca26"
             ],
             [
              1,
              "#f0f921"
             ]
            ],
            "type": "heatmap"
           }
          ],
          "histogram": [
           {
            "marker": {
             "pattern": {
              "fillmode": "overlay",
              "size": 10,
              "solidity": 0.2
             }
            },
            "type": "histogram"
           }
          ],
          "histogram2d": [
           {
            "colorbar": {
             "outlinewidth": 0,
             "ticks": ""
            },
            "colorscale": [
             [
              0,
              "#0d0887"
             ],
             [
              0.1111111111111111,
              "#46039f"
             ],
             [
              0.2222222222222222,
              "#7201a8"
             ],
             [
              0.3333333333333333,
              "#9c179e"
             ],
             [
              0.4444444444444444,
              "#bd3786"
             ],
             [
              0.5555555555555556,
              "#d8576b"
             ],
             [
              0.6666666666666666,
              "#ed7953"
             ],
             [
              0.7777777777777778,
              "#fb9f3a"
             ],
             [
              0.8888888888888888,
              "#fdca26"
             ],
             [
              1,
              "#f0f921"
             ]
            ],
            "type": "histogram2d"
           }
          ],
          "histogram2dcontour": [
           {
            "colorbar": {
             "outlinewidth": 0,
             "ticks": ""
            },
            "colorscale": [
             [
              0,
              "#0d0887"
             ],
             [
              0.1111111111111111,
              "#46039f"
             ],
             [
              0.2222222222222222,
              "#7201a8"
             ],
             [
              0.3333333333333333,
              "#9c179e"
             ],
             [
              0.4444444444444444,
              "#bd3786"
             ],
             [
              0.5555555555555556,
              "#d8576b"
             ],
             [
              0.6666666666666666,
              "#ed7953"
             ],
             [
              0.7777777777777778,
              "#fb9f3a"
             ],
             [
              0.8888888888888888,
              "#fdca26"
             ],
             [
              1,
              "#f0f921"
             ]
            ],
            "type": "histogram2dcontour"
           }
          ],
          "mesh3d": [
           {
            "colorbar": {
             "outlinewidth": 0,
             "ticks": ""
            },
            "type": "mesh3d"
           }
          ],
          "parcoords": [
           {
            "line": {
             "colorbar": {
              "outlinewidth": 0,
              "ticks": ""
             }
            },
            "type": "parcoords"
           }
          ],
          "pie": [
           {
            "automargin": true,
            "type": "pie"
           }
          ],
          "scatter": [
           {
            "fillpattern": {
             "fillmode": "overlay",
             "size": 10,
             "solidity": 0.2
            },
            "type": "scatter"
           }
          ],
          "scatter3d": [
           {
            "line": {
             "colorbar": {
              "outlinewidth": 0,
              "ticks": ""
             }
            },
            "marker": {
             "colorbar": {
              "outlinewidth": 0,
              "ticks": ""
             }
            },
            "type": "scatter3d"
           }
          ],
          "scattercarpet": [
           {
            "marker": {
             "colorbar": {
              "outlinewidth": 0,
              "ticks": ""
             }
            },
            "type": "scattercarpet"
           }
          ],
          "scattergeo": [
           {
            "marker": {
             "colorbar": {
              "outlinewidth": 0,
              "ticks": ""
             }
            },
            "type": "scattergeo"
           }
          ],
          "scattergl": [
           {
            "marker": {
             "colorbar": {
              "outlinewidth": 0,
              "ticks": ""
             }
            },
            "type": "scattergl"
           }
          ],
          "scattermap": [
           {
            "marker": {
             "colorbar": {
              "outlinewidth": 0,
              "ticks": ""
             }
            },
            "type": "scattermap"
           }
          ],
          "scattermapbox": [
           {
            "marker": {
             "colorbar": {
              "outlinewidth": 0,
              "ticks": ""
             }
            },
            "type": "scattermapbox"
           }
          ],
          "scatterpolar": [
           {
            "marker": {
             "colorbar": {
              "outlinewidth": 0,
              "ticks": ""
             }
            },
            "type": "scatterpolar"
           }
          ],
          "scatterpolargl": [
           {
            "marker": {
             "colorbar": {
              "outlinewidth": 0,
              "ticks": ""
             }
            },
            "type": "scatterpolargl"
           }
          ],
          "scatterternary": [
           {
            "marker": {
             "colorbar": {
              "outlinewidth": 0,
              "ticks": ""
             }
            },
            "type": "scatterternary"
           }
          ],
          "surface": [
           {
            "colorbar": {
             "outlinewidth": 0,
             "ticks": ""
            },
            "colorscale": [
             [
              0,
              "#0d0887"
             ],
             [
              0.1111111111111111,
              "#46039f"
             ],
             [
              0.2222222222222222,
              "#7201a8"
             ],
             [
              0.3333333333333333,
              "#9c179e"
             ],
             [
              0.4444444444444444,
              "#bd3786"
             ],
             [
              0.5555555555555556,
              "#d8576b"
             ],
             [
              0.6666666666666666,
              "#ed7953"
             ],
             [
              0.7777777777777778,
              "#fb9f3a"
             ],
             [
              0.8888888888888888,
              "#fdca26"
             ],
             [
              1,
              "#f0f921"
             ]
            ],
            "type": "surface"
           }
          ],
          "table": [
           {
            "cells": {
             "fill": {
              "color": "#EBF0F8"
             },
             "line": {
              "color": "white"
             }
            },
            "header": {
             "fill": {
              "color": "#C8D4E3"
             },
             "line": {
              "color": "white"
             }
            },
            "type": "table"
           }
          ]
         },
         "layout": {
          "annotationdefaults": {
           "arrowcolor": "#2a3f5f",
           "arrowhead": 0,
           "arrowwidth": 1
          },
          "autotypenumbers": "strict",
          "coloraxis": {
           "colorbar": {
            "outlinewidth": 0,
            "ticks": ""
           }
          },
          "colorscale": {
           "diverging": [
            [
             0,
             "#8e0152"
            ],
            [
             0.1,
             "#c51b7d"
            ],
            [
             0.2,
             "#de77ae"
            ],
            [
             0.3,
             "#f1b6da"
            ],
            [
             0.4,
             "#fde0ef"
            ],
            [
             0.5,
             "#f7f7f7"
            ],
            [
             0.6,
             "#e6f5d0"
            ],
            [
             0.7,
             "#b8e186"
            ],
            [
             0.8,
             "#7fbc41"
            ],
            [
             0.9,
             "#4d9221"
            ],
            [
             1,
             "#276419"
            ]
           ],
           "sequential": [
            [
             0,
             "#0d0887"
            ],
            [
             0.1111111111111111,
             "#46039f"
            ],
            [
             0.2222222222222222,
             "#7201a8"
            ],
            [
             0.3333333333333333,
             "#9c179e"
            ],
            [
             0.4444444444444444,
             "#bd3786"
            ],
            [
             0.5555555555555556,
             "#d8576b"
            ],
            [
             0.6666666666666666,
             "#ed7953"
            ],
            [
             0.7777777777777778,
             "#fb9f3a"
            ],
            [
             0.8888888888888888,
             "#fdca26"
            ],
            [
             1,
             "#f0f921"
            ]
           ],
           "sequentialminus": [
            [
             0,
             "#0d0887"
            ],
            [
             0.1111111111111111,
             "#46039f"
            ],
            [
             0.2222222222222222,
             "#7201a8"
            ],
            [
             0.3333333333333333,
             "#9c179e"
            ],
            [
             0.4444444444444444,
             "#bd3786"
            ],
            [
             0.5555555555555556,
             "#d8576b"
            ],
            [
             0.6666666666666666,
             "#ed7953"
            ],
            [
             0.7777777777777778,
             "#fb9f3a"
            ],
            [
             0.8888888888888888,
             "#fdca26"
            ],
            [
             1,
             "#f0f921"
            ]
           ]
          },
          "colorway": [
           "#636efa",
           "#EF553B",
           "#00cc96",
           "#ab63fa",
           "#FFA15A",
           "#19d3f3",
           "#FF6692",
           "#B6E880",
           "#FF97FF",
           "#FECB52"
          ],
          "font": {
           "color": "#2a3f5f"
          },
          "geo": {
           "bgcolor": "white",
           "lakecolor": "white",
           "landcolor": "#E5ECF6",
           "showlakes": true,
           "showland": true,
           "subunitcolor": "white"
          },
          "hoverlabel": {
           "align": "left"
          },
          "hovermode": "closest",
          "mapbox": {
           "style": "light"
          },
          "paper_bgcolor": "white",
          "plot_bgcolor": "#E5ECF6",
          "polar": {
           "angularaxis": {
            "gridcolor": "white",
            "linecolor": "white",
            "ticks": ""
           },
           "bgcolor": "#E5ECF6",
           "radialaxis": {
            "gridcolor": "white",
            "linecolor": "white",
            "ticks": ""
           }
          },
          "scene": {
           "xaxis": {
            "backgroundcolor": "#E5ECF6",
            "gridcolor": "white",
            "gridwidth": 2,
            "linecolor": "white",
            "showbackground": true,
            "ticks": "",
            "zerolinecolor": "white"
           },
           "yaxis": {
            "backgroundcolor": "#E5ECF6",
            "gridcolor": "white",
            "gridwidth": 2,
            "linecolor": "white",
            "showbackground": true,
            "ticks": "",
            "zerolinecolor": "white"
           },
           "zaxis": {
            "backgroundcolor": "#E5ECF6",
            "gridcolor": "white",
            "gridwidth": 2,
            "linecolor": "white",
            "showbackground": true,
            "ticks": "",
            "zerolinecolor": "white"
           }
          },
          "shapedefaults": {
           "line": {
            "color": "#2a3f5f"
           }
          },
          "ternary": {
           "aaxis": {
            "gridcolor": "white",
            "linecolor": "white",
            "ticks": ""
           },
           "baxis": {
            "gridcolor": "white",
            "linecolor": "white",
            "ticks": ""
           },
           "bgcolor": "#E5ECF6",
           "caxis": {
            "gridcolor": "white",
            "linecolor": "white",
            "ticks": ""
           }
          },
          "title": {
           "x": 0.05
          },
          "xaxis": {
           "automargin": true,
           "gridcolor": "white",
           "linecolor": "white",
           "ticks": "",
           "title": {
            "standoff": 15
           },
           "zerolinecolor": "white",
           "zerolinewidth": 2
          },
          "yaxis": {
           "automargin": true,
           "gridcolor": "white",
           "linecolor": "white",
           "ticks": "",
           "title": {
            "standoff": 15
           },
           "zerolinecolor": "white",
           "zerolinewidth": 2
          }
         }
        },
        "title": {
         "text": "Flesch Reading Ease across Humanize and Ai text"
        },
        "xaxis": {
         "anchor": "y",
         "domain": [
          0,
          1
         ],
         "title": {
          "text": "flesch_reading_ease"
         }
        },
        "yaxis": {
         "anchor": "x",
         "domain": [
          0,
          1
         ]
        }
       }
      }
     },
     "metadata": {},
     "output_type": "display_data"
    }
   ],
   "source": [
    "px.box(df , x = 'flesch_reading_ease' , color='label' , title= 'Flesch Reading Ease across Humanize and Ai text')"
   ]
  },
  {
   "cell_type": "markdown",
   "id": "07336dc8",
   "metadata": {},
   "source": [
    "- **Central tendency:** Both AI and human texts cluster around the low‑50s on Flesch Reading Ease. Medians are very close, suggesting comparable readability.\n",
    "- **Spread and overlap:** Interquartile ranges for both groups run roughly from the high‑40s to mid‑50s, with heavy overlap. Whiskers extend from the high‑30s to mid‑60s for both, indicating similar variability. A small high‑score outlier appears for human.\n",
    "- **Readability level:** Scores in the low‑50s correspond to moderately challenging prose (roughly high‑school to early college level)."
   ]
  },
  {
   "cell_type": "markdown",
   "id": "15d563e1",
   "metadata": {},
   "source": [
    "### **Q-How does the gunning_fog_index vary between AI and human content, and does it align with reading ease?**"
   ]
  },
  {
   "cell_type": "code",
   "execution_count": 15,
   "id": "e2f01280",
   "metadata": {},
   "outputs": [
    {
     "data": {
      "application/vnd.plotly.v1+json": {
       "config": {
        "plotlyServerURL": "https://plot.ly"
       },
       "data": [
        {
         "hovertemplate": "Gunning Fog Index=%{x}<br>Flesch Reading Ease=%{y}<br>label=%{marker.color}<extra></extra>",
         "legendgroup": "",
         "marker": {
          "color": {
           "bdata": "AQEBAQEBAQEBAQEBAQEBAQEBAQEBAQEBAQEBAQEBAQEBAQEBAQEBAQEBAQEBAQEBAQEBAQEBAQEBAQEBAQEBAQEBAQEBAQEBAQEBAQEBAQEBAQEBAQEBAQEBAQEBAQEBAQEBAQEBAQEBAQEBAQEBAQEBAQEBAQEBAQEBAQEBAQEBAQEBAQEBAQEBAQEBAQEBAQEBAQEBAQEBAQEBAQEBAQEBAQEBAQEBAQEBAQEBAQEBAQEBAQEBAQEBAQEBAQEBAQEBAQEBAQEBAQEBAQEBAQEBAQEBAQEBAQEBAQEBAQEBAQEBAQEBAQEBAQEBAQEBAQEBAQEBAQEBAQEBAQEBAQEBAQEBAQEBAQEBAQEBAQEBAQEBAQEBAQEBAQEBAQEBAQEBAQEBAQEBAQEBAQEBAQEBAQEBAQEBAQEBAQEBAQEBAQEBAQEBAQEBAQEBAQEBAQEBAQEBAQEBAQEBAQEBAQEBAQEBAQEBAQEBAQEBAQEBAQEBAQEBAQEBAQEBAQEBAQEBAQEBAQEBAQEBAQEBAQEBAQEBAQEBAQEBAQEBAQEBAQEBAQEBAQEBAQEBAQEBAQEBAQEBAQEBAQEBAQEBAQEBAQEBAQEBAQEBAQEBAQEBAQEBAQEBAQEBAQEBAQEBAQEBAQEBAQEBAQEBAQEBAQEBAAAAAAAAAAAAAAAAAAAAAAAAAAAAAAAAAAAAAAAAAAAAAAAAAAAAAAAAAAAAAAAAAAAAAAAAAAAAAAAAAAAAAAAAAAAAAAAAAAAAAAAAAAAAAAAAAAAAAAAAAAAAAAAAAAAAAAAAAAAAAAAAAAAAAAAAAAAAAAAAAAAAAAAAAAAAAAAAAAAAAAAAAAAAAAAAAAAAAAAAAAAAAAAAAAAAAAAAAAAAAAAAAAAAAAAAAAAAAAAAAAAAAAAAAAAAAAAAAAAAAAAAAAAAAAAAAAAAAAAAAAAAAAAAAAAAAAAAAAAAAAAAAAAAAAAAAAAAAAAAAAAAAAAAAAAAAAAAAAAAAAAAAAAAAAAAAAAAAAAAAAAAAAAAAAAAAAAAAAAAAAAAAAAAAAAAAAAAAAAAAAAAAAAAAAAAAAAAAAAAAAAAAAAAAAAAAAAAAAAAAAAAAAAAAAAAAAAAAAAAAAAAAAAAAAAAAAAAAAAAAAAAAAAAAAAAAAAAAAAAAAAAAAAAAAAAAAAAAAAAAAAAAAAAAAAAAAAAAAAAAAAAAAAAAAAAAAAAAAAAAAAAAAAAAAAAAAAAAAAAAAAAAAAAAAAAAAAAAAAAAAAAAAAAAAAAAAAAAAAAAAAAAAAAAAAAAAAAAAAAAAAAAAAAAAAAAAAAAAAAAAAAAAAAAAAAAAAAAAAA",
           "dtype": "i1"
          },
          "coloraxis": "coloraxis",
          "symbol": "circle"
         },
         "mode": "markers",
         "name": "",
         "showlegend": false,
         "type": "scattergl",
         "x": {
          "bdata": "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",
          "dtype": "f8"
         },
         "xaxis": "x",
         "y": {
          "bdata": "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",
          "dtype": "f8"
         },
         "yaxis": "y"
        },
        {
         "hovertemplate": "<b>OLS trendline</b><br>flesch_reading_ease = -3.10342 * gunning_fog_index + 75.7689<br>R<sup>2</sup>=0.371692<br><br>Gunning Fog Index=%{x}<br>Flesch Reading Ease=%{y} <b>(trend)</b><extra></extra>",
         "legendgroup": "",
         "marker": {
          "symbol": "circle"
         },
         "mode": "lines",
         "name": "",
         "showlegend": false,
         "type": "scattergl",
         "x": {
          "bdata": "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",
          "dtype": "f8"
         },
         "xaxis": "x",
         "y": {
          "bdata": "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",
          "dtype": "f8"
         },
         "yaxis": "y"
        }
       ],
       "layout": {
        "coloraxis": {
         "colorbar": {
          "title": {
           "text": "label"
          }
         },
         "colorscale": [
          [
           0,
           "#0d0887"
          ],
          [
           0.1111111111111111,
           "#46039f"
          ],
          [
           0.2222222222222222,
           "#7201a8"
          ],
          [
           0.3333333333333333,
           "#9c179e"
          ],
          [
           0.4444444444444444,
           "#bd3786"
          ],
          [
           0.5555555555555556,
           "#d8576b"
          ],
          [
           0.6666666666666666,
           "#ed7953"
          ],
          [
           0.7777777777777778,
           "#fb9f3a"
          ],
          [
           0.8888888888888888,
           "#fdca26"
          ],
          [
           1,
           "#f0f921"
          ]
         ]
        },
        "legend": {
         "tracegroupgap": 0
        },
        "template": {
         "data": {
          "bar": [
           {
            "error_x": {
             "color": "#2a3f5f"
            },
            "error_y": {
             "color": "#2a3f5f"
            },
            "marker": {
             "line": {
              "color": "#E5ECF6",
              "width": 0.5
             },
             "pattern": {
              "fillmode": "overlay",
              "size": 10,
              "solidity": 0.2
             }
            },
            "type": "bar"
           }
          ],
          "barpolar": [
           {
            "marker": {
             "line": {
              "color": "#E5ECF6",
              "width": 0.5
             },
             "pattern": {
              "fillmode": "overlay",
              "size": 10,
              "solidity": 0.2
             }
            },
            "type": "barpolar"
           }
          ],
          "carpet": [
           {
            "aaxis": {
             "endlinecolor": "#2a3f5f",
             "gridcolor": "white",
             "linecolor": "white",
             "minorgridcolor": "white",
             "startlinecolor": "#2a3f5f"
            },
            "baxis": {
             "endlinecolor": "#2a3f5f",
             "gridcolor": "white",
             "linecolor": "white",
             "minorgridcolor": "white",
             "startlinecolor": "#2a3f5f"
            },
            "type": "carpet"
           }
          ],
          "choropleth": [
           {
            "colorbar": {
             "outlinewidth": 0,
             "ticks": ""
            },
            "type": "choropleth"
           }
          ],
          "contour": [
           {
            "colorbar": {
             "outlinewidth": 0,
             "ticks": ""
            },
            "colorscale": [
             [
              0,
              "#0d0887"
             ],
             [
              0.1111111111111111,
              "#46039f"
             ],
             [
              0.2222222222222222,
              "#7201a8"
             ],
             [
              0.3333333333333333,
              "#9c179e"
             ],
             [
              0.4444444444444444,
              "#bd3786"
             ],
             [
              0.5555555555555556,
              "#d8576b"
             ],
             [
              0.6666666666666666,
              "#ed7953"
             ],
             [
              0.7777777777777778,
              "#fb9f3a"
             ],
             [
              0.8888888888888888,
              "#fdca26"
             ],
             [
              1,
              "#f0f921"
             ]
            ],
            "type": "contour"
           }
          ],
          "contourcarpet": [
           {
            "colorbar": {
             "outlinewidth": 0,
             "ticks": ""
            },
            "type": "contourcarpet"
           }
          ],
          "heatmap": [
           {
            "colorbar": {
             "outlinewidth": 0,
             "ticks": ""
            },
            "colorscale": [
             [
              0,
              "#0d0887"
             ],
             [
              0.1111111111111111,
              "#46039f"
             ],
             [
              0.2222222222222222,
              "#7201a8"
             ],
             [
              0.3333333333333333,
              "#9c179e"
             ],
             [
              0.4444444444444444,
              "#bd3786"
             ],
             [
              0.5555555555555556,
              "#d8576b"
             ],
             [
              0.6666666666666666,
              "#ed7953"
             ],
             [
              0.7777777777777778,
              "#fb9f3a"
             ],
             [
              0.8888888888888888,
              "#fdca26"
             ],
             [
              1,
              "#f0f921"
             ]
            ],
            "type": "heatmap"
           }
          ],
          "histogram": [
           {
            "marker": {
             "pattern": {
              "fillmode": "overlay",
              "size": 10,
              "solidity": 0.2
             }
            },
            "type": "histogram"
           }
          ],
          "histogram2d": [
           {
            "colorbar": {
             "outlinewidth": 0,
             "ticks": ""
            },
            "colorscale": [
             [
              0,
              "#0d0887"
             ],
             [
              0.1111111111111111,
              "#46039f"
             ],
             [
              0.2222222222222222,
              "#7201a8"
             ],
             [
              0.3333333333333333,
              "#9c179e"
             ],
             [
              0.4444444444444444,
              "#bd3786"
             ],
             [
              0.5555555555555556,
              "#d8576b"
             ],
             [
              0.6666666666666666,
              "#ed7953"
             ],
             [
              0.7777777777777778,
              "#fb9f3a"
             ],
             [
              0.8888888888888888,
              "#fdca26"
             ],
             [
              1,
              "#f0f921"
             ]
            ],
            "type": "histogram2d"
           }
          ],
          "histogram2dcontour": [
           {
            "colorbar": {
             "outlinewidth": 0,
             "ticks": ""
            },
            "colorscale": [
             [
              0,
              "#0d0887"
             ],
             [
              0.1111111111111111,
              "#46039f"
             ],
             [
              0.2222222222222222,
              "#7201a8"
             ],
             [
              0.3333333333333333,
              "#9c179e"
             ],
             [
              0.4444444444444444,
              "#bd3786"
             ],
             [
              0.5555555555555556,
              "#d8576b"
             ],
             [
              0.6666666666666666,
              "#ed7953"
             ],
             [
              0.7777777777777778,
              "#fb9f3a"
             ],
             [
              0.8888888888888888,
              "#fdca26"
             ],
             [
              1,
              "#f0f921"
             ]
            ],
            "type": "histogram2dcontour"
           }
          ],
          "mesh3d": [
           {
            "colorbar": {
             "outlinewidth": 0,
             "ticks": ""
            },
            "type": "mesh3d"
           }
          ],
          "parcoords": [
           {
            "line": {
             "colorbar": {
              "outlinewidth": 0,
              "ticks": ""
             }
            },
            "type": "parcoords"
           }
          ],
          "pie": [
           {
            "automargin": true,
            "type": "pie"
           }
          ],
          "scatter": [
           {
            "fillpattern": {
             "fillmode": "overlay",
             "size": 10,
             "solidity": 0.2
            },
            "type": "scatter"
           }
          ],
          "scatter3d": [
           {
            "line": {
             "colorbar": {
              "outlinewidth": 0,
              "ticks": ""
             }
            },
            "marker": {
             "colorbar": {
              "outlinewidth": 0,
              "ticks": ""
             }
            },
            "type": "scatter3d"
           }
          ],
          "scattercarpet": [
           {
            "marker": {
             "colorbar": {
              "outlinewidth": 0,
              "ticks": ""
             }
            },
            "type": "scattercarpet"
           }
          ],
          "scattergeo": [
           {
            "marker": {
             "colorbar": {
              "outlinewidth": 0,
              "ticks": ""
             }
            },
            "type": "scattergeo"
           }
          ],
          "scattergl": [
           {
            "marker": {
             "colorbar": {
              "outlinewidth": 0,
              "ticks": ""
             }
            },
            "type": "scattergl"
           }
          ],
          "scattermap": [
           {
            "marker": {
             "colorbar": {
              "outlinewidth": 0,
              "ticks": ""
             }
            },
            "type": "scattermap"
           }
          ],
          "scattermapbox": [
           {
            "marker": {
             "colorbar": {
              "outlinewidth": 0,
              "ticks": ""
             }
            },
            "type": "scattermapbox"
           }
          ],
          "scatterpolar": [
           {
            "marker": {
             "colorbar": {
              "outlinewidth": 0,
              "ticks": ""
             }
            },
            "type": "scatterpolar"
           }
          ],
          "scatterpolargl": [
           {
            "marker": {
             "colorbar": {
              "outlinewidth": 0,
              "ticks": ""
             }
            },
            "type": "scatterpolargl"
           }
          ],
          "scatterternary": [
           {
            "marker": {
             "colorbar": {
              "outlinewidth": 0,
              "ticks": ""
             }
            },
            "type": "scatterternary"
           }
          ],
          "surface": [
           {
            "colorbar": {
             "outlinewidth": 0,
             "ticks": ""
            },
            "colorscale": [
             [
              0,
              "#0d0887"
             ],
             [
              0.1111111111111111,
              "#46039f"
             ],
             [
              0.2222222222222222,
              "#7201a8"
             ],
             [
              0.3333333333333333,
              "#9c179e"
             ],
             [
              0.4444444444444444,
              "#bd3786"
             ],
             [
              0.5555555555555556,
              "#d8576b"
             ],
             [
              0.6666666666666666,
              "#ed7953"
             ],
             [
              0.7777777777777778,
              "#fb9f3a"
             ],
             [
              0.8888888888888888,
              "#fdca26"
             ],
             [
              1,
              "#f0f921"
             ]
            ],
            "type": "surface"
           }
          ],
          "table": [
           {
            "cells": {
             "fill": {
              "color": "#EBF0F8"
             },
             "line": {
              "color": "white"
             }
            },
            "header": {
             "fill": {
              "color": "#C8D4E3"
             },
             "line": {
              "color": "white"
             }
            },
            "type": "table"
           }
          ]
         },
         "layout": {
          "annotationdefaults": {
           "arrowcolor": "#2a3f5f",
           "arrowhead": 0,
           "arrowwidth": 1
          },
          "autotypenumbers": "strict",
          "coloraxis": {
           "colorbar": {
            "outlinewidth": 0,
            "ticks": ""
           }
          },
          "colorscale": {
           "diverging": [
            [
             0,
             "#8e0152"
            ],
            [
             0.1,
             "#c51b7d"
            ],
            [
             0.2,
             "#de77ae"
            ],
            [
             0.3,
             "#f1b6da"
            ],
            [
             0.4,
             "#fde0ef"
            ],
            [
             0.5,
             "#f7f7f7"
            ],
            [
             0.6,
             "#e6f5d0"
            ],
            [
             0.7,
             "#b8e186"
            ],
            [
             0.8,
             "#7fbc41"
            ],
            [
             0.9,
             "#4d9221"
            ],
            [
             1,
             "#276419"
            ]
           ],
           "sequential": [
            [
             0,
             "#0d0887"
            ],
            [
             0.1111111111111111,
             "#46039f"
            ],
            [
             0.2222222222222222,
             "#7201a8"
            ],
            [
             0.3333333333333333,
             "#9c179e"
            ],
            [
             0.4444444444444444,
             "#bd3786"
            ],
            [
             0.5555555555555556,
             "#d8576b"
            ],
            [
             0.6666666666666666,
             "#ed7953"
            ],
            [
             0.7777777777777778,
             "#fb9f3a"
            ],
            [
             0.8888888888888888,
             "#fdca26"
            ],
            [
             1,
             "#f0f921"
            ]
           ],
           "sequentialminus": [
            [
             0,
             "#0d0887"
            ],
            [
             0.1111111111111111,
             "#46039f"
            ],
            [
             0.2222222222222222,
             "#7201a8"
            ],
            [
             0.3333333333333333,
             "#9c179e"
            ],
            [
             0.4444444444444444,
             "#bd3786"
            ],
            [
             0.5555555555555556,
             "#d8576b"
            ],
            [
             0.6666666666666666,
             "#ed7953"
            ],
            [
             0.7777777777777778,
             "#fb9f3a"
            ],
            [
             0.8888888888888888,
             "#fdca26"
            ],
            [
             1,
             "#f0f921"
            ]
           ]
          },
          "colorway": [
           "#636efa",
           "#EF553B",
           "#00cc96",
           "#ab63fa",
           "#FFA15A",
           "#19d3f3",
           "#FF6692",
           "#B6E880",
           "#FF97FF",
           "#FECB52"
          ],
          "font": {
           "color": "#2a3f5f"
          },
          "geo": {
           "bgcolor": "white",
           "lakecolor": "white",
           "landcolor": "#E5ECF6",
           "showlakes": true,
           "showland": true,
           "subunitcolor": "white"
          },
          "hoverlabel": {
           "align": "left"
          },
          "hovermode": "closest",
          "mapbox": {
           "style": "light"
          },
          "paper_bgcolor": "white",
          "plot_bgcolor": "#E5ECF6",
          "polar": {
           "angularaxis": {
            "gridcolor": "white",
            "linecolor": "white",
            "ticks": ""
           },
           "bgcolor": "#E5ECF6",
           "radialaxis": {
            "gridcolor": "white",
            "linecolor": "white",
            "ticks": ""
           }
          },
          "scene": {
           "xaxis": {
            "backgroundcolor": "#E5ECF6",
            "gridcolor": "white",
            "gridwidth": 2,
            "linecolor": "white",
            "showbackground": true,
            "ticks": "",
            "zerolinecolor": "white"
           },
           "yaxis": {
            "backgroundcolor": "#E5ECF6",
            "gridcolor": "white",
            "gridwidth": 2,
            "linecolor": "white",
            "showbackground": true,
            "ticks": "",
            "zerolinecolor": "white"
           },
           "zaxis": {
            "backgroundcolor": "#E5ECF6",
            "gridcolor": "white",
            "gridwidth": 2,
            "linecolor": "white",
            "showbackground": true,
            "ticks": "",
            "zerolinecolor": "white"
           }
          },
          "shapedefaults": {
           "line": {
            "color": "#2a3f5f"
           }
          },
          "ternary": {
           "aaxis": {
            "gridcolor": "white",
            "linecolor": "white",
            "ticks": ""
           },
           "baxis": {
            "gridcolor": "white",
            "linecolor": "white",
            "ticks": ""
           },
           "bgcolor": "#E5ECF6",
           "caxis": {
            "gridcolor": "white",
            "linecolor": "white",
            "ticks": ""
           }
          },
          "title": {
           "x": 0.05
          },
          "xaxis": {
           "automargin": true,
           "gridcolor": "white",
           "linecolor": "white",
           "ticks": "",
           "title": {
            "standoff": 15
           },
           "zerolinecolor": "white",
           "zerolinewidth": 2
          },
          "yaxis": {
           "automargin": true,
           "gridcolor": "white",
           "linecolor": "white",
           "ticks": "",
           "title": {
            "standoff": 15
           },
           "zerolinecolor": "white",
           "zerolinewidth": 2
          }
         }
        },
        "title": {
         "text": "Gunning Fog Index vs Reading Ease (AI vs Human)"
        },
        "xaxis": {
         "anchor": "y",
         "domain": [
          0,
          1
         ],
         "title": {
          "text": "Gunning Fog Index"
         }
        },
        "yaxis": {
         "anchor": "x",
         "domain": [
          0,
          1
         ],
         "title": {
          "text": "Flesch Reading Ease"
         }
        }
       }
      }
     },
     "metadata": {},
     "output_type": "display_data"
    }
   ],
   "source": [
    "\n",
    "# Create scatter plot\n",
    "fig = px.scatter(\n",
    "    df,\n",
    "    x=\"gunning_fog_index\",\n",
    "    y=\"flesch_reading_ease\",\n",
    "    color=\"label\",\n",
    "    title=\"Gunning Fog Index vs Reading Ease (AI vs Human)\",\n",
    "    labels={\n",
    "        \"gunning_fog_index\": \"Gunning Fog Index\",\n",
    "        \"flesch_reading_ease\": \"Flesch Reading Ease\"\n",
    "    },\n",
    "    trendline=\"ols\"\n",
    ")\n",
    "\n",
    "fig.show()"
   ]
  },
  {
   "cell_type": "markdown",
   "id": "53b33bfd",
   "metadata": {},
   "source": [
    "- **Global relationship:** A clear negative relationship appears between the two metrics. As Gunning Fog increases (text becomes more complex), Flesch Reading Ease decreases (text becomes harder to read). The OLS trendline slopes downward, confirming this inverse link.\n",
    "\n",
    "- **Scale and placement:**\n",
    "\n",
    "  - Most points lie roughly between Fog 5–10 and Flesch 45–60.\n",
    "  - Low Fog values (≈5–6) align with higher Flesch scores (≈58–65).\n",
    "  - High Fog values (≈9–10+) align with lower Flesch scores (≈40–50).\n",
    "  - Class overlap: AI (1) and Human (0) points are heavily intermingled across the plane with no visually distinct clusters. Both classes follow the same readability trade‑off, indicating these two readability metrics alone do not separate AI from human writing.\n",
    "\n",
    "- **Redundancy:** Because the metrics move inversely along a single readability dimension, including both in a model will introduce strong collinearity. One metric (either Fog or Flesch) typically suffices as a proxy for readability level."
   ]
  },
  {
   "cell_type": "markdown",
   "id": "04870615",
   "metadata": {},
   "source": [
    "### **Q-How does predictability_score differ between content_type categories?**"
   ]
  },
  {
   "cell_type": "code",
   "execution_count": 16,
   "id": "271bd57f",
   "metadata": {},
   "outputs": [
    {
     "data": {
      "application/vnd.plotly.v1+json": {
       "config": {
        "plotlyServerURL": "https://plot.ly"
       },
       "data": [
        {
         "alignmentgroup": "True",
         "hovertemplate": "content_type=academic_paper<br>predictability_score=%{x}<extra></extra>",
         "legendgroup": "academic_paper",
         "marker": {
          "color": "#636efa"
         },
         "name": "academic_paper",
         "notched": false,
         "offsetgroup": "academic_paper",
         "orientation": "h",
         "showlegend": true,
         "type": "box",
         "x": {
          "bdata": "16NwPQp3WkDXo3A9CtdCQOxRuB6FS0RAAAAAAAAAWUBcj8L1KNxDQFK4HoXrEUJAAAAAAABAUEAUrkfhepRJQGZmZmZmBlJACtejcD2KQ0B7FK5H4XpbQLgehetR+DtA9ihcj8KlW0C4HoXrUahQQDMzMzMzo1tAZmZmZmbmVkBmZmZmZkZdQEjhehSup1pASOF6FK4HPUCuR+F6FO5CQJqZmZmZeVNA9ihcj8K1SEDNzMzMzMw3QKRwPQrXozVA16NwPQq3QkBSuB6F6/FGQKRwPQrXA1JA4XoUrkcBR0DD9Shcj0I/QIXrUbgepVxAH4XrUbjeSEAAAAAAAMBAQLgehetRWEtAXI/C9SjcSEBmZmZmZiY+QOxRuB6FS0NArkfhehQuR0AzMzMzM7NGQMP1KFyPMlxArkfhehQuWkCPwvUoXB9UQArXo3A9akNAcT0K16NwTUDD9Shcj+JUQNejcD0K10ZA7FG4HoWrNEAfhetRuB5cQEjhehSuZ0ZA16NwPQonVkCuR+F6FE5LQOxRuB6Fe1ZAKVyPwvXoPUDhehSuR0FEQM3MzMzMDFBAj8L1KFwPP0C4HoXrUShSQAAAAAAA4ENAhetRuB4FSkDhehSuR5FRQIXrUbgelVZAAAAAAACQXUDNzMzMzMxKQFyPwvUonFxAexSuR+HKU0AK16NwPYo3QNejcD0KJ1VAuB6F61FYSkD2KFyPwrVGQHsUrkfh+j9AFK5H4XrUTEB7FK5H4UpRQFyPwvUofE1AH4XrUbg+QEC4HoXrUTg8QI/C9Shc70pAKVyPwvUoWEBSuB6F64FXQMP1KFyPwkJAAAAAAABQVEBxPQrXozBJQB+F61G4vktAXI/C9SicQ0A9CtejcM1RQK5H4XoUrldAAAAAAAAAWUBI4XoUrkc9QBSuR+F6lFpAMzMzMzMzXUAK16NwPQpDQGZmZmZmJk1AH4XrUbgOVEDsUbgehRtYQI/C9Shcj0JAmpmZmZm5TEBSuB6F61FQQD0K16Nw/UtAFK5H4XqUSUAfhetRuB5XQFK4HoXrETtA9ihcj8LVWEDD9Shcj5JYQPYoXI/CNUlAuB6F61H4TUDhehSuRyFGQArXo3A9KkFA7FG4HoXrVED2KFyPwnVPQEjhehSuF1xA",
          "dtype": "f8"
         },
         "x0": " ",
         "xaxis": "x",
         "y0": " ",
         "yaxis": "y"
        },
        {
         "alignmentgroup": "True",
         "hovertemplate": "content_type=essay<br>predictability_score=%{x}<extra></extra>",
         "legendgroup": "essay",
         "marker": {
          "color": "#EF553B"
         },
         "name": "essay",
         "notched": false,
         "offsetgroup": "essay",
         "orientation": "h",
         "showlegend": true,
         "type": "box",
         "x": {
          "bdata": "w/UoXI8SWUAAAAAAAGBXQClcj8L16DdA7FG4HoVrPEC4HoXrUfg6QClcj8L16ElAcT0K16OQVED2KFyPwvVNQJqZmZmZeUJAZmZmZmaGREDXo3A9Chc6QFyPwvUoLFtASOF6FK7HP0BxPQrXo7BBQI/C9Shcb0FAFK5H4Xo0UUAK16NwPYpSQDMzMzMz80lAZmZmZmZmPkD2KFyPwjVNQOF6FK5HIUxAKVyPwvUIQUCPwvUoXO9UQI/C9ShcT0RA16NwPQoXW0CamZmZmWlaQM3MzMzM/FJApHA9CtdjPkDhehSuR4FaQM3MzMzMXFdAmpmZmZk5S0A9CtejcK1QQGZmZmZmpkhAFK5H4XrUPUCuR+F6FG5DQArXo3A9qlVAUrgehevxVEA9CtejcL1MQM3MzMzMzEtApHA9CteDQkCPwvUoXA9MQKRwPQrXA0RAZmZmZmbmSEBSuB6F63FAQOxRuB6Fa0tAj8L1KFzvTEBSuB6F67FbQLgehetROFdACtejcD0KSkAAAAAAAKBDQOxRuB6FG1tAUrgehethV0CF61G4HqVOQIXrUbgehUlA16NwPQrXRkCkcD0K16M4QD0K16NwHUJAKVyPwvXoREA9CtejcL07QBSuR+F6lElAcT0K16MAWUAUrkfheoRVQM3MzMzMHFdAPQrXo3DdTUCkcD0K12NLQOF6FK5H4VlAXI/C9SicXEDD9ShcjyJFQB+F61G4nlNAPQrXo3CtXEBxPQrXo3BXQPYoXI/CNUlAUrgehevxQEApXI/C9Wg5QKRwPQrXA1xAZmZmZma2UUCamZmZmTlOQLgehetRaFpAmpmZmZl5S0CF61G4HoVUQEjhehSu11JAAAAAAAAgTUAUrkfhejROQDMzMzMz01NA4XoUrkeRVEDXo3A9Ctc4QK5H4XoUrj1ArkfhehQOS0DD9ShcjwJdQBSuR+F6tEdAH4XrUbj+RkApXI/C9XhYQClcj8L1CEFASOF6FK5HRkAAAAAAAJBVQB+F61G4fkpAXI/C9SgcN0CamZmZmVlUQClcj8L1aEpA4XoUrkexU0AfhetRuL5JQNejcD0K11VAKVyPwvXoP0DhehSuR+FRQNejcD0Kt0lArkfhehRORkDhehSuR/FVQBSuR+F6lEpAUrgeheuBVkBSuB6F67FHQFyPwvUo3FpAhetRuB4FQ0DsUbgehZtXQJqZmZmZ+VFAMzMzMzPzSUDXo3A9CvdNQIXrUbgehUpAAAAAAAAgUUDsUbgehctKQI/C9Shcj1tAPQrXo3D9UkAfhetRuD5QQBSuR+F6lExAXI/C9SgcXUDhehSuR2FIQGZmZmZmhlNAw/UoXI9SWkCF61G4HkVJQJqZmZmZ+VxAuB6F61FYQ0AK16NwPQpMQMP1KFyPklFAuB6F61E4VUDNzMzMzMw2QHsUrkfhSlVArkfhehTuPkApXI/C9ShSQEjhehSuBzRA16NwPQrXN0D2KFyPwnU5QPYoXI/C9UtAUrgehetRREDD9ShcjyJWQClcj8L1CFlAmpmZmZlpVEApXI/C9QhDQBSuR+F6hFtA7FG4HoXLVUD2KFyPwvVDQFK4HoXrsUxArkfhehQuOUAfhetRuF5BQA==",
          "dtype": "f8"
         },
         "x0": " ",
         "xaxis": "x",
         "y0": " ",
         "yaxis": "y"
        },
        {
         "alignmentgroup": "True",
         "hovertemplate": "content_type=creative_writing<br>predictability_score=%{x}<extra></extra>",
         "legendgroup": "creative_writing",
         "marker": {
          "color": "#00cc96"
         },
         "name": "creative_writing",
         "notched": false,
         "offsetgroup": "creative_writing",
         "orientation": "h",
         "showlegend": true,
         "type": "box",
         "x": {
          "bdata": "w/UoXI8yVkDhehSuR+FLQHE9Ctej0ExAPQrXo3B9OUAfhetRuF5JQAAAAAAAwDdA16NwPQpXV0AK16NwPapDQMP1KFyPQjVAUrgehesROEA9CtejcG1cQOxRuB6FS0dAj8L1KFwPREBxPQrXo7A1QKRwPQrXw11AzczMzMxsRkDhehSuR7FZQKRwPQrXg0JA16NwPQo3T0ApXI/C9ahQQB+F61G4jl1AZmZmZmYGWEDsUbgehatRQHsUrkfh2llAuB6F61EIUkApXI/C9ShCQMP1KFyPMldASOF6FK5nS0Bcj8L1KJxMQClcj8L1SExAPQrXo3A9RUCamZmZmTlAQM3MzMzMrE9AexSuR+HqVUBcj8L1KDxLQOF6FK5H4V1A9ihcj8LVSUAK16NwPSpJQMP1KFyPwjVAPQrXo3CdTECF61G4HoVEQGZmZmZmpjlAcT0K16MwO0AzMzMzM7M9QPYoXI/CVVFASOF6FK73UECkcD0K12NaQFK4HoXrsU5AAAAAAADASkBmZmZmZqZbQIXrUbgeJVFAZmZmZmaGRkB7FK5H4TpHQArXo3A9SjRACtejcD0KS0CkcD0K1yNEQHsUrkfhOkdAhetRuB5FWkB7FK5H4fo5QHsUrkfhGltAw/UoXI/CRkDhehSuR8FJQHsUrkfhGkJAhetRuB7lTEDXo3A9ChdMQMP1KFyPUlJAH4XrUbg+S0D2KFyPwnVcQEjhehSuRz1AZmZmZmbmWkDNzMzMzGxRQD0K16NwzVFAH4XrUbieSkB7FK5H4SpWQDMzMzMz00VACtejcD2qTECamZmZmVk6QPYoXI/CtTVACtejcD0qTUC4HoXrUfhaQBSuR+F6VFtAZmZmZmYGVECkcD0K1+NPQLgehetReE9AKVyPwvVISkC4HoXrUShVQClcj8L1KDRAUrgehetRPkD2KFyPwqVZQBSuR+F6lEBAUrgehetRR0DsUbgehctFQJqZmZmZuUZApHA9CtfDXEC4HoXrUfhHQNejcD0Kt1FAmpmZmZmZNkBmZmZmZmZHQPYoXI/ChVdArkfhehSOWkAK16NwPcpNQB+F61G4LlNAAAAAAACAVEAK16NwPQo/QNejcD0Kp1lApHA9CtfjNUB7FK5H4XpVQIXrUbge1VtAXI/C9Sj8S0AUrkfhelQ2QI/C9Shcz1lAcT0K16PwO0AAAAAAAIBDQK5H4XoU7kRAKVyPwvW4U0DhehSuR6FQQGZmZmZmJllAw/UoXI8CW0BxPQrXoxBFQFK4HoXr0UFApHA9CtcjQEDhehSuRyE2QB+F61G4Hk1AhetRuB4FUkDXo3A9Clc/QB+F61G4Hj9AhetRuB6FNUD2KFyPwpVSQFK4HoXr0VxAPQrXo3CdW0B7FK5H4QpQQFK4HoXrsVFAuB6F61HYS0CF61G4HmVBQHsUrkfhmkFAMzMzMzOzSkC4HoXrUahaQD0K16NwvTdA16NwPQq3TUAzMzMzMxNBQArXo3A9elZAuB6F61F4UEA=",
          "dtype": "f8"
         },
         "x0": " ",
         "xaxis": "x",
         "y0": " ",
         "yaxis": "y"
        },
        {
         "alignmentgroup": "True",
         "hovertemplate": "content_type=news_article<br>predictability_score=%{x}<extra></extra>",
         "legendgroup": "news_article",
         "marker": {
          "color": "#ab63fa"
         },
         "name": "news_article",
         "notched": false,
         "offsetgroup": "news_article",
         "orientation": "h",
         "showlegend": true,
         "type": "box",
         "x": {
          "bdata": "ZmZmZmYmOkAK16NwPSpBQM3MzMzMfFdAhetRuB7lVUCF61G4HnVQQBSuR+F6ZF1Aj8L1KFyPP0CPwvUoXA9YQHsUrkfh2lBAj8L1KFzPS0C4HoXrUZhUQAAAAAAAwENASOF6FK5HPUAAAAAAAMBPQAAAAAAAIEJAcT0K16MwXEAfhetRuL5PQOxRuB6Fu1JAMzMzMzPzSEBI4XoUrgdFQIXrUbgexT1AhetRuB5FSUBxPQrXozBNQPYoXI/CtT9AMzMzMzPzNkBI4XoUrudVQMP1KFyP4kFAuB6F61E4WEAfhetRuL5CQKRwPQrXg11A16NwPQp3WkBmZmZmZsZVQB+F61G4nkZAUrgeheuRRkBmZmZmZuY/QPYoXI/CFUlACtejcD1KT0ApXI/C9ehMQB+F61G43lJAFK5H4XqUSEAzMzMzM1NGQKRwPQrXo0pAw/UoXI+iT0ApXI/C9ag3QClcj8L1qFNAuB6F61E4PkCuR+F6FB5VQM3MzMzMzE1ApHA9CtejPkCuR+F6FO5bQGZmZmZmpjdAH4XrUbg+RUCF61G4HsU5QFyPwvUo/E1AcT0K16MwWkDD9Shcj1JWQClcj8L1iFhAUrgehevxTUAfhetRuH5RQKRwPQrXY0NAXI/C9SicSkBI4XoUrkc4QD0K16NwfTZAj8L1KFxvUEBI4XoUrgdFQB+F61G4TlxAMzMzMzPTT0AAAAAAAABJQMP1KFyPclxAexSuR+EqU0CPwvUoXB9WQBSuR+F6FEZA7FG4HoWLQEBSuB6F65FNQFK4HoXrETVAXI/C9SgsW0DsUbgehUtPQLgehetR+EtAH4XrUbguV0DhehSuR1FcQOF6FK5HoVlA4XoUrkcBR0DXo3A9CvdUQDMzMzMzM0RAmpmZmZn5TkDsUbgehQtBQB+F61G4HjxAXI/C9SjcO0D2KFyPwlVVQKRwPQrXo1BAUrgeheshWUAAAAAAAMBXQLgehetRKFxA9ihcj8KVQUDhehSuR2FGQGZmZmZmxkdAXI/C9SjcSUBcj8L1KHxLQFyPwvUo/FFASOF6FK7HOUBmZmZmZnZTQJqZmZmZWUZA16NwPQpHWUAUrkfhehRMQArXo3A9ulpAzczMzMwMPUCPwvUoXI9SQKRwPQrXY0dA16NwPQoXQUC4HoXrUTg9QArXo3A92lFAzczMzMxMNkCkcD0K14NLQClcj8L1iEBAFK5H4XqkWECkcD0K10NTQFyPwvUoHFBACtejcD0aW0AfhetRuA5cQLgehetRqFlAXI/C9SgcO0Bcj8L1KKxYQB+F61G4fkxAFK5H4Xr0SUApXI/C9UhCQB+F61G4HjpAmpmZmZnZTEAUrkfheoRdQClcj8L1GFZASOF6FK7nQ0Bcj8L1KMxcQK5H4XoU7lVAAAAAAAAQVkCPwvUoXL9aQFyPwvUo3EFAmpmZmZnZOkDsUbgehQtFQD0K16NwjVNAXI/C9ShsVkDhehSuR2E5QHsUrkfhWk1AAAAAAAAQXEBmZmZmZoZBQBSuR+F69ElAFK5H4XrUOUAfhetRuO5QQFyPwvUoHDlA16NwPQp3RkAK16NwPepKQHE9Ctej0EVAZmZmZmamPUCamZmZmZk0QDMzMzMz411A",
          "dtype": "f8"
         },
         "x0": " ",
         "xaxis": "x",
         "y0": " ",
         "yaxis": "y"
        },
        {
         "alignmentgroup": "True",
         "hovertemplate": "content_type=blog_post<br>predictability_score=%{x}<extra></extra>",
         "legendgroup": "blog_post",
         "marker": {
          "color": "#FFA15A"
         },
         "name": "blog_post",
         "notched": false,
         "offsetgroup": "blog_post",
         "orientation": "h",
         "showlegend": true,
         "type": "box",
         "x": {
          "bdata": "exSuR+F6QkAfhetRuL5KQD0K16NwPVBA16NwPQrXQUCPwvUoXA81QLgehetRWFRArkfhehTuUkDsUbgehWtLQIXrUbgedVBAmpmZmZk5QEA9CtejcL0+QOF6FK5HQUtAMzMzMzOjWUAUrkfheqRZQPYoXI/CtVhAKVyPwvWIV0B7FK5H4TpKQFK4HoXrMV1APQrXo3D9SUBcj8L1KFxFQOF6FK5HYVVAcT0K16NwN0AAAAAAAOBWQM3MzMzM7EBASOF6FK5HN0CamZmZmflcQOF6FK5HoT5AzczMzMyMTUAUrkfhenRYQOxRuB6FK1pAmpmZmZkZQUBxPQrXo7BcQKRwPQrXg0BA9ihcj8JVQ0D2KFyPwpVDQI/C9ShcjzRAexSuR+GaUED2KFyPwnU8QM3MzMzMLFZAH4XrUbheNUA9CtejcF1OQD0K16Nw/UtAFK5H4XoEUECF61G4HkVLQFyPwvUoDFJACtejcD2KPUBI4XoUrtddQKRwPQrXU1dA7FG4HoWrPEBcj8L1KNw3QHE9CtejsFVArkfhehQOR0BmZmZmZnZQQLgehetRqFFAMzMzMzPTUUDsUbgehStAQIXrUbgehUZAuB6F61GYQ0Bcj8L1KExQQK5H4XoUHlxAexSuR+H6SUCamZmZmSlUQMP1KFyPQjRAXI/C9SjcVkC4HoXrUTg5QFK4HoXrsU1AUrgehetRUkAfhetRuJ5TQPYoXI/CRVhAw/UoXI8CV0AzMzMzM1NGQGZmZmZmZkFACtejcD1KWEDXo3A9Clc9QD0K16NwPUNAZmZmZmYmR0ApXI/C9WhMQD0K16NwfTdAhetRuB5lU0CF61G4HoU1QOxRuB6FG1NAexSuR+FaS0DD9Shcj8JOQNejcD0K11VAexSuR+HaWkAAAAAAAEBAQOF6FK5HYTRAXI/C9Sj8Q0ApXI/C9YhAQM3MzMzM7EtAKVyPwvXIWEAzMzMzM/NQQOxRuB6F+1dAuB6F61F4UUAAAAAAAOBNQM3MzMzMDFxAUrgeheuxS0AUrkfhegRYQOxRuB6F61pAw/UoXI+CXEDNzMzMzLxQQLgehetROE1AcT0K16NQSEBmZmZmZqY6QFK4HoXrUUhAAAAAAACANUAfhetRuH5DQI/C9ShcTztA7FG4HoULSUDsUbgehUtDQKRwPQrXw0FAMzMzMzPzSECamZmZmRlIQBSuR+F6NEtAj8L1KFxvT0BxPQrXozA8QOxRuB6Fe1dAcT0K16MQSED2KFyPwhVMQDMzMzMzE0dA9ihcj8LVXEDXo3A9Cpc+QFK4HoXr8U1APQrXo3C9QUCPwvUoXO9WQLgehetRKF1A4XoUrkdRUECF61G4HpVWQOF6FK5HkVVAH4XrUbhePUApXI/C9ehcQFK4HoXrEUtAzczMzMycUkAzMzMzM6NcQGZmZmZmZklAexSuR+E6XUAUrkfhelRKQIXrUbgeNVhAMzMzMzOzOEA9CtejcL06QFyPwvUo/ExApHA9CtcjXEBmZmZmZiZNQPYoXI/CVVNA9ihcj8KVXEApXI/C9Wg+QOF6FK5HoUFAw/UoXI+iU0BxPQrXo/A5QA==",
          "dtype": "f8"
         },
         "x0": " ",
         "xaxis": "x",
         "y0": " ",
         "yaxis": "y"
        },
        {
         "alignmentgroup": "True",
         "hovertemplate": "content_type=article<br>predictability_score=%{x}<extra></extra>",
         "legendgroup": "article",
         "marker": {
          "color": "#19d3f3"
         },
         "name": "article",
         "notched": false,
         "offsetgroup": "article",
         "orientation": "h",
         "showlegend": true,
         "type": "box",
         "x": {
          "bdata": "pHA9CtfjN0AUrkfhetQ4QEjhehSux0pAuB6F61FYQ0CF61G4HkVEQGZmZmZmpkhAj8L1KFzfVEDsUbgehWtGQJqZmZmZmTtAPQrXo3DdUkApXI/C9ShUQLgehetRmFZAhetRuB5lQkApXI/C9WhDQOF6FK5H4UpAXI/C9SgcQkC4HoXrUZhJQI/C9ShcL0xA9ihcj8J1UkBcj8L1KBxaQNejcD0KV1VAKVyPwvV4WkDD9Shcj0I+QNejcD0KVzxApHA9CtfDS0AUrkfhevRcQOxRuB6FK0xASOF6FK6HTEAAAAAAAKBBQLgehetReExArkfhehQOS0BI4XoUrqdRQLgehetReE1Aj8L1KFyvUECPwvUoXC9LQLgehetReEpAXI/C9ShcTkD2KFyPwrVCQBSuR+F6VDpA7FG4HoXLV0DNzMzMzCxIQBSuR+F6dExAuB6F61GYS0AzMzMzM/NGQFyPwvUoHEFAH4XrUbieWEDsUbgehctZQIXrUbgeBUJApHA9CteDSUD2KFyPwnVPQOxRuB6FazVAH4XrUbg+QUDsUbgehas7QIXrUbgedVtA4XoUrkeBQUDNzMzMzMxGQPYoXI/CNTRAhetRuB4FQ0DhehSuRyE0QMP1KFyPIk9ApHA9CtfDSEBI4XoUrmdUQB+F61G43kdArkfhehSuRUAUrkfhekRaQHsUrkfh2kRA9ihcj8LVTEBI4XoUridTQLgehetRGENApHA9CtdDQEDsUbgehUtGQArXo3A9CkxA7FG4HoXrSkBmZmZmZiZLQD0K16NwHU5APQrXo3D9NkCuR+F6FD5cQClcj8L1KD9AuB6F61E4OEAK16NwPVpRQHE9CtejIFBAZmZmZmYmQ0ApXI/C9eg+QMP1KFyP4ktA16NwPQpXWUDNzMzMzOxVQIXrUbgelVBA7FG4HoWrOkBSuB6F6zFLQB+F61G47lpAKVyPwvVoPkB7FK5H4epaQFyPwvUoXDpArkfhehQ+WkCuR+F6FI5GQEjhehSux0xAcT0K16OQXUD2KFyPwqVXQD0K16Nw3UxAAAAAAAAgT0AfhetRuF5DQI/C9ShcH1ZAH4XrUbj+UEC4HoXrUThHQD0K16NwbVhAexSuR+GaQkAzMzMzM1NIQBSuR+F6hFhA7FG4HoUrO0B7FK5H4RpNQBSuR+F6FDxAzczMzMwsRUDhehSuR2E3QOxRuB6FW1tA7FG4HoXrPUD2KFyPwpVbQMP1KFyPQjRAPQrXo3DNVUApXI/C9WhVQJqZmZmZmU1AcT0K16OwSUDD9Shcj+JSQJqZmZmZeURAj8L1KFxvSUC4HoXrUbhKQClcj8L1KD9AcT0K16MwO0DNzMzMzOxMQEjhehSuR0NArkfhehRuO0CPwvUoXD9VQMP1KFyPMlpAexSuR+E6QEAzMzMzMxNOQMP1KFyPslJA7FG4HoX7XUAAAAAAAKBRQPYoXI/CdVRAFK5H4XqEUUDsUbgehdtYQBSuR+F6RFJAcT0K16PwW0A=",
          "dtype": "f8"
         },
         "x0": " ",
         "xaxis": "x",
         "y0": " ",
         "yaxis": "y"
        },
        {
         "alignmentgroup": "True",
         "hovertemplate": "content_type=product_review<br>predictability_score=%{x}<extra></extra>",
         "legendgroup": "product_review",
         "marker": {
          "color": "#FF6692"
         },
         "name": "product_review",
         "notched": false,
         "offsetgroup": "product_review",
         "orientation": "h",
         "showlegend": true,
         "type": "box",
         "x": {
          "bdata": "KVyPwvUoQ0AAAAAAANBZQM3MzMzMPFtAuB6F61E4QkCPwvUoXC9KQLgehetRmEFAH4XrUbj+SkBcj8L1KFxNQGZmZmZmxkRA4XoUrkcBTUCuR+F6FL5aQAAAAAAAADdAj8L1KFxvWEA9CtejcJ1GQGZmZmZmpj5ApHA9CtczUkCF61G4HkVXQClcj8L1qDlAKVyPwvXoTUBmZmZmZqY7QAAAAAAAIE1ASOF6FK6HSkBmZmZmZrZXQHE9CtejkE1AUrgehetRTkAfhetRuL5CQClcj8L1qDVAzczMzMzsS0A9CtejcF1dQClcj8L16ElAhetRuB6VWUBxPQrXo3BJQFK4HoXrYVVAw/UoXI+iREDhehSuR6FMQNejcD0K90pAw/UoXI8iVkAzMzMzMxNTQOF6FK5HYVJAj8L1KFxvUED2KFyPwoVUQMP1KFyPgjlApHA9CteDSkBI4XoUrodYQArXo3A9CktAhetRuB5FSUBcj8L1KLxMQLgehetROFtArkfhehTuO0Bcj8L1KNw5QLgehetR+FRAPQrXo3AtU0CPwvUoXA9aQGZmZmZmRkhApHA9CtfjR0DNzMzMzMxNQFyPwvUorF1Aj8L1KFyvR0BmZmZmZmZZQClcj8L1mFdA9ihcj8J1VUCPwvUoXH9VQHE9CtejMFhAH4XrUbjOW0CF61G4HqVPQHE9CtejwFJAZmZmZmYmSkA9CtejcL1IQArXo3A9ml1AexSuR+E6S0CkcD0K1xNYQHE9CtejsERAhetRuB4FR0CPwvUoXC9dQB+F61G4DlRA16NwPQoXPUDNzMzMzKxMQNejcD0K51lAuB6F61H4QUCamZmZmQlSQLgehetRuFNAhetRuB41W0C4HoXrUbhSQMP1KFyPwjpA4XoUrkehSUDNzMzMzDxaQFyPwvUobFBAKVyPwvXIQkBI4XoUrhdQQI/C9ShcT1xAXI/C9SiMU0BxPQrXo7BCQM3MzMzMXFtAKVyPwvUoPkBI4XoUridKQClcj8L1yEZAPQrXo3BtUEBxPQrXo3BZQB+F61G4XjVAXI/C9Sg8R0AK16NwPRpbQNejcD0K91NAw/UoXI9SWECuR+F6FC41QFyPwvUoHFlAZmZmZmamSUBcj8L1KJxTQBSuR+F69FpAexSuR+G6NUAzMzMzM9NBQFK4HoXrsURAw/UoXI+iS0Bcj8L1KNxbQNejcD0KZ11Aj8L1KFyPTUD2KFyPwnVAQB+F61G4fkdA16NwPQoXVEA9CtejcP0+QAAAAAAAgDlAzczMzMwMTEBSuB6F63FUQM3MzMzMbEtArkfhehTOSkAfhetRuO5XQA==",
          "dtype": "f8"
         },
         "x0": " ",
         "xaxis": "x",
         "y0": " ",
         "yaxis": "y"
        },
        {
         "alignmentgroup": "True",
         "hovertemplate": "content_type=social_media<br>predictability_score=%{x}<extra></extra>",
         "legendgroup": "social_media",
         "marker": {
          "color": "#B6E880"
         },
         "name": "social_media",
         "notched": false,
         "offsetgroup": "social_media",
         "orientation": "h",
         "showlegend": true,
         "type": "box",
         "x": {
          "bdata": "hetRuB7FPkBxPQrXo6BQQHE9CtejUEpAAAAAAABgRkB7FK5H4dpPQJqZmZmZmUBArkfhehQuOkCPwvUoXB9ZQArXo3A9SjdASOF6FK7nUECuR+F6FH5YQI/C9Shc71BAH4XrUbgeN0BxPQrXo7BJQK5H4XoU7kBAw/UoXI+iTEBSuB6F67FHQB+F61G4jlpAUrgehesRWUA9CtejcM1bQClcj8L1SFxArkfhehReU0BI4XoUrldVQKRwPQrXg0NAZmZmZmZWUkA9CtejcP06QJqZmZmZWUpAj8L1KFyPR0CF61G4HuVaQNejcD0Kt0tAmpmZmZm5S0CF61G4HkU6QArXo3A9qltACtejcD1KWkDhehSuR8FIQDMzMzMzo1NAZmZmZmbmVEA=",
          "dtype": "f8"
         },
         "x0": " ",
         "xaxis": "x",
         "y0": " ",
         "yaxis": "y"
        }
       ],
       "layout": {
        "boxmode": "group",
        "legend": {
         "title": {
          "text": "content_type"
         },
         "tracegroupgap": 0
        },
        "plot_bgcolor": "black",
        "template": {
         "data": {
          "bar": [
           {
            "error_x": {
             "color": "#2a3f5f"
            },
            "error_y": {
             "color": "#2a3f5f"
            },
            "marker": {
             "line": {
              "color": "#E5ECF6",
              "width": 0.5
             },
             "pattern": {
              "fillmode": "overlay",
              "size": 10,
              "solidity": 0.2
             }
            },
            "type": "bar"
           }
          ],
          "barpolar": [
           {
            "marker": {
             "line": {
              "color": "#E5ECF6",
              "width": 0.5
             },
             "pattern": {
              "fillmode": "overlay",
              "size": 10,
              "solidity": 0.2
             }
            },
            "type": "barpolar"
           }
          ],
          "carpet": [
           {
            "aaxis": {
             "endlinecolor": "#2a3f5f",
             "gridcolor": "white",
             "linecolor": "white",
             "minorgridcolor": "white",
             "startlinecolor": "#2a3f5f"
            },
            "baxis": {
             "endlinecolor": "#2a3f5f",
             "gridcolor": "white",
             "linecolor": "white",
             "minorgridcolor": "white",
             "startlinecolor": "#2a3f5f"
            },
            "type": "carpet"
           }
          ],
          "choropleth": [
           {
            "colorbar": {
             "outlinewidth": 0,
             "ticks": ""
            },
            "type": "choropleth"
           }
          ],
          "contour": [
           {
            "colorbar": {
             "outlinewidth": 0,
             "ticks": ""
            },
            "colorscale": [
             [
              0,
              "#0d0887"
             ],
             [
              0.1111111111111111,
              "#46039f"
             ],
             [
              0.2222222222222222,
              "#7201a8"
             ],
             [
              0.3333333333333333,
              "#9c179e"
             ],
             [
              0.4444444444444444,
              "#bd3786"
             ],
             [
              0.5555555555555556,
              "#d8576b"
             ],
             [
              0.6666666666666666,
              "#ed7953"
             ],
             [
              0.7777777777777778,
              "#fb9f3a"
             ],
             [
              0.8888888888888888,
              "#fdca26"
             ],
             [
              1,
              "#f0f921"
             ]
            ],
            "type": "contour"
           }
          ],
          "contourcarpet": [
           {
            "colorbar": {
             "outlinewidth": 0,
             "ticks": ""
            },
            "type": "contourcarpet"
           }
          ],
          "heatmap": [
           {
            "colorbar": {
             "outlinewidth": 0,
             "ticks": ""
            },
            "colorscale": [
             [
              0,
              "#0d0887"
             ],
             [
              0.1111111111111111,
              "#46039f"
             ],
             [
              0.2222222222222222,
              "#7201a8"
             ],
             [
              0.3333333333333333,
              "#9c179e"
             ],
             [
              0.4444444444444444,
              "#bd3786"
             ],
             [
              0.5555555555555556,
              "#d8576b"
             ],
             [
              0.6666666666666666,
              "#ed7953"
             ],
             [
              0.7777777777777778,
              "#fb9f3a"
             ],
             [
              0.8888888888888888,
              "#fdca26"
             ],
             [
              1,
              "#f0f921"
             ]
            ],
            "type": "heatmap"
           }
          ],
          "histogram": [
           {
            "marker": {
             "pattern": {
              "fillmode": "overlay",
              "size": 10,
              "solidity": 0.2
             }
            },
            "type": "histogram"
           }
          ],
          "histogram2d": [
           {
            "colorbar": {
             "outlinewidth": 0,
             "ticks": ""
            },
            "colorscale": [
             [
              0,
              "#0d0887"
             ],
             [
              0.1111111111111111,
              "#46039f"
             ],
             [
              0.2222222222222222,
              "#7201a8"
             ],
             [
              0.3333333333333333,
              "#9c179e"
             ],
             [
              0.4444444444444444,
              "#bd3786"
             ],
             [
              0.5555555555555556,
              "#d8576b"
             ],
             [
              0.6666666666666666,
              "#ed7953"
             ],
             [
              0.7777777777777778,
              "#fb9f3a"
             ],
             [
              0.8888888888888888,
              "#fdca26"
             ],
             [
              1,
              "#f0f921"
             ]
            ],
            "type": "histogram2d"
           }
          ],
          "histogram2dcontour": [
           {
            "colorbar": {
             "outlinewidth": 0,
             "ticks": ""
            },
            "colorscale": [
             [
              0,
              "#0d0887"
             ],
             [
              0.1111111111111111,
              "#46039f"
             ],
             [
              0.2222222222222222,
              "#7201a8"
             ],
             [
              0.3333333333333333,
              "#9c179e"
             ],
             [
              0.4444444444444444,
              "#bd3786"
             ],
             [
              0.5555555555555556,
              "#d8576b"
             ],
             [
              0.6666666666666666,
              "#ed7953"
             ],
             [
              0.7777777777777778,
              "#fb9f3a"
             ],
             [
              0.8888888888888888,
              "#fdca26"
             ],
             [
              1,
              "#f0f921"
             ]
            ],
            "type": "histogram2dcontour"
           }
          ],
          "mesh3d": [
           {
            "colorbar": {
             "outlinewidth": 0,
             "ticks": ""
            },
            "type": "mesh3d"
           }
          ],
          "parcoords": [
           {
            "line": {
             "colorbar": {
              "outlinewidth": 0,
              "ticks": ""
             }
            },
            "type": "parcoords"
           }
          ],
          "pie": [
           {
            "automargin": true,
            "type": "pie"
           }
          ],
          "scatter": [
           {
            "fillpattern": {
             "fillmode": "overlay",
             "size": 10,
             "solidity": 0.2
            },
            "type": "scatter"
           }
          ],
          "scatter3d": [
           {
            "line": {
             "colorbar": {
              "outlinewidth": 0,
              "ticks": ""
             }
            },
            "marker": {
             "colorbar": {
              "outlinewidth": 0,
              "ticks": ""
             }
            },
            "type": "scatter3d"
           }
          ],
          "scattercarpet": [
           {
            "marker": {
             "colorbar": {
              "outlinewidth": 0,
              "ticks": ""
             }
            },
            "type": "scattercarpet"
           }
          ],
          "scattergeo": [
           {
            "marker": {
             "colorbar": {
              "outlinewidth": 0,
              "ticks": ""
             }
            },
            "type": "scattergeo"
           }
          ],
          "scattergl": [
           {
            "marker": {
             "colorbar": {
              "outlinewidth": 0,
              "ticks": ""
             }
            },
            "type": "scattergl"
           }
          ],
          "scattermap": [
           {
            "marker": {
             "colorbar": {
              "outlinewidth": 0,
              "ticks": ""
             }
            },
            "type": "scattermap"
           }
          ],
          "scattermapbox": [
           {
            "marker": {
             "colorbar": {
              "outlinewidth": 0,
              "ticks": ""
             }
            },
            "type": "scattermapbox"
           }
          ],
          "scatterpolar": [
           {
            "marker": {
             "colorbar": {
              "outlinewidth": 0,
              "ticks": ""
             }
            },
            "type": "scatterpolar"
           }
          ],
          "scatterpolargl": [
           {
            "marker": {
             "colorbar": {
              "outlinewidth": 0,
              "ticks": ""
             }
            },
            "type": "scatterpolargl"
           }
          ],
          "scatterternary": [
           {
            "marker": {
             "colorbar": {
              "outlinewidth": 0,
              "ticks": ""
             }
            },
            "type": "scatterternary"
           }
          ],
          "surface": [
           {
            "colorbar": {
             "outlinewidth": 0,
             "ticks": ""
            },
            "colorscale": [
             [
              0,
              "#0d0887"
             ],
             [
              0.1111111111111111,
              "#46039f"
             ],
             [
              0.2222222222222222,
              "#7201a8"
             ],
             [
              0.3333333333333333,
              "#9c179e"
             ],
             [
              0.4444444444444444,
              "#bd3786"
             ],
             [
              0.5555555555555556,
              "#d8576b"
             ],
             [
              0.6666666666666666,
              "#ed7953"
             ],
             [
              0.7777777777777778,
              "#fb9f3a"
             ],
             [
              0.8888888888888888,
              "#fdca26"
             ],
             [
              1,
              "#f0f921"
             ]
            ],
            "type": "surface"
           }
          ],
          "table": [
           {
            "cells": {
             "fill": {
              "color": "#EBF0F8"
             },
             "line": {
              "color": "white"
             }
            },
            "header": {
             "fill": {
              "color": "#C8D4E3"
             },
             "line": {
              "color": "white"
             }
            },
            "type": "table"
           }
          ]
         },
         "layout": {
          "annotationdefaults": {
           "arrowcolor": "#2a3f5f",
           "arrowhead": 0,
           "arrowwidth": 1
          },
          "autotypenumbers": "strict",
          "coloraxis": {
           "colorbar": {
            "outlinewidth": 0,
            "ticks": ""
           }
          },
          "colorscale": {
           "diverging": [
            [
             0,
             "#8e0152"
            ],
            [
             0.1,
             "#c51b7d"
            ],
            [
             0.2,
             "#de77ae"
            ],
            [
             0.3,
             "#f1b6da"
            ],
            [
             0.4,
             "#fde0ef"
            ],
            [
             0.5,
             "#f7f7f7"
            ],
            [
             0.6,
             "#e6f5d0"
            ],
            [
             0.7,
             "#b8e186"
            ],
            [
             0.8,
             "#7fbc41"
            ],
            [
             0.9,
             "#4d9221"
            ],
            [
             1,
             "#276419"
            ]
           ],
           "sequential": [
            [
             0,
             "#0d0887"
            ],
            [
             0.1111111111111111,
             "#46039f"
            ],
            [
             0.2222222222222222,
             "#7201a8"
            ],
            [
             0.3333333333333333,
             "#9c179e"
            ],
            [
             0.4444444444444444,
             "#bd3786"
            ],
            [
             0.5555555555555556,
             "#d8576b"
            ],
            [
             0.6666666666666666,
             "#ed7953"
            ],
            [
             0.7777777777777778,
             "#fb9f3a"
            ],
            [
             0.8888888888888888,
             "#fdca26"
            ],
            [
             1,
             "#f0f921"
            ]
           ],
           "sequentialminus": [
            [
             0,
             "#0d0887"
            ],
            [
             0.1111111111111111,
             "#46039f"
            ],
            [
             0.2222222222222222,
             "#7201a8"
            ],
            [
             0.3333333333333333,
             "#9c179e"
            ],
            [
             0.4444444444444444,
             "#bd3786"
            ],
            [
             0.5555555555555556,
             "#d8576b"
            ],
            [
             0.6666666666666666,
             "#ed7953"
            ],
            [
             0.7777777777777778,
             "#fb9f3a"
            ],
            [
             0.8888888888888888,
             "#fdca26"
            ],
            [
             1,
             "#f0f921"
            ]
           ]
          },
          "colorway": [
           "#636efa",
           "#EF553B",
           "#00cc96",
           "#ab63fa",
           "#FFA15A",
           "#19d3f3",
           "#FF6692",
           "#B6E880",
           "#FF97FF",
           "#FECB52"
          ],
          "font": {
           "color": "#2a3f5f"
          },
          "geo": {
           "bgcolor": "white",
           "lakecolor": "white",
           "landcolor": "#E5ECF6",
           "showlakes": true,
           "showland": true,
           "subunitcolor": "white"
          },
          "hoverlabel": {
           "align": "left"
          },
          "hovermode": "closest",
          "mapbox": {
           "style": "light"
          },
          "paper_bgcolor": "white",
          "plot_bgcolor": "#E5ECF6",
          "polar": {
           "angularaxis": {
            "gridcolor": "white",
            "linecolor": "white",
            "ticks": ""
           },
           "bgcolor": "#E5ECF6",
           "radialaxis": {
            "gridcolor": "white",
            "linecolor": "white",
            "ticks": ""
           }
          },
          "scene": {
           "xaxis": {
            "backgroundcolor": "#E5ECF6",
            "gridcolor": "white",
            "gridwidth": 2,
            "linecolor": "white",
            "showbackground": true,
            "ticks": "",
            "zerolinecolor": "white"
           },
           "yaxis": {
            "backgroundcolor": "#E5ECF6",
            "gridcolor": "white",
            "gridwidth": 2,
            "linecolor": "white",
            "showbackground": true,
            "ticks": "",
            "zerolinecolor": "white"
           },
           "zaxis": {
            "backgroundcolor": "#E5ECF6",
            "gridcolor": "white",
            "gridwidth": 2,
            "linecolor": "white",
            "showbackground": true,
            "ticks": "",
            "zerolinecolor": "white"
           }
          },
          "shapedefaults": {
           "line": {
            "color": "#2a3f5f"
           }
          },
          "ternary": {
           "aaxis": {
            "gridcolor": "white",
            "linecolor": "white",
            "ticks": ""
           },
           "baxis": {
            "gridcolor": "white",
            "linecolor": "white",
            "ticks": ""
           },
           "bgcolor": "#E5ECF6",
           "caxis": {
            "gridcolor": "white",
            "linecolor": "white",
            "ticks": ""
           }
          },
          "title": {
           "x": 0.05
          },
          "xaxis": {
           "automargin": true,
           "gridcolor": "white",
           "linecolor": "white",
           "ticks": "",
           "title": {
            "standoff": 15
           },
           "zerolinecolor": "white",
           "zerolinewidth": 2
          },
          "yaxis": {
           "automargin": true,
           "gridcolor": "white",
           "linecolor": "white",
           "ticks": "",
           "title": {
            "standoff": 15
           },
           "zerolinecolor": "white",
           "zerolinewidth": 2
          }
         }
        },
        "title": {
         "text": "Predictability Score across content Types"
        },
        "xaxis": {
         "anchor": "y",
         "domain": [
          0,
          1
         ],
         "title": {
          "text": "Predictability Score "
         }
        },
        "yaxis": {
         "anchor": "x",
         "domain": [
          0,
          1
         ],
         "title": {
          "text": "Count"
         }
        }
       }
      }
     },
     "metadata": {},
     "output_type": "display_data"
    }
   ],
   "source": [
    "fig = px.box(df , x = 'predictability_score' , color='content_type' , title= 'Predictability Score across content Types')\n",
    "\n",
    "fig.update_layout(xaxis_title='Predictability Score ', yaxis_title='Count')\n",
    "\n",
    "fig.update_layout(plot_bgcolor='black')\n",
    "fig.show()\n"
   ]
  },
  {
   "cell_type": "markdown",
   "id": "4f02b5cc",
   "metadata": {},
   "source": [
    "**Overall level:** Predictability spans a wide range (roughly 20–120) with heavy overlap among all content types. Medians for most categories sit around the mid‑60s to mid‑70s.\n",
    "\n",
    "**Central tendencies:**\n",
    "- **Higher central predictability**: academic_paper, news_article, essay, and product_review cluster slightly to the right, consistent with more standardized structure and recurring phrasing.\n",
    "- **Lower central predictability:** creative_writing and blog_post lean slightly left, reflecting freer style and more varied wording.\n",
    "- **Middle/variable:** article and social_media sit near the center but show broad spread.\n",
    "\n",
    "**Variability:**\n",
    "- **Widest spread:** social_media and product_review exhibit the longest whiskers, indicating both highly templated and highly idiosyncratic pieces within those categories.\n",
    "- **Tighter distributions:** academic_paper and news_article show comparatively narrower IQRs, suggesting steadier editorial conventions.\n",
    "\n",
    "\n",
    "**Extremes:** High‑score outliers appear in most formal categories (very formulaic pieces); low‑score outliers are most visible for social_media and creative_writing (unpredictable or experimental language)."
   ]
  },
  {
   "cell_type": "markdown",
   "id": "65a21353",
   "metadata": {},
   "source": [
    "### **Q-Is there a connection between sentiment_score and content_type? For example, are news articles more negative?**"
   ]
  },
  {
   "cell_type": "code",
   "execution_count": 17,
   "id": "b4ee93f5",
   "metadata": {},
   "outputs": [
    {
     "data": {
      "application/vnd.plotly.v1+json": {
       "config": {
        "plotlyServerURL": "https://plot.ly"
       },
       "data": [
        {
         "alignmentgroup": "True",
         "boxpoints": "all",
         "hovertemplate": "Content Type=%{x}<br>Sentiment Score=%{y}<extra></extra>",
         "legendgroup": "academic_paper",
         "marker": {
          "color": "#636efa"
         },
         "name": "academic_paper",
         "notched": false,
         "offsetgroup": "academic_paper",
         "orientation": "v",
         "showlegend": true,
         "type": "box",
         "x": [
          "academic_paper",
          "academic_paper",
          "academic_paper",
          "academic_paper",
          "academic_paper",
          "academic_paper",
          "academic_paper",
          "academic_paper",
          "academic_paper",
          "academic_paper",
          "academic_paper",
          "academic_paper",
          "academic_paper",
          "academic_paper",
          "academic_paper",
          "academic_paper",
          "academic_paper",
          "academic_paper",
          "academic_paper",
          "academic_paper",
          "academic_paper",
          "academic_paper",
          "academic_paper",
          "academic_paper",
          "academic_paper",
          "academic_paper",
          "academic_paper",
          "academic_paper",
          "academic_paper",
          "academic_paper",
          "academic_paper",
          "academic_paper",
          "academic_paper",
          "academic_paper",
          "academic_paper",
          "academic_paper",
          "academic_paper",
          "academic_paper",
          "academic_paper",
          "academic_paper",
          "academic_paper",
          "academic_paper",
          "academic_paper",
          "academic_paper",
          "academic_paper",
          "academic_paper",
          "academic_paper",
          "academic_paper",
          "academic_paper",
          "academic_paper",
          "academic_paper",
          "academic_paper",
          "academic_paper",
          "academic_paper",
          "academic_paper",
          "academic_paper",
          "academic_paper",
          "academic_paper",
          "academic_paper",
          "academic_paper",
          "academic_paper",
          "academic_paper",
          "academic_paper",
          "academic_paper",
          "academic_paper",
          "academic_paper",
          "academic_paper",
          "academic_paper",
          "academic_paper",
          "academic_paper",
          "academic_paper",
          "academic_paper",
          "academic_paper",
          "academic_paper",
          "academic_paper",
          "academic_paper",
          "academic_paper",
          "academic_paper",
          "academic_paper",
          "academic_paper",
          "academic_paper",
          "academic_paper",
          "academic_paper",
          "academic_paper",
          "academic_paper",
          "academic_paper",
          "academic_paper",
          "academic_paper",
          "academic_paper",
          "academic_paper",
          "academic_paper",
          "academic_paper",
          "academic_paper",
          "academic_paper",
          "academic_paper",
          "academic_paper",
          "academic_paper",
          "academic_paper",
          "academic_paper",
          "academic_paper",
          "academic_paper",
          "academic_paper",
          "academic_paper",
          "academic_paper",
          "academic_paper",
          "academic_paper",
          "academic_paper",
          "academic_paper"
         ],
         "x0": " ",
         "xaxis": "x",
         "y": {
          "bdata": "t9EA3gIJyj+rPldbsb/mPxueXinLEMc/qz5XW7G/zD9eukkMAivPv/tcbcX+suO/V+wvuycPw790JJf/kH7rP/T91HjpJu2/C0YldQKauD+ASL99HTjTP3h6pSxDHO8/Io51cRsN4L8J+aBns+rXvzvfT42XbtY/8KfGSzeJ1b8rGJXUCWjkP7wFEhQ/xu6/78nDQq1p4r8vbqMBvAXsv0XY8PRKWew/GCZTBaOS4D9Iv30dOGfcP5M6AU2EDec/+n5qvHST7L8eFmpN847lv4iFWtO848y/KA8LtaZ56z+OBvAWSFDsv5Jc/kP67e+/VOOlm8Qg0D/xY8xdS8jXv+F6FK5H4ey/T0ATYcPTy7/dtYR80LPvP/s6cM6I0sa//mX35GGhlr+TGARWDi3gP/p+arx0k4g/O99PjZdu7r9jf9k9eVjoPwU0ETY8veS/mpmZmZmZ5z8UrkfhehTOP1tCPujZrMI//TjBRPJggL90tRX7y+7jv2recYqO5Oo/MLsnDwu14j9b07zjFB3BP8gHPZtVn+M/IGPuWkI+wL89m1Wfq63mP4cW2c73U+U/16NwPQrX6T8i/fZ14Jztv9qs+lxtxd4/W9O84xQd1T+6SQwCK4e2v3E9CtejcOu/1CtlGeJY1z/Oqs/VVuzTv7U3+MJkqsi/CD2bVZ+rzT9/+zpwzojiP8sQx7q4jd4//TjBRPJggL+JQWDl0CLhv4ofY+5aQuq/sHJoke1817+aCBueXinhv0HxY8xdS+i/TRWMSuoE7L8p7Q2+MJnSP/p+arx0k3g/tTf4wmSq6r8bDeAtkKDiP9Sa5h2n6Oq/liGOdXEb5z/whclUwai0PwdfmEwVjO6/1JrmHafo2D/wp8ZLN4nvP8cpOpLLf+I/JXUCmggb6L9txf6ye/KwP4ofY+5aQq4/jNtoAG+B7r8UP8bctYTsP9CzWfW52sq/yXa+nxovnb+b5h2n6EjWv26jAbwFEuI/NIC3QILi5z/u68A5I0qrv5hMFYxK6tS/SS7/If32tT9nRGlv8IXrPyGwcmiR7cQ/4zYawFsg7z/9OMFE8mCAv+kmMQisHKq/z/dT46Wb4j+ZKhiV1AnIvy/dJAaBle8/3bWEfNCz6b8YJlMFo5Liv7bz/dR46c4/",
          "dtype": "f8"
         },
         "y0": " ",
         "yaxis": "y"
        },
        {
         "alignmentgroup": "True",
         "boxpoints": "all",
         "hovertemplate": "Content Type=%{x}<br>Sentiment Score=%{y}<extra></extra>",
         "legendgroup": "essay",
         "marker": {
          "color": "#EF553B"
         },
         "name": "essay",
         "notched": false,
         "offsetgroup": "essay",
         "orientation": "v",
         "showlegend": true,
         "type": "box",
         "x": [
          "essay",
          "essay",
          "essay",
          "essay",
          "essay",
          "essay",
          "essay",
          "essay",
          "essay",
          "essay",
          "essay",
          "essay",
          "essay",
          "essay",
          "essay",
          "essay",
          "essay",
          "essay",
          "essay",
          "essay",
          "essay",
          "essay",
          "essay",
          "essay",
          "essay",
          "essay",
          "essay",
          "essay",
          "essay",
          "essay",
          "essay",
          "essay",
          "essay",
          "essay",
          "essay",
          "essay",
          "essay",
          "essay",
          "essay",
          "essay",
          "essay",
          "essay",
          "essay",
          "essay",
          "essay",
          "essay",
          "essay",
          "essay",
          "essay",
          "essay",
          "essay",
          "essay",
          "essay",
          "essay",
          "essay",
          "essay",
          "essay",
          "essay",
          "essay",
          "essay",
          "essay",
          "essay",
          "essay",
          "essay",
          "essay",
          "essay",
          "essay",
          "essay",
          "essay",
          "essay",
          "essay",
          "essay",
          "essay",
          "essay",
          "essay",
          "essay",
          "essay",
          "essay",
          "essay",
          "essay",
          "essay",
          "essay",
          "essay",
          "essay",
          "essay",
          "essay",
          "essay",
          "essay",
          "essay",
          "essay",
          "essay",
          "essay",
          "essay",
          "essay",
          "essay",
          "essay",
          "essay",
          "essay",
          "essay",
          "essay",
          "essay",
          "essay",
          "essay",
          "essay",
          "essay",
          "essay",
          "essay",
          "essay",
          "essay",
          "essay",
          "essay",
          "essay",
          "essay",
          "essay",
          "essay",
          "essay",
          "essay",
          "essay",
          "essay",
          "essay",
          "essay",
          "essay",
          "essay",
          "essay",
          "essay",
          "essay",
          "essay",
          "essay",
          "essay",
          "essay",
          "essay",
          "essay",
          "essay",
          "essay",
          "essay",
          "essay",
          "essay",
          "essay",
          "essay",
          "essay",
          "essay",
          "essay",
          "essay",
          "essay",
          "essay",
          "essay",
          "essay",
          "essay",
          "essay",
          "essay",
          "essay",
          "essay"
         ],
         "x0": " ",
         "xaxis": "x",
         "y": {
          "bdata": "G55eKcsQ3z8DCYofY+7kv9c07zhFR6K/ysNCrWne4z/Jdr6fGi/Fv/8h/fZ14NA/t9EA3gIJ4j8qOpLLf0jXv5p3nKIjudQ/Gy/dJAaB7T/ysFBrmnfQPzBMpgpGJeM/xSCwcmiR47/PZtXnaivqv8WPMXctIX8/24r9Zffk5b/67evAOSPKv9Xnaiv2l9W/5BQdyeU/0D/ChqdXyjLqPyh+jLlrCec/7FG4HoXr3T9rmnecoiPrv+SDns2qz+0/001iEFg56j/n+6nx0k3svxzr4jYawO0/o5I6AU2ExT8YJlMFo5LsvxpR2ht8YcK/s+pztRX7w79pAG+BBMXTPx1aZDvfT+c//TjBRPJggL8oDwu1pnntPyBB8WPMXdc/3+ALk6mC6z+X/5B++zrQv9cS8kHPZuc/WMoyxLEu5j+coiO5/IfMv8xdS8gHPds/c2iR7Xw/5b91kxgEVg7RP9obfGEyVei/OGdEaW/w678Rx7q4jQbgP+LplbIMccS/wFsgQfFj7D+utmJ/2T3pP8zuycNCrcm/bVZ9rrZi5b8Ab4EExY/Jv9Sa5h2n6OI/E2HD0ytleb97gy9Mpgrgv6OSOgFNhO2/hetRuB6F7b8rGJXUCWiyP4V80LNZ9dU/sp3vp8ZLtz89CtejcD3qv9BE2PD0Spk/XCBB8WPMxb/fT42XbhLfvw6+MJkqGOM/RiV1ApoI77/3deCcEaXhP9nO91PjpeW/IGPuWkI+wD+uR+F6FK7tP/04wUTyYIC/FD/G3LWE0D8wuycPC7XuvxniWBe30e4//TjBRPJggL9Cz2bV52rrP0mdgCbChtu/hlrTvOMU4T+zDHGsi9vYv68l5IOezeq/48eYu5aQ5z+qYFRSJ6DvP7mNBvAWSMi/JlMFo5I65T/dtYR80LPVPx04Z0Rpb9g/bqMBvAUSpD8RNjy9UpbBv9xoAG+BBOW/irDh6ZWy4D/pJjEIrBzgvwkbnl4py9Q/BTQRNjy96r/XEvJBz2btv0tZhjjWxdG/okW28/3UuL9O0ZFc/kPkv166SQwCK9s//TjBRPJggL/2KFyPwvXuPyo6kst/SO8/KH6MuWsJ0T8dyeU/pN/kP1ioNc07Tu2/ppvEILBy6D+rz9VW7C/rP/yp8dJNYrC/jSjtDb4wyT9Q/Bhz1xLSP/7UeOkmMeA/y6FFtvP90D+aCBueXim7v1kXt9EA3uq/CtejcD0Kzz/M7snDQq3hv+oENBE2POO/fh04Z0Rpv7+At0CC4sfIP73jFB3J5ee/IbByaJHt1D/7OnDOiNLqP4V80LNZ9am/hlrTvOMUnb/KVMGopE7iP4iFWtO84+i/9dvXgXNG5j8B3gIJih/LP6g1zTtO0eU/cvkP6bev7T/NO07RkVzSPwmKH2PuWtI/T0ATYcPT7T/NO07RkVzgv00VjErqBNg/+zpwzojSrj924JwRpb3nPy0hH/RsVs0/Qxzr4jYa5D+3Yn/ZPXnuPyV1ApoIG+Q/ysNCrWneoT+4QILix5jLP9uK/WX35Mm/H/RsVn2uzr/jpZvEILDuv00VjErqBO6/R3L5D+m3679hMlUwKqnTv9cS8kHPZu2/Ad4CCYof2z/9OMFE8mCAvw==",
          "dtype": "f8"
         },
         "y0": " ",
         "yaxis": "y"
        },
        {
         "alignmentgroup": "True",
         "boxpoints": "all",
         "hovertemplate": "Content Type=%{x}<br>Sentiment Score=%{y}<extra></extra>",
         "legendgroup": "creative_writing",
         "marker": {
          "color": "#00cc96"
         },
         "name": "creative_writing",
         "notched": false,
         "offsetgroup": "creative_writing",
         "orientation": "v",
         "showlegend": true,
         "type": "box",
         "x": [
          "creative_writing",
          "creative_writing",
          "creative_writing",
          "creative_writing",
          "creative_writing",
          "creative_writing",
          "creative_writing",
          "creative_writing",
          "creative_writing",
          "creative_writing",
          "creative_writing",
          "creative_writing",
          "creative_writing",
          "creative_writing",
          "creative_writing",
          "creative_writing",
          "creative_writing",
          "creative_writing",
          "creative_writing",
          "creative_writing",
          "creative_writing",
          "creative_writing",
          "creative_writing",
          "creative_writing",
          "creative_writing",
          "creative_writing",
          "creative_writing",
          "creative_writing",
          "creative_writing",
          "creative_writing",
          "creative_writing",
          "creative_writing",
          "creative_writing",
          "creative_writing",
          "creative_writing",
          "creative_writing",
          "creative_writing",
          "creative_writing",
          "creative_writing",
          "creative_writing",
          "creative_writing",
          "creative_writing",
          "creative_writing",
          "creative_writing",
          "creative_writing",
          "creative_writing",
          "creative_writing",
          "creative_writing",
          "creative_writing",
          "creative_writing",
          "creative_writing",
          "creative_writing",
          "creative_writing",
          "creative_writing",
          "creative_writing",
          "creative_writing",
          "creative_writing",
          "creative_writing",
          "creative_writing",
          "creative_writing",
          "creative_writing",
          "creative_writing",
          "creative_writing",
          "creative_writing",
          "creative_writing",
          "creative_writing",
          "creative_writing",
          "creative_writing",
          "creative_writing",
          "creative_writing",
          "creative_writing",
          "creative_writing",
          "creative_writing",
          "creative_writing",
          "creative_writing",
          "creative_writing",
          "creative_writing",
          "creative_writing",
          "creative_writing",
          "creative_writing",
          "creative_writing",
          "creative_writing",
          "creative_writing",
          "creative_writing",
          "creative_writing",
          "creative_writing",
          "creative_writing",
          "creative_writing",
          "creative_writing",
          "creative_writing",
          "creative_writing",
          "creative_writing",
          "creative_writing",
          "creative_writing",
          "creative_writing",
          "creative_writing",
          "creative_writing",
          "creative_writing",
          "creative_writing",
          "creative_writing",
          "creative_writing",
          "creative_writing",
          "creative_writing",
          "creative_writing",
          "creative_writing",
          "creative_writing",
          "creative_writing",
          "creative_writing",
          "creative_writing",
          "creative_writing",
          "creative_writing",
          "creative_writing",
          "creative_writing",
          "creative_writing",
          "creative_writing",
          "creative_writing",
          "creative_writing",
          "creative_writing",
          "creative_writing",
          "creative_writing",
          "creative_writing",
          "creative_writing",
          "creative_writing",
          "creative_writing",
          "creative_writing",
          "creative_writing",
          "creative_writing",
          "creative_writing",
          "creative_writing",
          "creative_writing",
          "creative_writing",
          "creative_writing",
          "creative_writing",
          "creative_writing",
          "creative_writing",
          "creative_writing",
          "creative_writing",
          "creative_writing",
          "creative_writing",
          "creative_writing",
          "creative_writing",
          "creative_writing"
         ],
         "x0": " ",
         "xaxis": "x",
         "y": {
          "bdata": "/TjBRPJggL/D0ytlGeKYv/04wUTyYIC/p+hILv8hrb+WQ4ts5/vtv0HxY8xdS+a/Nqs+V1ux779b07zjFB3jP7RZ9bnaiue/PE7RkVz+578/V1uxv+zsv9QrZRniWOc//TjBRPJggL9vEoPAyqHVPxUdyeU/pJ+/HHxhMlUw7D/D0ytlGeLcv1YOLbKd79e/9pfdk4eF0r9EaW/whcnsv4nS3uALk7k/exSuR+F66L/FILByaJHVPxUdyeU/pNs/tMh2vp8a5z8nMQisHFrkvylcj8L1KOa/5IOezarPlb+itDf4wmS6P3npJjEIrNC/1XjpJjEIxD9FR3L5D+nbv0Ck374OnOe/3pOHhVrT5j+Rfvs6cM7Qv3ctIR/0bOg/7Q2+MJkqeD/XNO84RUfKvyV1ApoIG+g/4JwRpb3BZ79SSZ2AJsLuv/04wUTyYIC/rK3YX3ZPjr+OdXEbDeDnv26jAbwFEpQ/3bWEfNCzwT99PzVeuknQP7G/7J48LOg/JCh+jLlr47+h1jTvOEXXPwRWDi2ynb8/0ZFc/kP677/J5T+k377sv0jhehSuR8m/4QuTqYJR5T8qOpLLf0jpP+5aQj7o2di/KqkT0ETY2L/9OMFE8mCAv2iR7Xw/Nd4/aCJseHqlzL/sL7snDwvjv1FrmnecosO/LNSa5h2n2L/x9EpZhjjkP1TjpZvEIOi/YqHWNO847z8/xty1hHzUP2dEaW/whdk/kQ96Nqs+p78KaCJseHrrvx1aZDvfT9W/1QloImx40j/pJjEIrBzgv8IXJlMFo5I/HcnlP6Tfxr+I9NvXgXPov+QUHcnlP7Q/WMoyxLEu4L8Ab4EExY/hv0I+6Nms+sy/q8/VVuwv7T8Mk6mCUUndv6jGSzeJQeY/iIVa07zj4j+rz9VW7C/nP0GC4seYu8Y/BoGVQ4ts2z8dyeU/pN/uv3sUrkfheuw/veMUHcnlr7/FILByaJHdv8NkqmBUUsc/nl4pyxDHur/ysFBrmnfoPxrAWyBB8e+/oWez6nO15z80ETY8vVLWPyh+jLlrCd2/xf6ye/Kw4j90JJf/kH7TP4j029eBc+y/5j+k374OzL/GbTSAt0DkP2uad5yiI7k/WYY41sVt1D8m5IOezarPv6UsQxzr4uI/eqUsQxzrwr+DwMqhRbbhv9ejcD0K19M/PZtVn6ut3L+dEaW9wRfav1JJnYAmws4/XI/C9Shc1z9kXdxGA3jbv7hAguLHmLs/Iv32deCc1b+/DpwzorTHP/RsVn2utuY/sAPnjCjt2b8dWmQ730/jv1YOLbKd79u/SnuDL0ymyr+gGi/dJAbjv/fkYaHWNM+/1CtlGeJYzz+94xQdyeXTv2/whclUwbi/UrgehetR5r9vgQTFjzHvP4Y41sVtNLA/gnNGlPYG7T/QRNjw9ErJP1+YTBWMSsq/G55eKcsQ1z9fmEwVjEq6P3RGlPYGX+i/Z9Xnaiv207+eXinLEMfaP/KwUGuad+g/qaROQBNhwz8=",
          "dtype": "f8"
         },
         "y0": " ",
         "yaxis": "y"
        },
        {
         "alignmentgroup": "True",
         "boxpoints": "all",
         "hovertemplate": "Content Type=%{x}<br>Sentiment Score=%{y}<extra></extra>",
         "legendgroup": "news_article",
         "marker": {
          "color": "#ab63fa"
         },
         "name": "news_article",
         "notched": false,
         "offsetgroup": "news_article",
         "orientation": "v",
         "showlegend": true,
         "type": "box",
         "x": [
          "news_article",
          "news_article",
          "news_article",
          "news_article",
          "news_article",
          "news_article",
          "news_article",
          "news_article",
          "news_article",
          "news_article",
          "news_article",
          "news_article",
          "news_article",
          "news_article",
          "news_article",
          "news_article",
          "news_article",
          "news_article",
          "news_article",
          "news_article",
          "news_article",
          "news_article",
          "news_article",
          "news_article",
          "news_article",
          "news_article",
          "news_article",
          "news_article",
          "news_article",
          "news_article",
          "news_article",
          "news_article",
          "news_article",
          "news_article",
          "news_article",
          "news_article",
          "news_article",
          "news_article",
          "news_article",
          "news_article",
          "news_article",
          "news_article",
          "news_article",
          "news_article",
          "news_article",
          "news_article",
          "news_article",
          "news_article",
          "news_article",
          "news_article",
          "news_article",
          "news_article",
          "news_article",
          "news_article",
          "news_article",
          "news_article",
          "news_article",
          "news_article",
          "news_article",
          "news_article",
          "news_article",
          "news_article",
          "news_article",
          "news_article",
          "news_article",
          "news_article",
          "news_article",
          "news_article",
          "news_article",
          "news_article",
          "news_article",
          "news_article",
          "news_article",
          "news_article",
          "news_article",
          "news_article",
          "news_article",
          "news_article",
          "news_article",
          "news_article",
          "news_article",
          "news_article",
          "news_article",
          "news_article",
          "news_article",
          "news_article",
          "news_article",
          "news_article",
          "news_article",
          "news_article",
          "news_article",
          "news_article",
          "news_article",
          "news_article",
          "news_article",
          "news_article",
          "news_article",
          "news_article",
          "news_article",
          "news_article",
          "news_article",
          "news_article",
          "news_article",
          "news_article",
          "news_article",
          "news_article",
          "news_article",
          "news_article",
          "news_article",
          "news_article",
          "news_article",
          "news_article",
          "news_article",
          "news_article",
          "news_article",
          "news_article",
          "news_article",
          "news_article",
          "news_article",
          "news_article",
          "news_article",
          "news_article",
          "news_article",
          "news_article",
          "news_article",
          "news_article",
          "news_article",
          "news_article",
          "news_article",
          "news_article",
          "news_article",
          "news_article",
          "news_article",
          "news_article",
          "news_article",
          "news_article",
          "news_article",
          "news_article",
          "news_article",
          "news_article",
          "news_article",
          "news_article",
          "news_article",
          "news_article",
          "news_article",
          "news_article",
          "news_article",
          "news_article",
          "news_article",
          "news_article",
          "news_article",
          "news_article",
          "news_article"
         ],
         "x0": " ",
         "xaxis": "x",
         "y": {
          "bdata": "/TjBRPJggL9aZDvfT42Hv4MvTKYKRt2/ayv2l92T4b/WVuwvuye/v8l2vp8aL+M/iUFg5dAiu79VwaikTkDLv7hAguLHmOk/mG4Sg8DK5z8kKH6MuWvlv8pUwaikTu4/OiNKe4Mv5D+yne+nxkvjv96Th4Va0+I/ZRniWBe3oT/r4jYawFvYv5kqGJXUCdQ/IR/0bFZ9xj9miGNd3EbTPznWxW00gO8//TjBRPJggL9UdCSX/5Dav2fV52or9uc/ke18PzVeyr/oaiv2l93bP30/NV66Se4/taZ5xyk67r9bsb/snjzuv4/C9Shcj9q/OPjCZKpg4r99PzVeuknuP/fkYaHWNNc//TjBRPJggL80ETY8vVLsP+zAOSNKe+e/o5I6AU2E5T+IhVrTvOOkvx6n6Egu/8m/R3L5D+m3x7/sUbgehevBP/rt68A5I9K/+THmriXk4T9JLv8h/fbrPwdfmEwVjLo/3gIJih9j5r/vycNCrWnuP8pUwaikTti/dnEbDeAtyL+LbOf7qfHCP13cRgN4C8Q/3NeBc0aUzj9hw9MrZRnWv2PuWkI+6Ok/7Z48LNSa5L8qOpLLf0jfv2EyVTAqqbO/6+I2GsBb5D+VZYhjXdzmvzGZKhiV1OO/YTJVMCqp7T/LoUW28/3MP84ZUdobfN0/tTf4wmSqyL+lTkATYcPtvxsN4C2QoLi/3pOHhVrT7L8y5q4l5IPsvxgmUwWjksI/hjjWxW006r94nKIjufzTP/04wUTyYIC/WDm0yHa+5791kxgEVg7nP2iz6nO1FdO/BaOSOgFN7r+Cc0aU9gbTP/OOU3Qkl9O/waikTkAT6z82zTtO0ZG8P76fGi/dJNY/P8bctYR83D9Iv30dOGfiv451cRsN4O+/PSzUmuYd2z8gQfFjzF3vP6AaL90kBtW/v30dOGdE5b9QjZduEoPAv3zysFBrmte/z/dT46Wb3L+Zu5aQD3rqv0p7gy9Mptq/owG8BRIU7b+t+lxtxf7ev2TMXUvIB92/MuauJeSD1r+tad5xio7uvzJVMCqpE+I/MZkqGJXU6b9ApN++DpzbP5XUCWgibOa/54wo7Q2+6L8T8kHPZtXPP+qVsgxxrOE/vAUSFD/GxL8Mk6mCUUnvv9bFbTSAt9C/zF1LyAc94T/LoUW28/2kPzXvOEVHcuc/Gw3gLZCg6L9/+zpwzojiP90kBoGVQ+0/0m9fB84Z6T/hC5OpglHBvy6QoPgx5r4/845TdCSXxz8AkX77OnDsv/5l9+RhodK//TjBRPJggL/Jdr6fGi/jv/04wUTyYIC/guLHmLuW3L+7uI0G8BbYP6yt2F92T26/6Nms+lxt5b9IUPwYc9fov/04wUTyYIC/5/up8dJN3r8ep+hILv/JP44G8BZIUKy/7nw/NV661T8kKH6MuWvjvzlFR3L5D9k/qmBUUiegyT9CPujZrPrqv3ZPHhZqTeu/9dvXgXNG6r+2hHzQs1nFvzlFR3L5D+O/63O1FfvL2r8+6Nms+lzrPzJVMCqpE7A/SOF6FK5Hwb+PwvUoXI/CP/tcbcX+su0/UWuad5yi7b/x9EpZhjjgPysYldQJaMq/lPYGX5hM3b+4rwPnjCjRP4PAyqFFtte/",
          "dtype": "f8"
         },
         "y0": " ",
         "yaxis": "y"
        },
        {
         "alignmentgroup": "True",
         "boxpoints": "all",
         "hovertemplate": "Content Type=%{x}<br>Sentiment Score=%{y}<extra></extra>",
         "legendgroup": "blog_post",
         "marker": {
          "color": "#FFA15A"
         },
         "name": "blog_post",
         "notched": false,
         "offsetgroup": "blog_post",
         "orientation": "v",
         "showlegend": true,
         "type": "box",
         "x": [
          "blog_post",
          "blog_post",
          "blog_post",
          "blog_post",
          "blog_post",
          "blog_post",
          "blog_post",
          "blog_post",
          "blog_post",
          "blog_post",
          "blog_post",
          "blog_post",
          "blog_post",
          "blog_post",
          "blog_post",
          "blog_post",
          "blog_post",
          "blog_post",
          "blog_post",
          "blog_post",
          "blog_post",
          "blog_post",
          "blog_post",
          "blog_post",
          "blog_post",
          "blog_post",
          "blog_post",
          "blog_post",
          "blog_post",
          "blog_post",
          "blog_post",
          "blog_post",
          "blog_post",
          "blog_post",
          "blog_post",
          "blog_post",
          "blog_post",
          "blog_post",
          "blog_post",
          "blog_post",
          "blog_post",
          "blog_post",
          "blog_post",
          "blog_post",
          "blog_post",
          "blog_post",
          "blog_post",
          "blog_post",
          "blog_post",
          "blog_post",
          "blog_post",
          "blog_post",
          "blog_post",
          "blog_post",
          "blog_post",
          "blog_post",
          "blog_post",
          "blog_post",
          "blog_post",
          "blog_post",
          "blog_post",
          "blog_post",
          "blog_post",
          "blog_post",
          "blog_post",
          "blog_post",
          "blog_post",
          "blog_post",
          "blog_post",
          "blog_post",
          "blog_post",
          "blog_post",
          "blog_post",
          "blog_post",
          "blog_post",
          "blog_post",
          "blog_post",
          "blog_post",
          "blog_post",
          "blog_post",
          "blog_post",
          "blog_post",
          "blog_post",
          "blog_post",
          "blog_post",
          "blog_post",
          "blog_post",
          "blog_post",
          "blog_post",
          "blog_post",
          "blog_post",
          "blog_post",
          "blog_post",
          "blog_post",
          "blog_post",
          "blog_post",
          "blog_post",
          "blog_post",
          "blog_post",
          "blog_post",
          "blog_post",
          "blog_post",
          "blog_post",
          "blog_post",
          "blog_post",
          "blog_post",
          "blog_post",
          "blog_post",
          "blog_post",
          "blog_post",
          "blog_post",
          "blog_post",
          "blog_post",
          "blog_post",
          "blog_post",
          "blog_post",
          "blog_post",
          "blog_post",
          "blog_post",
          "blog_post",
          "blog_post",
          "blog_post",
          "blog_post",
          "blog_post",
          "blog_post",
          "blog_post",
          "blog_post",
          "blog_post",
          "blog_post",
          "blog_post",
          "blog_post",
          "blog_post",
          "blog_post",
          "blog_post",
          "blog_post",
          "blog_post",
          "blog_post",
          "blog_post",
          "blog_post",
          "blog_post",
          "blog_post",
          "blog_post",
          "blog_post",
          "blog_post",
          "blog_post",
          "blog_post",
          "blog_post",
          "blog_post",
          "blog_post"
         ],
         "x0": " ",
         "xaxis": "x",
         "y": {
          "bdata": "bxKDwMqh0b/RItv5fmruP6MBvAUSFOs/4XoUrkfh7D/7XG3F/rLpP+CcEaW9wZc/HqfoSC7/6b+4rwPnjCjRPztwzojS3sA/wOyePCzU4j/J5T+k377Gv3/ZPXlYqKU/E2HD0ytl1T9Wn6ut2F/iP8PTK2UZ4pi/lWWIY13c5D/f4AuTqYLrP3ZPHhZqTe+/hslUwaik7D9TliGOdXGbvw6+MJkqGKU/OUVHcvkP2b/ZzvdT46Xnv/8h/fZ14Ny/6bevA+eM1D8GgZVDi2zXv8RCrWnecew/xLEubqMB6j8CK4cW2c7hv+Olm8QgsNq/ZMxdS8gH6z/9OMFE8mCAv2Dl0CLb+da/ayv2l92T17+gibDh6ZXiP+eMKO0NvuA/zqrP1Vbsxz/EQq1p3nHsv2dEaW/whd2/9wZfmEwV7r/arPpcbcXGvxlz1xLyQdu/wcqhRbbz0b8OLbKd76fmP9UJaCJseNY/uB6F61G4nr+HFtnO91PLv4C3QILix+I/FD/G3LWE7j9Cz2bV52rrv0w3iUFg5dC/AwmKH2Pu7j/J5T+k377iP57vp8ZLN+m/GeJYF7fR5j+pE9BE2PDov/5l9+Rhoc4/Rrbz/dR44T8Mk6mCUUmNP9lfdk8eFui/x0s3iUFg2b+oxks3iUHQvzXvOEVHcu0/W0I+6Nms0j/ysFBrmnfUv9qs+lxtxb4/qz5XW7G/2L9d3EYDeAvcvyv2l92Th9G/OUVHcvkP6z/FjzF3LSFfP/04wUTyYIC/okW28/3U5D9YqDXNO07pvzojSnuDL7w/8rBQa5p3jL+LbOf7qfHkv9V46SYxCO4/xY8xdy0hrz/n+6nx0k3ev4y5awn5oN+/eekmMQis5L9cIEHxY8ydv5kqGJXUCeo/TRWMSuoE4L+h1jTvOEXrv83MzMzMzLy/T6+UZYhj5T+mCkYldQLSP/04wUTyYIC/7zhFR3L567+itDf4wmS6P3bgnBGlvdk/waikTkATwb90JJf/kH7lvwn5oGez6uO/4JwRpb3B17/hehSuR+HevwfwFkhQ/OY/ObTIdr6fej+IhVrTvOOUv/32deCcEeu/F7fRAN4C2b9d/kP67evIP2HD0ytlGcK//tR46SYxuL9fKcsQx7rgP/KwUGuad+4/bqMBvAUS3D87cM6I0t7sv4zbaABvgdw/ApoIG55e47+zDHGsi9vQP/04wUTyYIC/E/JBz2bV17/5oGez6nPrPzy9UpYhjus/3nGKjuTyxz/Q1VbsL7vPv2FUUiegieA/dCSX/5B+07+fq63YX3blv/kP6bevA+2/ZapgVFInsL/BOSNKe4Pjv8PTK2UZ4pg/4L4OnDOipL+xUGuad5zov3npJjEIrOC/h6dXyjLE1T/7OnDOiNKuv4NRSZ2AJrI//TjBRPJggL+Cc0aU9gblP7WmeccpOu6/KA8LtaZ54b88TtGRXP7rvzcawFsgQec/p+hILv8h6T92cRsN4C3UP4Lix5i7loC/lIeFWtO84T9wXwfOGVHiP5wzorQ3+OK/2V92Tx4W2j/kFB3J5T/UP9UJaCJseMK//TjBRPJggL+KjuTyH9LpPw==",
          "dtype": "f8"
         },
         "y0": " ",
         "yaxis": "y"
        },
        {
         "alignmentgroup": "True",
         "boxpoints": "all",
         "hovertemplate": "Content Type=%{x}<br>Sentiment Score=%{y}<extra></extra>",
         "legendgroup": "article",
         "marker": {
          "color": "#19d3f3"
         },
         "name": "article",
         "notched": false,
         "offsetgroup": "article",
         "orientation": "v",
         "showlegend": true,
         "type": "box",
         "x": [
          "article",
          "article",
          "article",
          "article",
          "article",
          "article",
          "article",
          "article",
          "article",
          "article",
          "article",
          "article",
          "article",
          "article",
          "article",
          "article",
          "article",
          "article",
          "article",
          "article",
          "article",
          "article",
          "article",
          "article",
          "article",
          "article",
          "article",
          "article",
          "article",
          "article",
          "article",
          "article",
          "article",
          "article",
          "article",
          "article",
          "article",
          "article",
          "article",
          "article",
          "article",
          "article",
          "article",
          "article",
          "article",
          "article",
          "article",
          "article",
          "article",
          "article",
          "article",
          "article",
          "article",
          "article",
          "article",
          "article",
          "article",
          "article",
          "article",
          "article",
          "article",
          "article",
          "article",
          "article",
          "article",
          "article",
          "article",
          "article",
          "article",
          "article",
          "article",
          "article",
          "article",
          "article",
          "article",
          "article",
          "article",
          "article",
          "article",
          "article",
          "article",
          "article",
          "article",
          "article",
          "article",
          "article",
          "article",
          "article",
          "article",
          "article",
          "article",
          "article",
          "article",
          "article",
          "article",
          "article",
          "article",
          "article",
          "article",
          "article",
          "article",
          "article",
          "article",
          "article",
          "article",
          "article",
          "article",
          "article",
          "article",
          "article",
          "article",
          "article",
          "article",
          "article",
          "article",
          "article",
          "article",
          "article",
          "article",
          "article",
          "article",
          "article",
          "article",
          "article",
          "article",
          "article",
          "article",
          "article",
          "article",
          "article",
          "article",
          "article",
          "article",
          "article",
          "article",
          "article",
          "article",
          "article",
          "article",
          "article",
          "article",
          "article"
         ],
         "x0": " ",
         "xaxis": "x",
         "y": {
          "bdata": "AU2EDU+v7r/6fmq8dJOoPzJ3LSEf9OK/g8DKoUW2779ZhjjWxW2kv3bgnBGlvdE/gnNGlPYG57/9OMFE8mCAv7U3+MJkqu6/UrgehetRyL+oNc07TtHnv1g5tMh2vt+/5BQdyeU/5r/VCWgibHjuv6OSOgFNhN0/EqW9wRcm2z/9OMFE8mCAv3WTGARWDs0/dnEbDeAtoD98YTJVMCrdv1RSJ6CJsOs/RGlv8IXJlL9wXwfOGVHgPxrAWyBB8e2/pN++Dpwz0r8CvAUSFD/iv71SliGOddW/pU5AE2HDw7/tDb4wmSrsP+XQItv5fuY/WmQ730+Np791ApoIG57sP4ts5/up8aI/kKD4Meau5T/oaiv2l93jv6s+V1uxv+Q//kP67evA5z+fq63YX3bfv2IQWDm0yOS/KVyPwvUo7D85tMh2vp/CPzm0yHa+n9I/+Q/pt68D778E54wo7Q3iP39qvHSTGNg//Yf029eB67+YbhKDwMrtP1JJnYAmwuy/bxKDwMqh6786kst/SL/NPwAAAAAAAOw/dnEbDeAt1D9cj8L1KFzrPxSuR+F6FN4/pU5AE2HD4T98YTJVMCrnv0ATYcPTK9E/93XgnBGl4T+lTkATYcPLv7IubqMBvOk/rK3YX3ZP7L/9OMFE8mCAv1OWIY51cec/yAc9m1Wf57988rBQa5rPvwwCK4cW2do/gEi/fR04xz9d/kP67evkP/04wUTyYIC/CfmgZ7Pq6T+KjuTyH9Lhv1afq63YX+C/zqrP1Vbs7b90RpT2Bl/cv+LplbIMccw/YVRSJ6CJ5D+t+lxtxf6ivxfZzvdT4++/gnNGlPYGzz9MpgpGJXWyvzGZKhiV1Os/seHplbIM678wKqkT0ETqv/Cnxks3ick/K/aX3ZOH1T80gLdAguLjP9NNYhBYOey/XI/C9Shc57/RkVz+Q/rlv/04wUTyYIC/4C2QoPgx7r8Fo5I6AU3QvwrXo3A9Cpc/g1FJnYAm6L8gQfFjzF3hv8rDQq1p3u8/lPYGX5hMzT8W+8vuycPCv1dbsb/snuA/6+I2GsBb4D+BBMWPMXfvv4/C9Shcj+A/ofgx5q4l5L+8lpAPejbvv4Y41sVtNNC/PujZrPpc7b/DZKpgVFLrP8bctYR80Oe/ysNCrWne5b/y0k1iEFjvP+2ePCzUmtK/+n5qvHST5D/kg57Nqs/tv9Sa5h2n6MC/NV66SQwC1z+qYFRSJ6Dvv2uad5yiI+0/V1uxv+ye4L/P91PjpZviPwpoImx4etW/UI2XbhKD5j+HFtnO91PTvySX/5B++8I/WRe30QDe7L9hMlUwKqnTv1HaG3xhMu+/BcWPMXct3b817zhFR3Llv0oMAiuHFrm/rK3YX3ZPjr+MuWsJ+aC3P4QNT6+UZcC/oImw4emV5D8s1JrmHafmv/8h/fZ14Oi/gy9MpgpG4z/9OMFE8mCAv9QrZRniWNc/S8gHPZtV77/9OMFE8mCAv1HaG3xhMu2/GlHaG3xh6r8=",
          "dtype": "f8"
         },
         "y0": " ",
         "yaxis": "y"
        },
        {
         "alignmentgroup": "True",
         "boxpoints": "all",
         "hovertemplate": "Content Type=%{x}<br>Sentiment Score=%{y}<extra></extra>",
         "legendgroup": "product_review",
         "marker": {
          "color": "#FF6692"
         },
         "name": "product_review",
         "notched": false,
         "offsetgroup": "product_review",
         "orientation": "v",
         "showlegend": true,
         "type": "box",
         "x": [
          "product_review",
          "product_review",
          "product_review",
          "product_review",
          "product_review",
          "product_review",
          "product_review",
          "product_review",
          "product_review",
          "product_review",
          "product_review",
          "product_review",
          "product_review",
          "product_review",
          "product_review",
          "product_review",
          "product_review",
          "product_review",
          "product_review",
          "product_review",
          "product_review",
          "product_review",
          "product_review",
          "product_review",
          "product_review",
          "product_review",
          "product_review",
          "product_review",
          "product_review",
          "product_review",
          "product_review",
          "product_review",
          "product_review",
          "product_review",
          "product_review",
          "product_review",
          "product_review",
          "product_review",
          "product_review",
          "product_review",
          "product_review",
          "product_review",
          "product_review",
          "product_review",
          "product_review",
          "product_review",
          "product_review",
          "product_review",
          "product_review",
          "product_review",
          "product_review",
          "product_review",
          "product_review",
          "product_review",
          "product_review",
          "product_review",
          "product_review",
          "product_review",
          "product_review",
          "product_review",
          "product_review",
          "product_review",
          "product_review",
          "product_review",
          "product_review",
          "product_review",
          "product_review",
          "product_review",
          "product_review",
          "product_review",
          "product_review",
          "product_review",
          "product_review",
          "product_review",
          "product_review",
          "product_review",
          "product_review",
          "product_review",
          "product_review",
          "product_review",
          "product_review",
          "product_review",
          "product_review",
          "product_review",
          "product_review",
          "product_review",
          "product_review",
          "product_review",
          "product_review",
          "product_review",
          "product_review",
          "product_review",
          "product_review",
          "product_review",
          "product_review",
          "product_review",
          "product_review",
          "product_review",
          "product_review",
          "product_review",
          "product_review",
          "product_review",
          "product_review",
          "product_review",
          "product_review",
          "product_review",
          "product_review",
          "product_review",
          "product_review",
          "product_review",
          "product_review",
          "product_review",
          "product_review",
          "product_review",
          "product_review",
          "product_review",
          "product_review",
          "product_review",
          "product_review",
          "product_review",
          "product_review",
          "product_review",
          "product_review",
          "product_review",
          "product_review"
         ],
         "x0": " ",
         "xaxis": "x",
         "y": {
          "bdata": "/mX35GGhtr8PnDOitDfAP9uK/WX35O2/iIVa07zj7r+hZ7Pqc7XRP+0NvjCZKuy/wFsgQfFj1D+jI7n8h/TXPzj4wmSqYOi/gLdAguLHqL8ofoy5awnVv/fkYaHWNO+/VHQkl/+Q2j8RNjy9UpbZP0HxY8xdS9A/8kHPZtXn7L+R7Xw/NV7avxSuR+F6FOK/Imx4eqUs0z+PU3Qkl//qP/FjzF1LyOG/4L4OnDOi0D8N4C2QoPjBPwdfmEwVjMK/JuSDns2q6T97FK5H4XrUP/04wUTyYIC//TjBRPJggL+x4emVsgzZv3xhMlUwKtU/B/AWSFD85r8m5IOezarfv13cRgN4C+Y/4zYawFsg2T/caABvgQTpvyJseHqlLOu/1lbsL7snvz+oNc07TtGBv3KKjuTyH+q/6Gor9pfd0z9qTfOOU3TsvyqpE9BE2Oo/54wo7Q2+7r9JLv8h/fbVP5Axdy0hH+I/PzVeukkMyr9SSZ2AJsLWP/W52or9Zek/hXzQs1n17b+gGi/dJAbjvz/G3LWEfJC/f9k9eVio6z9fmEwVjErkv4Lix5i7lpC/8tJNYhBY0T851sVtNIDrP4Y41sVtNNS/LSEf9GxWvb9uowG8BRLov+tztRX7y+4//TjBRPJggL+X/5B++zrivwaBlUOLbOG/pSxDHOvi4r/5oGez6nPNv3lYqDXNO+q/v30dOGdEub96Nqs+V1vhPzlFR3L5D9m/4lgXt9EAnj+TqYJRSZ3iv6JFtvP91Ki/qDXNO07R0b+gibDh6ZXuPwpoImx4euc/pHA9Ctej3D8i/fZ14JyBPxTQRNjw9OC/GeJYF7fRsL+IhVrTvOPcv03zjlN0JO0/JXUCmggb4r/0/dR46SbhP0+vlGWIY+e//TjBRPJggL9os+pztRW7v+CcEaW9weG/jErqBDQR5r/LoUW28/2Uvwkbnl4py+Y/WRe30QDe4r/7XG3F/rLvP6JFtvP91Nw/ObTIdr6f5r9kzF1LyAfFPy2yne+nxuE/AU2EDU+v1L/9OMFE8mCAv3/ZPXlYqNE/mEwVjErq6L9XW7G/7J68P1YOLbKd788/3pOHhVrT7D/F/rJ78rDkPyV1ApoIG+S/2V92Tx4W5j9/+zpwzojkP6W9wRcmU+O/6pWyDHGs1z9Ke4MvTKbCP3BfB84ZUeQ/OdbFbTSA579jf9k9eVjuP4y5awn5oNs/sVBrmnecyj/9OMFE8mCAv6H4MeauJeY//TjBRPJggL+M22gAb4Hov3zysFBrmtc/BTQRNjy95L/AWyBB8WPgPxUdyeU/pOU/JCh+jLlr3T/4U+Olm8TQvw==",
          "dtype": "f8"
         },
         "y0": " ",
         "yaxis": "y"
        },
        {
         "alignmentgroup": "True",
         "boxpoints": "all",
         "hovertemplate": "Content Type=%{x}<br>Sentiment Score=%{y}<extra></extra>",
         "legendgroup": "social_media",
         "marker": {
          "color": "#B6E880"
         },
         "name": "social_media",
         "notched": false,
         "offsetgroup": "social_media",
         "orientation": "v",
         "showlegend": true,
         "type": "box",
         "x": [
          "social_media",
          "social_media",
          "social_media",
          "social_media",
          "social_media",
          "social_media",
          "social_media",
          "social_media",
          "social_media",
          "social_media",
          "social_media",
          "social_media",
          "social_media",
          "social_media",
          "social_media",
          "social_media",
          "social_media",
          "social_media",
          "social_media",
          "social_media",
          "social_media",
          "social_media",
          "social_media",
          "social_media",
          "social_media",
          "social_media",
          "social_media",
          "social_media",
          "social_media",
          "social_media",
          "social_media",
          "social_media",
          "social_media",
          "social_media",
          "social_media",
          "social_media",
          "social_media"
         ],
         "x0": " ",
         "xaxis": "x",
         "y": {
          "bdata": "/Knx0k1i4r9+jLlrCfniPy/dJAaBlcO/MCqpE9BE7r9R2ht8YTLnv4hjXdxGA+w/jLlrCfmg7z81XrpJDALDP+AtkKD4Mdq/DXGsi9to4r+x4emVsgzhv3Noke18P++/EOm3rwPn2L+lLEMc6+Levw1xrIvbaOo/si5uowG80b8KaCJseHrjPzJ3LSEf9Oo/fh04Z0Rp6z8jSnuDL0zkv5qZmZmZmeM/RpT2Bl+Y7D8Rx7q4jQbovygPC7Wmed8/9UpZhjjW579qTfOOU3Tuvwkbnl4py9i/OpLLf0i/5b9ZF7fRAN7uvy9uowG8BcI/PZtVn6ut5j+uR+F6FK7TP2gibHh6pdw/SS7/If323T/FjzF3LSHrP7hAguLHmLu/gZVDi2zn2z8=",
          "dtype": "f8"
         },
         "y0": " ",
         "yaxis": "y"
        }
       ],
       "layout": {
        "boxmode": "overlay",
        "legend": {
         "title": {
          "text": "Content Type"
         },
         "tracegroupgap": 0
        },
        "plot_bgcolor": "black",
        "template": {
         "data": {
          "bar": [
           {
            "error_x": {
             "color": "#2a3f5f"
            },
            "error_y": {
             "color": "#2a3f5f"
            },
            "marker": {
             "line": {
              "color": "#E5ECF6",
              "width": 0.5
             },
             "pattern": {
              "fillmode": "overlay",
              "size": 10,
              "solidity": 0.2
             }
            },
            "type": "bar"
           }
          ],
          "barpolar": [
           {
            "marker": {
             "line": {
              "color": "#E5ECF6",
              "width": 0.5
             },
             "pattern": {
              "fillmode": "overlay",
              "size": 10,
              "solidity": 0.2
             }
            },
            "type": "barpolar"
           }
          ],
          "carpet": [
           {
            "aaxis": {
             "endlinecolor": "#2a3f5f",
             "gridcolor": "white",
             "linecolor": "white",
             "minorgridcolor": "white",
             "startlinecolor": "#2a3f5f"
            },
            "baxis": {
             "endlinecolor": "#2a3f5f",
             "gridcolor": "white",
             "linecolor": "white",
             "minorgridcolor": "white",
             "startlinecolor": "#2a3f5f"
            },
            "type": "carpet"
           }
          ],
          "choropleth": [
           {
            "colorbar": {
             "outlinewidth": 0,
             "ticks": ""
            },
            "type": "choropleth"
           }
          ],
          "contour": [
           {
            "colorbar": {
             "outlinewidth": 0,
             "ticks": ""
            },
            "colorscale": [
             [
              0,
              "#0d0887"
             ],
             [
              0.1111111111111111,
              "#46039f"
             ],
             [
              0.2222222222222222,
              "#7201a8"
             ],
             [
              0.3333333333333333,
              "#9c179e"
             ],
             [
              0.4444444444444444,
              "#bd3786"
             ],
             [
              0.5555555555555556,
              "#d8576b"
             ],
             [
              0.6666666666666666,
              "#ed7953"
             ],
             [
              0.7777777777777778,
              "#fb9f3a"
             ],
             [
              0.8888888888888888,
              "#fdca26"
             ],
             [
              1,
              "#f0f921"
             ]
            ],
            "type": "contour"
           }
          ],
          "contourcarpet": [
           {
            "colorbar": {
             "outlinewidth": 0,
             "ticks": ""
            },
            "type": "contourcarpet"
           }
          ],
          "heatmap": [
           {
            "colorbar": {
             "outlinewidth": 0,
             "ticks": ""
            },
            "colorscale": [
             [
              0,
              "#0d0887"
             ],
             [
              0.1111111111111111,
              "#46039f"
             ],
             [
              0.2222222222222222,
              "#7201a8"
             ],
             [
              0.3333333333333333,
              "#9c179e"
             ],
             [
              0.4444444444444444,
              "#bd3786"
             ],
             [
              0.5555555555555556,
              "#d8576b"
             ],
             [
              0.6666666666666666,
              "#ed7953"
             ],
             [
              0.7777777777777778,
              "#fb9f3a"
             ],
             [
              0.8888888888888888,
              "#fdca26"
             ],
             [
              1,
              "#f0f921"
             ]
            ],
            "type": "heatmap"
           }
          ],
          "histogram": [
           {
            "marker": {
             "pattern": {
              "fillmode": "overlay",
              "size": 10,
              "solidity": 0.2
             }
            },
            "type": "histogram"
           }
          ],
          "histogram2d": [
           {
            "colorbar": {
             "outlinewidth": 0,
             "ticks": ""
            },
            "colorscale": [
             [
              0,
              "#0d0887"
             ],
             [
              0.1111111111111111,
              "#46039f"
             ],
             [
              0.2222222222222222,
              "#7201a8"
             ],
             [
              0.3333333333333333,
              "#9c179e"
             ],
             [
              0.4444444444444444,
              "#bd3786"
             ],
             [
              0.5555555555555556,
              "#d8576b"
             ],
             [
              0.6666666666666666,
              "#ed7953"
             ],
             [
              0.7777777777777778,
              "#fb9f3a"
             ],
             [
              0.8888888888888888,
              "#fdca26"
             ],
             [
              1,
              "#f0f921"
             ]
            ],
            "type": "histogram2d"
           }
          ],
          "histogram2dcontour": [
           {
            "colorbar": {
             "outlinewidth": 0,
             "ticks": ""
            },
            "colorscale": [
             [
              0,
              "#0d0887"
             ],
             [
              0.1111111111111111,
              "#46039f"
             ],
             [
              0.2222222222222222,
              "#7201a8"
             ],
             [
              0.3333333333333333,
              "#9c179e"
             ],
             [
              0.4444444444444444,
              "#bd3786"
             ],
             [
              0.5555555555555556,
              "#d8576b"
             ],
             [
              0.6666666666666666,
              "#ed7953"
             ],
             [
              0.7777777777777778,
              "#fb9f3a"
             ],
             [
              0.8888888888888888,
              "#fdca26"
             ],
             [
              1,
              "#f0f921"
             ]
            ],
            "type": "histogram2dcontour"
           }
          ],
          "mesh3d": [
           {
            "colorbar": {
             "outlinewidth": 0,
             "ticks": ""
            },
            "type": "mesh3d"
           }
          ],
          "parcoords": [
           {
            "line": {
             "colorbar": {
              "outlinewidth": 0,
              "ticks": ""
             }
            },
            "type": "parcoords"
           }
          ],
          "pie": [
           {
            "automargin": true,
            "type": "pie"
           }
          ],
          "scatter": [
           {
            "fillpattern": {
             "fillmode": "overlay",
             "size": 10,
             "solidity": 0.2
            },
            "type": "scatter"
           }
          ],
          "scatter3d": [
           {
            "line": {
             "colorbar": {
              "outlinewidth": 0,
              "ticks": ""
             }
            },
            "marker": {
             "colorbar": {
              "outlinewidth": 0,
              "ticks": ""
             }
            },
            "type": "scatter3d"
           }
          ],
          "scattercarpet": [
           {
            "marker": {
             "colorbar": {
              "outlinewidth": 0,
              "ticks": ""
             }
            },
            "type": "scattercarpet"
           }
          ],
          "scattergeo": [
           {
            "marker": {
             "colorbar": {
              "outlinewidth": 0,
              "ticks": ""
             }
            },
            "type": "scattergeo"
           }
          ],
          "scattergl": [
           {
            "marker": {
             "colorbar": {
              "outlinewidth": 0,
              "ticks": ""
             }
            },
            "type": "scattergl"
           }
          ],
          "scattermap": [
           {
            "marker": {
             "colorbar": {
              "outlinewidth": 0,
              "ticks": ""
             }
            },
            "type": "scattermap"
           }
          ],
          "scattermapbox": [
           {
            "marker": {
             "colorbar": {
              "outlinewidth": 0,
              "ticks": ""
             }
            },
            "type": "scattermapbox"
           }
          ],
          "scatterpolar": [
           {
            "marker": {
             "colorbar": {
              "outlinewidth": 0,
              "ticks": ""
             }
            },
            "type": "scatterpolar"
           }
          ],
          "scatterpolargl": [
           {
            "marker": {
             "colorbar": {
              "outlinewidth": 0,
              "ticks": ""
             }
            },
            "type": "scatterpolargl"
           }
          ],
          "scatterternary": [
           {
            "marker": {
             "colorbar": {
              "outlinewidth": 0,
              "ticks": ""
             }
            },
            "type": "scatterternary"
           }
          ],
          "surface": [
           {
            "colorbar": {
             "outlinewidth": 0,
             "ticks": ""
            },
            "colorscale": [
             [
              0,
              "#0d0887"
             ],
             [
              0.1111111111111111,
              "#46039f"
             ],
             [
              0.2222222222222222,
              "#7201a8"
             ],
             [
              0.3333333333333333,
              "#9c179e"
             ],
             [
              0.4444444444444444,
              "#bd3786"
             ],
             [
              0.5555555555555556,
              "#d8576b"
             ],
             [
              0.6666666666666666,
              "#ed7953"
             ],
             [
              0.7777777777777778,
              "#fb9f3a"
             ],
             [
              0.8888888888888888,
              "#fdca26"
             ],
             [
              1,
              "#f0f921"
             ]
            ],
            "type": "surface"
           }
          ],
          "table": [
           {
            "cells": {
             "fill": {
              "color": "#EBF0F8"
             },
             "line": {
              "color": "white"
             }
            },
            "header": {
             "fill": {
              "color": "#C8D4E3"
             },
             "line": {
              "color": "white"
             }
            },
            "type": "table"
           }
          ]
         },
         "layout": {
          "annotationdefaults": {
           "arrowcolor": "#2a3f5f",
           "arrowhead": 0,
           "arrowwidth": 1
          },
          "autotypenumbers": "strict",
          "coloraxis": {
           "colorbar": {
            "outlinewidth": 0,
            "ticks": ""
           }
          },
          "colorscale": {
           "diverging": [
            [
             0,
             "#8e0152"
            ],
            [
             0.1,
             "#c51b7d"
            ],
            [
             0.2,
             "#de77ae"
            ],
            [
             0.3,
             "#f1b6da"
            ],
            [
             0.4,
             "#fde0ef"
            ],
            [
             0.5,
             "#f7f7f7"
            ],
            [
             0.6,
             "#e6f5d0"
            ],
            [
             0.7,
             "#b8e186"
            ],
            [
             0.8,
             "#7fbc41"
            ],
            [
             0.9,
             "#4d9221"
            ],
            [
             1,
             "#276419"
            ]
           ],
           "sequential": [
            [
             0,
             "#0d0887"
            ],
            [
             0.1111111111111111,
             "#46039f"
            ],
            [
             0.2222222222222222,
             "#7201a8"
            ],
            [
             0.3333333333333333,
             "#9c179e"
            ],
            [
             0.4444444444444444,
             "#bd3786"
            ],
            [
             0.5555555555555556,
             "#d8576b"
            ],
            [
             0.6666666666666666,
             "#ed7953"
            ],
            [
             0.7777777777777778,
             "#fb9f3a"
            ],
            [
             0.8888888888888888,
             "#fdca26"
            ],
            [
             1,
             "#f0f921"
            ]
           ],
           "sequentialminus": [
            [
             0,
             "#0d0887"
            ],
            [
             0.1111111111111111,
             "#46039f"
            ],
            [
             0.2222222222222222,
             "#7201a8"
            ],
            [
             0.3333333333333333,
             "#9c179e"
            ],
            [
             0.4444444444444444,
             "#bd3786"
            ],
            [
             0.5555555555555556,
             "#d8576b"
            ],
            [
             0.6666666666666666,
             "#ed7953"
            ],
            [
             0.7777777777777778,
             "#fb9f3a"
            ],
            [
             0.8888888888888888,
             "#fdca26"
            ],
            [
             1,
             "#f0f921"
            ]
           ]
          },
          "colorway": [
           "#636efa",
           "#EF553B",
           "#00cc96",
           "#ab63fa",
           "#FFA15A",
           "#19d3f3",
           "#FF6692",
           "#B6E880",
           "#FF97FF",
           "#FECB52"
          ],
          "font": {
           "color": "#2a3f5f"
          },
          "geo": {
           "bgcolor": "white",
           "lakecolor": "white",
           "landcolor": "#E5ECF6",
           "showlakes": true,
           "showland": true,
           "subunitcolor": "white"
          },
          "hoverlabel": {
           "align": "left"
          },
          "hovermode": "closest",
          "mapbox": {
           "style": "light"
          },
          "paper_bgcolor": "white",
          "plot_bgcolor": "#E5ECF6",
          "polar": {
           "angularaxis": {
            "gridcolor": "white",
            "linecolor": "white",
            "ticks": ""
           },
           "bgcolor": "#E5ECF6",
           "radialaxis": {
            "gridcolor": "white",
            "linecolor": "white",
            "ticks": ""
           }
          },
          "scene": {
           "xaxis": {
            "backgroundcolor": "#E5ECF6",
            "gridcolor": "white",
            "gridwidth": 2,
            "linecolor": "white",
            "showbackground": true,
            "ticks": "",
            "zerolinecolor": "white"
           },
           "yaxis": {
            "backgroundcolor": "#E5ECF6",
            "gridcolor": "white",
            "gridwidth": 2,
            "linecolor": "white",
            "showbackground": true,
            "ticks": "",
            "zerolinecolor": "white"
           },
           "zaxis": {
            "backgroundcolor": "#E5ECF6",
            "gridcolor": "white",
            "gridwidth": 2,
            "linecolor": "white",
            "showbackground": true,
            "ticks": "",
            "zerolinecolor": "white"
           }
          },
          "shapedefaults": {
           "line": {
            "color": "#2a3f5f"
           }
          },
          "ternary": {
           "aaxis": {
            "gridcolor": "white",
            "linecolor": "white",
            "ticks": ""
           },
           "baxis": {
            "gridcolor": "white",
            "linecolor": "white",
            "ticks": ""
           },
           "bgcolor": "#E5ECF6",
           "caxis": {
            "gridcolor": "white",
            "linecolor": "white",
            "ticks": ""
           }
          },
          "title": {
           "x": 0.05
          },
          "xaxis": {
           "automargin": true,
           "gridcolor": "white",
           "linecolor": "white",
           "ticks": "",
           "title": {
            "standoff": 15
           },
           "zerolinecolor": "white",
           "zerolinewidth": 2
          },
          "yaxis": {
           "automargin": true,
           "gridcolor": "white",
           "linecolor": "white",
           "ticks": "",
           "title": {
            "standoff": 15
           },
           "zerolinecolor": "white",
           "zerolinewidth": 2
          }
         }
        },
        "title": {
         "text": "Sentiment Score Distribution by Content Type"
        },
        "xaxis": {
         "anchor": "y",
         "categoryarray": [
          "academic_paper",
          "essay",
          "creative_writing",
          "news_article",
          "blog_post",
          "article",
          "product_review",
          "social_media"
         ],
         "categoryorder": "array",
         "domain": [
          0,
          1
         ],
         "title": {
          "text": "Content Type"
         }
        },
        "yaxis": {
         "anchor": "x",
         "domain": [
          0,
          1
         ],
         "title": {
          "text": "Sentiment Score"
         }
        }
       }
      }
     },
     "metadata": {},
     "output_type": "display_data"
    }
   ],
   "source": [
    "fig = px.box(\n",
    "    df,\n",
    "    x=\"content_type\",\n",
    "    y=\"sentiment_score\",\n",
    "    color=\"content_type\",\n",
    "    title=\"Sentiment Score Distribution by Content Type\",\n",
    "    labels={\n",
    "        \"content_type\": \"Content Type\",\n",
    "        \"sentiment_score\": \"Sentiment Score\"\n",
    "    },\n",
    "    points=\"all\"  # Shows individual data points as well\n",
    ")\n",
    "\n",
    "fig.update_layout(xaxis_title=\"Content Type\", yaxis_title=\"Sentiment Score\")\n",
    "fig.update_layout(plot_bgcolor='black')\n",
    "fig.show()\n"
   ]
  },
  {
   "cell_type": "markdown",
   "id": "568e3f76",
   "metadata": {},
   "source": [
    "- **Boxplots:** Each boxplot represents the distribution of sentiment scores for a specific content type. The central line in each box indicates the median score, while the box itself shows the interquartile range (IQR), which contains the middle 50% of the data.\n",
    "\n",
    "- **Whiskers and Outliers:** The \"whiskers\" extend from the box to show the range of the data, while any points outside this range are considered outliers. These points might represent unusually positive or negative sentiment scores.\n",
    "\n",
    "- **Content Types:**\n",
    "\n",
    "  - **Academic Paper:** Likely shows lower sentiment scores, indicating a more formal and potentially critical tone.\n",
    "  - **Creative Writing:** May exhibit higher sentiment scores, reflecting more positive or emotional content.\n",
    "  - **News Article:** Scores could vary widely, depending on the nature of the news (positive vs. negative).\n",
    "  - **Blog Post and Article:** These might show moderate scores, balancing between personal expression and factual reporting.\n",
    "  - **Product Review:** Typically reflects user experiences, which can skew positive or negative based on satisfaction.\n",
    "  - **Social Media:** Often contains a mix of sentiments, showing a broad range due to the informal nature of communication.\n",
    "  - **Overall Trends:** The plot likely reveals patterns in sentiment based on the type of content, indicating how different formats of writing elicit various emotional responses."
   ]
  },
  {
   "cell_type": "markdown",
   "id": "959dd4e1",
   "metadata": {},
   "source": [
    "### **Q-Do longer texts (word_count) tend to have lower or higher lexical_diversity?**"
   ]
  },
  {
   "cell_type": "code",
   "execution_count": 18,
   "id": "82cc7cb1",
   "metadata": {},
   "outputs": [
    {
     "data": {
      "application/vnd.plotly.v1+json": {
       "config": {
        "plotlyServerURL": "https://plot.ly"
       },
       "data": [
        {
         "hovertemplate": "Word Count=%{marker.size}<br>Lexical Diversity=%{marker.color}<extra></extra>",
         "legendgroup": "",
         "marker": {
          "color": {
           "bdata": "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",
           "dtype": "f8"
          },
          "coloraxis": "coloraxis",
          "size": {
           "bdata": "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",
           "dtype": "i2"
          },
          "sizemode": "area",
          "sizeref": 0.855,
          "symbol": "circle"
         },
         "mode": "markers",
         "name": "",
         "showlegend": false,
         "type": "scattergl",
         "x": {
          "bdata": "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",
          "dtype": "i2"
         },
         "xaxis": "x",
         "y": {
          "bdata": "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",
          "dtype": "f8"
         },
         "yaxis": "y"
        }
       ],
       "layout": {
        "coloraxis": {
         "colorbar": {
          "title": {
           "text": "Lexical Diversity"
          }
         },
         "colorscale": [
          [
           0,
           "#0d0887"
          ],
          [
           0.1111111111111111,
           "#46039f"
          ],
          [
           0.2222222222222222,
           "#7201a8"
          ],
          [
           0.3333333333333333,
           "#9c179e"
          ],
          [
           0.4444444444444444,
           "#bd3786"
          ],
          [
           0.5555555555555556,
           "#d8576b"
          ],
          [
           0.6666666666666666,
           "#ed7953"
          ],
          [
           0.7777777777777778,
           "#fb9f3a"
          ],
          [
           0.8888888888888888,
           "#fdca26"
          ],
          [
           1,
           "#f0f921"
          ]
         ]
        },
        "legend": {
         "itemsizing": "constant",
         "tracegroupgap": 0
        },
        "template": {
         "data": {
          "bar": [
           {
            "error_x": {
             "color": "#2a3f5f"
            },
            "error_y": {
             "color": "#2a3f5f"
            },
            "marker": {
             "line": {
              "color": "#E5ECF6",
              "width": 0.5
             },
             "pattern": {
              "fillmode": "overlay",
              "size": 10,
              "solidity": 0.2
             }
            },
            "type": "bar"
           }
          ],
          "barpolar": [
           {
            "marker": {
             "line": {
              "color": "#E5ECF6",
              "width": 0.5
             },
             "pattern": {
              "fillmode": "overlay",
              "size": 10,
              "solidity": 0.2
             }
            },
            "type": "barpolar"
           }
          ],
          "carpet": [
           {
            "aaxis": {
             "endlinecolor": "#2a3f5f",
             "gridcolor": "white",
             "linecolor": "white",
             "minorgridcolor": "white",
             "startlinecolor": "#2a3f5f"
            },
            "baxis": {
             "endlinecolor": "#2a3f5f",
             "gridcolor": "white",
             "linecolor": "white",
             "minorgridcolor": "white",
             "startlinecolor": "#2a3f5f"
            },
            "type": "carpet"
           }
          ],
          "choropleth": [
           {
            "colorbar": {
             "outlinewidth": 0,
             "ticks": ""
            },
            "type": "choropleth"
           }
          ],
          "contour": [
           {
            "colorbar": {
             "outlinewidth": 0,
             "ticks": ""
            },
            "colorscale": [
             [
              0,
              "#0d0887"
             ],
             [
              0.1111111111111111,
              "#46039f"
             ],
             [
              0.2222222222222222,
              "#7201a8"
             ],
             [
              0.3333333333333333,
              "#9c179e"
             ],
             [
              0.4444444444444444,
              "#bd3786"
             ],
             [
              0.5555555555555556,
              "#d8576b"
             ],
             [
              0.6666666666666666,
              "#ed7953"
             ],
             [
              0.7777777777777778,
              "#fb9f3a"
             ],
             [
              0.8888888888888888,
              "#fdca26"
             ],
             [
              1,
              "#f0f921"
             ]
            ],
            "type": "contour"
           }
          ],
          "contourcarpet": [
           {
            "colorbar": {
             "outlinewidth": 0,
             "ticks": ""
            },
            "type": "contourcarpet"
           }
          ],
          "heatmap": [
           {
            "colorbar": {
             "outlinewidth": 0,
             "ticks": ""
            },
            "colorscale": [
             [
              0,
              "#0d0887"
             ],
             [
              0.1111111111111111,
              "#46039f"
             ],
             [
              0.2222222222222222,
              "#7201a8"
             ],
             [
              0.3333333333333333,
              "#9c179e"
             ],
             [
              0.4444444444444444,
              "#bd3786"
             ],
             [
              0.5555555555555556,
              "#d8576b"
             ],
             [
              0.6666666666666666,
              "#ed7953"
             ],
             [
              0.7777777777777778,
              "#fb9f3a"
             ],
             [
              0.8888888888888888,
              "#fdca26"
             ],
             [
              1,
              "#f0f921"
             ]
            ],
            "type": "heatmap"
           }
          ],
          "histogram": [
           {
            "marker": {
             "pattern": {
              "fillmode": "overlay",
              "size": 10,
              "solidity": 0.2
             }
            },
            "type": "histogram"
           }
          ],
          "histogram2d": [
           {
            "colorbar": {
             "outlinewidth": 0,
             "ticks": ""
            },
            "colorscale": [
             [
              0,
              "#0d0887"
             ],
             [
              0.1111111111111111,
              "#46039f"
             ],
             [
              0.2222222222222222,
              "#7201a8"
             ],
             [
              0.3333333333333333,
              "#9c179e"
             ],
             [
              0.4444444444444444,
              "#bd3786"
             ],
             [
              0.5555555555555556,
              "#d8576b"
             ],
             [
              0.6666666666666666,
              "#ed7953"
             ],
             [
              0.7777777777777778,
              "#fb9f3a"
             ],
             [
              0.8888888888888888,
              "#fdca26"
             ],
             [
              1,
              "#f0f921"
             ]
            ],
            "type": "histogram2d"
           }
          ],
          "histogram2dcontour": [
           {
            "colorbar": {
             "outlinewidth": 0,
             "ticks": ""
            },
            "colorscale": [
             [
              0,
              "#0d0887"
             ],
             [
              0.1111111111111111,
              "#46039f"
             ],
             [
              0.2222222222222222,
              "#7201a8"
             ],
             [
              0.3333333333333333,
              "#9c179e"
             ],
             [
              0.4444444444444444,
              "#bd3786"
             ],
             [
              0.5555555555555556,
              "#d8576b"
             ],
             [
              0.6666666666666666,
              "#ed7953"
             ],
             [
              0.7777777777777778,
              "#fb9f3a"
             ],
             [
              0.8888888888888888,
              "#fdca26"
             ],
             [
              1,
              "#f0f921"
             ]
            ],
            "type": "histogram2dcontour"
           }
          ],
          "mesh3d": [
           {
            "colorbar": {
             "outlinewidth": 0,
             "ticks": ""
            },
            "type": "mesh3d"
           }
          ],
          "parcoords": [
           {
            "line": {
             "colorbar": {
              "outlinewidth": 0,
              "ticks": ""
             }
            },
            "type": "parcoords"
           }
          ],
          "pie": [
           {
            "automargin": true,
            "type": "pie"
           }
          ],
          "scatter": [
           {
            "fillpattern": {
             "fillmode": "overlay",
             "size": 10,
             "solidity": 0.2
            },
            "type": "scatter"
           }
          ],
          "scatter3d": [
           {
            "line": {
             "colorbar": {
              "outlinewidth": 0,
              "ticks": ""
             }
            },
            "marker": {
             "colorbar": {
              "outlinewidth": 0,
              "ticks": ""
             }
            },
            "type": "scatter3d"
           }
          ],
          "scattercarpet": [
           {
            "marker": {
             "colorbar": {
              "outlinewidth": 0,
              "ticks": ""
             }
            },
            "type": "scattercarpet"
           }
          ],
          "scattergeo": [
           {
            "marker": {
             "colorbar": {
              "outlinewidth": 0,
              "ticks": ""
             }
            },
            "type": "scattergeo"
           }
          ],
          "scattergl": [
           {
            "marker": {
             "colorbar": {
              "outlinewidth": 0,
              "ticks": ""
             }
            },
            "type": "scattergl"
           }
          ],
          "scattermap": [
           {
            "marker": {
             "colorbar": {
              "outlinewidth": 0,
              "ticks": ""
             }
            },
            "type": "scattermap"
           }
          ],
          "scattermapbox": [
           {
            "marker": {
             "colorbar": {
              "outlinewidth": 0,
              "ticks": ""
             }
            },
            "type": "scattermapbox"
           }
          ],
          "scatterpolar": [
           {
            "marker": {
             "colorbar": {
              "outlinewidth": 0,
              "ticks": ""
             }
            },
            "type": "scatterpolar"
           }
          ],
          "scatterpolargl": [
           {
            "marker": {
             "colorbar": {
              "outlinewidth": 0,
              "ticks": ""
             }
            },
            "type": "scatterpolargl"
           }
          ],
          "scatterternary": [
           {
            "marker": {
             "colorbar": {
              "outlinewidth": 0,
              "ticks": ""
             }
            },
            "type": "scatterternary"
           }
          ],
          "surface": [
           {
            "colorbar": {
             "outlinewidth": 0,
             "ticks": ""
            },
            "colorscale": [
             [
              0,
              "#0d0887"
             ],
             [
              0.1111111111111111,
              "#46039f"
             ],
             [
              0.2222222222222222,
              "#7201a8"
             ],
             [
              0.3333333333333333,
              "#9c179e"
             ],
             [
              0.4444444444444444,
              "#bd3786"
             ],
             [
              0.5555555555555556,
              "#d8576b"
             ],
             [
              0.6666666666666666,
              "#ed7953"
             ],
             [
              0.7777777777777778,
              "#fb9f3a"
             ],
             [
              0.8888888888888888,
              "#fdca26"
             ],
             [
              1,
              "#f0f921"
             ]
            ],
            "type": "surface"
           }
          ],
          "table": [
           {
            "cells": {
             "fill": {
              "color": "#EBF0F8"
             },
             "line": {
              "color": "white"
             }
            },
            "header": {
             "fill": {
              "color": "#C8D4E3"
             },
             "line": {
              "color": "white"
             }
            },
            "type": "table"
           }
          ]
         },
         "layout": {
          "annotationdefaults": {
           "arrowcolor": "#2a3f5f",
           "arrowhead": 0,
           "arrowwidth": 1
          },
          "autotypenumbers": "strict",
          "coloraxis": {
           "colorbar": {
            "outlinewidth": 0,
            "ticks": ""
           }
          },
          "colorscale": {
           "diverging": [
            [
             0,
             "#8e0152"
            ],
            [
             0.1,
             "#c51b7d"
            ],
            [
             0.2,
             "#de77ae"
            ],
            [
             0.3,
             "#f1b6da"
            ],
            [
             0.4,
             "#fde0ef"
            ],
            [
             0.5,
             "#f7f7f7"
            ],
            [
             0.6,
             "#e6f5d0"
            ],
            [
             0.7,
             "#b8e186"
            ],
            [
             0.8,
             "#7fbc41"
            ],
            [
             0.9,
             "#4d9221"
            ],
            [
             1,
             "#276419"
            ]
           ],
           "sequential": [
            [
             0,
             "#0d0887"
            ],
            [
             0.1111111111111111,
             "#46039f"
            ],
            [
             0.2222222222222222,
             "#7201a8"
            ],
            [
             0.3333333333333333,
             "#9c179e"
            ],
            [
             0.4444444444444444,
             "#bd3786"
            ],
            [
             0.5555555555555556,
             "#d8576b"
            ],
            [
             0.6666666666666666,
             "#ed7953"
            ],
            [
             0.7777777777777778,
             "#fb9f3a"
            ],
            [
             0.8888888888888888,
             "#fdca26"
            ],
            [
             1,
             "#f0f921"
            ]
           ],
           "sequentialminus": [
            [
             0,
             "#0d0887"
            ],
            [
             0.1111111111111111,
             "#46039f"
            ],
            [
             0.2222222222222222,
             "#7201a8"
            ],
            [
             0.3333333333333333,
             "#9c179e"
            ],
            [
             0.4444444444444444,
             "#bd3786"
            ],
            [
             0.5555555555555556,
             "#d8576b"
            ],
            [
             0.6666666666666666,
             "#ed7953"
            ],
            [
             0.7777777777777778,
             "#fb9f3a"
            ],
            [
             0.8888888888888888,
             "#fdca26"
            ],
            [
             1,
             "#f0f921"
            ]
           ]
          },
          "colorway": [
           "#636efa",
           "#EF553B",
           "#00cc96",
           "#ab63fa",
           "#FFA15A",
           "#19d3f3",
           "#FF6692",
           "#B6E880",
           "#FF97FF",
           "#FECB52"
          ],
          "font": {
           "color": "#2a3f5f"
          },
          "geo": {
           "bgcolor": "white",
           "lakecolor": "white",
           "landcolor": "#E5ECF6",
           "showlakes": true,
           "showland": true,
           "subunitcolor": "white"
          },
          "hoverlabel": {
           "align": "left"
          },
          "hovermode": "closest",
          "mapbox": {
           "style": "light"
          },
          "paper_bgcolor": "white",
          "plot_bgcolor": "#E5ECF6",
          "polar": {
           "angularaxis": {
            "gridcolor": "white",
            "linecolor": "white",
            "ticks": ""
           },
           "bgcolor": "#E5ECF6",
           "radialaxis": {
            "gridcolor": "white",
            "linecolor": "white",
            "ticks": ""
           }
          },
          "scene": {
           "xaxis": {
            "backgroundcolor": "#E5ECF6",
            "gridcolor": "white",
            "gridwidth": 2,
            "linecolor": "white",
            "showbackground": true,
            "ticks": "",
            "zerolinecolor": "white"
           },
           "yaxis": {
            "backgroundcolor": "#E5ECF6",
            "gridcolor": "white",
            "gridwidth": 2,
            "linecolor": "white",
            "showbackground": true,
            "ticks": "",
            "zerolinecolor": "white"
           },
           "zaxis": {
            "backgroundcolor": "#E5ECF6",
            "gridcolor": "white",
            "gridwidth": 2,
            "linecolor": "white",
            "showbackground": true,
            "ticks": "",
            "zerolinecolor": "white"
           }
          },
          "shapedefaults": {
           "line": {
            "color": "#2a3f5f"
           }
          },
          "ternary": {
           "aaxis": {
            "gridcolor": "white",
            "linecolor": "white",
            "ticks": ""
           },
           "baxis": {
            "gridcolor": "white",
            "linecolor": "white",
            "ticks": ""
           },
           "bgcolor": "#E5ECF6",
           "caxis": {
            "gridcolor": "white",
            "linecolor": "white",
            "ticks": ""
           }
          },
          "title": {
           "x": 0.05
          },
          "xaxis": {
           "automargin": true,
           "gridcolor": "white",
           "linecolor": "white",
           "ticks": "",
           "title": {
            "standoff": 15
           },
           "zerolinecolor": "white",
           "zerolinewidth": 2
          },
          "yaxis": {
           "automargin": true,
           "gridcolor": "white",
           "linecolor": "white",
           "ticks": "",
           "title": {
            "standoff": 15
           },
           "zerolinecolor": "white",
           "zerolinewidth": 2
          }
         }
        },
        "title": {
         "text": "Word Count vs Lexical Diversity"
        },
        "xaxis": {
         "anchor": "y",
         "domain": [
          0,
          1
         ],
         "title": {
          "text": "Word Count"
         }
        },
        "yaxis": {
         "anchor": "x",
         "domain": [
          0,
          1
         ],
         "title": {
          "text": "Lexical Diversity"
         }
        }
       }
      }
     },
     "metadata": {},
     "output_type": "display_data"
    }
   ],
   "source": [
    "fig = px.scatter(\n",
    "    df,\n",
    "    x='word_count',\n",
    "    y='lexical_diversity',\n",
    "    title='Word Count vs Lexical Diversity',\n",
    "    labels={'word_count': 'Word Count', 'lexical_diversity': 'Lexical Diversity'},\n",
    "    size='word_count',  # Optional: point size based on word_count\n",
    "    color='lexical_diversity',  # Optional: color based on lexical_diversity\n",
    "    hover_data=['word_count', 'lexical_diversity']\n",
    ")\n",
    "\n",
    "fig.show()"
   ]
  },
  {
   "cell_type": "markdown",
   "id": "04d944a0",
   "metadata": {},
   "source": [
    "## **Key Points:**\n",
    "- **Axes:** The x-axis denotes the total word count, while the y-axis indicates lexical diversity, calculated as the ratio of unique words to total words.\n",
    "\n",
    "- **Data Point Size:** The size of each point corresponds directly to the word count, meaning larger points represent texts with a higher word count.\n",
    "\n",
    "- **Color Gradient:** The colors range from yellow (lower lexical diversity) to purple (higher lexical diversity), indicating the diversity of vocabulary used in the texts.\n",
    "\n",
    "- **Trends:** There is a general tendency for texts with larger word counts to also have higher lexical diversity, suggesting that longer texts tend to use a wider array of vocabulary."
   ]
  },
  {
   "cell_type": "markdown",
   "id": "2595964e",
   "metadata": {},
   "source": [
    "### **Q-Is sentiment_score more neutral for AI-generated text compared to human-generated text?**"
   ]
  },
  {
   "cell_type": "code",
   "execution_count": 22,
   "id": "5ddc28d9",
   "metadata": {},
   "outputs": [
    {
     "data": {
      "application/vnd.plotly.v1+json": {
       "config": {
        "plotlyServerURL": "https://plot.ly"
       },
       "data": [
        {
         "alignmentgroup": "True",
         "hovertemplate": "label=1<br>sentiment_score=%{x}<extra></extra>",
         "legendgroup": "1",
         "marker": {
          "color": "#636efa"
         },
         "name": "1",
         "notched": false,
         "offsetgroup": "1",
         "orientation": "h",
         "showlegend": true,
         "type": "box",
         "x": {
          "bdata": "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",
          "dtype": "f8"
         },
         "x0": " ",
         "xaxis": "x",
         "y0": " ",
         "yaxis": "y"
        },
        {
         "alignmentgroup": "True",
         "hovertemplate": "label=0<br>sentiment_score=%{x}<extra></extra>",
         "legendgroup": "0",
         "marker": {
          "color": "#EF553B"
         },
         "name": "0",
         "notched": false,
         "offsetgroup": "0",
         "orientation": "h",
         "showlegend": true,
         "type": "box",
         "x": {
          "bdata": "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",
          "dtype": "f8"
         },
         "x0": " ",
         "xaxis": "x",
         "y0": " ",
         "yaxis": "y"
        }
       ],
       "layout": {
        "boxmode": "group",
        "legend": {
         "title": {
          "text": "label"
         },
         "tracegroupgap": 0
        },
        "template": {
         "data": {
          "bar": [
           {
            "error_x": {
             "color": "#2a3f5f"
            },
            "error_y": {
             "color": "#2a3f5f"
            },
            "marker": {
             "line": {
              "color": "#E5ECF6",
              "width": 0.5
             },
             "pattern": {
              "fillmode": "overlay",
              "size": 10,
              "solidity": 0.2
             }
            },
            "type": "bar"
           }
          ],
          "barpolar": [
           {
            "marker": {
             "line": {
              "color": "#E5ECF6",
              "width": 0.5
             },
             "pattern": {
              "fillmode": "overlay",
              "size": 10,
              "solidity": 0.2
             }
            },
            "type": "barpolar"
           }
          ],
          "carpet": [
           {
            "aaxis": {
             "endlinecolor": "#2a3f5f",
             "gridcolor": "white",
             "linecolor": "white",
             "minorgridcolor": "white",
             "startlinecolor": "#2a3f5f"
            },
            "baxis": {
             "endlinecolor": "#2a3f5f",
             "gridcolor": "white",
             "linecolor": "white",
             "minorgridcolor": "white",
             "startlinecolor": "#2a3f5f"
            },
            "type": "carpet"
           }
          ],
          "choropleth": [
           {
            "colorbar": {
             "outlinewidth": 0,
             "ticks": ""
            },
            "type": "choropleth"
           }
          ],
          "contour": [
           {
            "colorbar": {
             "outlinewidth": 0,
             "ticks": ""
            },
            "colorscale": [
             [
              0,
              "#0d0887"
             ],
             [
              0.1111111111111111,
              "#46039f"
             ],
             [
              0.2222222222222222,
              "#7201a8"
             ],
             [
              0.3333333333333333,
              "#9c179e"
             ],
             [
              0.4444444444444444,
              "#bd3786"
             ],
             [
              0.5555555555555556,
              "#d8576b"
             ],
             [
              0.6666666666666666,
              "#ed7953"
             ],
             [
              0.7777777777777778,
              "#fb9f3a"
             ],
             [
              0.8888888888888888,
              "#fdca26"
             ],
             [
              1,
              "#f0f921"
             ]
            ],
            "type": "contour"
           }
          ],
          "contourcarpet": [
           {
            "colorbar": {
             "outlinewidth": 0,
             "ticks": ""
            },
            "type": "contourcarpet"
           }
          ],
          "heatmap": [
           {
            "colorbar": {
             "outlinewidth": 0,
             "ticks": ""
            },
            "colorscale": [
             [
              0,
              "#0d0887"
             ],
             [
              0.1111111111111111,
              "#46039f"
             ],
             [
              0.2222222222222222,
              "#7201a8"
             ],
             [
              0.3333333333333333,
              "#9c179e"
             ],
             [
              0.4444444444444444,
              "#bd3786"
             ],
             [
              0.5555555555555556,
              "#d8576b"
             ],
             [
              0.6666666666666666,
              "#ed7953"
             ],
             [
              0.7777777777777778,
              "#fb9f3a"
             ],
             [
              0.8888888888888888,
              "#fdca26"
             ],
             [
              1,
              "#f0f921"
             ]
            ],
            "type": "heatmap"
           }
          ],
          "histogram": [
           {
            "marker": {
             "pattern": {
              "fillmode": "overlay",
              "size": 10,
              "solidity": 0.2
             }
            },
            "type": "histogram"
           }
          ],
          "histogram2d": [
           {
            "colorbar": {
             "outlinewidth": 0,
             "ticks": ""
            },
            "colorscale": [
             [
              0,
              "#0d0887"
             ],
             [
              0.1111111111111111,
              "#46039f"
             ],
             [
              0.2222222222222222,
              "#7201a8"
             ],
             [
              0.3333333333333333,
              "#9c179e"
             ],
             [
              0.4444444444444444,
              "#bd3786"
             ],
             [
              0.5555555555555556,
              "#d8576b"
             ],
             [
              0.6666666666666666,
              "#ed7953"
             ],
             [
              0.7777777777777778,
              "#fb9f3a"
             ],
             [
              0.8888888888888888,
              "#fdca26"
             ],
             [
              1,
              "#f0f921"
             ]
            ],
            "type": "histogram2d"
           }
          ],
          "histogram2dcontour": [
           {
            "colorbar": {
             "outlinewidth": 0,
             "ticks": ""
            },
            "colorscale": [
             [
              0,
              "#0d0887"
             ],
             [
              0.1111111111111111,
              "#46039f"
             ],
             [
              0.2222222222222222,
              "#7201a8"
             ],
             [
              0.3333333333333333,
              "#9c179e"
             ],
             [
              0.4444444444444444,
              "#bd3786"
             ],
             [
              0.5555555555555556,
              "#d8576b"
             ],
             [
              0.6666666666666666,
              "#ed7953"
             ],
             [
              0.7777777777777778,
              "#fb9f3a"
             ],
             [
              0.8888888888888888,
              "#fdca26"
             ],
             [
              1,
              "#f0f921"
             ]
            ],
            "type": "histogram2dcontour"
           }
          ],
          "mesh3d": [
           {
            "colorbar": {
             "outlinewidth": 0,
             "ticks": ""
            },
            "type": "mesh3d"
           }
          ],
          "parcoords": [
           {
            "line": {
             "colorbar": {
              "outlinewidth": 0,
              "ticks": ""
             }
            },
            "type": "parcoords"
           }
          ],
          "pie": [
           {
            "automargin": true,
            "type": "pie"
           }
          ],
          "scatter": [
           {
            "fillpattern": {
             "fillmode": "overlay",
             "size": 10,
             "solidity": 0.2
            },
            "type": "scatter"
           }
          ],
          "scatter3d": [
           {
            "line": {
             "colorbar": {
              "outlinewidth": 0,
              "ticks": ""
             }
            },
            "marker": {
             "colorbar": {
              "outlinewidth": 0,
              "ticks": ""
             }
            },
            "type": "scatter3d"
           }
          ],
          "scattercarpet": [
           {
            "marker": {
             "colorbar": {
              "outlinewidth": 0,
              "ticks": ""
             }
            },
            "type": "scattercarpet"
           }
          ],
          "scattergeo": [
           {
            "marker": {
             "colorbar": {
              "outlinewidth": 0,
              "ticks": ""
             }
            },
            "type": "scattergeo"
           }
          ],
          "scattergl": [
           {
            "marker": {
             "colorbar": {
              "outlinewidth": 0,
              "ticks": ""
             }
            },
            "type": "scattergl"
           }
          ],
          "scattermap": [
           {
            "marker": {
             "colorbar": {
              "outlinewidth": 0,
              "ticks": ""
             }
            },
            "type": "scattermap"
           }
          ],
          "scattermapbox": [
           {
            "marker": {
             "colorbar": {
              "outlinewidth": 0,
              "ticks": ""
             }
            },
            "type": "scattermapbox"
           }
          ],
          "scatterpolar": [
           {
            "marker": {
             "colorbar": {
              "outlinewidth": 0,
              "ticks": ""
             }
            },
            "type": "scatterpolar"
           }
          ],
          "scatterpolargl": [
           {
            "marker": {
             "colorbar": {
              "outlinewidth": 0,
              "ticks": ""
             }
            },
            "type": "scatterpolargl"
           }
          ],
          "scatterternary": [
           {
            "marker": {
             "colorbar": {
              "outlinewidth": 0,
              "ticks": ""
             }
            },
            "type": "scatterternary"
           }
          ],
          "surface": [
           {
            "colorbar": {
             "outlinewidth": 0,
             "ticks": ""
            },
            "colorscale": [
             [
              0,
              "#0d0887"
             ],
             [
              0.1111111111111111,
              "#46039f"
             ],
             [
              0.2222222222222222,
              "#7201a8"
             ],
             [
              0.3333333333333333,
              "#9c179e"
             ],
             [
              0.4444444444444444,
              "#bd3786"
             ],
             [
              0.5555555555555556,
              "#d8576b"
             ],
             [
              0.6666666666666666,
              "#ed7953"
             ],
             [
              0.7777777777777778,
              "#fb9f3a"
             ],
             [
              0.8888888888888888,
              "#fdca26"
             ],
             [
              1,
              "#f0f921"
             ]
            ],
            "type": "surface"
           }
          ],
          "table": [
           {
            "cells": {
             "fill": {
              "color": "#EBF0F8"
             },
             "line": {
              "color": "white"
             }
            },
            "header": {
             "fill": {
              "color": "#C8D4E3"
             },
             "line": {
              "color": "white"
             }
            },
            "type": "table"
           }
          ]
         },
         "layout": {
          "annotationdefaults": {
           "arrowcolor": "#2a3f5f",
           "arrowhead": 0,
           "arrowwidth": 1
          },
          "autotypenumbers": "strict",
          "coloraxis": {
           "colorbar": {
            "outlinewidth": 0,
            "ticks": ""
           }
          },
          "colorscale": {
           "diverging": [
            [
             0,
             "#8e0152"
            ],
            [
             0.1,
             "#c51b7d"
            ],
            [
             0.2,
             "#de77ae"
            ],
            [
             0.3,
             "#f1b6da"
            ],
            [
             0.4,
             "#fde0ef"
            ],
            [
             0.5,
             "#f7f7f7"
            ],
            [
             0.6,
             "#e6f5d0"
            ],
            [
             0.7,
             "#b8e186"
            ],
            [
             0.8,
             "#7fbc41"
            ],
            [
             0.9,
             "#4d9221"
            ],
            [
             1,
             "#276419"
            ]
           ],
           "sequential": [
            [
             0,
             "#0d0887"
            ],
            [
             0.1111111111111111,
             "#46039f"
            ],
            [
             0.2222222222222222,
             "#7201a8"
            ],
            [
             0.3333333333333333,
             "#9c179e"
            ],
            [
             0.4444444444444444,
             "#bd3786"
            ],
            [
             0.5555555555555556,
             "#d8576b"
            ],
            [
             0.6666666666666666,
             "#ed7953"
            ],
            [
             0.7777777777777778,
             "#fb9f3a"
            ],
            [
             0.8888888888888888,
             "#fdca26"
            ],
            [
             1,
             "#f0f921"
            ]
           ],
           "sequentialminus": [
            [
             0,
             "#0d0887"
            ],
            [
             0.1111111111111111,
             "#46039f"
            ],
            [
             0.2222222222222222,
             "#7201a8"
            ],
            [
             0.3333333333333333,
             "#9c179e"
            ],
            [
             0.4444444444444444,
             "#bd3786"
            ],
            [
             0.5555555555555556,
             "#d8576b"
            ],
            [
             0.6666666666666666,
             "#ed7953"
            ],
            [
             0.7777777777777778,
             "#fb9f3a"
            ],
            [
             0.8888888888888888,
             "#fdca26"
            ],
            [
             1,
             "#f0f921"
            ]
           ]
          },
          "colorway": [
           "#636efa",
           "#EF553B",
           "#00cc96",
           "#ab63fa",
           "#FFA15A",
           "#19d3f3",
           "#FF6692",
           "#B6E880",
           "#FF97FF",
           "#FECB52"
          ],
          "font": {
           "color": "#2a3f5f"
          },
          "geo": {
           "bgcolor": "white",
           "lakecolor": "white",
           "landcolor": "#E5ECF6",
           "showlakes": true,
           "showland": true,
           "subunitcolor": "white"
          },
          "hoverlabel": {
           "align": "left"
          },
          "hovermode": "closest",
          "mapbox": {
           "style": "light"
          },
          "paper_bgcolor": "white",
          "plot_bgcolor": "#E5ECF6",
          "polar": {
           "angularaxis": {
            "gridcolor": "white",
            "linecolor": "white",
            "ticks": ""
           },
           "bgcolor": "#E5ECF6",
           "radialaxis": {
            "gridcolor": "white",
            "linecolor": "white",
            "ticks": ""
           }
          },
          "scene": {
           "xaxis": {
            "backgroundcolor": "#E5ECF6",
            "gridcolor": "white",
            "gridwidth": 2,
            "linecolor": "white",
            "showbackground": true,
            "ticks": "",
            "zerolinecolor": "white"
           },
           "yaxis": {
            "backgroundcolor": "#E5ECF6",
            "gridcolor": "white",
            "gridwidth": 2,
            "linecolor": "white",
            "showbackground": true,
            "ticks": "",
            "zerolinecolor": "white"
           },
           "zaxis": {
            "backgroundcolor": "#E5ECF6",
            "gridcolor": "white",
            "gridwidth": 2,
            "linecolor": "white",
            "showbackground": true,
            "ticks": "",
            "zerolinecolor": "white"
           }
          },
          "shapedefaults": {
           "line": {
            "color": "#2a3f5f"
           }
          },
          "ternary": {
           "aaxis": {
            "gridcolor": "white",
            "linecolor": "white",
            "ticks": ""
           },
           "baxis": {
            "gridcolor": "white",
            "linecolor": "white",
            "ticks": ""
           },
           "bgcolor": "#E5ECF6",
           "caxis": {
            "gridcolor": "white",
            "linecolor": "white",
            "ticks": ""
           }
          },
          "title": {
           "x": 0.05
          },
          "xaxis": {
           "automargin": true,
           "gridcolor": "white",
           "linecolor": "white",
           "ticks": "",
           "title": {
            "standoff": 15
           },
           "zerolinecolor": "white",
           "zerolinewidth": 2
          },
          "yaxis": {
           "automargin": true,
           "gridcolor": "white",
           "linecolor": "white",
           "ticks": "",
           "title": {
            "standoff": 15
           },
           "zerolinecolor": "white",
           "zerolinewidth": 2
          }
         }
        },
        "title": {
         "text": "Word Count by Content Type"
        },
        "xaxis": {
         "anchor": "y",
         "domain": [
          0,
          1
         ],
         "title": {
          "text": "sentiment_score"
         }
        },
        "yaxis": {
         "anchor": "x",
         "domain": [
          0,
          1
         ]
        }
       }
      }
     },
     "metadata": {},
     "output_type": "display_data"
    }
   ],
   "source": [
    "fig = px.box(df, x='sentiment_score', title='Word Count by Content Type', color='label')\n",
    "\n",
    "fig.show()"
   ]
  },
  {
   "cell_type": "markdown",
   "id": "7470252e",
   "metadata": {},
   "source": [
    "### **Boxplots:**\n",
    "\n",
    "- The boxplot for AI-generated text (label 1) likely shows a narrower range and may be centered closer to zero, indicating that the sentiment scores for AI-generated content tend to be more neutral.\n",
    "\n",
    "- The boxplot for human-generated text (label 0) may exhibit a broader range, suggesting a wider variety of emotional expressions, with scores that can be more positive or negative.\n",
    "\n",
    "### **Comparison:**\n",
    "\n",
    "- The observation that AI-generated text has more neutral sentiment scores indicates that AI might produce content with a more balanced or objective tone.\n",
    "- In contrast, human-generated text appears to reflect greater emotional variance, showcasing a spectrum of sentiments influenced by personal experience and expression."
   ]
  },
  {
   "cell_type": "markdown",
   "id": "0853a83d",
   "metadata": {},
   "source": [
    "# **Let's Do Statistical Test On Data**"
   ]
  },
  {
   "cell_type": "markdown",
   "id": "551b92e8",
   "metadata": {},
   "source": [
    "____"
   ]
  },
  {
   "cell_type": "markdown",
   "id": "1d4784fe",
   "metadata": {},
   "source": [
    "#### **Is the mean lexical_diversity significantly different between AI-generated and human-generated texts?**"
   ]
  },
  {
   "cell_type": "code",
   "execution_count": 23,
   "id": "f48c72ff",
   "metadata": {},
   "outputs": [
    {
     "name": "stdout",
     "output_type": "stream",
     "text": [
      "T-statistic: nan\n",
      "P-value: nan\n",
      "There is no significant difference in lexical diversity between AI-generated text and human-written text.\n"
     ]
    }
   ],
   "source": [
    "from scipy.stats import ttest_ind\n",
    "\n",
    "ai_diversity = df[df['label'] == '0']['lexical_diversity']\n",
    "human_diversity = df[df['label'] == '1']['lexical_diversity']\n",
    "\n",
    "t_statistic, p_value = ttest_ind(ai_diversity, human_diversity)\n",
    "\n",
    "print(\"T-statistic:\", t_statistic)\n",
    "print(\"P-value:\", p_value)\n",
    "\n",
    "if p_value < 0.05:\n",
    "    print(\"There is a significant difference in lexical diversity between AI-generated text and human-written text.\")\n",
    "else:\n",
    "    print(\"There is no significant difference in lexical diversity between AI-generated text and human-written text.\")"
   ]
  },
  {
   "cell_type": "markdown",
   "id": "cb2f0ec5",
   "metadata": {},
   "source": [
    "#### **Is there a significant difference in flesch_reading_ease between different content_type categories?**"
   ]
  },
  {
   "cell_type": "code",
   "execution_count": 25,
   "id": "bb1455ff",
   "metadata": {},
   "outputs": [
    {
     "name": "stdout",
     "output_type": "stream",
     "text": [
      "ANOVA Results:\n",
      "                       sum_sq      df         F    PR(>F)\n",
      "C(content_type)    252.163359     7.0  1.156148  0.325542\n",
      "Residual         31158.062521  1000.0       NaN       NaN\n",
      "\n",
      "Tukey's HSD Results:\n",
      "          Multiple Comparison of Means - Tukey HSD, FWER=0.05          \n",
      "=======================================================================\n",
      "     group1           group2      meandiff p-adj   lower  upper  reject\n",
      "-----------------------------------------------------------------------\n",
      "  academic_paper          article   0.5341 0.9954 -1.6305 2.6988  False\n",
      "  academic_paper        blog_post   1.0675 0.8004 -1.0751 3.2101  False\n",
      "  academic_paper creative_writing   0.3386 0.9998  -1.826 2.5033  False\n",
      "  academic_paper            essay   0.3589 0.9996 -1.7748 2.4926  False\n",
      "  academic_paper     news_article   1.5102 0.3817 -0.6206  3.641  False\n",
      "  academic_paper   product_review   1.2702 0.6661 -0.9572 3.4976  False\n",
      "  academic_paper     social_media   0.6659 0.9985 -2.5637 3.8955  False\n",
      "         article        blog_post   0.5334 0.9923  -1.455 2.5217  False\n",
      "         article creative_writing  -0.1955    1.0 -2.2076 1.8166  False\n",
      "         article            essay  -0.1752    1.0  -2.154 1.8035  False\n",
      "         article     news_article   0.9761 0.8072 -0.9995 2.9517  False\n",
      "         article   product_review   0.7361 0.9619 -1.3433 2.8155  False\n",
      "         article     social_media   0.1318    1.0 -2.9976 3.2612  False\n",
      "       blog_post creative_writing  -0.7289  0.954 -2.7172 1.2595  False\n",
      "       blog_post            essay  -0.7086 0.9566 -2.6631 1.2459  False\n",
      "       blog_post     news_article   0.4427 0.9973 -1.5087 2.3941  False\n",
      "       blog_post   product_review   0.2027    1.0 -1.8537 2.2591  False\n",
      "       blog_post     social_media  -0.4016 0.9999 -3.5157 2.7126  False\n",
      "creative_writing            essay   0.0203    1.0 -1.9585  1.999  False\n",
      "creative_writing     news_article   1.1716 0.6194  -0.804 3.1472  False\n",
      "creative_writing   product_review   0.9316 0.8747 -1.1478 3.0109  False\n",
      "creative_writing     social_media   0.3273    1.0 -2.8021 3.4567  False\n",
      "           essay     news_article   1.1513 0.6195 -0.7903 3.0929  False\n",
      "           essay   product_review   0.9113 0.8784 -1.1358 2.9584  False\n",
      "           essay     social_media    0.307    1.0  -2.801 3.4151  False\n",
      "    news_article   product_review    -0.24    1.0 -2.2841 1.8041  False\n",
      "    news_article     social_media  -0.8443 0.9917 -3.9504 2.2617  False\n",
      "  product_review     social_media  -0.6043 0.9991 -3.7774 2.5688  False\n",
      "-----------------------------------------------------------------------\n"
     ]
    }
   ],
   "source": [
    "import pandas as pd\n",
    "import scipy.stats as stats\n",
    "import statsmodels.api as sm\n",
    "from statsmodels.formula.api import ols\n",
    "from statsmodels.stats.multicomp import pairwise_tukeyhsd\n",
    "\n",
    "# One-way ANOVA\n",
    "model = ols('flesch_reading_ease ~ C(content_type)', data=df).fit()\n",
    "anova_table = sm.stats.anova_lm(model, typ=2)\n",
    "print(\"ANOVA Results:\")\n",
    "print(anova_table)\n",
    "\n",
    "# Tukey's HSD Post-hoc Test\n",
    "tukey = pairwise_tukeyhsd(\n",
    "    endog=df['flesch_reading_ease'],\n",
    "    groups=df['content_type'],\n",
    "    alpha=0.05\n",
    ")\n",
    "print(\"\\nTukey's HSD Results:\")\n",
    "print(tukey.summary())\n"
   ]
  },
  {
   "cell_type": "markdown",
   "id": "4194c87f",
   "metadata": {},
   "source": [
    "#### **Is the distribution of label dependent on content_type?**"
   ]
  },
  {
   "cell_type": "code",
   "execution_count": 26,
   "id": "7ebafa34",
   "metadata": {},
   "outputs": [
    {
     "name": "stdout",
     "output_type": "stream",
     "text": [
      "Chi-square Statistic: 10.8781\n",
      "p-value: 0.1440\n",
      "Degrees of Freedom: 7\n",
      "There is no significant relationship between content type and label.\n"
     ]
    }
   ],
   "source": [
    "import pandas as pd\n",
    "from scipy.stats import chi2_contingency\n",
    "\n",
    "# Example: contingency table\n",
    "contingency_table = pd.crosstab(df['content_type'], df['label'])\n",
    "\n",
    "# Perform Chi-square test\n",
    "chi2, p, dof, expected = chi2_contingency(contingency_table)\n",
    "\n",
    "print(f\"Chi-square Statistic: {chi2:.4f}\")\n",
    "print(f\"p-value: {p:.4f}\")\n",
    "print(f\"Degrees of Freedom: {dof}\")\n",
    "\n",
    "if p < 0.05:\n",
    "    print(\"There is a significant relationship between content type and label.\")\n",
    "else:\n",
    "    print(\"There is no significant relationship between content type and label.\")\n"
   ]
  },
  {
   "cell_type": "markdown",
   "id": "92146ff0",
   "metadata": {},
   "source": [
    "#### **Is there a significant correlation between predictability_score and burstiness? (Pearson/Spearman correlation)**"
   ]
  },
  {
   "cell_type": "code",
   "execution_count": 29,
   "id": "afbcab82",
   "metadata": {},
   "outputs": [
    {
     "name": "stdout",
     "output_type": "stream",
     "text": [
      "Pearson: Significant correlation (r = 0.709, p = 0.000)\n",
      "Spearman: Significant correlation (ρ = 0.728, p = 0.000)\n"
     ]
    }
   ],
   "source": [
    "from scipy.stats import pearsonr, spearmanr\n",
    "\n",
    "# Pearson correlation\n",
    "pearson_corr, pearson_p = pearsonr(df['predictability_score'], df['burstiness'])\n",
    "\n",
    "# Spearman correlation\n",
    "spearman_corr, spearman_p = spearmanr(df['predictability_score'], df['burstiness'])\n",
    "\n",
    "# Pearson result\n",
    "if pearson_p < 0.05:\n",
    "    print(f\"Pearson: Significant correlation (r = {pearson_corr:.3f}, p = {pearson_p:.3f})\")\n",
    "else:\n",
    "    print(f\"Pearson: No significant correlation (r = {pearson_corr:.3f}, p = {pearson_p:.3f})\")\n",
    "\n",
    "# Spearman result\n",
    "if spearman_p < 0.05:\n",
    "    print(f\"Spearman: Significant correlation (ρ = {spearman_corr:.3f}, p = {spearman_p:.3f})\")\n",
    "else:\n",
    "    print(f\"Spearman: No significant correlation (ρ = {spearman_corr:.3f}, p = {spearman_p:.3f})\")\n"
   ]
  },
  {
   "cell_type": "markdown",
   "id": "89a11c8c",
   "metadata": {},
   "source": [
    "#### **Do AI-generated texts have significantly different passive_voice_ratio than human texts?**"
   ]
  },
  {
   "cell_type": "code",
   "execution_count": 44,
   "id": "2f1c20ab",
   "metadata": {},
   "outputs": [
    {
     "name": "stdout",
     "output_type": "stream",
     "text": [
      "No significant difference in passive_voice_ratio between AI and Human texts.\n"
     ]
    }
   ],
   "source": [
    "from scipy.stats import ttest_ind\n",
    "\n",
    "# Example: Split data into AI vs Human groups\n",
    "ai_data = df[df['label'] == '0']['passive_voice_ratio']\n",
    "human_data = df[df['label'] == '1']['passive_voice_ratio']\n",
    "\n",
    "# Perform independent t-test\n",
    "t_stat, p_value = ttest_ind(ai_data, human_data, equal_var=False)\n",
    "\n",
    "\n",
    "if p_value <= 0.05:\n",
    "    print(\"Significant difference in passive_voice_ratio between AI and Human texts.\")\n",
    "else:\n",
    "    print(\"No significant difference in passive_voice_ratio between AI and Human texts.\")\n"
   ]
  },
  {
   "cell_type": "markdown",
   "id": "941b3169",
   "metadata": {},
   "source": [
    "# **Ready the data for modelling**"
   ]
  },
  {
   "cell_type": "markdown",
   "id": "5e7ccc91",
   "metadata": {},
   "source": [
    "## Tokenization"
   ]
  },
  {
   "cell_type": "code",
   "execution_count": 119,
   "id": "f59a80c9",
   "metadata": {},
   "outputs": [],
   "source": [
    "# import spacy library\n",
    "import spacy\n",
    "\n",
    "# load spacy model\n",
    "nlp = spacy.load('en_core_web_sm')\n",
    "\n",
    "# function to tokenize the text\n",
    "def tokenize(text):\n",
    "    doc = nlp(text)\n",
    "    tokens = [token.text for token in doc]\n",
    "    return tokens\n",
    "\n",
    "# apply function to the text column\n",
    "cont['text_content'] = cont['text_content'].apply(tokenize)"
   ]
  },
  {
   "cell_type": "code",
   "execution_count": 120,
   "id": "405a5776",
   "metadata": {},
   "outputs": [
    {
     "data": {
      "text/plain": [
       "0    [Score, each, cause, ., Quality, throughout, b...\n",
       "1    [Board, its, rock, ., Job, worker, break, toni...\n",
       "3    [Story, turn, because, such, during, open, mod...\n",
       "4    [Place, specific, as, simply, leader, fall, an...\n",
       "5    [Spend, value, return, couple, ., Marriage, me...\n",
       "Name: text_content, dtype: object"
      ]
     },
     "execution_count": 120,
     "metadata": {},
     "output_type": "execute_result"
    }
   ],
   "source": [
    "cont['text_content'].head()"
   ]
  },
  {
   "cell_type": "markdown",
   "id": "ae3202b4",
   "metadata": {},
   "source": [
    "## Lemmatization"
   ]
  },
  {
   "cell_type": "code",
   "execution_count": 121,
   "id": "775802c6",
   "metadata": {},
   "outputs": [],
   "source": [
    "import spacy\n",
    "\n",
    "nlp = spacy.load(\"en_core_web_sm\")\n",
    "\n",
    "def lemmatize_and_lower(text):\n",
    "    # If text is a list, join it into a string\n",
    "    if isinstance(text, list):\n",
    "        text = \" \".join(text)\n",
    "    \n",
    "    doc = nlp(text)\n",
    "    return \" \".join([token.lemma_.lower() for token in doc])\n",
    "\n",
    "cont['text_content'] = cont['text_content'].apply(lemmatize_and_lower)\n"
   ]
  },
  {
   "cell_type": "code",
   "execution_count": 122,
   "id": "724f89cc",
   "metadata": {},
   "outputs": [
    {
     "data": {
      "text/plain": [
       "0    score each cause . quality throughout beautifu...\n",
       "1    board its rock . job worker break tonight coup...\n",
       "3    story turn because such during open model . th...\n",
       "4    place specific as simply leader fall analysis ...\n",
       "5    spend value return couple . marriage method ma...\n",
       "Name: text_content, dtype: object"
      ]
     },
     "execution_count": 122,
     "metadata": {},
     "output_type": "execute_result"
    }
   ],
   "source": [
    "cont['text_content'].head()"
   ]
  },
  {
   "cell_type": "markdown",
   "id": "42688911",
   "metadata": {},
   "source": [
    "## Removing Stop Words"
   ]
  },
  {
   "cell_type": "code",
   "execution_count": 123,
   "id": "22e10e14",
   "metadata": {},
   "outputs": [
    {
     "name": "stdout",
     "output_type": "stream",
     "text": [
      "0    score cause . quality beautiful instead . \\n  ...\n",
      "1    board rock . job worker break tonight couple ....\n",
      "3    story turn open model . second develop single ...\n",
      "4    place specific simply leader fall analysis . f...\n",
      "5    spend value return couple . marriage method ma...\n",
      "Name: text_content, dtype: object\n"
     ]
    }
   ],
   "source": [
    "# Function to remove stopwords\n",
    "def remove_stopwords_spacy(text):\n",
    "    doc = nlp(text)\n",
    "    return \" \".join([token.text for token in doc if not token.is_stop])\n",
    "\n",
    "# Apply to dataset\n",
    "cont['text_content'] = cont['text_content'].apply(remove_stopwords_spacy)\n",
    "\n",
    "print(cont['text_content'].head())"
   ]
  },
  {
   "cell_type": "markdown",
   "id": "0ccd3d3a",
   "metadata": {},
   "source": [
    "## Normalizing The Numerical data"
   ]
  },
  {
   "cell_type": "code",
   "execution_count": 124,
   "id": "ecd17903",
   "metadata": {},
   "outputs": [
    {
     "name": "stdout",
     "output_type": "stream",
     "text": [
      "<class 'pandas.core.frame.DataFrame'>\n",
      "Index: 1008 entries, 0 to 1366\n",
      "Data columns (total 17 columns):\n",
      " #   Column                Non-Null Count  Dtype  \n",
      "---  ------                --------------  -----  \n",
      " 0   text_content          1008 non-null   object \n",
      " 1   content_type          1008 non-null   object \n",
      " 2   word_count            1008 non-null   int64  \n",
      " 3   character_count       1008 non-null   int64  \n",
      " 4   sentence_count        1008 non-null   int64  \n",
      " 5   lexical_diversity     1008 non-null   float64\n",
      " 6   avg_sentence_length   1008 non-null   float64\n",
      " 7   avg_word_length       1008 non-null   float64\n",
      " 8   punctuation_ratio     1008 non-null   float64\n",
      " 9   flesch_reading_ease   1008 non-null   float64\n",
      " 10  gunning_fog_index     1008 non-null   float64\n",
      " 11  grammar_errors        1008 non-null   int64  \n",
      " 12  passive_voice_ratio   1008 non-null   float64\n",
      " 13  predictability_score  1008 non-null   float64\n",
      " 14  burstiness            1008 non-null   float64\n",
      " 15  sentiment_score       1008 non-null   float64\n",
      " 16  label                 1008 non-null   int64  \n",
      "dtypes: float64(10), int64(5), object(2)\n",
      "memory usage: 141.8+ KB\n"
     ]
    }
   ],
   "source": [
    "cont.info()"
   ]
  },
  {
   "cell_type": "code",
   "execution_count": 125,
   "id": "74cd922e",
   "metadata": {},
   "outputs": [
    {
     "data": {
      "text/html": [
       "<div>\n",
       "<style scoped>\n",
       "    .dataframe tbody tr th:only-of-type {\n",
       "        vertical-align: middle;\n",
       "    }\n",
       "\n",
       "    .dataframe tbody tr th {\n",
       "        vertical-align: top;\n",
       "    }\n",
       "\n",
       "    .dataframe thead th {\n",
       "        text-align: right;\n",
       "    }\n",
       "</style>\n",
       "<table border=\"1\" class=\"dataframe\">\n",
       "  <thead>\n",
       "    <tr style=\"text-align: right;\">\n",
       "      <th></th>\n",
       "      <th>text_content</th>\n",
       "      <th>content_type</th>\n",
       "      <th>word_count</th>\n",
       "      <th>character_count</th>\n",
       "      <th>sentence_count</th>\n",
       "      <th>lexical_diversity</th>\n",
       "      <th>avg_sentence_length</th>\n",
       "      <th>avg_word_length</th>\n",
       "      <th>punctuation_ratio</th>\n",
       "      <th>flesch_reading_ease</th>\n",
       "      <th>gunning_fog_index</th>\n",
       "      <th>grammar_errors</th>\n",
       "      <th>passive_voice_ratio</th>\n",
       "      <th>predictability_score</th>\n",
       "      <th>burstiness</th>\n",
       "      <th>sentiment_score</th>\n",
       "      <th>label</th>\n",
       "    </tr>\n",
       "  </thead>\n",
       "  <tbody>\n",
       "    <tr>\n",
       "      <th>0</th>\n",
       "      <td>score cause . quality beautiful instead . \\n  ...</td>\n",
       "      <td>academic_paper</td>\n",
       "      <td>0.839763</td>\n",
       "      <td>0.833260</td>\n",
       "      <td>0.883333</td>\n",
       "      <td>0.433566</td>\n",
       "      <td>0.394558</td>\n",
       "      <td>0.469136</td>\n",
       "      <td>0.5750</td>\n",
       "      <td>0.510350</td>\n",
       "      <td>0.482699</td>\n",
       "      <td>0.142857</td>\n",
       "      <td>0.2705</td>\n",
       "      <td>0.859159</td>\n",
       "      <td>0.647194</td>\n",
       "      <td>0.383878</td>\n",
       "      <td>1.0</td>\n",
       "    </tr>\n",
       "    <tr>\n",
       "      <th>1</th>\n",
       "      <td>board rock . job worker break tonight couple ....</td>\n",
       "      <td>essay</td>\n",
       "      <td>0.735905</td>\n",
       "      <td>0.741751</td>\n",
       "      <td>0.733333</td>\n",
       "      <td>0.677156</td>\n",
       "      <td>0.591837</td>\n",
       "      <td>0.604938</td>\n",
       "      <td>0.3500</td>\n",
       "      <td>0.411849</td>\n",
       "      <td>0.602076</td>\n",
       "      <td>0.857143</td>\n",
       "      <td>0.7725</td>\n",
       "      <td>0.803403</td>\n",
       "      <td>0.663230</td>\n",
       "      <td>0.872479</td>\n",
       "      <td>1.0</td>\n",
       "    </tr>\n",
       "    <tr>\n",
       "      <th>3</th>\n",
       "      <td>story turn open model . second develop single ...</td>\n",
       "      <td>creative_writing</td>\n",
       "      <td>0.566766</td>\n",
       "      <td>0.561813</td>\n",
       "      <td>0.550000</td>\n",
       "      <td>0.524476</td>\n",
       "      <td>0.687075</td>\n",
       "      <td>0.469136</td>\n",
       "      <td>0.3250</td>\n",
       "      <td>0.536046</td>\n",
       "      <td>0.411765</td>\n",
       "      <td>0.285714</td>\n",
       "      <td>0.7060</td>\n",
       "      <td>0.688288</td>\n",
       "      <td>0.748855</td>\n",
       "      <td>0.017606</td>\n",
       "      <td>1.0</td>\n",
       "    </tr>\n",
       "    <tr>\n",
       "      <th>4</th>\n",
       "      <td>place specific simply leader fall analysis . f...</td>\n",
       "      <td>news_article</td>\n",
       "      <td>0.459941</td>\n",
       "      <td>0.476023</td>\n",
       "      <td>0.450000</td>\n",
       "      <td>0.636364</td>\n",
       "      <td>0.653061</td>\n",
       "      <td>0.814815</td>\n",
       "      <td>0.2125</td>\n",
       "      <td>0.205211</td>\n",
       "      <td>0.634948</td>\n",
       "      <td>0.000000</td>\n",
       "      <td>0.4090</td>\n",
       "      <td>0.061261</td>\n",
       "      <td>0.269616</td>\n",
       "      <td>0.017606</td>\n",
       "      <td>1.0</td>\n",
       "    </tr>\n",
       "    <tr>\n",
       "      <th>5</th>\n",
       "      <td>spend value return couple . marriage method ma...</td>\n",
       "      <td>blog_post</td>\n",
       "      <td>0.572700</td>\n",
       "      <td>0.593929</td>\n",
       "      <td>0.600000</td>\n",
       "      <td>0.529138</td>\n",
       "      <td>0.408163</td>\n",
       "      <td>0.839506</td>\n",
       "      <td>0.4250</td>\n",
       "      <td>0.161670</td>\n",
       "      <td>0.410035</td>\n",
       "      <td>0.000000</td>\n",
       "      <td>0.1855</td>\n",
       "      <td>0.169469</td>\n",
       "      <td>0.188574</td>\n",
       "      <td>-0.445876</td>\n",
       "      <td>1.0</td>\n",
       "    </tr>\n",
       "  </tbody>\n",
       "</table>\n",
       "</div>"
      ],
      "text/plain": [
       "                                        text_content      content_type  \\\n",
       "0  score cause . quality beautiful instead . \\n  ...    academic_paper   \n",
       "1  board rock . job worker break tonight couple ....             essay   \n",
       "3  story turn open model . second develop single ...  creative_writing   \n",
       "4  place specific simply leader fall analysis . f...      news_article   \n",
       "5  spend value return couple . marriage method ma...         blog_post   \n",
       "\n",
       "   word_count  character_count  sentence_count  lexical_diversity  \\\n",
       "0    0.839763         0.833260        0.883333           0.433566   \n",
       "1    0.735905         0.741751        0.733333           0.677156   \n",
       "3    0.566766         0.561813        0.550000           0.524476   \n",
       "4    0.459941         0.476023        0.450000           0.636364   \n",
       "5    0.572700         0.593929        0.600000           0.529138   \n",
       "\n",
       "   avg_sentence_length  avg_word_length  punctuation_ratio  \\\n",
       "0             0.394558         0.469136             0.5750   \n",
       "1             0.591837         0.604938             0.3500   \n",
       "3             0.687075         0.469136             0.3250   \n",
       "4             0.653061         0.814815             0.2125   \n",
       "5             0.408163         0.839506             0.4250   \n",
       "\n",
       "   flesch_reading_ease  gunning_fog_index  grammar_errors  \\\n",
       "0             0.510350           0.482699        0.142857   \n",
       "1             0.411849           0.602076        0.857143   \n",
       "3             0.536046           0.411765        0.285714   \n",
       "4             0.205211           0.634948        0.000000   \n",
       "5             0.161670           0.410035        0.000000   \n",
       "\n",
       "   passive_voice_ratio  predictability_score  burstiness  sentiment_score  \\\n",
       "0               0.2705              0.859159    0.647194         0.383878   \n",
       "1               0.7725              0.803403    0.663230         0.872479   \n",
       "3               0.7060              0.688288    0.748855         0.017606   \n",
       "4               0.4090              0.061261    0.269616         0.017606   \n",
       "5               0.1855              0.169469    0.188574        -0.445876   \n",
       "\n",
       "   label  \n",
       "0    1.0  \n",
       "1    1.0  \n",
       "3    1.0  \n",
       "4    1.0  \n",
       "5    1.0  "
      ]
     },
     "execution_count": 125,
     "metadata": {},
     "output_type": "execute_result"
    }
   ],
   "source": [
    "from sklearn.preprocessing import MinMaxScaler, StandardScaler\n",
    "\n",
    "numeric_col = cont.select_dtypes(include=['int64', 'float64']).columns\n",
    "\n",
    "minmax_scaler = MinMaxScaler()\n",
    "standard_scaler = StandardScaler()\n",
    "\n",
    "for n_col in numeric_col:\n",
    "    if n_col == \"sentiment_score\":\n",
    "        cont[n_col] = standard_scaler.fit_transform(cont[[n_col]])\n",
    "    else:\n",
    "        cont[n_col] = minmax_scaler.fit_transform(cont[[n_col]])\n",
    "\n",
    "cont.head()\n"
   ]
  },
  {
   "cell_type": "code",
   "execution_count": 126,
   "id": "b92a7018",
   "metadata": {},
   "outputs": [
    {
     "data": {
      "image/png": "[encoded data removed]",
      "text/plain": [
       "<Figure size 640x480 with 1 Axes>"
      ]
     },
     "metadata": {},
     "output_type": "display_data"
    },
    {
     "data": {
      "image/png": "[encoded data removed]",
      "text/plain": [
       "<Figure size 640x480 with 1 Axes>"
      ]
     },
     "metadata": {},
     "output_type": "display_data"
    },
    {
     "data": {
      "image/png": "[encoded data removed]",
      "text/plain": [
       "<Figure size 640x480 with 1 Axes>"
      ]
     },
     "metadata": {},
     "output_type": "display_data"
    },
    {
     "data": {
      "image/png": "[encoded data removed]",
      "text/plain": [
       "<Figure size 640x480 with 1 Axes>"
      ]
     },
     "metadata": {},
     "output_type": "display_data"
    },
    {
     "data": {
      "image/png": "[encoded data removed]",
      "text/plain": [
       "<Figure size 640x480 with 1 Axes>"
      ]
     },
     "metadata": {},
     "output_type": "display_data"
    },
    {
     "data": {
      "image/png": "[encoded data removed]",
      "text/plain": [
       "<Figure size 640x480 with 1 Axes>"
      ]
     },
     "metadata": {},
     "output_type": "display_data"
    },
    {
     "data": {
      "image/png": "[encoded data removed]",
      "text/plain": [
       "<Figure size 640x480 with 1 Axes>"
      ]
     },
     "metadata": {},
     "output_type": "display_data"
    },
    {
     "data": {
      "image/png": "[encoded data removed]",
      "text/plain": [
       "<Figure size 640x480 with 1 Axes>"
      ]
     },
     "metadata": {},
     "output_type": "display_data"
    },
    {
     "data": {
      "image/png": "[encoded data removed]",
      "text/plain": [
       "<Figure size 640x480 with 1 Axes>"
      ]
     },
     "metadata": {},
     "output_type": "display_data"
    },
    {
     "data": {
      "image/png": "[encoded data removed]",
      "text/plain": [
       "<Figure size 640x480 with 1 Axes>"
      ]
     },
     "metadata": {},
     "output_type": "display_data"
    },
    {
     "data": {
      "image/png": "[encoded data removed]",
      "text/plain": [
       "<Figure size 640x480 with 1 Axes>"
      ]
     },
     "metadata": {},
     "output_type": "display_data"
    },
    {
     "data": {
      "image/png": "[encoded data removed]",
      "text/plain": [
       "<Figure size 640x480 with 1 Axes>"
      ]
     },
     "metadata": {},
     "output_type": "display_data"
    },
    {
     "data": {
      "image/png": "[encoded data removed]",
      "text/plain": [
       "<Figure size 640x480 with 1 Axes>"
      ]
     },
     "metadata": {},
     "output_type": "display_data"
    },
    {
     "data": {
      "image/png": "[encoded data removed]",
      "text/plain": [
       "<Figure size 640x480 with 1 Axes>"
      ]
     },
     "metadata": {},
     "output_type": "display_data"
    },
    {
     "data": {
      "image/png": "[encoded data removed]",
      "text/plain": [
       "<Figure size 640x480 with 1 Axes>"
      ]
     },
     "metadata": {},
     "output_type": "display_data"
    }
   ],
   "source": [
    "for n_col in numeric_col:\n",
    "    sns.histplot(data=cont, x=n_col)\n",
    "    plt.show()"
   ]
  },
  {
   "cell_type": "markdown",
   "id": "4f5c25bd",
   "metadata": {},
   "source": [
    "## Label Encoding"
   ]
  },
  {
   "cell_type": "code",
   "execution_count": 127,
   "id": "2c903e4d",
   "metadata": {},
   "outputs": [],
   "source": [
    "from sklearn.preprocessing import LabelEncoder\n",
    "\n",
    "le = LabelEncoder()\n",
    "cont['content_type'] = le.fit_transform(cont['content_type'])\n",
    "\n"
   ]
  },
  {
   "cell_type": "code",
   "execution_count": 128,
   "id": "952a23b9",
   "metadata": {},
   "outputs": [
    {
     "data": {
      "text/html": [
       "<div>\n",
       "<style scoped>\n",
       "    .dataframe tbody tr th:only-of-type {\n",
       "        vertical-align: middle;\n",
       "    }\n",
       "\n",
       "    .dataframe tbody tr th {\n",
       "        vertical-align: top;\n",
       "    }\n",
       "\n",
       "    .dataframe thead th {\n",
       "        text-align: right;\n",
       "    }\n",
       "</style>\n",
       "<table border=\"1\" class=\"dataframe\">\n",
       "  <thead>\n",
       "    <tr style=\"text-align: right;\">\n",
       "      <th></th>\n",
       "      <th>text_content</th>\n",
       "      <th>content_type</th>\n",
       "      <th>word_count</th>\n",
       "      <th>character_count</th>\n",
       "      <th>sentence_count</th>\n",
       "      <th>lexical_diversity</th>\n",
       "      <th>avg_sentence_length</th>\n",
       "      <th>avg_word_length</th>\n",
       "      <th>punctuation_ratio</th>\n",
       "      <th>flesch_reading_ease</th>\n",
       "      <th>gunning_fog_index</th>\n",
       "      <th>grammar_errors</th>\n",
       "      <th>passive_voice_ratio</th>\n",
       "      <th>predictability_score</th>\n",
       "      <th>burstiness</th>\n",
       "      <th>sentiment_score</th>\n",
       "      <th>label</th>\n",
       "    </tr>\n",
       "  </thead>\n",
       "  <tbody>\n",
       "    <tr>\n",
       "      <th>0</th>\n",
       "      <td>score cause . quality beautiful instead . \\n  ...</td>\n",
       "      <td>0</td>\n",
       "      <td>0.839763</td>\n",
       "      <td>0.833260</td>\n",
       "      <td>0.883333</td>\n",
       "      <td>0.433566</td>\n",
       "      <td>0.394558</td>\n",
       "      <td>0.469136</td>\n",
       "      <td>0.5750</td>\n",
       "      <td>0.510350</td>\n",
       "      <td>0.482699</td>\n",
       "      <td>0.142857</td>\n",
       "      <td>0.2705</td>\n",
       "      <td>0.859159</td>\n",
       "      <td>0.647194</td>\n",
       "      <td>0.383878</td>\n",
       "      <td>1.0</td>\n",
       "    </tr>\n",
       "    <tr>\n",
       "      <th>1</th>\n",
       "      <td>board rock . job worker break tonight couple ....</td>\n",
       "      <td>4</td>\n",
       "      <td>0.735905</td>\n",
       "      <td>0.741751</td>\n",
       "      <td>0.733333</td>\n",
       "      <td>0.677156</td>\n",
       "      <td>0.591837</td>\n",
       "      <td>0.604938</td>\n",
       "      <td>0.3500</td>\n",
       "      <td>0.411849</td>\n",
       "      <td>0.602076</td>\n",
       "      <td>0.857143</td>\n",
       "      <td>0.7725</td>\n",
       "      <td>0.803403</td>\n",
       "      <td>0.663230</td>\n",
       "      <td>0.872479</td>\n",
       "      <td>1.0</td>\n",
       "    </tr>\n",
       "    <tr>\n",
       "      <th>3</th>\n",
       "      <td>story turn open model . second develop single ...</td>\n",
       "      <td>3</td>\n",
       "      <td>0.566766</td>\n",
       "      <td>0.561813</td>\n",
       "      <td>0.550000</td>\n",
       "      <td>0.524476</td>\n",
       "      <td>0.687075</td>\n",
       "      <td>0.469136</td>\n",
       "      <td>0.3250</td>\n",
       "      <td>0.536046</td>\n",
       "      <td>0.411765</td>\n",
       "      <td>0.285714</td>\n",
       "      <td>0.7060</td>\n",
       "      <td>0.688288</td>\n",
       "      <td>0.748855</td>\n",
       "      <td>0.017606</td>\n",
       "      <td>1.0</td>\n",
       "    </tr>\n",
       "    <tr>\n",
       "      <th>4</th>\n",
       "      <td>place specific simply leader fall analysis . f...</td>\n",
       "      <td>5</td>\n",
       "      <td>0.459941</td>\n",
       "      <td>0.476023</td>\n",
       "      <td>0.450000</td>\n",
       "      <td>0.636364</td>\n",
       "      <td>0.653061</td>\n",
       "      <td>0.814815</td>\n",
       "      <td>0.2125</td>\n",
       "      <td>0.205211</td>\n",
       "      <td>0.634948</td>\n",
       "      <td>0.000000</td>\n",
       "      <td>0.4090</td>\n",
       "      <td>0.061261</td>\n",
       "      <td>0.269616</td>\n",
       "      <td>0.017606</td>\n",
       "      <td>1.0</td>\n",
       "    </tr>\n",
       "    <tr>\n",
       "      <th>5</th>\n",
       "      <td>spend value return couple . marriage method ma...</td>\n",
       "      <td>2</td>\n",
       "      <td>0.572700</td>\n",
       "      <td>0.593929</td>\n",
       "      <td>0.600000</td>\n",
       "      <td>0.529138</td>\n",
       "      <td>0.408163</td>\n",
       "      <td>0.839506</td>\n",
       "      <td>0.4250</td>\n",
       "      <td>0.161670</td>\n",
       "      <td>0.410035</td>\n",
       "      <td>0.000000</td>\n",
       "      <td>0.1855</td>\n",
       "      <td>0.169469</td>\n",
       "      <td>0.188574</td>\n",
       "      <td>-0.445876</td>\n",
       "      <td>1.0</td>\n",
       "    </tr>\n",
       "  </tbody>\n",
       "</table>\n",
       "</div>"
      ],
      "text/plain": [
       "                                        text_content  content_type  \\\n",
       "0  score cause . quality beautiful instead . \\n  ...             0   \n",
       "1  board rock . job worker break tonight couple ....             4   \n",
       "3  story turn open model . second develop single ...             3   \n",
       "4  place specific simply leader fall analysis . f...             5   \n",
       "5  spend value return couple . marriage method ma...             2   \n",
       "\n",
       "   word_count  character_count  sentence_count  lexical_diversity  \\\n",
       "0    0.839763         0.833260        0.883333           0.433566   \n",
       "1    0.735905         0.741751        0.733333           0.677156   \n",
       "3    0.566766         0.561813        0.550000           0.524476   \n",
       "4    0.459941         0.476023        0.450000           0.636364   \n",
       "5    0.572700         0.593929        0.600000           0.529138   \n",
       "\n",
       "   avg_sentence_length  avg_word_length  punctuation_ratio  \\\n",
       "0             0.394558         0.469136             0.5750   \n",
       "1             0.591837         0.604938             0.3500   \n",
       "3             0.687075         0.469136             0.3250   \n",
       "4             0.653061         0.814815             0.2125   \n",
       "5             0.408163         0.839506             0.4250   \n",
       "\n",
       "   flesch_reading_ease  gunning_fog_index  grammar_errors  \\\n",
       "0             0.510350           0.482699        0.142857   \n",
       "1             0.411849           0.602076        0.857143   \n",
       "3             0.536046           0.411765        0.285714   \n",
       "4             0.205211           0.634948        0.000000   \n",
       "5             0.161670           0.410035        0.000000   \n",
       "\n",
       "   passive_voice_ratio  predictability_score  burstiness  sentiment_score  \\\n",
       "0               0.2705              0.859159    0.647194         0.383878   \n",
       "1               0.7725              0.803403    0.663230         0.872479   \n",
       "3               0.7060              0.688288    0.748855         0.017606   \n",
       "4               0.4090              0.061261    0.269616         0.017606   \n",
       "5               0.1855              0.169469    0.188574        -0.445876   \n",
       "\n",
       "   label  \n",
       "0    1.0  \n",
       "1    1.0  \n",
       "3    1.0  \n",
       "4    1.0  \n",
       "5    1.0  "
      ]
     },
     "execution_count": 128,
     "metadata": {},
     "output_type": "execute_result"
    }
   ],
   "source": [
    "cont.head()"
   ]
  },
  {
   "cell_type": "code",
   "execution_count": 129,
   "id": "9786f750",
   "metadata": {},
   "outputs": [],
   "source": [
    "cont['content_type']=cont['content_type'].astype('category')"
   ]
  },
  {
   "cell_type": "code",
   "execution_count": 130,
   "id": "c78f230a",
   "metadata": {},
   "outputs": [
    {
     "name": "stdout",
     "output_type": "stream",
     "text": [
      "<class 'pandas.core.frame.DataFrame'>\n",
      "Index: 1008 entries, 0 to 1366\n",
      "Data columns (total 17 columns):\n",
      " #   Column                Non-Null Count  Dtype   \n",
      "---  ------                --------------  -----   \n",
      " 0   text_content          1008 non-null   object  \n",
      " 1   content_type          1008 non-null   category\n",
      " 2   word_count            1008 non-null   float64 \n",
      " 3   character_count       1008 non-null   float64 \n",
      " 4   sentence_count        1008 non-null   float64 \n",
      " 5   lexical_diversity     1008 non-null   float64 \n",
      " 6   avg_sentence_length   1008 non-null   float64 \n",
      " 7   avg_word_length       1008 non-null   float64 \n",
      " 8   punctuation_ratio     1008 non-null   float64 \n",
      " 9   flesch_reading_ease   1008 non-null   float64 \n",
      " 10  gunning_fog_index     1008 non-null   float64 \n",
      " 11  grammar_errors        1008 non-null   float64 \n",
      " 12  passive_voice_ratio   1008 non-null   float64 \n",
      " 13  predictability_score  1008 non-null   float64 \n",
      " 14  burstiness            1008 non-null   float64 \n",
      " 15  sentiment_score       1008 non-null   float64 \n",
      " 16  label                 1008 non-null   float64 \n",
      "dtypes: category(1), float64(15), object(1)\n",
      "memory usage: 135.1+ KB\n"
     ]
    }
   ],
   "source": [
    "cont.info()"
   ]
  },
  {
   "cell_type": "markdown",
   "id": "a8a8daa1",
   "metadata": {},
   "source": [
    "## Covert Text Column Into Vector By embedding"
   ]
  },
  {
   "cell_type": "code",
   "execution_count": 138,
   "id": "7a0317cf",
   "metadata": {},
   "outputs": [
    {
     "name": "stderr",
     "output_type": "stream",
     "text": [
      "d:\\anaconda\\envs\\nlp_env\\lib\\site-packages\\huggingface_hub\\file_download.py:143: UserWarning: `huggingface_hub` cache-system uses symlinks by default to efficiently store duplicated files but your machine does not support them in C:\\Users\\AbdulSattar\\.cache\\huggingface\\hub\\models--bert-base-uncased. Caching files will still work but in a degraded version that might require more space on your disk. This warning can be disabled by setting the `HF_HUB_DISABLE_SYMLINKS_WARNING` environment variable. For more details, see https://huggingface.co/docs/huggingface_hub/how-to-cache#limitations.\n",
      "To support symlinks on Windows, you either need to activate Developer Mode or to run Python as an administrator. In order to activate developer mode, see this article: https://docs.microsoft.com/en-us/windows/apps/get-started/enable-your-device-for-development\n",
      "  warnings.warn(message)\n",
      "Xet Storage is enabled for this repo, but the 'hf_xet' package is not installed. Falling back to regular HTTP download. For better performance, install the package with: `pip install huggingface_hub[hf_xet]` or `pip install hf_xet`\n"
     ]
    }
   ],
   "source": [
    "from transformers import BertTokenizer, BertModel\n",
    "import torch\n",
    "import pandas as pd\n",
    "\n",
    "# Example dataframe (replace with your data)\n",
    "# df = pd.read_csv(\"your_file.csv\")\n",
    "\n",
    "# Load BERT base uncased\n",
    "tokenizer = BertTokenizer.from_pretrained('bert-base-uncased')\n",
    "model = BertModel.from_pretrained('bert-base-uncased')\n",
    "\n",
    "# Make sure text_content is clean\n",
    "cont['text_content'] = cont['text_content'].fillna(\"\").astype(str)\n",
    "\n",
    "# Function to get CLS embedding\n",
    "def get_cls_embedding(text):\n",
    "    inputs = tokenizer(text, return_tensors='pt', truncation=True, padding=True, max_length=128)\n",
    "    with torch.no_grad():\n",
    "        outputs = model(**inputs)\n",
    "    return outputs.last_hidden_state[:, 0, :].flatten().numpy()\n",
    "\n",
    "# Apply to dataset\n",
    "cont['bert_embedding'] = cont['text_content'].apply(get_cls_embedding)"
   ]
  },
  {
   "cell_type": "code",
   "execution_count": 139,
   "id": "96a59d96",
   "metadata": {},
   "outputs": [
    {
     "data": {
      "text/html": [
       "<div>\n",
       "<style scoped>\n",
       "    .dataframe tbody tr th:only-of-type {\n",
       "        vertical-align: middle;\n",
       "    }\n",
       "\n",
       "    .dataframe tbody tr th {\n",
       "        vertical-align: top;\n",
       "    }\n",
       "\n",
       "    .dataframe thead th {\n",
       "        text-align: right;\n",
       "    }\n",
       "</style>\n",
       "<table border=\"1\" class=\"dataframe\">\n",
       "  <thead>\n",
       "    <tr style=\"text-align: right;\">\n",
       "      <th></th>\n",
       "      <th>text_content</th>\n",
       "      <th>content_type</th>\n",
       "      <th>word_count</th>\n",
       "      <th>character_count</th>\n",
       "      <th>sentence_count</th>\n",
       "      <th>lexical_diversity</th>\n",
       "      <th>avg_sentence_length</th>\n",
       "      <th>avg_word_length</th>\n",
       "      <th>punctuation_ratio</th>\n",
       "      <th>flesch_reading_ease</th>\n",
       "      <th>gunning_fog_index</th>\n",
       "      <th>grammar_errors</th>\n",
       "      <th>passive_voice_ratio</th>\n",
       "      <th>predictability_score</th>\n",
       "      <th>burstiness</th>\n",
       "      <th>sentiment_score</th>\n",
       "      <th>label</th>\n",
       "      <th>bert_embedding</th>\n",
       "    </tr>\n",
       "  </thead>\n",
       "  <tbody>\n",
       "    <tr>\n",
       "      <th>0</th>\n",
       "      <td>score cause . quality beautiful instead . \\n  ...</td>\n",
       "      <td>0</td>\n",
       "      <td>0.839763</td>\n",
       "      <td>0.833260</td>\n",
       "      <td>0.883333</td>\n",
       "      <td>0.433566</td>\n",
       "      <td>0.394558</td>\n",
       "      <td>0.469136</td>\n",
       "      <td>0.5750</td>\n",
       "      <td>0.510350</td>\n",
       "      <td>0.482699</td>\n",
       "      <td>0.142857</td>\n",
       "      <td>0.2705</td>\n",
       "      <td>0.859159</td>\n",
       "      <td>0.647194</td>\n",
       "      <td>0.383878</td>\n",
       "      <td>1.0</td>\n",
       "      <td>[0.06158576, -0.443458, 0.72349083, 0.01106596...</td>\n",
       "    </tr>\n",
       "    <tr>\n",
       "      <th>1</th>\n",
       "      <td>board rock . job worker break tonight couple ....</td>\n",
       "      <td>4</td>\n",
       "      <td>0.735905</td>\n",
       "      <td>0.741751</td>\n",
       "      <td>0.733333</td>\n",
       "      <td>0.677156</td>\n",
       "      <td>0.591837</td>\n",
       "      <td>0.604938</td>\n",
       "      <td>0.3500</td>\n",
       "      <td>0.411849</td>\n",
       "      <td>0.602076</td>\n",
       "      <td>0.857143</td>\n",
       "      <td>0.7725</td>\n",
       "      <td>0.803403</td>\n",
       "      <td>0.663230</td>\n",
       "      <td>0.872479</td>\n",
       "      <td>1.0</td>\n",
       "      <td>[-0.0716772, -0.19415614, 0.7468316, -0.041375...</td>\n",
       "    </tr>\n",
       "    <tr>\n",
       "      <th>3</th>\n",
       "      <td>story turn open model . second develop single ...</td>\n",
       "      <td>3</td>\n",
       "      <td>0.566766</td>\n",
       "      <td>0.561813</td>\n",
       "      <td>0.550000</td>\n",
       "      <td>0.524476</td>\n",
       "      <td>0.687075</td>\n",
       "      <td>0.469136</td>\n",
       "      <td>0.3250</td>\n",
       "      <td>0.536046</td>\n",
       "      <td>0.411765</td>\n",
       "      <td>0.285714</td>\n",
       "      <td>0.7060</td>\n",
       "      <td>0.688288</td>\n",
       "      <td>0.748855</td>\n",
       "      <td>0.017606</td>\n",
       "      <td>1.0</td>\n",
       "      <td>[-0.25090635, -0.45260987, 0.4824714, 0.072485...</td>\n",
       "    </tr>\n",
       "    <tr>\n",
       "      <th>4</th>\n",
       "      <td>place specific simply leader fall analysis . f...</td>\n",
       "      <td>5</td>\n",
       "      <td>0.459941</td>\n",
       "      <td>0.476023</td>\n",
       "      <td>0.450000</td>\n",
       "      <td>0.636364</td>\n",
       "      <td>0.653061</td>\n",
       "      <td>0.814815</td>\n",
       "      <td>0.2125</td>\n",
       "      <td>0.205211</td>\n",
       "      <td>0.634948</td>\n",
       "      <td>0.000000</td>\n",
       "      <td>0.4090</td>\n",
       "      <td>0.061261</td>\n",
       "      <td>0.269616</td>\n",
       "      <td>0.017606</td>\n",
       "      <td>1.0</td>\n",
       "      <td>[-0.3740563, -0.4444715, 0.71482676, -0.148296...</td>\n",
       "    </tr>\n",
       "    <tr>\n",
       "      <th>5</th>\n",
       "      <td>spend value return couple . marriage method ma...</td>\n",
       "      <td>2</td>\n",
       "      <td>0.572700</td>\n",
       "      <td>0.593929</td>\n",
       "      <td>0.600000</td>\n",
       "      <td>0.529138</td>\n",
       "      <td>0.408163</td>\n",
       "      <td>0.839506</td>\n",
       "      <td>0.4250</td>\n",
       "      <td>0.161670</td>\n",
       "      <td>0.410035</td>\n",
       "      <td>0.000000</td>\n",
       "      <td>0.1855</td>\n",
       "      <td>0.169469</td>\n",
       "      <td>0.188574</td>\n",
       "      <td>-0.445876</td>\n",
       "      <td>1.0</td>\n",
       "      <td>[-0.2323189, -0.31322163, 0.45805693, -0.15563...</td>\n",
       "    </tr>\n",
       "  </tbody>\n",
       "</table>\n",
       "</div>"
      ],
      "text/plain": [
       "                                        text_content content_type  word_count  \\\n",
       "0  score cause . quality beautiful instead . \\n  ...            0    0.839763   \n",
       "1  board rock . job worker break tonight couple ....            4    0.735905   \n",
       "3  story turn open model . second develop single ...            3    0.566766   \n",
       "4  place specific simply leader fall analysis . f...            5    0.459941   \n",
       "5  spend value return couple . marriage method ma...            2    0.572700   \n",
       "\n",
       "   character_count  sentence_count  lexical_diversity  avg_sentence_length  \\\n",
       "0         0.833260        0.883333           0.433566             0.394558   \n",
       "1         0.741751        0.733333           0.677156             0.591837   \n",
       "3         0.561813        0.550000           0.524476             0.687075   \n",
       "4         0.476023        0.450000           0.636364             0.653061   \n",
       "5         0.593929        0.600000           0.529138             0.408163   \n",
       "\n",
       "   avg_word_length  punctuation_ratio  flesch_reading_ease  gunning_fog_index  \\\n",
       "0         0.469136             0.5750             0.510350           0.482699   \n",
       "1         0.604938             0.3500             0.411849           0.602076   \n",
       "3         0.469136             0.3250             0.536046           0.411765   \n",
       "4         0.814815             0.2125             0.205211           0.634948   \n",
       "5         0.839506             0.4250             0.161670           0.410035   \n",
       "\n",
       "   grammar_errors  passive_voice_ratio  predictability_score  burstiness  \\\n",
       "0        0.142857               0.2705              0.859159    0.647194   \n",
       "1        0.857143               0.7725              0.803403    0.663230   \n",
       "3        0.285714               0.7060              0.688288    0.748855   \n",
       "4        0.000000               0.4090              0.061261    0.269616   \n",
       "5        0.000000               0.1855              0.169469    0.188574   \n",
       "\n",
       "   sentiment_score  label                                     bert_embedding  \n",
       "0         0.383878    1.0  [0.06158576, -0.443458, 0.72349083, 0.01106596...  \n",
       "1         0.872479    1.0  [-0.0716772, -0.19415614, 0.7468316, -0.041375...  \n",
       "3         0.017606    1.0  [-0.25090635, -0.45260987, 0.4824714, 0.072485...  \n",
       "4         0.017606    1.0  [-0.3740563, -0.4444715, 0.71482676, -0.148296...  \n",
       "5        -0.445876    1.0  [-0.2323189, -0.31322163, 0.45805693, -0.15563...  "
      ]
     },
     "execution_count": 139,
     "metadata": {},
     "output_type": "execute_result"
    }
   ],
   "source": [
    "cont.head()"
   ]
  },
  {
   "cell_type": "code",
   "execution_count": 148,
   "id": "ed159d7c",
   "metadata": {},
   "outputs": [
    {
     "name": "stdout",
     "output_type": "stream",
     "text": [
      "RandomForest Best Params: {'max_depth': None, 'n_estimators': 100}\n",
      "RandomForest Best Score: 0.5384277497272004\n"
     ]
    },
    {
     "name": "stderr",
     "output_type": "stream",
     "text": [
      "d:\\anaconda\\envs\\nlp_env\\lib\\site-packages\\xgboost\\core.py:158: UserWarning: [21:57:00] WARNING: C:\\buildkite-agent\\builds\\buildkite-windows-cpu-autoscaling-group-i-08cbc0333d8d4aae1-1\\xgboost\\xgboost-ci-windows\\src\\learner.cc:740: \n",
      "Parameters: { \"use_label_encoder\" } are not used.\n",
      "\n",
      "  warnings.warn(smsg, UserWarning)\n"
     ]
    },
    {
     "name": "stdout",
     "output_type": "stream",
     "text": [
      "XGBoost Best Params: {'max_depth': 6, 'n_estimators': 200}\n",
      "XGBoost Best Score: 0.5619948584216464\n",
      "RandomForest Classification Report:\n",
      "               precision    recall  f1-score   support\n",
      "\n",
      "         0.0       0.54      0.53      0.53       102\n",
      "         1.0       0.53      0.54      0.53       100\n",
      "\n",
      "    accuracy                           0.53       202\n",
      "   macro avg       0.53      0.53      0.53       202\n",
      "weighted avg       0.53      0.53      0.53       202\n",
      "\n",
      "Model saved as random_forest_ai_human.pkl\n"
     ]
    }
   ],
   "source": [
    "import numpy as np\n",
    "import pandas as pd\n",
    "from sklearn.model_selection import train_test_split, GridSearchCV\n",
    "from sklearn.ensemble import RandomForestClassifier\n",
    "from xgboost import XGBClassifier\n",
    "from sklearn.metrics import classification_report\n",
    "import joblib\n",
    "\n",
    "# 1. Flatten BERT embeddings\n",
    "bert_embeddings = np.vstack(cont['bert_embedding'].values)  # shape: (n_samples, 768)\n",
    "\n",
    "# 2. Select other numeric features\n",
    "other_features = cont.drop(columns=['bert_embedding', 'label', 'text_content']).select_dtypes(include=[np.number]).values\n",
    "\n",
    "# 3. Combine numeric features + BERT embeddings\n",
    "X = np.hstack([other_features, bert_embeddings])\n",
    "y = cont['label'].values\n",
    "\n",
    "# 4. Train/Test split\n",
    "X_train, X_test, y_train, y_test = train_test_split(X, y, test_size=0.2, random_state=42)\n",
    "\n",
    "# 5. Define models & params\n",
    "param_grid = {\n",
    "    'RandomForest': {\n",
    "        'model': RandomForestClassifier(),\n",
    "        'params': {\n",
    "            'n_estimators': [100, 200],\n",
    "            'max_depth': [None, 10]\n",
    "        }\n",
    "    },\n",
    "    'XGBoost': {\n",
    "        'model': XGBClassifier(eval_metric='logloss', use_label_encoder=False),\n",
    "        'params': {\n",
    "            'n_estimators': [100, 200],\n",
    "            'max_depth': [3, 6]\n",
    "        }\n",
    "    }\n",
    "}\n",
    "\n",
    "# 6. Train & save best model\n",
    "best_models = {}\n",
    "for name, mp in param_grid.items():\n",
    "    grid = GridSearchCV(mp['model'], mp['params'], cv=3, scoring='accuracy', n_jobs=-1)\n",
    "    grid.fit(X_train, y_train)\n",
    "    print(f\"{name} Best Params:\", grid.best_params_)\n",
    "    print(f\"{name} Best Score:\", grid.best_score_)\n",
    "    best_models[name] = grid.best_estimator_\n",
    "\n",
    "# Evaluate RandomForest\n",
    "y_pred = best_models['RandomForest'].predict(X_test)\n",
    "print(\"RandomForest Classification Report:\\n\", classification_report(y_test, y_pred))\n",
    "\n",
    "# Save the RandomForest model\n",
    "joblib.dump(best_models['RandomForest'], \"random_forest_ai_human.pkl\")\n",
    "print(\"Model saved as random_forest_ai_human.pkl\")\n"
   ]
  },
  {
   "cell_type": "code",
   "execution_count": 159,
   "id": "52d462ce",
   "metadata": {},
   "outputs": [
    {
     "name": "stdout",
     "output_type": "stream",
     "text": [
      "Collecting wordfreq\n",
      "  Downloading wordfreq-3.1.1-py3-none-any.whl.metadata (27 kB)\n",
      "Collecting ftfy>=6.1 (from wordfreq)\n",
      "  Downloading ftfy-6.2.3-py3-none-any.whl.metadata (7.8 kB)\n",
      "Requirement already satisfied: langcodes>=3.0 in d:\\anaconda\\envs\\nlp_env\\lib\\site-packages (from wordfreq) (3.4.1)\n",
      "Collecting locate<2.0.0,>=1.1.1 (from wordfreq)\n",
      "  Downloading locate-1.1.1-py3-none-any.whl.metadata (3.9 kB)\n",
      "Collecting msgpack<2.0.0,>=1.0.7 (from wordfreq)\n",
      "  Downloading msgpack-1.1.1-cp38-cp38-win_amd64.whl.metadata (8.6 kB)\n",
      "Requirement already satisfied: regex>=2023.10.3 in d:\\anaconda\\envs\\nlp_env\\lib\\site-packages (from wordfreq) (2024.7.24)\n",
      "Requirement already satisfied: wcwidth<0.3.0,>=0.2.12 in d:\\anaconda\\envs\\nlp_env\\lib\\site-packages (from ftfy>=6.1->wordfreq) (0.2.13)\n",
      "Requirement already satisfied: language-data>=1.2 in d:\\anaconda\\envs\\nlp_env\\lib\\site-packages (from langcodes>=3.0->wordfreq) (1.2.0)\n",
      "Requirement already satisfied: marisa-trie>=0.7.7 in d:\\anaconda\\envs\\nlp_env\\lib\\site-packages (from language-data>=1.2->langcodes>=3.0->wordfreq) (1.2.0)\n",
      "Requirement already satisfied: setuptools in d:\\anaconda\\envs\\nlp_env\\lib\\site-packages (from marisa-trie>=0.7.7->language-data>=1.2->langcodes>=3.0->wordfreq) (75.1.0)\n",
      "Downloading wordfreq-3.1.1-py3-none-any.whl (56.8 MB)\n",
      "   ---------------------------------------- 0.0/56.8 MB ? eta -:--:--\n",
      "   ---------------------------------------- 0.0/56.8 MB ? eta -:--:--\n",
      "   ---------------------------------------- 0.3/56.8 MB ? eta -:--:--\n",
      "   ---------------------------------------- 0.5/56.8 MB 985.5 kB/s eta 0:00:58\n",
      "    --------------------------------------- 0.8/56.8 MB 1.0 MB/s eta 0:00:54\n",
      "    --------------------------------------- 1.0/56.8 MB 1.0 MB/s eta 0:00:55\n",
      "    --------------------------------------- 1.3/56.8 MB 1.2 MB/s eta 0:00:48\n",
      "   - -------------------------------------- 1.6/56.8 MB 1.2 MB/s eta 0:00:48\n",
      "   - -------------------------------------- 1.8/56.8 MB 1.2 MB/s eta 0:00:48\n",
      "   - -------------------------------------- 2.1/56.8 MB 1.2 MB/s eta 0:00:46\n",
      "   - -------------------------------------- 2.4/56.8 MB 1.2 MB/s eta 0:00:45\n",
      "   - -------------------------------------- 2.6/56.8 MB 1.2 MB/s eta 0:00:45\n",
      "   -- ------------------------------------- 2.9/56.8 MB 1.3 MB/s eta 0:00:43\n",
      "   -- ------------------------------------- 3.4/56.8 MB 1.3 MB/s eta 0:00:41\n",
      "   -- ------------------------------------- 3.7/56.8 MB 1.3 MB/s eta 0:00:41\n",
      "   -- ------------------------------------- 3.9/56.8 MB 1.3 MB/s eta 0:00:40\n",
      "   -- ------------------------------------- 4.2/56.8 MB 1.3 MB/s eta 0:00:40\n",
      "   --- ------------------------------------ 4.5/56.8 MB 1.3 MB/s eta 0:00:40\n",
      "   --- ------------------------------------ 4.5/56.8 MB 1.3 MB/s eta 0:00:40\n",
      "   --- ------------------------------------ 4.7/56.8 MB 1.3 MB/s eta 0:00:41\n",
      "   --- ------------------------------------ 5.0/56.8 MB 1.3 MB/s eta 0:00:42\n",
      "   --- ------------------------------------ 5.0/56.8 MB 1.3 MB/s eta 0:00:42\n",
      "   --- ------------------------------------ 5.2/56.8 MB 1.2 MB/s eta 0:00:44\n",
      "   --- ------------------------------------ 5.2/56.8 MB 1.2 MB/s eta 0:00:44\n",
      "   --- ------------------------------------ 5.5/56.8 MB 1.2 MB/s eta 0:00:45\n",
      "   ---- ----------------------------------- 5.8/56.8 MB 1.2 MB/s eta 0:00:45\n",
      "   ---- ----------------------------------- 5.8/56.8 MB 1.2 MB/s eta 0:00:45\n",
      "   ---- ----------------------------------- 6.0/56.8 MB 1.1 MB/s eta 0:00:46\n",
      "   ---- ----------------------------------- 6.0/56.8 MB 1.1 MB/s eta 0:00:46\n",
      "   ---- ----------------------------------- 6.0/56.8 MB 1.1 MB/s eta 0:00:46\n",
      "   ---- ----------------------------------- 6.3/56.8 MB 1.0 MB/s eta 0:00:49\n",
      "   ---- ----------------------------------- 6.3/56.8 MB 1.0 MB/s eta 0:00:49\n",
      "   ---- ----------------------------------- 6.3/56.8 MB 1.0 MB/s eta 0:00:49\n",
      "   ---- ----------------------------------- 6.6/56.8 MB 972.6 kB/s eta 0:00:52\n",
      "   ---- ----------------------------------- 6.6/56.8 MB 972.6 kB/s eta 0:00:52\n",
      "   ---- ----------------------------------- 6.6/56.8 MB 972.6 kB/s eta 0:00:52\n",
      "   ---- ----------------------------------- 6.6/56.8 MB 972.6 kB/s eta 0:00:52\n",
      "   ---- ----------------------------------- 6.8/56.8 MB 919.8 kB/s eta 0:00:55\n",
      "   ---- ----------------------------------- 6.8/56.8 MB 919.8 kB/s eta 0:00:55\n",
      "   ---- ----------------------------------- 6.8/56.8 MB 919.8 kB/s eta 0:00:55\n",
      "   ---- ----------------------------------- 7.1/56.8 MB 874.1 kB/s eta 0:00:57\n",
      "   ---- ----------------------------------- 7.1/56.8 MB 874.1 kB/s eta 0:00:57\n",
      "   ----- ---------------------------------- 7.3/56.8 MB 854.7 kB/s eta 0:00:58\n",
      "   ----- ---------------------------------- 7.3/56.8 MB 854.7 kB/s eta 0:00:58\n",
      "   ----- ---------------------------------- 7.3/56.8 MB 854.7 kB/s eta 0:00:58\n",
      "   ----- ---------------------------------- 7.6/56.8 MB 837.3 kB/s eta 0:00:59\n",
      "   ----- ---------------------------------- 7.6/56.8 MB 837.3 kB/s eta 0:00:59\n",
      "   ----- ---------------------------------- 7.6/56.8 MB 837.3 kB/s eta 0:00:59\n",
      "   ----- ---------------------------------- 7.9/56.8 MB 812.2 kB/s eta 0:01:01\n",
      "   ----- ---------------------------------- 7.9/56.8 MB 812.2 kB/s eta 0:01:01\n",
      "   ----- ---------------------------------- 8.1/56.8 MB 798.9 kB/s eta 0:01:01\n",
      "   ----- ---------------------------------- 8.1/56.8 MB 798.9 kB/s eta 0:01:01\n",
      "   ----- ---------------------------------- 8.1/56.8 MB 798.9 kB/s eta 0:01:01\n",
      "   ----- ---------------------------------- 8.4/56.8 MB 775.1 kB/s eta 0:01:03\n",
      "   ----- ---------------------------------- 8.4/56.8 MB 775.1 kB/s eta 0:01:03\n",
      "   ------ --------------------------------- 8.7/56.8 MB 772.4 kB/s eta 0:01:03\n",
      "   ------ --------------------------------- 8.9/56.8 MB 776.5 kB/s eta 0:01:02\n",
      "   ------ --------------------------------- 8.9/56.8 MB 776.5 kB/s eta 0:01:02\n",
      "   ------ --------------------------------- 9.2/56.8 MB 780.3 kB/s eta 0:01:02\n",
      "   ------ --------------------------------- 9.4/56.8 MB 787.2 kB/s eta 0:01:01\n",
      "   ------ --------------------------------- 9.7/56.8 MB 795.7 kB/s eta 0:01:00\n",
      "   ------- -------------------------------- 10.0/56.8 MB 806.2 kB/s eta 0:00:59\n",
      "   ------- -------------------------------- 10.0/56.8 MB 806.2 kB/s eta 0:00:59\n",
      "   ------- -------------------------------- 10.2/56.8 MB 792.9 kB/s eta 0:00:59\n",
      "   ------- -------------------------------- 10.2/56.8 MB 792.9 kB/s eta 0:00:59\n",
      "   ------- -------------------------------- 10.5/56.8 MB 798.9 kB/s eta 0:00:59\n",
      "   ------- -------------------------------- 10.7/56.8 MB 803.7 kB/s eta 0:00:58\n",
      "   ------- -------------------------------- 11.0/56.8 MB 808.3 kB/s eta 0:00:57\n",
      "   ------- -------------------------------- 11.0/56.8 MB 808.3 kB/s eta 0:00:57\n",
      "   ------- -------------------------------- 11.3/56.8 MB 801.6 kB/s eta 0:00:57\n",
      "   ------- -------------------------------- 11.3/56.8 MB 801.6 kB/s eta 0:00:57\n",
      "   ------- -------------------------------- 11.3/56.8 MB 801.6 kB/s eta 0:00:57\n",
      "   ------- -------------------------------- 11.3/56.8 MB 801.6 kB/s eta 0:00:57\n",
      "   ------- -------------------------------- 11.3/56.8 MB 801.6 kB/s eta 0:00:57\n",
      "   ------- -------------------------------- 11.3/56.8 MB 801.6 kB/s eta 0:00:57\n",
      "   -------- ------------------------------- 11.5/56.8 MB 754.6 kB/s eta 0:01:01\n",
      "   -------- ------------------------------- 11.5/56.8 MB 754.6 kB/s eta 0:01:01\n",
      "   -------- ------------------------------- 11.5/56.8 MB 754.6 kB/s eta 0:01:01\n",
      "   -------- ------------------------------- 11.8/56.8 MB 740.4 kB/s eta 0:01:01\n",
      "   -------- ------------------------------- 11.8/56.8 MB 740.4 kB/s eta 0:01:01\n",
      "   -------- ------------------------------- 11.8/56.8 MB 740.4 kB/s eta 0:01:01\n",
      "   -------- ------------------------------- 12.1/56.8 MB 735.1 kB/s eta 0:01:01\n",
      "   -------- ------------------------------- 12.3/56.8 MB 735.7 kB/s eta 0:01:01\n",
      "   -------- ------------------------------- 12.3/56.8 MB 735.7 kB/s eta 0:01:01\n",
      "   -------- ------------------------------- 12.3/56.8 MB 735.7 kB/s eta 0:01:01\n",
      "   -------- ------------------------------- 12.6/56.8 MB 730.1 kB/s eta 0:01:01\n",
      "   -------- ------------------------------- 12.6/56.8 MB 730.1 kB/s eta 0:01:01\n",
      "   -------- ------------------------------- 12.6/56.8 MB 730.1 kB/s eta 0:01:01\n",
      "   --------- ------------------------------ 12.8/56.8 MB 718.4 kB/s eta 0:01:02\n",
      "   --------- ------------------------------ 13.1/56.8 MB 721.8 kB/s eta 0:01:01\n",
      "   --------- ------------------------------ 13.1/56.8 MB 721.8 kB/s eta 0:01:01\n",
      "   --------- ------------------------------ 13.4/56.8 MB 722.5 kB/s eta 0:01:01\n",
      "   --------- ------------------------------ 13.4/56.8 MB 722.5 kB/s eta 0:01:01\n",
      "   --------- ------------------------------ 13.6/56.8 MB 722.0 kB/s eta 0:01:00\n",
      "   --------- ------------------------------ 13.9/56.8 MB 722.2 kB/s eta 0:01:00\n",
      "   --------- ------------------------------ 13.9/56.8 MB 722.2 kB/s eta 0:01:00\n",
      "   --------- ------------------------------ 14.2/56.8 MB 725.3 kB/s eta 0:00:59\n",
      "   --------- ------------------------------ 14.2/56.8 MB 725.3 kB/s eta 0:00:59\n",
      "   ---------- ----------------------------- 14.4/56.8 MB 724.2 kB/s eta 0:00:59\n",
      "   ---------- ----------------------------- 14.4/56.8 MB 724.2 kB/s eta 0:00:59\n",
      "   ---------- ----------------------------- 14.7/56.8 MB 718.6 kB/s eta 0:00:59\n",
      "   ---------- ----------------------------- 14.7/56.8 MB 718.6 kB/s eta 0:00:59\n",
      "   ---------- ----------------------------- 14.7/56.8 MB 718.6 kB/s eta 0:00:59\n",
      "   ---------- ----------------------------- 14.9/56.8 MB 709.6 kB/s eta 0:01:00\n",
      "   ---------- ----------------------------- 14.9/56.8 MB 709.6 kB/s eta 0:01:00\n",
      "   ---------- ----------------------------- 15.2/56.8 MB 708.9 kB/s eta 0:00:59\n",
      "   ---------- ----------------------------- 15.2/56.8 MB 708.9 kB/s eta 0:00:59\n",
      "   ---------- ----------------------------- 15.2/56.8 MB 708.9 kB/s eta 0:00:59\n",
      "   ---------- ----------------------------- 15.5/56.8 MB 705.6 kB/s eta 0:00:59\n",
      "   ---------- ----------------------------- 15.5/56.8 MB 705.6 kB/s eta 0:00:59\n",
      "   ----------- ---------------------------- 15.7/56.8 MB 704.0 kB/s eta 0:00:59\n",
      "   ----------- ---------------------------- 16.0/56.8 MB 704.4 kB/s eta 0:00:58\n",
      "   ----------- ---------------------------- 16.0/56.8 MB 704.4 kB/s eta 0:00:58\n",
      "   ----------- ---------------------------- 16.0/56.8 MB 704.4 kB/s eta 0:00:58\n",
      "   ----------- ---------------------------- 16.3/56.8 MB 701.9 kB/s eta 0:00:58\n",
      "   ----------- ---------------------------- 16.5/56.8 MB 702.3 kB/s eta 0:00:58\n",
      "   ----------- ---------------------------- 16.5/56.8 MB 702.3 kB/s eta 0:00:58\n",
      "   ----------- ---------------------------- 16.8/56.8 MB 703.2 kB/s eta 0:00:57\n",
      "   ----------- ---------------------------- 16.8/56.8 MB 703.2 kB/s eta 0:00:57\n",
      "   ----------- ---------------------------- 17.0/56.8 MB 705.9 kB/s eta 0:00:57\n",
      "   ------------ --------------------------- 17.3/56.8 MB 706.3 kB/s eta 0:00:56\n",
      "   ------------ --------------------------- 17.3/56.8 MB 706.3 kB/s eta 0:00:56\n",
      "   ------------ --------------------------- 17.6/56.8 MB 706.6 kB/s eta 0:00:56\n",
      "   ------------ --------------------------- 17.6/56.8 MB 706.6 kB/s eta 0:00:56\n",
      "   ------------ --------------------------- 17.8/56.8 MB 707.0 kB/s eta 0:00:56\n",
      "   ------------ --------------------------- 17.8/56.8 MB 707.0 kB/s eta 0:00:56\n",
      "   ------------ --------------------------- 18.1/56.8 MB 703.4 kB/s eta 0:00:56\n",
      "   ------------ --------------------------- 18.1/56.8 MB 703.4 kB/s eta 0:00:56\n",
      "   ------------ --------------------------- 18.4/56.8 MB 703.3 kB/s eta 0:00:55\n",
      "   ------------- -------------------------- 18.6/56.8 MB 705.8 kB/s eta 0:00:55\n",
      "   ------------- -------------------------- 18.6/56.8 MB 705.8 kB/s eta 0:00:55\n",
      "   ------------- -------------------------- 18.9/56.8 MB 706.9 kB/s eta 0:00:54\n",
      "   ------------- -------------------------- 18.9/56.8 MB 706.9 kB/s eta 0:00:54\n",
      "   ------------- -------------------------- 19.1/56.8 MB 706.8 kB/s eta 0:00:54\n",
      "   ------------- -------------------------- 19.1/56.8 MB 706.8 kB/s eta 0:00:54\n",
      "   ------------- -------------------------- 19.1/56.8 MB 706.8 kB/s eta 0:00:54\n",
      "   ------------- -------------------------- 19.4/56.8 MB 698.6 kB/s eta 0:00:54\n",
      "   ------------- -------------------------- 19.4/56.8 MB 698.6 kB/s eta 0:00:54\n",
      "   ------------- -------------------------- 19.4/56.8 MB 698.6 kB/s eta 0:00:54\n",
      "   ------------- -------------------------- 19.4/56.8 MB 698.6 kB/s eta 0:00:54\n",
      "   ------------- -------------------------- 19.7/56.8 MB 688.6 kB/s eta 0:00:54\n",
      "   ------------- -------------------------- 19.7/56.8 MB 688.6 kB/s eta 0:00:54\n",
      "   ------------- -------------------------- 19.7/56.8 MB 688.6 kB/s eta 0:00:54\n",
      "   -------------- ------------------------- 19.9/56.8 MB 684.2 kB/s eta 0:00:54\n",
      "   -------------- ------------------------- 19.9/56.8 MB 684.2 kB/s eta 0:00:54\n",
      "   -------------- ------------------------- 19.9/56.8 MB 684.2 kB/s eta 0:00:54\n",
      "   -------------- ------------------------- 20.2/56.8 MB 679.3 kB/s eta 0:00:54\n",
      "   -------------- ------------------------- 20.2/56.8 MB 679.3 kB/s eta 0:00:54\n",
      "   -------------- ------------------------- 20.4/56.8 MB 676.7 kB/s eta 0:00:54\n",
      "   -------------- ------------------------- 20.4/56.8 MB 676.7 kB/s eta 0:00:54\n",
      "   -------------- ------------------------- 20.4/56.8 MB 676.7 kB/s eta 0:00:54\n",
      "   -------------- ------------------------- 20.4/56.8 MB 676.7 kB/s eta 0:00:54\n",
      "   -------------- ------------------------- 20.4/56.8 MB 676.7 kB/s eta 0:00:54\n",
      "   -------------- ------------------------- 20.4/56.8 MB 676.7 kB/s eta 0:00:54\n",
      "   -------------- ------------------------- 20.7/56.8 MB 639.9 kB/s eta 0:00:57\n",
      "   -------------- ------------------------- 20.7/56.8 MB 639.9 kB/s eta 0:00:57\n",
      "   -------------- ------------------------- 20.7/56.8 MB 639.9 kB/s eta 0:00:57\n",
      "   -------------- ------------------------- 21.0/56.8 MB 622.3 kB/s eta 0:00:58\n",
      "   -------------- ------------------------- 21.0/56.8 MB 622.3 kB/s eta 0:00:58\n",
      "   -------------- ------------------------- 21.0/56.8 MB 622.3 kB/s eta 0:00:58\n",
      "   -------------- ------------------------- 21.2/56.8 MB 604.5 kB/s eta 0:00:59\n",
      "   -------------- ------------------------- 21.2/56.8 MB 604.5 kB/s eta 0:00:59\n",
      "   --------------- ------------------------ 21.5/56.8 MB 587.6 kB/s eta 0:01:01\n",
      "   --------------- ------------------------ 21.5/56.8 MB 587.6 kB/s eta 0:01:01\n",
      "   --------------- ------------------------ 21.8/56.8 MB 577.9 kB/s eta 0:01:01\n",
      "   --------------- ------------------------ 21.8/56.8 MB 577.9 kB/s eta 0:01:01\n",
      "   --------------- ------------------------ 22.0/56.8 MB 572.2 kB/s eta 0:01:01\n",
      "   --------------- ------------------------ 22.0/56.8 MB 572.2 kB/s eta 0:01:01\n",
      "   --------------- ------------------------ 22.3/56.8 MB 572.1 kB/s eta 0:01:01\n",
      "   --------------- ------------------------ 22.3/56.8 MB 572.1 kB/s eta 0:01:01\n",
      "   --------------- ------------------------ 22.5/56.8 MB 572.8 kB/s eta 0:01:00\n",
      "   --------------- ------------------------ 22.5/56.8 MB 572.8 kB/s eta 0:01:00\n",
      "   ---------------- ----------------------- 22.8/56.8 MB 569.5 kB/s eta 0:01:00\n",
      "   ---------------- ----------------------- 22.8/56.8 MB 569.5 kB/s eta 0:01:00\n",
      "   ---------------- ----------------------- 22.8/56.8 MB 569.5 kB/s eta 0:01:00\n",
      "   ---------------- ----------------------- 23.1/56.8 MB 570.8 kB/s eta 0:01:00\n",
      "   ---------------- ----------------------- 23.1/56.8 MB 570.8 kB/s eta 0:01:00\n",
      "   ---------------- ----------------------- 23.1/56.8 MB 570.8 kB/s eta 0:01:00\n",
      "   ---------------- ----------------------- 23.1/56.8 MB 570.8 kB/s eta 0:01:00\n",
      "   ---------------- ----------------------- 23.3/56.8 MB 564.8 kB/s eta 0:01:00\n",
      "   ---------------- ----------------------- 23.3/56.8 MB 564.8 kB/s eta 0:01:00\n",
      "   ---------------- ----------------------- 23.3/56.8 MB 564.8 kB/s eta 0:01:00\n",
      "   ---------------- ----------------------- 23.3/56.8 MB 564.8 kB/s eta 0:01:00\n",
      "   ---------------- ----------------------- 23.3/56.8 MB 564.8 kB/s eta 0:01:00\n",
      "   ---------------- ----------------------- 23.3/56.8 MB 564.8 kB/s eta 0:01:00\n",
      "   ---------------- ----------------------- 23.3/56.8 MB 564.8 kB/s eta 0:01:00\n",
      "   ---------------- ----------------------- 23.3/56.8 MB 564.8 kB/s eta 0:01:00\n",
      "   ---------------- ----------------------- 23.3/56.8 MB 564.8 kB/s eta 0:01:00\n",
      "   ---------------- ----------------------- 23.3/56.8 MB 564.8 kB/s eta 0:01:00\n",
      "   ---------------- ----------------------- 23.3/56.8 MB 564.8 kB/s eta 0:01:00\n",
      "   ---------------- ----------------------- 23.3/56.8 MB 564.8 kB/s eta 0:01:00\n",
      "   ---------------- ----------------------- 23.3/56.8 MB 564.8 kB/s eta 0:01:00\n",
      "   ---------------- ----------------------- 23.6/56.8 MB 533.3 kB/s eta 0:01:03\n",
      "   ---------------- ----------------------- 23.6/56.8 MB 533.3 kB/s eta 0:01:03\n",
      "   ---------------- ----------------------- 23.9/56.8 MB 538.4 kB/s eta 0:01:02\n",
      "   ---------------- ----------------------- 24.1/56.8 MB 541.2 kB/s eta 0:01:01\n",
      "   ---------------- ----------------------- 24.1/56.8 MB 541.2 kB/s eta 0:01:01\n",
      "   ----------------- ---------------------- 24.4/56.8 MB 544.6 kB/s eta 0:01:00\n",
      "   ----------------- ---------------------- 24.4/56.8 MB 544.6 kB/s eta 0:01:00\n",
      "   ----------------- ---------------------- 24.6/56.8 MB 549.2 kB/s eta 0:00:59\n",
      "   ----------------- ---------------------- 24.9/56.8 MB 552.0 kB/s eta 0:00:58\n",
      "   ----------------- ---------------------- 24.9/56.8 MB 552.0 kB/s eta 0:00:58\n",
      "   ----------------- ---------------------- 25.2/56.8 MB 553.7 kB/s eta 0:00:58\n",
      "   ----------------- ---------------------- 25.4/56.8 MB 552.2 kB/s eta 0:00:57\n",
      "   ----------------- ---------------------- 25.4/56.8 MB 552.2 kB/s eta 0:00:57\n",
      "   ------------------ --------------------- 25.7/56.8 MB 551.1 kB/s eta 0:00:57\n",
      "   ------------------ --------------------- 25.7/56.8 MB 551.1 kB/s eta 0:00:57\n",
      "   ------------------ --------------------- 26.0/56.8 MB 542.6 kB/s eta 0:00:57\n",
      "   ------------------ --------------------- 26.0/56.8 MB 542.6 kB/s eta 0:00:57\n",
      "   ------------------ --------------------- 26.2/56.8 MB 541.5 kB/s eta 0:00:57\n",
      "   ------------------ --------------------- 26.2/56.8 MB 541.5 kB/s eta 0:00:57\n",
      "   ------------------ --------------------- 26.5/56.8 MB 535.3 kB/s eta 0:00:57\n",
      "   ------------------ --------------------- 26.5/56.8 MB 535.3 kB/s eta 0:00:57\n",
      "   ------------------ --------------------- 26.5/56.8 MB 535.3 kB/s eta 0:00:57\n",
      "   ------------------ --------------------- 26.7/56.8 MB 525.9 kB/s eta 0:00:58\n",
      "   ------------------ --------------------- 26.7/56.8 MB 525.9 kB/s eta 0:00:58\n",
      "   ------------------ --------------------- 26.7/56.8 MB 525.9 kB/s eta 0:00:58\n",
      "   ------------------ --------------------- 26.7/56.8 MB 525.9 kB/s eta 0:00:58\n",
      "   ------------------- -------------------- 27.0/56.8 MB 530.5 kB/s eta 0:00:57\n",
      "   ------------------- -------------------- 27.0/56.8 MB 530.5 kB/s eta 0:00:57\n",
      "   ------------------- -------------------- 27.0/56.8 MB 530.5 kB/s eta 0:00:57\n",
      "   ------------------- -------------------- 27.3/56.8 MB 528.4 kB/s eta 0:00:56\n",
      "   ------------------- -------------------- 27.3/56.8 MB 528.4 kB/s eta 0:00:56\n",
      "   ------------------- -------------------- 27.3/56.8 MB 528.4 kB/s eta 0:00:56\n",
      "   ------------------- -------------------- 27.5/56.8 MB 528.4 kB/s eta 0:00:56\n",
      "   ------------------- -------------------- 27.5/56.8 MB 528.4 kB/s eta 0:00:56\n",
      "   ------------------- -------------------- 27.5/56.8 MB 528.4 kB/s eta 0:00:56\n",
      "   ------------------- -------------------- 27.8/56.8 MB 528.4 kB/s eta 0:00:55\n",
      "   ------------------- -------------------- 27.8/56.8 MB 528.4 kB/s eta 0:00:55\n",
      "   ------------------- -------------------- 27.8/56.8 MB 528.4 kB/s eta 0:00:55\n",
      "   ------------------- -------------------- 28.0/56.8 MB 522.3 kB/s eta 0:00:56\n",
      "   ------------------- -------------------- 28.0/56.8 MB 522.3 kB/s eta 0:00:56\n",
      "   ------------------- -------------------- 28.0/56.8 MB 522.3 kB/s eta 0:00:56\n",
      "   ------------------- -------------------- 28.3/56.8 MB 524.0 kB/s eta 0:00:55\n",
      "   ------------------- -------------------- 28.3/56.8 MB 524.0 kB/s eta 0:00:55\n",
      "   -------------------- ------------------- 28.6/56.8 MB 524.8 kB/s eta 0:00:54\n",
      "   -------------------- ------------------- 28.6/56.8 MB 524.8 kB/s eta 0:00:54\n",
      "   -------------------- ------------------- 28.8/56.8 MB 518.8 kB/s eta 0:00:54\n",
      "   -------------------- ------------------- 28.8/56.8 MB 518.8 kB/s eta 0:00:54\n",
      "   -------------------- ------------------- 28.8/56.8 MB 518.8 kB/s eta 0:00:54\n",
      "   -------------------- ------------------- 29.1/56.8 MB 516.4 kB/s eta 0:00:54\n",
      "   -------------------- ------------------- 29.1/56.8 MB 516.4 kB/s eta 0:00:54\n",
      "   -------------------- ------------------- 29.1/56.8 MB 516.4 kB/s eta 0:00:54\n",
      "   -------------------- ------------------- 29.1/56.8 MB 516.4 kB/s eta 0:00:54\n",
      "   -------------------- ------------------- 29.1/56.8 MB 516.4 kB/s eta 0:00:54\n",
      "   -------------------- ------------------- 29.4/56.8 MB 496.3 kB/s eta 0:00:56\n",
      "   -------------------- ------------------- 29.4/56.8 MB 496.3 kB/s eta 0:00:56\n",
      "   -------------------- ------------------- 29.4/56.8 MB 496.3 kB/s eta 0:00:56\n",
      "   -------------------- ------------------- 29.4/56.8 MB 496.3 kB/s eta 0:00:56\n",
      "   -------------------- ------------------- 29.6/56.8 MB 495.0 kB/s eta 0:00:55\n",
      "   -------------------- ------------------- 29.6/56.8 MB 495.0 kB/s eta 0:00:55\n",
      "   -------------------- ------------------- 29.6/56.8 MB 495.0 kB/s eta 0:00:55\n",
      "   --------------------- ------------------ 29.9/56.8 MB 491.4 kB/s eta 0:00:55\n",
      "   --------------------- ------------------ 29.9/56.8 MB 491.4 kB/s eta 0:00:55\n",
      "   --------------------- ------------------ 29.9/56.8 MB 491.4 kB/s eta 0:00:55\n",
      "   --------------------- ------------------ 29.9/56.8 MB 491.4 kB/s eta 0:00:55\n",
      "   --------------------- ------------------ 30.1/56.8 MB 483.6 kB/s eta 0:00:56\n",
      "   --------------------- ------------------ 30.1/56.8 MB 483.6 kB/s eta 0:00:56\n",
      "   --------------------- ------------------ 30.1/56.8 MB 483.6 kB/s eta 0:00:56\n",
      "   --------------------- ------------------ 30.4/56.8 MB 478.3 kB/s eta 0:00:56\n",
      "   --------------------- ------------------ 30.4/56.8 MB 478.3 kB/s eta 0:00:56\n",
      "   --------------------- ------------------ 30.7/56.8 MB 480.8 kB/s eta 0:00:55\n",
      "   --------------------- ------------------ 30.7/56.8 MB 480.8 kB/s eta 0:00:55\n",
      "   --------------------- ------------------ 30.9/56.8 MB 475.8 kB/s eta 0:00:55\n",
      "   --------------------- ------------------ 30.9/56.8 MB 475.8 kB/s eta 0:00:55\n",
      "   --------------------- ------------------ 31.2/56.8 MB 473.6 kB/s eta 0:00:55\n",
      "   --------------------- ------------------ 31.2/56.8 MB 473.6 kB/s eta 0:00:55\n",
      "   ---------------------- ----------------- 31.5/56.8 MB 472.6 kB/s eta 0:00:54\n",
      "   ---------------------- ----------------- 31.5/56.8 MB 472.6 kB/s eta 0:00:54\n",
      "   ---------------------- ----------------- 31.7/56.8 MB 472.4 kB/s eta 0:00:54\n",
      "   ---------------------- ----------------- 31.7/56.8 MB 472.4 kB/s eta 0:00:54\n",
      "   ---------------------- ----------------- 32.0/56.8 MB 472.9 kB/s eta 0:00:53\n",
      "   ---------------------- ----------------- 32.0/56.8 MB 472.9 kB/s eta 0:00:53\n",
      "   ---------------------- ----------------- 32.2/56.8 MB 473.1 kB/s eta 0:00:52\n",
      "   ---------------------- ----------------- 32.2/56.8 MB 473.1 kB/s eta 0:00:52\n",
      "   ---------------------- ----------------- 32.2/56.8 MB 473.1 kB/s eta 0:00:52\n",
      "   ---------------------- ----------------- 32.5/56.8 MB 464.6 kB/s eta 0:00:53\n",
      "   ---------------------- ----------------- 32.5/56.8 MB 464.6 kB/s eta 0:00:53\n",
      "   ---------------------- ----------------- 32.5/56.8 MB 464.6 kB/s eta 0:00:53\n",
      "   ---------------------- ----------------- 32.5/56.8 MB 464.6 kB/s eta 0:00:53\n",
      "   ---------------------- ----------------- 32.5/56.8 MB 464.6 kB/s eta 0:00:53\n",
      "   ---------------------- ----------------- 32.5/56.8 MB 464.6 kB/s eta 0:00:53\n",
      "   ---------------------- ----------------- 32.5/56.8 MB 464.6 kB/s eta 0:00:53\n",
      "   ---------------------- ----------------- 32.5/56.8 MB 464.6 kB/s eta 0:00:53\n",
      "   ---------------------- ----------------- 32.5/56.8 MB 464.6 kB/s eta 0:00:53\n",
      "   ---------------------- ----------------- 32.5/56.8 MB 464.6 kB/s eta 0:00:53\n",
      "   ---------------------- ----------------- 32.5/56.8 MB 464.6 kB/s eta 0:00:53\n",
      "   ---------------------- ----------------- 32.5/56.8 MB 464.6 kB/s eta 0:00:53\n",
      "   ----------------------- ---------------- 32.8/56.8 MB 435.2 kB/s eta 0:00:56\n",
      "   ----------------------- ---------------- 32.8/56.8 MB 435.2 kB/s eta 0:00:56\n",
      "   ----------------------- ---------------- 32.8/56.8 MB 435.2 kB/s eta 0:00:56\n",
      "   ----------------------- ---------------- 33.0/56.8 MB 435.4 kB/s eta 0:00:55\n",
      "   ----------------------- ---------------- 33.0/56.8 MB 435.4 kB/s eta 0:00:55\n",
      "   ----------------------- ---------------- 33.3/56.8 MB 437.4 kB/s eta 0:00:54\n",
      "   ----------------------- ---------------- 33.3/56.8 MB 437.4 kB/s eta 0:00:54\n",
      "   ----------------------- ---------------- 33.3/56.8 MB 437.4 kB/s eta 0:00:54\n",
      "   ----------------------- ---------------- 33.6/56.8 MB 437.1 kB/s eta 0:00:54\n",
      "   ----------------------- ---------------- 33.6/56.8 MB 437.1 kB/s eta 0:00:54\n",
      "   ----------------------- ---------------- 33.6/56.8 MB 437.1 kB/s eta 0:00:54\n",
      "   ----------------------- ---------------- 33.6/56.8 MB 437.1 kB/s eta 0:00:54\n",
      "   ----------------------- ---------------- 33.6/56.8 MB 437.1 kB/s eta 0:00:54\n",
      "   ----------------------- ---------------- 33.8/56.8 MB 438.5 kB/s eta 0:00:53\n",
      "   ----------------------- ---------------- 33.8/56.8 MB 438.5 kB/s eta 0:00:53\n",
      "   ----------------------- ---------------- 33.8/56.8 MB 438.5 kB/s eta 0:00:53\n",
      "   ----------------------- ---------------- 33.8/56.8 MB 438.5 kB/s eta 0:00:53\n",
      "   ----------------------- ---------------- 33.8/56.8 MB 438.5 kB/s eta 0:00:53\n",
      "   ----------------------- ---------------- 34.1/56.8 MB 430.9 kB/s eta 0:00:53\n",
      "   ----------------------- ---------------- 34.1/56.8 MB 430.9 kB/s eta 0:00:53\n",
      "   ----------------------- ---------------- 34.1/56.8 MB 430.9 kB/s eta 0:00:53\n",
      "   ------------------------ --------------- 34.3/56.8 MB 430.4 kB/s eta 0:00:53\n",
      "   ------------------------ --------------- 34.3/56.8 MB 430.4 kB/s eta 0:00:53\n",
      "   ------------------------ --------------- 34.3/56.8 MB 430.4 kB/s eta 0:00:53\n",
      "   ------------------------ --------------- 34.3/56.8 MB 430.4 kB/s eta 0:00:53\n",
      "   ------------------------ --------------- 34.6/56.8 MB 421.4 kB/s eta 0:00:53\n",
      "   ------------------------ --------------- 34.6/56.8 MB 421.4 kB/s eta 0:00:53\n",
      "   ------------------------ --------------- 34.9/56.8 MB 422.1 kB/s eta 0:00:53\n",
      "   ------------------------ --------------- 34.9/56.8 MB 422.1 kB/s eta 0:00:53\n",
      "   ------------------------ --------------- 35.1/56.8 MB 421.6 kB/s eta 0:00:52\n",
      "   ------------------------ --------------- 35.1/56.8 MB 421.6 kB/s eta 0:00:52\n",
      "   ------------------------ --------------- 35.4/56.8 MB 421.6 kB/s eta 0:00:51\n",
      "   ------------------------- -------------- 35.7/56.8 MB 424.5 kB/s eta 0:00:50\n",
      "   ------------------------- -------------- 35.7/56.8 MB 424.5 kB/s eta 0:00:50\n",
      "   ------------------------- -------------- 35.7/56.8 MB 424.5 kB/s eta 0:00:50\n",
      "   ------------------------- -------------- 35.9/56.8 MB 429.9 kB/s eta 0:00:49\n",
      "   ------------------------- -------------- 35.9/56.8 MB 429.9 kB/s eta 0:00:49\n",
      "   ------------------------- -------------- 36.2/56.8 MB 432.4 kB/s eta 0:00:48\n",
      "   ------------------------- -------------- 36.2/56.8 MB 432.4 kB/s eta 0:00:48\n",
      "   ------------------------- -------------- 36.4/56.8 MB 467.1 kB/s eta 0:00:44\n",
      "   ------------------------- -------------- 36.4/56.8 MB 467.1 kB/s eta 0:00:44\n",
      "   ------------------------- -------------- 36.7/56.8 MB 469.9 kB/s eta 0:00:43\n",
      "   -------------------------- ------------- 37.0/56.8 MB 473.0 kB/s eta 0:00:43\n",
      "   -------------------------- ------------- 37.0/56.8 MB 473.0 kB/s eta 0:00:43\n",
      "   -------------------------- ------------- 37.0/56.8 MB 473.0 kB/s eta 0:00:43\n",
      "   -------------------------- ------------- 37.2/56.8 MB 472.6 kB/s eta 0:00:42\n",
      "   -------------------------- ------------- 37.2/56.8 MB 472.6 kB/s eta 0:00:42\n",
      "   -------------------------- ------------- 37.2/56.8 MB 472.6 kB/s eta 0:00:42\n",
      "   -------------------------- ------------- 37.5/56.8 MB 473.5 kB/s eta 0:00:41\n",
      "   -------------------------- ------------- 37.5/56.8 MB 473.5 kB/s eta 0:00:41\n",
      "   -------------------------- ------------- 37.5/56.8 MB 473.5 kB/s eta 0:00:41\n",
      "   -------------------------- ------------- 37.7/56.8 MB 473.1 kB/s eta 0:00:41\n",
      "   -------------------------- ------------- 37.7/56.8 MB 473.1 kB/s eta 0:00:41\n",
      "   -------------------------- ------------- 37.7/56.8 MB 473.1 kB/s eta 0:00:41\n",
      "   -------------------------- ------------- 38.0/56.8 MB 458.0 kB/s eta 0:00:42\n",
      "   -------------------------- ------------- 38.0/56.8 MB 458.0 kB/s eta 0:00:42\n",
      "   -------------------------- ------------- 38.0/56.8 MB 458.0 kB/s eta 0:00:42\n",
      "   -------------------------- ------------- 38.3/56.8 MB 450.3 kB/s eta 0:00:42\n",
      "   -------------------------- ------------- 38.3/56.8 MB 450.3 kB/s eta 0:00:42\n",
      "   -------------------------- ------------- 38.3/56.8 MB 450.3 kB/s eta 0:00:42\n",
      "   --------------------------- ------------ 38.5/56.8 MB 447.7 kB/s eta 0:00:41\n",
      "   --------------------------- ------------ 38.5/56.8 MB 447.7 kB/s eta 0:00:41\n",
      "   --------------------------- ------------ 38.5/56.8 MB 447.7 kB/s eta 0:00:41\n",
      "   --------------------------- ------------ 38.8/56.8 MB 439.4 kB/s eta 0:00:42\n",
      "   --------------------------- ------------ 39.1/56.8 MB 441.5 kB/s eta 0:00:41\n",
      "   --------------------------- ------------ 39.1/56.8 MB 441.5 kB/s eta 0:00:41\n",
      "   --------------------------- ------------ 39.3/56.8 MB 439.9 kB/s eta 0:00:40\n",
      "   --------------------------- ------------ 39.3/56.8 MB 439.9 kB/s eta 0:00:40\n",
      "   --------------------------- ------------ 39.6/56.8 MB 443.4 kB/s eta 0:00:39\n",
      "   --------------------------- ------------ 39.6/56.8 MB 443.4 kB/s eta 0:00:39\n",
      "   ---------------------------- ----------- 39.8/56.8 MB 447.0 kB/s eta 0:00:39\n",
      "   ---------------------------- ----------- 39.8/56.8 MB 447.0 kB/s eta 0:00:39\n",
      "   ---------------------------- ----------- 40.1/56.8 MB 448.9 kB/s eta 0:00:38\n",
      "   ---------------------------- ----------- 40.1/56.8 MB 448.9 kB/s eta 0:00:38\n",
      "   ---------------------------- ----------- 40.4/56.8 MB 456.3 kB/s eta 0:00:37\n",
      "   ---------------------------- ----------- 40.4/56.8 MB 456.3 kB/s eta 0:00:37\n",
      "   ---------------------------- ----------- 40.6/56.8 MB 459.4 kB/s eta 0:00:36\n",
      "   ---------------------------- ----------- 40.6/56.8 MB 459.4 kB/s eta 0:00:36\n",
      "   ---------------------------- ----------- 40.9/56.8 MB 462.6 kB/s eta 0:00:35\n",
      "   ---------------------------- ----------- 40.9/56.8 MB 462.6 kB/s eta 0:00:35\n",
      "   ---------------------------- ----------- 41.2/56.8 MB 463.1 kB/s eta 0:00:34\n",
      "   ---------------------------- ----------- 41.2/56.8 MB 463.1 kB/s eta 0:00:34\n",
      "   ---------------------------- ----------- 41.2/56.8 MB 463.1 kB/s eta 0:00:34\n",
      "   ---------------------------- ----------- 41.2/56.8 MB 463.1 kB/s eta 0:00:34\n",
      "   ---------------------------- ----------- 41.2/56.8 MB 463.1 kB/s eta 0:00:34\n",
      "   ---------------------------- ----------- 41.2/56.8 MB 463.1 kB/s eta 0:00:34\n",
      "   ----------------------------- ---------- 41.4/56.8 MB 454.4 kB/s eta 0:00:34\n",
      "   ----------------------------- ---------- 41.4/56.8 MB 454.4 kB/s eta 0:00:34\n",
      "   ----------------------------- ---------- 41.4/56.8 MB 454.4 kB/s eta 0:00:34\n",
      "   ----------------------------- ---------- 41.4/56.8 MB 454.4 kB/s eta 0:00:34\n",
      "   ----------------------------- ---------- 41.7/56.8 MB 450.3 kB/s eta 0:00:34\n",
      "   ----------------------------- ---------- 41.7/56.8 MB 450.3 kB/s eta 0:00:34\n",
      "   ----------------------------- ---------- 41.9/56.8 MB 450.3 kB/s eta 0:00:34\n",
      "   ----------------------------- ---------- 41.9/56.8 MB 450.3 kB/s eta 0:00:34\n",
      "   ----------------------------- ---------- 42.2/56.8 MB 451.5 kB/s eta 0:00:33\n",
      "   ----------------------------- ---------- 42.2/56.8 MB 451.5 kB/s eta 0:00:33\n",
      "   ----------------------------- ---------- 42.5/56.8 MB 454.9 kB/s eta 0:00:32\n",
      "   ----------------------------- ---------- 42.5/56.8 MB 454.9 kB/s eta 0:00:32\n",
      "   ------------------------------ --------- 42.7/56.8 MB 457.2 kB/s eta 0:00:31\n",
      "   ------------------------------ --------- 42.7/56.8 MB 457.2 kB/s eta 0:00:31\n",
      "   ------------------------------ --------- 43.0/56.8 MB 469.3 kB/s eta 0:00:30\n",
      "   ------------------------------ --------- 43.0/56.8 MB 469.3 kB/s eta 0:00:30\n",
      "   ------------------------------ --------- 43.3/56.8 MB 472.2 kB/s eta 0:00:29\n",
      "   ------------------------------ --------- 43.3/56.8 MB 472.2 kB/s eta 0:00:29\n",
      "   ------------------------------ --------- 43.5/56.8 MB 474.1 kB/s eta 0:00:29\n",
      "   ------------------------------ --------- 43.5/56.8 MB 474.1 kB/s eta 0:00:29\n",
      "   ------------------------------ --------- 43.5/56.8 MB 474.1 kB/s eta 0:00:29\n",
      "   ------------------------------ --------- 43.8/56.8 MB 476.1 kB/s eta 0:00:28\n",
      "   ------------------------------ --------- 43.8/56.8 MB 476.1 kB/s eta 0:00:28\n",
      "   ------------------------------ --------- 43.8/56.8 MB 476.1 kB/s eta 0:00:28\n",
      "   ------------------------------ --------- 44.0/56.8 MB 475.8 kB/s eta 0:00:27\n",
      "   ------------------------------- -------- 44.3/56.8 MB 483.7 kB/s eta 0:00:26\n",
      "   ------------------------------- -------- 44.3/56.8 MB 483.7 kB/s eta 0:00:26\n",
      "   ------------------------------- -------- 44.3/56.8 MB 483.7 kB/s eta 0:00:26\n",
      "   ------------------------------- -------- 44.3/56.8 MB 483.7 kB/s eta 0:00:26\n",
      "   ------------------------------- -------- 44.3/56.8 MB 483.7 kB/s eta 0:00:26\n",
      "   ------------------------------- -------- 44.3/56.8 MB 483.7 kB/s eta 0:00:26\n",
      "   ------------------------------- -------- 44.3/56.8 MB 483.7 kB/s eta 0:00:26\n",
      "   ------------------------------- -------- 44.6/56.8 MB 473.3 kB/s eta 0:00:26\n",
      "   ------------------------------- -------- 44.6/56.8 MB 473.3 kB/s eta 0:00:26\n",
      "   ------------------------------- -------- 44.6/56.8 MB 473.3 kB/s eta 0:00:26\n",
      "   ------------------------------- -------- 44.6/56.8 MB 473.3 kB/s eta 0:00:26\n",
      "   ------------------------------- -------- 44.6/56.8 MB 473.3 kB/s eta 0:00:26\n",
      "   ------------------------------- -------- 44.6/56.8 MB 473.3 kB/s eta 0:00:26\n",
      "   ------------------------------- -------- 44.6/56.8 MB 473.3 kB/s eta 0:00:26\n",
      "   ------------------------------- -------- 44.6/56.8 MB 473.3 kB/s eta 0:00:26\n",
      "   ------------------------------- -------- 44.6/56.8 MB 473.3 kB/s eta 0:00:26\n",
      "   ------------------------------- -------- 44.8/56.8 MB 439.6 kB/s eta 0:00:28\n",
      "   ------------------------------- -------- 44.8/56.8 MB 439.6 kB/s eta 0:00:28\n",
      "   ------------------------------- -------- 44.8/56.8 MB 439.6 kB/s eta 0:00:28\n",
      "   ------------------------------- -------- 45.1/56.8 MB 433.4 kB/s eta 0:00:28\n",
      "   ------------------------------- -------- 45.1/56.8 MB 433.4 kB/s eta 0:00:28\n",
      "   ------------------------------- -------- 45.1/56.8 MB 433.4 kB/s eta 0:00:28\n",
      "   ------------------------------- -------- 45.1/56.8 MB 433.4 kB/s eta 0:00:28\n",
      "   ------------------------------- -------- 45.1/56.8 MB 433.4 kB/s eta 0:00:28\n",
      "   ------------------------------- -------- 45.1/56.8 MB 433.4 kB/s eta 0:00:28\n",
      "   ------------------------------- -------- 45.1/56.8 MB 433.4 kB/s eta 0:00:28\n",
      "   ------------------------------- -------- 45.1/56.8 MB 433.4 kB/s eta 0:00:28\n",
      "   ------------------------------- -------- 45.1/56.8 MB 433.4 kB/s eta 0:00:28\n",
      "   ------------------------------- -------- 45.1/56.8 MB 433.4 kB/s eta 0:00:28\n",
      "   ------------------------------- -------- 45.1/56.8 MB 433.4 kB/s eta 0:00:28\n",
      "   ------------------------------- -------- 45.1/56.8 MB 433.4 kB/s eta 0:00:28\n",
      "   ------------------------------- -------- 45.1/56.8 MB 433.4 kB/s eta 0:00:28\n",
      "   ------------------------------- -------- 45.4/56.8 MB 431.1 kB/s eta 0:00:27\n",
      "   ------------------------------- -------- 45.4/56.8 MB 431.1 kB/s eta 0:00:27\n",
      "   ------------------------------- -------- 45.4/56.8 MB 431.1 kB/s eta 0:00:27\n",
      "   ------------------------------- -------- 45.4/56.8 MB 431.1 kB/s eta 0:00:27\n",
      "   -------------------------------- ------- 45.6/56.8 MB 425.4 kB/s eta 0:00:27\n",
      "   -------------------------------- ------- 45.6/56.8 MB 425.4 kB/s eta 0:00:27\n",
      "   -------------------------------- ------- 45.9/56.8 MB 428.6 kB/s eta 0:00:26\n",
      "   -------------------------------- ------- 45.9/56.8 MB 428.6 kB/s eta 0:00:26\n",
      "   -------------------------------- ------- 45.9/56.8 MB 428.6 kB/s eta 0:00:26\n",
      "   -------------------------------- ------- 46.1/56.8 MB 428.8 kB/s eta 0:00:25\n",
      "   -------------------------------- ------- 46.1/56.8 MB 428.8 kB/s eta 0:00:25\n",
      "   -------------------------------- ------- 46.1/56.8 MB 428.8 kB/s eta 0:00:25\n",
      "   -------------------------------- ------- 46.4/56.8 MB 433.4 kB/s eta 0:00:25\n",
      "   -------------------------------- ------- 46.4/56.8 MB 433.4 kB/s eta 0:00:25\n",
      "   -------------------------------- ------- 46.4/56.8 MB 433.4 kB/s eta 0:00:25\n",
      "   -------------------------------- ------- 46.4/56.8 MB 433.4 kB/s eta 0:00:25\n",
      "   -------------------------------- ------- 46.4/56.8 MB 433.4 kB/s eta 0:00:25\n",
      "   -------------------------------- ------- 46.7/56.8 MB 433.7 kB/s eta 0:00:24\n",
      "   -------------------------------- ------- 46.7/56.8 MB 433.7 kB/s eta 0:00:24\n",
      "   --------------------------------- ------ 46.9/56.8 MB 436.8 kB/s eta 0:00:23\n",
      "   --------------------------------- ------ 46.9/56.8 MB 436.8 kB/s eta 0:00:23\n",
      "   --------------------------------- ------ 47.2/56.8 MB 440.1 kB/s eta 0:00:22\n",
      "   --------------------------------- ------ 47.2/56.8 MB 440.1 kB/s eta 0:00:22\n",
      "   --------------------------------- ------ 47.4/56.8 MB 440.6 kB/s eta 0:00:22\n",
      "   --------------------------------- ------ 47.4/56.8 MB 440.6 kB/s eta 0:00:22\n",
      "   --------------------------------- ------ 47.7/56.8 MB 447.6 kB/s eta 0:00:21\n",
      "   --------------------------------- ------ 47.7/56.8 MB 447.6 kB/s eta 0:00:21\n",
      "   --------------------------------- ------ 47.7/56.8 MB 447.6 kB/s eta 0:00:21\n",
      "   --------------------------------- ------ 47.7/56.8 MB 447.6 kB/s eta 0:00:21\n",
      "   --------------------------------- ------ 47.7/56.8 MB 447.6 kB/s eta 0:00:21\n",
      "   --------------------------------- ------ 48.0/56.8 MB 439.0 kB/s eta 0:00:21\n",
      "   --------------------------------- ------ 48.0/56.8 MB 439.0 kB/s eta 0:00:21\n",
      "   --------------------------------- ------ 48.0/56.8 MB 439.0 kB/s eta 0:00:21\n",
      "   --------------------------------- ------ 48.2/56.8 MB 436.9 kB/s eta 0:00:20\n",
      "   --------------------------------- ------ 48.2/56.8 MB 436.9 kB/s eta 0:00:20\n",
      "   ---------------------------------- ----- 48.5/56.8 MB 437.1 kB/s eta 0:00:20\n",
      "   ---------------------------------- ----- 48.5/56.8 MB 437.1 kB/s eta 0:00:20\n",
      "   ---------------------------------- ----- 48.8/56.8 MB 435.4 kB/s eta 0:00:19\n",
      "   ---------------------------------- ----- 48.8/56.8 MB 435.4 kB/s eta 0:00:19\n",
      "   ---------------------------------- ----- 48.8/56.8 MB 435.4 kB/s eta 0:00:19\n",
      "   ---------------------------------- ----- 49.0/56.8 MB 431.1 kB/s eta 0:00:19\n",
      "   ---------------------------------- ----- 49.0/56.8 MB 431.1 kB/s eta 0:00:19\n",
      "   ---------------------------------- ----- 49.3/56.8 MB 431.8 kB/s eta 0:00:18\n",
      "   ---------------------------------- ----- 49.3/56.8 MB 431.8 kB/s eta 0:00:18\n",
      "   ---------------------------------- ----- 49.3/56.8 MB 431.8 kB/s eta 0:00:18\n",
      "   ---------------------------------- ----- 49.5/56.8 MB 428.8 kB/s eta 0:00:17\n",
      "   ---------------------------------- ----- 49.5/56.8 MB 428.8 kB/s eta 0:00:17\n",
      "   ----------------------------------- ---- 49.8/56.8 MB 428.2 kB/s eta 0:00:17\n",
      "   ----------------------------------- ---- 49.8/56.8 MB 428.2 kB/s eta 0:00:17\n",
      "   ----------------------------------- ---- 50.1/56.8 MB 431.1 kB/s eta 0:00:16\n",
      "   ----------------------------------- ---- 50.1/56.8 MB 431.1 kB/s eta 0:00:16\n",
      "   ----------------------------------- ---- 50.3/56.8 MB 432.4 kB/s eta 0:00:16\n",
      "   ----------------------------------- ---- 50.3/56.8 MB 432.4 kB/s eta 0:00:16\n",
      "   ----------------------------------- ---- 50.6/56.8 MB 433.8 kB/s eta 0:00:15\n",
      "   ----------------------------------- ---- 50.6/56.8 MB 433.8 kB/s eta 0:00:15\n",
      "   ----------------------------------- ---- 50.6/56.8 MB 433.8 kB/s eta 0:00:15\n",
      "   ----------------------------------- ---- 50.6/56.8 MB 433.8 kB/s eta 0:00:15\n",
      "   ----------------------------------- ---- 50.6/56.8 MB 433.8 kB/s eta 0:00:15\n",
      "   ----------------------------------- ---- 50.6/56.8 MB 433.8 kB/s eta 0:00:15\n",
      "   ----------------------------------- ---- 50.9/56.8 MB 427.5 kB/s eta 0:00:14\n",
      "   ----------------------------------- ---- 50.9/56.8 MB 427.5 kB/s eta 0:00:14\n",
      "   ----------------------------------- ---- 50.9/56.8 MB 427.5 kB/s eta 0:00:14\n",
      "   ----------------------------------- ---- 50.9/56.8 MB 427.5 kB/s eta 0:00:14\n",
      "   ----------------------------------- ---- 50.9/56.8 MB 427.5 kB/s eta 0:00:14\n",
      "   ----------------------------------- ---- 51.1/56.8 MB 421.0 kB/s eta 0:00:14\n",
      "   ----------------------------------- ---- 51.1/56.8 MB 421.0 kB/s eta 0:00:14\n",
      "   ----------------------------------- ---- 51.1/56.8 MB 421.0 kB/s eta 0:00:14\n",
      "   ------------------------------------ --- 51.4/56.8 MB 421.0 kB/s eta 0:00:13\n",
      "   ------------------------------------ --- 51.4/56.8 MB 421.0 kB/s eta 0:00:13\n",
      "   ------------------------------------ --- 51.4/56.8 MB 421.0 kB/s eta 0:00:13\n",
      "   ------------------------------------ --- 51.4/56.8 MB 421.0 kB/s eta 0:00:13\n",
      "   ------------------------------------ --- 51.4/56.8 MB 421.0 kB/s eta 0:00:13\n",
      "   ------------------------------------ --- 51.4/56.8 MB 421.0 kB/s eta 0:00:13\n",
      "   ------------------------------------ --- 51.6/56.8 MB 396.3 kB/s eta 0:00:14\n",
      "   ------------------------------------ --- 51.6/56.8 MB 396.3 kB/s eta 0:00:14\n",
      "   ------------------------------------ --- 51.6/56.8 MB 396.3 kB/s eta 0:00:14\n",
      "   ------------------------------------ --- 51.6/56.8 MB 396.3 kB/s eta 0:00:14\n",
      "   ------------------------------------ --- 51.6/56.8 MB 396.3 kB/s eta 0:00:14\n",
      "   ------------------------------------ --- 51.9/56.8 MB 385.5 kB/s eta 0:00:13\n",
      "   ------------------------------------ --- 51.9/56.8 MB 385.5 kB/s eta 0:00:13\n",
      "   ------------------------------------ --- 51.9/56.8 MB 385.5 kB/s eta 0:00:13\n",
      "   ------------------------------------ --- 52.2/56.8 MB 377.5 kB/s eta 0:00:13\n",
      "   ------------------------------------ --- 52.2/56.8 MB 377.5 kB/s eta 0:00:13\n",
      "   ------------------------------------ --- 52.4/56.8 MB 379.7 kB/s eta 0:00:12\n",
      "   ------------------------------------ --- 52.4/56.8 MB 379.7 kB/s eta 0:00:12\n",
      "   ------------------------------------- -- 52.7/56.8 MB 389.7 kB/s eta 0:00:11\n",
      "   ------------------------------------- -- 52.7/56.8 MB 389.7 kB/s eta 0:00:11\n",
      "   ------------------------------------- -- 53.0/56.8 MB 392.0 kB/s eta 0:00:10\n",
      "   ------------------------------------- -- 53.0/56.8 MB 392.0 kB/s eta 0:00:10\n",
      "   ------------------------------------- -- 53.2/56.8 MB 394.7 kB/s eta 0:00:10\n",
      "   ------------------------------------- -- 53.2/56.8 MB 394.7 kB/s eta 0:00:10\n",
      "   ------------------------------------- -- 53.5/56.8 MB 401.8 kB/s eta 0:00:09\n",
      "   ------------------------------------- -- 53.5/56.8 MB 401.8 kB/s eta 0:00:09\n",
      "   ------------------------------------- -- 53.7/56.8 MB 406.2 kB/s eta 0:00:08\n",
      "   -------------------------------------- - 54.0/56.8 MB 410.7 kB/s eta 0:00:07\n",
      "   -------------------------------------- - 54.0/56.8 MB 410.7 kB/s eta 0:00:07\n",
      "   -------------------------------------- - 54.3/56.8 MB 412.8 kB/s eta 0:00:07\n",
      "   -------------------------------------- - 54.3/56.8 MB 412.8 kB/s eta 0:00:07\n",
      "   -------------------------------------- - 54.5/56.8 MB 413.5 kB/s eta 0:00:06\n",
      "   -------------------------------------- - 54.8/56.8 MB 414.1 kB/s eta 0:00:05\n",
      "   -------------------------------------- - 55.1/56.8 MB 419.4 kB/s eta 0:00:05\n",
      "   -------------------------------------- - 55.1/56.8 MB 419.4 kB/s eta 0:00:05\n",
      "   -------------------------------------- - 55.3/56.8 MB 420.5 kB/s eta 0:00:04\n",
      "   ---------------------------------------  55.6/56.8 MB 422.7 kB/s eta 0:00:03\n",
      "   ---------------------------------------  55.8/56.8 MB 424.1 kB/s eta 0:00:03\n",
      "   ---------------------------------------  55.8/56.8 MB 424.1 kB/s eta 0:00:03\n",
      "   ---------------------------------------  56.1/56.8 MB 428.2 kB/s eta 0:00:02\n",
      "   ---------------------------------------  56.1/56.8 MB 428.2 kB/s eta 0:00:02\n",
      "   ---------------------------------------  56.4/56.8 MB 429.5 kB/s eta 0:00:02\n",
      "   ---------------------------------------  56.6/56.8 MB 433.1 kB/s eta 0:00:01\n",
      "   ---------------------------------------  56.6/56.8 MB 433.1 kB/s eta 0:00:01\n",
      "   ---------------------------------------  56.6/56.8 MB 433.1 kB/s eta 0:00:01\n",
      "   ---------------------------------------  56.6/56.8 MB 433.1 kB/s eta 0:00:01\n",
      "   ---------------------------------------- 56.8/56.8 MB 428.9 kB/s eta 0:00:00\n",
      "Downloading ftfy-6.2.3-py3-none-any.whl (43 kB)\n",
      "Downloading locate-1.1.1-py3-none-any.whl (5.4 kB)\n",
      "Downloading msgpack-1.1.1-cp38-cp38-win_amd64.whl (72 kB)\n",
      "Installing collected packages: msgpack, locate, ftfy, wordfreq\n",
      "Successfully installed ftfy-6.2.3 locate-1.1.1 msgpack-1.1.1 wordfreq-3.1.1\n"
     ]
    }
   ],
   "source": [
    "!pip install wordfreq"
   ]
  },
  {
   "cell_type": "code",
   "execution_count": 163,
   "id": "09b6a714",
   "metadata": {},
   "outputs": [
    {
     "name": "stderr",
     "output_type": "stream",
     "text": [
      "Downloading LanguageTool 6.4: 100%|██████████| 246M/246M [02:50<00:00, 1.45MB/s]\n",
      "Unzipping C:\\Users\\ABDULS~1\\AppData\\Local\\Temp\\tmpo3t6o3t7.zip to C:\\Users\\AbdulSattar\\.cache\\language_tool_python.\n",
      "Downloaded https://www.languagetool.org/download/LanguageTool-6.4.zip to C:\\Users\\AbdulSattar\\.cache\\language_tool_python.\n"
     ]
    },
    {
     "name": "stdout",
     "output_type": "stream",
     "text": [
      "Predicted Label: AI\n"
     ]
    }
   ],
   "source": [
    "import numpy as np\n",
    "import pandas as pd\n",
    "import torch\n",
    "import re\n",
    "import language_tool_python\n",
    "from wordfreq import word_frequency\n",
    "from textblob import TextBlob\n",
    "import textstat\n",
    "import spacy\n",
    "from transformers import BertTokenizer, BertModel\n",
    "import joblib\n",
    "\n",
    "# Load spaCy model\n",
    "nlp = spacy.load(\"en_core_web_sm\")\n",
    "\n",
    "# Load trained model\n",
    "rf_model = joblib.load(\"random_forest_ai_human.pkl\")\n",
    "\n",
    "# Load tokenizer & BERT model\n",
    "tokenizer = BertTokenizer.from_pretrained(\"bert-base-uncased\")\n",
    "bert_model = BertModel.from_pretrained(\"bert-base-uncased\")\n",
    "\n",
    "# LanguageTool for grammar/spelling\n",
    "tool = language_tool_python.LanguageTool('en-US')\n",
    "\n",
    "# Example text\n",
    "example_text = \"\"\"\n",
    "The rapid advancements in artificial intelligence have significantly transformed \n",
    "industries such as healthcare, finance, and education. Machine learning algorithms \n",
    "are now capable of predicting diseases, detecting fraud, and personalizing \n",
    "learning experiences for students. However, ethical considerations and responsible \n",
    "AI governance remain critical to ensure fairness, transparency, and accountability.\n",
    "\"\"\"\n",
    "\n",
    "# BERT embedding function\n",
    "def get_bert_embedding(text):\n",
    "    inputs = tokenizer(text, return_tensors='pt', truncation=True, padding=True, max_length=128)\n",
    "    with torch.no_grad():\n",
    "        outputs = bert_model(**inputs)\n",
    "    return outputs.last_hidden_state[:, 0, :].numpy()\n",
    "\n",
    "# Feature computation function\n",
    "def compute_numeric_features(text):\n",
    "    doc = nlp(text)\n",
    "    \n",
    "    # Grammar errors\n",
    "    grammar_errors = len(tool.check(text))\n",
    "    \n",
    "    # Passive voice ratio\n",
    "    passive_sent_count = sum(1 for sent in doc.sents if any(tok.dep_ == \"nsubjpass\" for tok in sent))\n",
    "    passive_voice_ratio = passive_sent_count / max(len(list(doc.sents)), 1)\n",
    "    \n",
    "    # Predictability score (avg word frequency)\n",
    "    words_clean = [token.text.lower() for token in doc if token.is_alpha]\n",
    "    predictability_score = np.mean([word_frequency(w, 'en') for w in words_clean]) if words_clean else 0\n",
    "    \n",
    "    # Burstiness (variance of sentence lengths)\n",
    "    sentence_lengths = [len([t for t in sent if t.is_alpha]) for sent in doc.sents]\n",
    "    burstiness = np.var(sentence_lengths) if sentence_lengths else 0\n",
    "    \n",
    "    # Sentiment score\n",
    "    sentiment_score = TextBlob(text).sentiment.polarity\n",
    "    \n",
    "    # Readability\n",
    "    flesch = textstat.flesch_reading_ease(text)\n",
    "    fog = textstat.gunning_fog(text)\n",
    "    \n",
    "    return np.array([\n",
    "        len(words_clean),                            # word_count\n",
    "        len(text),                                   # character_count\n",
    "        len(list(doc.sents)),                        # sentence_count\n",
    "        len(set(words_clean)) / len(words_clean),    # lexical_diversity\n",
    "        len(words_clean) / max(len(list(doc.sents)), 1),  # avg_sentence_length\n",
    "        np.mean([len(w) for w in words_clean]),      # avg_word_length\n",
    "        sum(1 for c in text if c in '.,;!?') / len(text),  # punctuation_ratio\n",
    "        flesch,                                      # flesch_reading_ease\n",
    "        fog,                                         # gunning_fog_index\n",
    "        grammar_errors,                              # grammar_errors\n",
    "        passive_voice_ratio,                         # passive_voice_ratio\n",
    "        predictability_score,                        # predictability_score\n",
    "        burstiness,                                  # burstiness\n",
    "        sentiment_score                              # sentiment_score\n",
    "    ])\n",
    "\n",
    "# Generate features\n",
    "numeric_features = compute_numeric_features(example_text).reshape(1, -1)\n",
    "bert_emb = get_bert_embedding(example_text)\n",
    "\n",
    "# Combine features\n",
    "example_features = np.hstack([numeric_features, bert_emb])\n",
    "\n",
    "# Predict label\n",
    "pred_label = rf_model.predict(example_features)[0]\n",
    "print(\"Predicted Label:\", \"AI\" if pred_label == 1 else \"Human\")\n"
   ]
  }
 ],
 "metadata": {
  "kernelspec": {
   "display_name": "nlp_env",
   "language": "python",
   "name": "python3"
  },
  "language_info": {
   "codemirror_mode": {
    "name": "ipython",
    "version": 3
   },
   "file_extension": ".py",
   "mimetype": "text/x-python",
   "name": "python",
   "nbconvert_exporter": "python",
   "pygments_lexer": "ipython3",
   "version": "3.8.20"
  }
 },
 "nbformat": 4,
 "nbformat_minor": 5
}
